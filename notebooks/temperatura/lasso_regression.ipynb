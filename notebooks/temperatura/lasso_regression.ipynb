{
  "nbformat": 4,
  "nbformat_minor": 0,
  "metadata": {
    "colab": {
      "name": "lasso regression.ipynb",
      "provenance": [],
      "collapsed_sections": [],
      "authorship_tag": "ABX9TyNs7ZBagzGFJ6+DqfeUIJXL",
      "include_colab_link": true
    },
    "kernelspec": {
      "name": "python3",
      "display_name": "Python 3"
    },
    "language_info": {
      "name": "python"
    }
  },
  "cells": [
    {
      "cell_type": "markdown",
      "metadata": {
        "id": "view-in-github",
        "colab_type": "text"
      },
      "source": [
        "<a href=\"https://colab.research.google.com/github/Jorge-89/Regresiones_TP_UNSAM/blob/main/lasso_regression.ipynb\" target=\"_parent\"><img src=\"https://colab.research.google.com/assets/colab-badge.svg\" alt=\"Open In Colab\"/></a>"
      ]
    },
    {
      "cell_type": "code",
      "metadata": {
        "id": "owhN61JuqMeS"
      },
      "source": [
        "# importo librerias necesarias\n",
        "import pandas as pd\n",
        "import numpy as np\n",
        "from sklearn.metrics import mean_squared_error as mse\n",
        "from sklearn.pipeline import Pipeline\n",
        "from sklearn.preprocessing  import PolynomialFeatures\n",
        "from sklearn.linear_model import Ridge\n",
        "from sklearn.linear_model import LinearRegression\n",
        "from sklearn.model_selection import train_test_split\n",
        "from sklearn.model_selection import GridSearchCV\n",
        "from sklearn.preprocessing import StandardScaler\n",
        "from sklearn.model_selection import cross_val_score\n",
        "from sklearn import datasets, linear_model\n",
        "from sklearn.linear_model import Lasso\n",
        "\n",
        "from sklearn.metrics import mean_squared_error\n",
        "import matplotlib.pyplot as plt"
      ],
      "execution_count": 1,
      "outputs": []
    },
    {
      "cell_type": "code",
      "metadata": {
        "colab": {
          "base_uri": "https://localhost:8080/"
        },
        "id": "Wunzzv5bqjc_",
        "outputId": "49035201-d474-42d5-9c5e-37ebb381db3c"
      },
      "source": [
        "#se importa el set de datos\n",
        "url = 'https://raw.githubusercontent.com/Jorge-89/Regresion-Lineal-/main/base_datos_estaciones_met_V3_train.csv'\n",
        "df = pd.read_csv(url, sep=\",\")\n",
        "df.columns"
      ],
      "execution_count": 2,
      "outputs": [
        {
          "output_type": "execute_result",
          "data": {
            "text/plain": [
              "Index(['Unnamed: 0', 'fecha_completa', 'Fecha', 'Hora',\n",
              "       'Temp_Alicia AgriculturaCba', 'Humedad_Alicia AgriculturaCba',\n",
              "       'PP_Alicia AgriculturaCba', 'Temp_Las Varas AgriculturaCba',\n",
              "       'Humedad_Las Varas AgriculturaCba', 'PP_Las Varas AgriculturaCba',\n",
              "       'Temp_San Miguel - Establecimiento Don Luis',\n",
              "       'Humedad_San Miguel - Establecimiento Don Luis',\n",
              "       'PP_San Miguel - Establecimiento Don Luis',\n",
              "       'Temp_San Miguel - Listello', 'Humedad_San Miguel - Listello',\n",
              "       'PP_San Miguel - Listello', 'Temp_ San Miguel - Las Varillas',\n",
              "       'Humedad_ San Miguel - Las Varillas', 'PP_ San Miguel - Las Varillas'],\n",
              "      dtype='object')"
            ]
          },
          "metadata": {},
          "execution_count": 2
        }
      ]
    },
    {
      "cell_type": "code",
      "metadata": {
        "id": "AmQ_yjyTsq3F"
      },
      "source": [
        "x= df[[ 'Temp_Las Varas AgriculturaCba', 'Humedad_Las Varas AgriculturaCba',\n",
        "        'Temp_San Miguel - Establecimiento Don Luis', 'Humedad_San Miguel - Establecimiento Don Luis',\n",
        "       'Temp_San Miguel - Listello', 'Humedad_San Miguel - Listello',\n",
        "       'Temp_ San Miguel - Las Varillas', 'Humedad_ San Miguel - Las Varillas']]\n",
        "y= df[\"Temp_Alicia AgriculturaCba\"]\n"
      ],
      "execution_count": 3,
      "outputs": []
    },
    {
      "cell_type": "code",
      "metadata": {
        "id": "-McdNOyLqmV_"
      },
      "source": [
        "#Separo los datos de \"train\" en entrenamiento y prueba \"test\" para probar los algoritmos\n",
        "x_train, x_test, y_train, y_test = train_test_split(x, y, test_size=0.2, random_state=42)\n"
      ],
      "execution_count": 4,
      "outputs": []
    },
    {
      "cell_type": "code",
      "metadata": {
        "colab": {
          "base_uri": "https://localhost:8080/"
        },
        "id": "X-N08bBvEfep",
        "outputId": "e3aa50b5-8d90-4211-a826-d72995817742"
      },
      "source": [
        "modelo= Pipeline([ ('scaler', StandardScaler()),\n",
        "                    ('features', PolynomialFeatures()),\n",
        "                     ('model',Lasso())\n",
        "])\n",
        "\n",
        "#Ya probe con varios alpha y grados de polinomio, fui dejando los que mas cerca estan de valores menores de MSE\n",
        "grilla = GridSearchCV(modelo,\n",
        "                      {'model__alpha':[0.0000001, 0.0000001], 'features__degree':[4,5]},\n",
        "                      cv = 5, scoring=\"neg_mean_squared_error\", verbose=3\n",
        "                      )\n",
        "grilla.fit(x_train,y_train)\n",
        "\n",
        "\n",
        "\n",
        "\n"
      ],
      "execution_count": 5,
      "outputs": [
        {
          "output_type": "stream",
          "name": "stdout",
          "text": [
            "Fitting 5 folds for each of 4 candidates, totalling 20 fits\n",
            "[CV] features__degree=4, model__alpha=1e-07 ..........................\n"
          ]
        },
        {
          "output_type": "stream",
          "name": "stderr",
          "text": [
            "[Parallel(n_jobs=1)]: Using backend SequentialBackend with 1 concurrent workers.\n",
            "/usr/local/lib/python3.7/dist-packages/sklearn/linear_model/_coordinate_descent.py:476: ConvergenceWarning: Objective did not converge. You might want to increase the number of iterations. Duality gap: 1692.1720746908913, tolerance: 22.517471085757343\n",
            "  positive)\n",
            "[Parallel(n_jobs=1)]: Done   1 out of   1 | elapsed:    3.0s remaining:    0.0s\n"
          ]
        },
        {
          "output_type": "stream",
          "name": "stdout",
          "text": [
            "[CV]  features__degree=4, model__alpha=1e-07, score=-0.523, total=   3.0s\n",
            "[CV] features__degree=4, model__alpha=1e-07 ..........................\n"
          ]
        },
        {
          "output_type": "stream",
          "name": "stderr",
          "text": [
            "/usr/local/lib/python3.7/dist-packages/sklearn/linear_model/_coordinate_descent.py:476: ConvergenceWarning: Objective did not converge. You might want to increase the number of iterations. Duality gap: 1685.176749004912, tolerance: 22.505430442501886\n",
            "  positive)\n",
            "[Parallel(n_jobs=1)]: Done   2 out of   2 | elapsed:    5.9s remaining:    0.0s\n"
          ]
        },
        {
          "output_type": "stream",
          "name": "stdout",
          "text": [
            "[CV]  features__degree=4, model__alpha=1e-07, score=-0.520, total=   2.9s\n",
            "[CV] features__degree=4, model__alpha=1e-07 ..........................\n"
          ]
        },
        {
          "output_type": "stream",
          "name": "stderr",
          "text": [
            "/usr/local/lib/python3.7/dist-packages/sklearn/linear_model/_coordinate_descent.py:476: ConvergenceWarning: Objective did not converge. You might want to increase the number of iterations. Duality gap: 1701.3850248378426, tolerance: 22.526711867972875\n",
            "  positive)\n"
          ]
        },
        {
          "output_type": "stream",
          "name": "stdout",
          "text": [
            "[CV]  features__degree=4, model__alpha=1e-07, score=-0.497, total=   3.0s\n",
            "[CV] features__degree=4, model__alpha=1e-07 ..........................\n"
          ]
        },
        {
          "output_type": "stream",
          "name": "stderr",
          "text": [
            "/usr/local/lib/python3.7/dist-packages/sklearn/linear_model/_coordinate_descent.py:476: ConvergenceWarning: Objective did not converge. You might want to increase the number of iterations. Duality gap: 1677.996007996329, tolerance: 22.732826966993205\n",
            "  positive)\n"
          ]
        },
        {
          "output_type": "stream",
          "name": "stdout",
          "text": [
            "[CV]  features__degree=4, model__alpha=1e-07, score=-0.542, total=   3.0s\n",
            "[CV] features__degree=4, model__alpha=1e-07 ..........................\n"
          ]
        },
        {
          "output_type": "stream",
          "name": "stderr",
          "text": [
            "/usr/local/lib/python3.7/dist-packages/sklearn/linear_model/_coordinate_descent.py:476: ConvergenceWarning: Objective did not converge. You might want to increase the number of iterations. Duality gap: 1666.5324636518244, tolerance: 22.604219755274258\n",
            "  positive)\n"
          ]
        },
        {
          "output_type": "stream",
          "name": "stdout",
          "text": [
            "[CV]  features__degree=4, model__alpha=1e-07, score=-0.551, total=   3.0s\n",
            "[CV] features__degree=4, model__alpha=1e-07 ..........................\n"
          ]
        },
        {
          "output_type": "stream",
          "name": "stderr",
          "text": [
            "/usr/local/lib/python3.7/dist-packages/sklearn/linear_model/_coordinate_descent.py:476: ConvergenceWarning: Objective did not converge. You might want to increase the number of iterations. Duality gap: 1692.1720746908913, tolerance: 22.517471085757343\n",
            "  positive)\n"
          ]
        },
        {
          "output_type": "stream",
          "name": "stdout",
          "text": [
            "[CV]  features__degree=4, model__alpha=1e-07, score=-0.523, total=   2.9s\n",
            "[CV] features__degree=4, model__alpha=1e-07 ..........................\n"
          ]
        },
        {
          "output_type": "stream",
          "name": "stderr",
          "text": [
            "/usr/local/lib/python3.7/dist-packages/sklearn/linear_model/_coordinate_descent.py:476: ConvergenceWarning: Objective did not converge. You might want to increase the number of iterations. Duality gap: 1685.176749004912, tolerance: 22.505430442501886\n",
            "  positive)\n"
          ]
        },
        {
          "output_type": "stream",
          "name": "stdout",
          "text": [
            "[CV]  features__degree=4, model__alpha=1e-07, score=-0.520, total=   3.0s\n",
            "[CV] features__degree=4, model__alpha=1e-07 ..........................\n"
          ]
        },
        {
          "output_type": "stream",
          "name": "stderr",
          "text": [
            "/usr/local/lib/python3.7/dist-packages/sklearn/linear_model/_coordinate_descent.py:476: ConvergenceWarning: Objective did not converge. You might want to increase the number of iterations. Duality gap: 1701.3850248378426, tolerance: 22.526711867972875\n",
            "  positive)\n"
          ]
        },
        {
          "output_type": "stream",
          "name": "stdout",
          "text": [
            "[CV]  features__degree=4, model__alpha=1e-07, score=-0.497, total=   3.0s\n",
            "[CV] features__degree=4, model__alpha=1e-07 ..........................\n"
          ]
        },
        {
          "output_type": "stream",
          "name": "stderr",
          "text": [
            "/usr/local/lib/python3.7/dist-packages/sklearn/linear_model/_coordinate_descent.py:476: ConvergenceWarning: Objective did not converge. You might want to increase the number of iterations. Duality gap: 1677.996007996329, tolerance: 22.732826966993205\n",
            "  positive)\n"
          ]
        },
        {
          "output_type": "stream",
          "name": "stdout",
          "text": [
            "[CV]  features__degree=4, model__alpha=1e-07, score=-0.542, total=   3.0s\n",
            "[CV] features__degree=4, model__alpha=1e-07 ..........................\n"
          ]
        },
        {
          "output_type": "stream",
          "name": "stderr",
          "text": [
            "/usr/local/lib/python3.7/dist-packages/sklearn/linear_model/_coordinate_descent.py:476: ConvergenceWarning: Objective did not converge. You might want to increase the number of iterations. Duality gap: 1666.5324636518244, tolerance: 22.604219755274258\n",
            "  positive)\n"
          ]
        },
        {
          "output_type": "stream",
          "name": "stdout",
          "text": [
            "[CV]  features__degree=4, model__alpha=1e-07, score=-0.551, total=   3.0s\n",
            "[CV] features__degree=5, model__alpha=1e-07 ..........................\n"
          ]
        },
        {
          "output_type": "stream",
          "name": "stderr",
          "text": [
            "/usr/local/lib/python3.7/dist-packages/sklearn/linear_model/_coordinate_descent.py:476: ConvergenceWarning: Objective did not converge. You might want to increase the number of iterations. Duality gap: 1639.4384348196534, tolerance: 22.517471085757343\n",
            "  positive)\n"
          ]
        },
        {
          "output_type": "stream",
          "name": "stdout",
          "text": [
            "[CV]  features__degree=5, model__alpha=1e-07, score=-0.507, total=   9.9s\n",
            "[CV] features__degree=5, model__alpha=1e-07 ..........................\n"
          ]
        },
        {
          "output_type": "stream",
          "name": "stderr",
          "text": [
            "/usr/local/lib/python3.7/dist-packages/sklearn/linear_model/_coordinate_descent.py:476: ConvergenceWarning: Objective did not converge. You might want to increase the number of iterations. Duality gap: 1629.5466720653046, tolerance: 22.505430442501886\n",
            "  positive)\n"
          ]
        },
        {
          "output_type": "stream",
          "name": "stdout",
          "text": [
            "[CV]  features__degree=5, model__alpha=1e-07, score=-0.508, total=   9.8s\n",
            "[CV] features__degree=5, model__alpha=1e-07 ..........................\n"
          ]
        },
        {
          "output_type": "stream",
          "name": "stderr",
          "text": [
            "/usr/local/lib/python3.7/dist-packages/sklearn/linear_model/_coordinate_descent.py:476: ConvergenceWarning: Objective did not converge. You might want to increase the number of iterations. Duality gap: 1643.5204224826202, tolerance: 22.526711867972875\n",
            "  positive)\n"
          ]
        },
        {
          "output_type": "stream",
          "name": "stdout",
          "text": [
            "[CV]  features__degree=5, model__alpha=1e-07, score=-0.488, total=   9.8s\n",
            "[CV] features__degree=5, model__alpha=1e-07 ..........................\n"
          ]
        },
        {
          "output_type": "stream",
          "name": "stderr",
          "text": [
            "/usr/local/lib/python3.7/dist-packages/sklearn/linear_model/_coordinate_descent.py:476: ConvergenceWarning: Objective did not converge. You might want to increase the number of iterations. Duality gap: 1628.5239770083763, tolerance: 22.732826966993205\n",
            "  positive)\n"
          ]
        },
        {
          "output_type": "stream",
          "name": "stdout",
          "text": [
            "[CV]  features__degree=5, model__alpha=1e-07, score=-0.520, total=   9.9s\n",
            "[CV] features__degree=5, model__alpha=1e-07 ..........................\n"
          ]
        },
        {
          "output_type": "stream",
          "name": "stderr",
          "text": [
            "/usr/local/lib/python3.7/dist-packages/sklearn/linear_model/_coordinate_descent.py:476: ConvergenceWarning: Objective did not converge. You might want to increase the number of iterations. Duality gap: 1610.5666387485387, tolerance: 22.604219755274258\n",
            "  positive)\n"
          ]
        },
        {
          "output_type": "stream",
          "name": "stdout",
          "text": [
            "[CV]  features__degree=5, model__alpha=1e-07, score=-0.540, total=   9.9s\n",
            "[CV] features__degree=5, model__alpha=1e-07 ..........................\n"
          ]
        },
        {
          "output_type": "stream",
          "name": "stderr",
          "text": [
            "/usr/local/lib/python3.7/dist-packages/sklearn/linear_model/_coordinate_descent.py:476: ConvergenceWarning: Objective did not converge. You might want to increase the number of iterations. Duality gap: 1639.4384348196534, tolerance: 22.517471085757343\n",
            "  positive)\n"
          ]
        },
        {
          "output_type": "stream",
          "name": "stdout",
          "text": [
            "[CV]  features__degree=5, model__alpha=1e-07, score=-0.507, total=   9.9s\n",
            "[CV] features__degree=5, model__alpha=1e-07 ..........................\n"
          ]
        },
        {
          "output_type": "stream",
          "name": "stderr",
          "text": [
            "/usr/local/lib/python3.7/dist-packages/sklearn/linear_model/_coordinate_descent.py:476: ConvergenceWarning: Objective did not converge. You might want to increase the number of iterations. Duality gap: 1629.5466720653046, tolerance: 22.505430442501886\n",
            "  positive)\n"
          ]
        },
        {
          "output_type": "stream",
          "name": "stdout",
          "text": [
            "[CV]  features__degree=5, model__alpha=1e-07, score=-0.508, total=   9.9s\n",
            "[CV] features__degree=5, model__alpha=1e-07 ..........................\n"
          ]
        },
        {
          "output_type": "stream",
          "name": "stderr",
          "text": [
            "/usr/local/lib/python3.7/dist-packages/sklearn/linear_model/_coordinate_descent.py:476: ConvergenceWarning: Objective did not converge. You might want to increase the number of iterations. Duality gap: 1643.5204224826202, tolerance: 22.526711867972875\n",
            "  positive)\n"
          ]
        },
        {
          "output_type": "stream",
          "name": "stdout",
          "text": [
            "[CV]  features__degree=5, model__alpha=1e-07, score=-0.488, total=   9.8s\n",
            "[CV] features__degree=5, model__alpha=1e-07 ..........................\n"
          ]
        },
        {
          "output_type": "stream",
          "name": "stderr",
          "text": [
            "/usr/local/lib/python3.7/dist-packages/sklearn/linear_model/_coordinate_descent.py:476: ConvergenceWarning: Objective did not converge. You might want to increase the number of iterations. Duality gap: 1628.5239770083763, tolerance: 22.732826966993205\n",
            "  positive)\n"
          ]
        },
        {
          "output_type": "stream",
          "name": "stdout",
          "text": [
            "[CV]  features__degree=5, model__alpha=1e-07, score=-0.520, total=   9.9s\n",
            "[CV] features__degree=5, model__alpha=1e-07 ..........................\n"
          ]
        },
        {
          "output_type": "stream",
          "name": "stderr",
          "text": [
            "/usr/local/lib/python3.7/dist-packages/sklearn/linear_model/_coordinate_descent.py:476: ConvergenceWarning: Objective did not converge. You might want to increase the number of iterations. Duality gap: 1610.5666387485387, tolerance: 22.604219755274258\n",
            "  positive)\n",
            "[Parallel(n_jobs=1)]: Done  20 out of  20 | elapsed:  2.1min finished\n"
          ]
        },
        {
          "output_type": "stream",
          "name": "stdout",
          "text": [
            "[CV]  features__degree=5, model__alpha=1e-07, score=-0.540, total=  10.0s\n"
          ]
        },
        {
          "output_type": "stream",
          "name": "stderr",
          "text": [
            "/usr/local/lib/python3.7/dist-packages/sklearn/linear_model/_coordinate_descent.py:476: ConvergenceWarning: Objective did not converge. You might want to increase the number of iterations. Duality gap: 2046.2969962485452, tolerance: 28.222275307089475\n",
            "  positive)\n"
          ]
        },
        {
          "output_type": "execute_result",
          "data": {
            "text/plain": [
              "GridSearchCV(cv=5, error_score=nan,\n",
              "             estimator=Pipeline(memory=None,\n",
              "                                steps=[('scaler',\n",
              "                                        StandardScaler(copy=True,\n",
              "                                                       with_mean=True,\n",
              "                                                       with_std=True)),\n",
              "                                       ('features',\n",
              "                                        PolynomialFeatures(degree=2,\n",
              "                                                           include_bias=True,\n",
              "                                                           interaction_only=False,\n",
              "                                                           order='C')),\n",
              "                                       ('model',\n",
              "                                        Lasso(alpha=1.0, copy_X=True,\n",
              "                                              fit_intercept=True, max_iter=1000,\n",
              "                                              normalize=False, positive=False,\n",
              "                                              precompute=False,\n",
              "                                              random_state=None,\n",
              "                                              selection='cyclic', tol=0.0001,\n",
              "                                              warm_start=False))],\n",
              "                                verbose=False),\n",
              "             iid='deprecated', n_jobs=None,\n",
              "             param_grid={'features__degree': [4, 5],\n",
              "                         'model__alpha': [1e-07, 1e-07]},\n",
              "             pre_dispatch='2*n_jobs', refit=True, return_train_score=False,\n",
              "             scoring='neg_mean_squared_error', verbose=3)"
            ]
          },
          "metadata": {},
          "execution_count": 5
        }
      ]
    },
    {
      "cell_type": "code",
      "metadata": {
        "colab": {
          "base_uri": "https://localhost:8080/"
        },
        "id": "E0cYv_B0Fnri",
        "outputId": "dcc01d71-8992-474d-bb74-959323311a85"
      },
      "source": [
        "grilla.best_params_"
      ],
      "execution_count": 6,
      "outputs": [
        {
          "output_type": "execute_result",
          "data": {
            "text/plain": [
              "{'features__degree': 5, 'model__alpha': 1e-07}"
            ]
          },
          "metadata": {},
          "execution_count": 6
        }
      ]
    },
    {
      "cell_type": "code",
      "metadata": {
        "colab": {
          "base_uri": "https://localhost:8080/",
          "height": 370
        },
        "id": "OSqnGNtW6E8H",
        "outputId": "87e9f22d-51a1-467c-b870-5fbfaccdf350"
      },
      "source": [
        "for ni, i in enumerate(grilla.cv_results_['params']):\n",
        "  print(i['features__degree'],-grilla.cv_results_['mean_test_score'][ni])\n",
        "plt.errorbar(grilla.cv_results_['param_features__degree'].data,np.sqrt(-grilla.cv_results_['mean_test_score']),yerr=grilla.cv_results_['std_test_score'])\n",
        "plt.yscale('log')\n",
        "plt.xlabel('grado')\n",
        "plt.ylabel('RMSE en validacion')\n"
      ],
      "execution_count": null,
      "outputs": [
        {
          "output_type": "stream",
          "name": "stdout",
          "text": [
            "4 0.5266369829964846\n",
            "4 0.5266369829964846\n",
            "5 0.5126781422100641\n",
            "5 0.5126781422100641\n"
          ]
        },
        {
          "output_type": "execute_result",
          "data": {
            "text/plain": [
              "Text(0, 0.5, 'RMSE en validacion')"
            ]
          },
          "metadata": {},
          "execution_count": 86
        },
        {
          "output_type": "display_data",
          "data": {
            "image/png": "[encoded data removed]",
            "text/plain": [
              "<Figure size 432x288 with 1 Axes>"
            ]
          },
          "metadata": {
            "needs_background": "light"
          }
        }
      ]
    },
    {
      "cell_type": "code",
      "metadata": {
        "colab": {
          "base_uri": "https://localhost:8080/"
        },
        "id": "7n8sI5CrFVKa",
        "outputId": "7fb303a9-0ad9-4ea3-d406-3e933cfdbd63"
      },
      "source": [
        "grilla.cv_results_['mean_test_score']"
      ],
      "execution_count": 7,
      "outputs": [
        {
          "output_type": "execute_result",
          "data": {
            "text/plain": [
              "array([-0.52663698, -0.52663698, -0.51267814, -0.51267814])"
            ]
          },
          "metadata": {},
          "execution_count": 7
        }
      ]
    },
    {
      "cell_type": "code",
      "metadata": {
        "colab": {
          "base_uri": "https://localhost:8080/"
        },
        "id": "eHsAW9MVFZ_Y",
        "outputId": "6bec0f6a-5782-40bb-e013-5fb3e76926a3"
      },
      "source": [
        "grilla.best_score_"
      ],
      "execution_count": 8,
      "outputs": [
        {
          "output_type": "execute_result",
          "data": {
            "text/plain": [
              "-0.5126781422100641"
            ]
          },
          "metadata": {},
          "execution_count": 8
        }
      ]
    },
    {
      "cell_type": "code",
      "metadata": {
        "id": "5zahafm1gNKi",
        "colab": {
          "base_uri": "https://localhost:8080/"
        },
        "outputId": "b1b5340c-4398-4f2f-c5f2-fe16d4bdee6b"
      },
      "source": [
        "# Fit best model\n",
        "modelo=grilla.best_estimator_\n",
        "modelo.fit(x_train, y_train)"
      ],
      "execution_count": 23,
      "outputs": [
        {
          "output_type": "stream",
          "name": "stderr",
          "text": [
            "/usr/local/lib/python3.7/dist-packages/sklearn/linear_model/_coordinate_descent.py:476: ConvergenceWarning: Objective did not converge. You might want to increase the number of iterations. Duality gap: 2046.2969962485452, tolerance: 28.222275307089475\n",
            "  positive)\n"
          ]
        },
        {
          "output_type": "execute_result",
          "data": {
            "text/plain": [
              "Pipeline(memory=None,\n",
              "         steps=[('scaler',\n",
              "                 StandardScaler(copy=True, with_mean=True, with_std=True)),\n",
              "                ('features',\n",
              "                 PolynomialFeatures(degree=5, include_bias=True,\n",
              "                                    interaction_only=False, order='C')),\n",
              "                ('model',\n",
              "                 Lasso(alpha=1e-07, copy_X=True, fit_intercept=True,\n",
              "                       max_iter=1000, normalize=False, positive=False,\n",
              "                       precompute=False, random_state=None, selection='cyclic',\n",
              "                       tol=0.0001, warm_start=False))],\n",
              "         verbose=False)"
            ]
          },
          "metadata": {},
          "execution_count": 23
        }
      ]
    },
    {
      "cell_type": "code",
      "metadata": {
        "colab": {
          "base_uri": "https://localhost:8080/"
        },
        "id": "Zpc3noUVFjb-",
        "outputId": "7fffcea9-a8af-4990-df56-376a85a5641d"
      },
      "source": [
        "print(modelo['model'].coef_)\n",
        "print(modelo['model'].intercept_)"
      ],
      "execution_count": null,
      "outputs": [
        {
          "output_type": "stream",
          "name": "stdout",
          "text": [
            "[ 0.00000000e+00  2.52962167e+00  6.52791582e-01  4.53691281e-01\n",
            " -5.64064430e-01  1.15611362e+00  1.74994951e-01  1.70673677e+00\n",
            " -2.36554651e-02  1.68271564e-01 -5.77774540e-01 -1.03844123e+00\n",
            "  5.96898468e-01  7.90434543e-01 -7.32419427e-01 -8.03603873e-01\n",
            "  2.93115799e-02  5.34670215e-01  7.51526869e-01 -3.73832269e-01\n",
            " -1.05510805e-01  5.40210779e-01  2.42785646e-01 -1.25057181e+00\n",
            " -3.18603248e-01 -1.01866729e+00  1.19689265e+00  5.52732268e-01\n",
            "  1.27388175e+00  4.10484663e-01  4.19273395e-02  5.87755615e-01\n",
            "  9.37269236e-02 -3.33140784e-01  3.76423037e-03 -5.17629329e-01\n",
            " -1.96533156e-01 -1.30337314e+00 -9.73801807e-01 -3.84011830e-01\n",
            "  4.00586682e-01 -7.99929214e-02  3.69558321e-01  3.97910414e-02\n",
            "  4.87871217e-01 -1.72789601e-01 -5.04920201e-01 -2.63198060e-01\n",
            " -3.21559411e-01 -3.46897489e-01 -1.42936656e-01  5.76928858e-02\n",
            " -1.35426210e-01 -1.94222135e-01  3.29544899e-02  2.81317323e-01\n",
            "  2.81273142e-01 -1.13882175e-01 -2.39269988e-01 -1.28231496e-01\n",
            "  1.02578341e-01  1.57601994e-01  2.88632052e-02 -3.99618648e-02\n",
            "  1.94035842e-01  1.20675598e-01 -3.42180812e-02 -2.11135007e-01\n",
            " -1.13843904e-01  9.22236783e-02 -4.60478329e-02 -2.18577667e-01\n",
            " -5.30500189e-02 -6.34828983e-02 -1.61852817e-01 -1.84755442e-01\n",
            " -1.32981761e-01 -1.46948101e-01  2.00278440e-01 -1.16857574e-01\n",
            " -2.70172461e-01 -1.62105245e-01 -3.11232802e-01 -2.17557974e-01\n",
            " -3.45165262e-01 -5.05886296e-02  4.38697267e-02 -4.50117563e-02\n",
            " -1.73629176e-01  1.06020805e-01  2.40531290e-01 -1.89522829e-02\n",
            " -1.18629941e-01 -1.86882444e-03  1.27863158e-02  2.30604010e-01\n",
            "  3.07419304e-01  2.28845198e-01  1.16133732e-01  1.10277889e-01\n",
            " -1.39213693e-01 -6.31827926e-02 -8.31034657e-02 -5.17032768e-03\n",
            " -1.05593061e-03  8.19996619e-04 -1.95275057e-01  1.08375421e-03\n",
            "  1.36681670e-02  6.50864708e-02  2.88006085e-01  3.15618372e-01\n",
            " -2.32770875e-01  1.12586359e-01  1.62954818e-01 -1.96918019e-01\n",
            " -4.36540459e-02  2.64128256e-01  4.81639191e-01  2.48986120e-01\n",
            " -1.46080230e-01 -9.08027747e-02 -9.71147192e-02  1.90782582e-02\n",
            "  2.24137839e-01  1.55254978e-01 -4.69112137e-02  2.16598455e-01\n",
            "  2.18473193e-01 -5.34841751e-02 -1.11935783e-01  2.06498127e-01\n",
            "  2.40002033e-01 -9.49789646e-02 -2.28497853e-02 -4.56399196e-01\n",
            " -1.02687709e-01  3.23380475e-01 -2.29625548e-02 -1.18697461e-02\n",
            " -1.79353337e-02  1.22012781e-01  1.47402911e-01  5.63481364e-02\n",
            "  1.92426667e-02  2.98210731e-02 -1.02473256e-01 -2.94388389e-01\n",
            " -3.29439495e-01 -5.50752524e-02  4.05379960e-02 -4.03458047e-02\n",
            " -1.59562741e-01 -2.94820004e-01 -1.71935171e-01 -1.81604067e-01\n",
            " -8.22584811e-02 -9.74317179e-02  4.26016458e-02 -1.12390591e-02\n",
            " -1.19128031e-01  3.43547663e-05 -8.97510566e-02 -1.33518966e-02\n",
            " -2.51156662e-01]\n",
            "22.33241210114077\n"
          ]
        }
      ]
    },
    {
      "cell_type": "code",
      "metadata": {
        "colab": {
          "base_uri": "https://localhost:8080/"
        },
        "id": "PgrzIDwjHHup",
        "outputId": "4bcf7fb8-4aad-4888-cf26-d0adaac81d7b"
      },
      "source": [
        "y_pred_test = modelo.predict(x_test)\n",
        "y_pred_test"
      ],
      "execution_count": 10,
      "outputs": [
        {
          "output_type": "execute_result",
          "data": {
            "text/plain": [
              "array([24.50587135, 27.10307818, 14.89283627, ..., 33.92385958,\n",
              "       27.84381183, 28.98818905])"
            ]
          },
          "metadata": {},
          "execution_count": 10
        }
      ]
    },
    {
      "cell_type": "code",
      "metadata": {
        "colab": {
          "base_uri": "https://localhost:8080/"
        },
        "id": "8n4PL8iBHJd4",
        "outputId": "c061b46b-2cb6-43e8-b033-de34c4d9491e"
      },
      "source": [
        "y_test"
      ],
      "execution_count": 11,
      "outputs": [
        {
          "output_type": "execute_result",
          "data": {
            "text/plain": [
              "1803     24.9\n",
              "321      27.0\n",
              "7317     14.7\n",
              "8065     20.8\n",
              "10056    14.1\n",
              "         ... \n",
              "5684     16.6\n",
              "8437     19.1\n",
              "1897     34.2\n",
              "5719     26.9\n",
              "9508     28.6\n",
              "Name: Temp_Alicia AgriculturaCba, Length: 2074, dtype: float64"
            ]
          },
          "metadata": {},
          "execution_count": 11
        }
      ]
    },
    {
      "cell_type": "code",
      "metadata": {
        "colab": {
          "base_uri": "https://localhost:8080/"
        },
        "id": "17PVPgO6HMWt",
        "outputId": "f81355db-5103-4158-cfa6-faae6bea3020"
      },
      "source": [
        "\n",
        "print('Precisión del modelo usando el (MSE):')\n",
        "score_testeo = mean_squared_error(y_test,y_pred_test)\n",
        "\n",
        "print (score_testeo)\n"
      ],
      "execution_count": 29,
      "outputs": [
        {
          "output_type": "stream",
          "name": "stdout",
          "text": [
            "Precisión del modelo usando la raíz del error cuadratico medio (RMSE):\n",
            "0.5254845318555748\n"
          ]
        }
      ]
    },
    {
      "cell_type": "code",
      "metadata": {
        "id": "7Y0ygw3WggAV",
        "colab": {
          "base_uri": "https://localhost:8080/"
        },
        "outputId": "c70d842a-fb26-402a-c818-05c651eaba3c"
      },
      "source": [
        "#se puede usar scoring='neg_root_mean_squared_error' tambien que seria la raiz\n",
        "MSE_modelo=cross_val_score(modelo,x_test,y_test,cv=5,scoring='neg_mean_squared_error')\n",
        "errores = -MSE_modelo\n",
        "MSE_modelo\n",
        "\n"
      ],
      "execution_count": 13,
      "outputs": [
        {
          "output_type": "stream",
          "name": "stderr",
          "text": [
            "/usr/local/lib/python3.7/dist-packages/sklearn/linear_model/_coordinate_descent.py:476: ConvergenceWarning: Objective did not converge. You might want to increase the number of iterations. Duality gap: 401.7639534358515, tolerance: 5.6231500578661855\n",
            "  positive)\n",
            "/usr/local/lib/python3.7/dist-packages/sklearn/linear_model/_coordinate_descent.py:476: ConvergenceWarning: Objective did not converge. You might want to increase the number of iterations. Duality gap: 391.95080948411123, tolerance: 5.680673046413503\n",
            "  positive)\n",
            "/usr/local/lib/python3.7/dist-packages/sklearn/linear_model/_coordinate_descent.py:476: ConvergenceWarning: Objective did not converge. You might want to increase the number of iterations. Duality gap: 379.3983135727891, tolerance: 5.638172509945751\n",
            "  positive)\n",
            "/usr/local/lib/python3.7/dist-packages/sklearn/linear_model/_coordinate_descent.py:476: ConvergenceWarning: Objective did not converge. You might want to increase the number of iterations. Duality gap: 395.7136336730317, tolerance: 5.772686908981314\n",
            "  positive)\n",
            "/usr/local/lib/python3.7/dist-packages/sklearn/linear_model/_coordinate_descent.py:476: ConvergenceWarning: Objective did not converge. You might want to increase the number of iterations. Duality gap: 372.19203432864964, tolerance: 5.667604877108434\n",
            "  positive)\n"
          ]
        },
        {
          "output_type": "execute_result",
          "data": {
            "text/plain": [
              "array([-0.49350026, -0.53274968, -0.66959935, -0.5043624 , -0.65876705])"
            ]
          },
          "metadata": {},
          "execution_count": 13
        }
      ]
    },
    {
      "cell_type": "code",
      "metadata": {
        "id": "HAiB62pygoZt",
        "colab": {
          "base_uri": "https://localhost:8080/"
        },
        "outputId": "1c88b32e-03b1-4e15-b20f-6f91a421a93d"
      },
      "source": [
        "print(errores.mean(), errores.std())"
      ],
      "execution_count": 14,
      "outputs": [
        {
          "output_type": "stream",
          "name": "stdout",
          "text": [
            "0.5717957464522628 0.0765918869537276\n"
          ]
        }
      ]
    },
    {
      "cell_type": "code",
      "metadata": {
        "id": "ewy2ynCNQjAe"
      },
      "source": [
        ""
      ],
      "execution_count": null,
      "outputs": []
    },
    {
      "cell_type": "markdown",
      "metadata": {
        "id": "VKKbkAhvQjPQ"
      },
      "source": [
        "Ahora se prueba con un set de datos final de la materia"
      ]
    },
    {
      "cell_type": "code",
      "metadata": {
        "colab": {
          "base_uri": "https://localhost:8080/"
        },
        "id": "QXQP07aKQaDX",
        "outputId": "49a9e08a-90f5-497f-bf60-d30e4e04299f"
      },
      "source": [
        "#se importa el set de datos\n",
        "url = 'https://raw.githubusercontent.com/Jorge-89/Regresiones_TP_UNSAM/main/base_datos_estaciones_met_V3_test.csv'\n",
        "df = pd.read_csv(url, sep=\",\")\n",
        "df.columns\n",
        "\n"
      ],
      "execution_count": 15,
      "outputs": [
        {
          "output_type": "execute_result",
          "data": {
            "text/plain": [
              "Index(['Unnamed: 0', 'fecha_completa', 'Fecha', 'Hora',\n",
              "       'Temp_Alicia AgriculturaCba', 'Humedad_Alicia AgriculturaCba',\n",
              "       'PP_Alicia AgriculturaCba', 'Temp_Las Varas AgriculturaCba',\n",
              "       'Humedad_Las Varas AgriculturaCba', 'PP_Las Varas AgriculturaCba',\n",
              "       'Temp_San Miguel - Establecimiento Don Luis',\n",
              "       'Humedad_San Miguel - Establecimiento Don Luis',\n",
              "       'PP_San Miguel - Establecimiento Don Luis',\n",
              "       'Temp_San Miguel - Listello', 'Humedad_San Miguel - Listello',\n",
              "       'PP_San Miguel - Listello', 'Temp_ San Miguel - Las Varillas',\n",
              "       'Humedad_ San Miguel - Las Varillas', 'PP_ San Miguel - Las Varillas'],\n",
              "      dtype='object')"
            ]
          },
          "metadata": {},
          "execution_count": 15
        }
      ]
    },
    {
      "cell_type": "code",
      "metadata": {
        "id": "c3qCPKpKQwun"
      },
      "source": [
        ""
      ],
      "execution_count": null,
      "outputs": []
    },
    {
      "cell_type": "code",
      "metadata": {
        "id": "ka8yawmsQw9F"
      },
      "source": [
        "x= df[[ 'Temp_Las Varas AgriculturaCba', 'Humedad_Las Varas AgriculturaCba',\n",
        "        'Temp_San Miguel - Establecimiento Don Luis', 'Humedad_San Miguel - Establecimiento Don Luis',\n",
        "       'Temp_San Miguel - Listello', 'Humedad_San Miguel - Listello',\n",
        "       'Temp_ San Miguel - Las Varillas', 'Humedad_ San Miguel - Las Varillas']]\n",
        "y= df[\"Temp_Alicia AgriculturaCba\"]\n"
      ],
      "execution_count": 16,
      "outputs": []
    },
    {
      "cell_type": "code",
      "metadata": {
        "colab": {
          "base_uri": "https://localhost:8080/"
        },
        "id": "1K0mxTFXRDRc",
        "outputId": "55e32894-170c-4974-ced3-dbe3ba013a95"
      },
      "source": [
        "y_pred = modelo.predict(x)\n",
        "y_pred"
      ],
      "execution_count": 24,
      "outputs": [
        {
          "output_type": "execute_result",
          "data": {
            "text/plain": [
              "array([19.83130793, 19.78479439, 19.5475602 , ..., 14.34747667,\n",
              "       14.29474961, 14.2588475 ])"
            ]
          },
          "metadata": {},
          "execution_count": 24
        }
      ]
    },
    {
      "cell_type": "code",
      "metadata": {
        "colab": {
          "base_uri": "https://localhost:8080/"
        },
        "id": "RcU9N4sERDms",
        "outputId": "d4dc91a4-9dc5-46f1-a968-2506ca532af9"
      },
      "source": [
        "y"
      ],
      "execution_count": 30,
      "outputs": [
        {
          "output_type": "execute_result",
          "data": {
            "text/plain": [
              "0       19.7\n",
              "1       19.4\n",
              "2       19.1\n",
              "3       18.9\n",
              "4       18.8\n",
              "        ... \n",
              "2587    14.4\n",
              "2588    14.2\n",
              "2589    14.1\n",
              "2590    14.0\n",
              "2591    13.9\n",
              "Name: Temp_Alicia AgriculturaCba, Length: 2592, dtype: float64"
            ]
          },
          "metadata": {},
          "execution_count": 30
        }
      ]
    },
    {
      "cell_type": "code",
      "metadata": {
        "colab": {
          "base_uri": "https://localhost:8080/"
        },
        "id": "3FpWSRiwRDmt",
        "outputId": "3c0e514b-d8cd-42ca-c91b-edb7e679bc85"
      },
      "source": [
        "\n",
        "print('Precisión del modelo usando el MSE):')\n",
        "score_testeo = mean_squared_error(y_pred,y,squared=True)\n",
        "\n",
        "print (score_testeo)\n"
      ],
      "execution_count": 26,
      "outputs": [
        {
          "output_type": "stream",
          "name": "stdout",
          "text": [
            "Precisión del modelo usando la raíz del error cuadratico medio (RMSE):\n",
            "0.4424913341293918\n"
          ]
        }
      ]
    },
    {
      "cell_type": "code",
      "metadata": {
        "id": "RaQNk1HWTLhB"
      },
      "source": [
        ""
      ],
      "execution_count": null,
      "outputs": []
    }
  ]
}