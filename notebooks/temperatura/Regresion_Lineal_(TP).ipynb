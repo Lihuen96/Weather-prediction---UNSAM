{
  "nbformat": 4,
  "nbformat_minor": 0,
  "metadata": {
    "colab": {
      "name": "Regresion Lineal (TP).ipynb",
      "provenance": [],
      "collapsed_sections": [],
      "authorship_tag": "ABX9TyOohDrGKk9M3uTTFROHkH+T",
      "include_colab_link": true
    },
    "kernelspec": {
      "display_name": "Python 3",
      "name": "python3"
    },
    "language_info": {
      "name": "python"
    }
  },
  "cells": [
    {
      "cell_type": "markdown",
      "metadata": {
        "id": "view-in-github",
        "colab_type": "text"
      },
      "source": [
        "<a href=\"https://colab.research.google.com/github/Jorge-89/Regresiones_TP_UNSAM/blob/main/Regresion_Lineal_(TP).ipynb\" target=\"_parent\"><img src=\"https://colab.research.google.com/assets/colab-badge.svg\" alt=\"Open In Colab\"/></a>"
      ]
    },
    {
      "cell_type": "markdown",
      "metadata": {
        "id": "TRKfBxyCno-i"
      },
      "source": [
        "Empezamos con los primeros modelos en Machine Learning.\n",
        "Al haber una fuerte correlación lineal entre las variables temperatura y humedad, se toma la temperatura  y humedad de la estación Alicia como target y se toman las variables  humedad y temperaturas de estaciones vecinas como Features \n",
        "\n"
      ]
    },
    {
      "cell_type": "markdown",
      "metadata": {
        "id": "EIhG7LQdp_y0"
      },
      "source": [
        "\n",
        "## **Regresión Lineal**"
      ]
    },
    {
      "cell_type": "code",
      "metadata": {
        "id": "owhN61JuqMeS"
      },
      "source": [
        "# importo librerias necesarias\n",
        "import pandas as pd\n",
        "import numpy as np\n",
        "from sklearn.metrics import mean_squared_error as mse\n",
        "from sklearn.pipeline import Pipeline\n",
        "from sklearn.preprocessing  import PolynomialFeatures\n",
        "from sklearn.linear_model import LinearRegression\n",
        "from sklearn.preprocessing import StandardScaler\n",
        "from sklearn.model_selection import train_test_split\n",
        "from sklearn.model_selection import GridSearchCV\n",
        "from sklearn.model_selection import cross_val_score\n",
        "from sklearn import datasets, linear_model\n",
        "\n",
        "from sklearn.metrics import mean_squared_error\n",
        "import matplotlib.pyplot as plt"
      ],
      "execution_count": 1,
      "outputs": []
    },
    {
      "cell_type": "code",
      "metadata": {
        "colab": {
          "base_uri": "https://localhost:8080/"
        },
        "id": "Wunzzv5bqjc_",
        "outputId": "117229ea-2aa1-4198-f2a2-b469c45b3ba6"
      },
      "source": [
        "#se importa el set de datos\n",
        "url = 'https://raw.githubusercontent.com/Jorge-89/Regresion-Lineal-/main/base_datos_estaciones_met_V3_train.csv'\n",
        "df = pd.read_csv(url, sep=\",\")\n",
        "df.columns"
      ],
      "execution_count": 2,
      "outputs": [
        {
          "output_type": "execute_result",
          "data": {
            "text/plain": [
              "Index(['Unnamed: 0', 'fecha_completa', 'Fecha', 'Hora',\n",
              "       'Temp_Alicia AgriculturaCba', 'Humedad_Alicia AgriculturaCba',\n",
              "       'PP_Alicia AgriculturaCba', 'Temp_Las Varas AgriculturaCba',\n",
              "       'Humedad_Las Varas AgriculturaCba', 'PP_Las Varas AgriculturaCba',\n",
              "       'Temp_San Miguel - Establecimiento Don Luis',\n",
              "       'Humedad_San Miguel - Establecimiento Don Luis',\n",
              "       'PP_San Miguel - Establecimiento Don Luis',\n",
              "       'Temp_San Miguel - Listello', 'Humedad_San Miguel - Listello',\n",
              "       'PP_San Miguel - Listello', 'Temp_ San Miguel - Las Varillas',\n",
              "       'Humedad_ San Miguel - Las Varillas', 'PP_ San Miguel - Las Varillas'],\n",
              "      dtype='object')"
            ]
          },
          "metadata": {},
          "execution_count": 2
        }
      ]
    },
    {
      "cell_type": "code",
      "metadata": {
        "id": "AmQ_yjyTsq3F"
      },
      "source": [
        "x= df[[ 'Temp_Las Varas AgriculturaCba', 'Humedad_Las Varas AgriculturaCba',\n",
        "        'Temp_San Miguel - Establecimiento Don Luis', 'Humedad_San Miguel - Establecimiento Don Luis',\n",
        "       'Temp_San Miguel - Listello', 'Humedad_San Miguel - Listello',\n",
        "       'Temp_ San Miguel - Las Varillas', 'Humedad_ San Miguel - Las Varillas']]\n",
        "y= df[\"Temp_Alicia AgriculturaCba\"]\n"
      ],
      "execution_count": 3,
      "outputs": []
    },
    {
      "cell_type": "code",
      "metadata": {
        "id": "-McdNOyLqmV_"
      },
      "source": [
        "#Separo los datos de \"train\" en entrenamiento y prueba \"test\" para probar los algoritmos\n",
        "x_train, x_test, y_train, y_test = train_test_split(x, y, test_size=0.2, random_state=42)\n"
      ],
      "execution_count": 4,
      "outputs": []
    },
    {
      "cell_type": "code",
      "metadata": {
        "colab": {
          "base_uri": "https://localhost:8080/"
        },
        "id": "sT0y4AZDttne",
        "outputId": "0b65a516-0661-410c-d5e3-4b31b919ba28"
      },
      "source": [
        "#se tarda demasiado al lograr estimar un CV con polinomios mayores a 5.\n",
        "modelo = Pipeline([('scaler', StandardScaler()),('features', PolynomialFeatures()),\n",
        "                    ('regression', LinearRegression(fit_intercept=True,normalize=True))\n",
        "                    ])\n",
        "hyperparameters={'features__degree':[1,2,3,4]}\n",
        "grilla=GridSearchCV(modelo,hyperparameters,refit=True, cv=5,scoring='neg_mean_squared_error',)\n",
        "grilla.fit(x_train,y_train)\n",
        "\n"
      ],
      "execution_count": null,
      "outputs": [
        {
          "output_type": "execute_result",
          "data": {
            "text/plain": [
              "GridSearchCV(cv=5, error_score=nan,\n",
              "             estimator=Pipeline(memory=None,\n",
              "                                steps=[('scaler',\n",
              "                                        StandardScaler(copy=True,\n",
              "                                                       with_mean=True,\n",
              "                                                       with_std=True)),\n",
              "                                       ('features',\n",
              "                                        PolynomialFeatures(degree=2,\n",
              "                                                           include_bias=True,\n",
              "                                                           interaction_only=False,\n",
              "                                                           order='C')),\n",
              "                                       ('regression',\n",
              "                                        LinearRegression(copy_X=True,\n",
              "                                                         fit_intercept=True,\n",
              "                                                         n_jobs=None,\n",
              "                                                         normalize=True))],\n",
              "                                verbose=False),\n",
              "             iid='deprecated', n_jobs=None,\n",
              "             param_grid={'features__degree': [1, 2, 3, 4]},\n",
              "             pre_dispatch='2*n_jobs', refit=True, return_train_score=False,\n",
              "             scoring='neg_mean_squared_error', verbose=0)"
            ]
          },
          "metadata": {},
          "execution_count": 5
        }
      ]
    },
    {
      "cell_type": "code",
      "metadata": {
        "colab": {
          "base_uri": "https://localhost:8080/"
        },
        "id": "HljE0ciJ5kKo",
        "outputId": "b1ad85bd-fc21-4aac-b7ec-217ddea56f61"
      },
      "source": [
        "print(grilla.best_params_)\n",
        "#Mejor polinomio es de grado 3\n",
        "\n"
      ],
      "execution_count": null,
      "outputs": [
        {
          "output_type": "stream",
          "name": "stdout",
          "text": [
            "{'features__degree': 3}\n"
          ]
        }
      ]
    },
    {
      "cell_type": "code",
      "metadata": {
        "colab": {
          "base_uri": "https://localhost:8080/"
        },
        "id": "JSTtQXf_qMov",
        "outputId": "a91d3220-748e-4cf1-a609-7a00e4eac6c7"
      },
      "source": [
        "grilla.cv_results_"
      ],
      "execution_count": null,
      "outputs": [
        {
          "output_type": "execute_result",
          "data": {
            "text/plain": [
              "{'mean_fit_time': array([0.01207099, 0.02404327, 0.09575214, 0.28402367]),\n",
              " 'mean_score_time': array([0.002669  , 0.00285802, 0.00799861, 0.00594745]),\n",
              " 'mean_test_score': array([-0.62818533, -0.57255238, -0.51418979, -1.16691128]),\n",
              " 'param_features__degree': masked_array(data=[1, 2, 3, 4],\n",
              "              mask=[False, False, False, False],\n",
              "        fill_value='?',\n",
              "             dtype=object),\n",
              " 'params': [{'features__degree': 1},\n",
              "  {'features__degree': 2},\n",
              "  {'features__degree': 3},\n",
              "  {'features__degree': 4}],\n",
              " 'rank_test_score': array([3, 2, 1, 4], dtype=int32),\n",
              " 'split0_test_score': array([-0.60074711, -0.55445189, -0.50263905, -0.58008939]),\n",
              " 'split1_test_score': array([-0.62326237, -0.551102  , -0.48265721, -0.80064479]),\n",
              " 'split2_test_score': array([-0.59801917, -0.56554808, -0.53546672, -2.13435465]),\n",
              " 'split3_test_score': array([-0.64105507, -0.59040313, -0.53671426, -0.92872243]),\n",
              " 'split4_test_score': array([-0.67784291, -0.6012568 , -0.51347169, -1.39074512]),\n",
              " 'std_fit_time': array([0.0120183 , 0.00595211, 0.01982781, 0.00927268]),\n",
              " 'std_score_time': array([2.60046807e-03, 1.21126320e-03, 5.59061578e-03, 9.40585438e-05]),\n",
              " 'std_test_score': array([0.02938909, 0.01989673, 0.02043672, 0.55159646])}"
            ]
          },
          "metadata": {},
          "execution_count": 7
        }
      ]
    },
    {
      "cell_type": "code",
      "metadata": {
        "colab": {
          "base_uri": "https://localhost:8080/",
          "height": 370
        },
        "id": "sCc2IeLgqu8v",
        "outputId": "1f8c7219-e893-4b6a-d1b7-d68309f1e76a"
      },
      "source": [
        "for ni, i in enumerate(grilla.cv_results_['params']):\n",
        "  print(i['features__degree'],-grilla.cv_results_['mean_test_score'][ni])\n",
        "plt.errorbar(grilla.cv_results_['param_features__degree'].data,np.sqrt(-grilla.cv_results_['mean_test_score']),yerr=grilla.cv_results_['std_test_score'])\n",
        "plt.yscale('log')\n",
        "plt.xlabel('grado')\n",
        "plt.ylabel('RMSE en validacion')\n"
      ],
      "execution_count": null,
      "outputs": [
        {
          "output_type": "stream",
          "name": "stdout",
          "text": [
            "1 0.6281853261145739\n",
            "2 0.5725523794610139\n",
            "3 0.5141897870460943\n",
            "4 1.1669112752661468\n"
          ]
        },
        {
          "output_type": "execute_result",
          "data": {
            "text/plain": [
              "Text(0, 0.5, 'RMSE en validacion')"
            ]
          },
          "metadata": {},
          "execution_count": 55
        },
        {
          "output_type": "display_data",
          "data": {
            "image/png": "[encoded data removed]",
            "text/plain": [
              "<Figure size 432x288 with 1 Axes>"
            ]
          },
          "metadata": {
            "needs_background": "light"
          }
        }
      ]
    },
    {
      "cell_type": "code",
      "metadata": {
        "colab": {
          "base_uri": "https://localhost:8080/"
        },
        "id": "djjqvERW15qu",
        "outputId": "9e7c18cc-a28b-4b64-bacd-b43bccbccb29"
      },
      "source": [
        "modelo2=Pipeline([['poly',PolynomialFeatures(degree=1,include_bias=True)],['regressor',LinearRegression(fit_intercept=True,normalize=True)]])\n",
        "#entreno el modelo de grado 1 a ver que tanta diferencia hay en testeo con grado 3\n",
        "modelo2.fit(x_train,y_train)"
      ],
      "execution_count": 9,
      "outputs": [
        {
          "output_type": "execute_result",
          "data": {
            "text/plain": [
              "Pipeline(memory=None,\n",
              "         steps=[('poly',\n",
              "                 PolynomialFeatures(degree=1, include_bias=True,\n",
              "                                    interaction_only=False, order='C')),\n",
              "                ['regressor',\n",
              "                 LinearRegression(copy_X=True, fit_intercept=True, n_jobs=None,\n",
              "                                  normalize=True)]],\n",
              "         verbose=False)"
            ]
          },
          "metadata": {},
          "execution_count": 9
        }
      ]
    },
    {
      "cell_type": "code",
      "metadata": {
        "id": "qar5QiHtUW5w",
        "colab": {
          "base_uri": "https://localhost:8080/"
        },
        "outputId": "55b5d913-7618-4aec-f079-a77181eb243d"
      },
      "source": [
        "# Fit best model\n",
        "modelo=grilla.best_estimator_\n",
        "modelo.fit(x_train, y_train)"
      ],
      "execution_count": null,
      "outputs": [
        {
          "output_type": "execute_result",
          "data": {
            "text/plain": [
              "Pipeline(memory=None,\n",
              "         steps=[('scaler',\n",
              "                 StandardScaler(copy=True, with_mean=True, with_std=True)),\n",
              "                ('features',\n",
              "                 PolynomialFeatures(degree=3, include_bias=True,\n",
              "                                    interaction_only=False, order='C')),\n",
              "                ('regression',\n",
              "                 LinearRegression(copy_X=True, fit_intercept=True, n_jobs=None,\n",
              "                                  normalize=True))],\n",
              "         verbose=False)"
            ]
          },
          "metadata": {},
          "execution_count": 8
        }
      ]
    },
    {
      "cell_type": "code",
      "metadata": {
        "colab": {
          "base_uri": "https://localhost:8080/"
        },
        "id": "iYw-gKGGz1AP",
        "outputId": "efcb2fea-ee33-4861-adfb-b9f5d74c20a3"
      },
      "source": [
        "#hago las predicciones con x_test\n",
        "y_pred_test = modelo.predict(x_test)\n",
        "y_pred_test"
      ],
      "execution_count": 11,
      "outputs": [
        {
          "output_type": "execute_result",
          "data": {
            "text/plain": [
              "array([24.34976014, 27.11960687, 14.73959439, ..., 34.10747576,\n",
              "       27.78112784, 29.08855104])"
            ]
          },
          "metadata": {},
          "execution_count": 11
        }
      ]
    },
    {
      "cell_type": "code",
      "metadata": {
        "id": "9DMmJdmeU8m2"
      },
      "source": [
        ""
      ],
      "execution_count": null,
      "outputs": []
    },
    {
      "cell_type": "code",
      "metadata": {
        "colab": {
          "base_uri": "https://localhost:8080/"
        },
        "id": "mI_ANHumU-fB",
        "outputId": "a33f21a6-7342-4492-c6b6-01160ac57a45"
      },
      "source": [
        "#hago las predicciones con x_test\n",
        "y_pred_test = modelo2.predict(x_test)\n",
        "y_pred_test"
      ],
      "execution_count": null,
      "outputs": [
        {
          "output_type": "execute_result",
          "data": {
            "text/plain": [
              "array([24.34976014, 27.11960687, 14.73959439, ..., 34.10747576,\n",
              "       27.78112784, 29.08855104])"
            ]
          },
          "metadata": {},
          "execution_count": 15
        }
      ]
    },
    {
      "cell_type": "code",
      "metadata": {
        "colab": {
          "base_uri": "https://localhost:8080/"
        },
        "id": "42w2Ue0K7huA",
        "outputId": "79b459c2-78b6-4b5d-94ac-3fbd6fcb284a"
      },
      "source": [
        "\"\"\"\n",
        "print('Precisión del modelo usando la raíz del error cuadratico medio (RMSE):')\n",
        "score_testeo = mean_squared_error(y_test,y_pred_test,squared=True)\n",
        "\n",
        "print (score_testeo)\n",
        "\"\"\"\n",
        "RMSE_modelo=cross_val_score(modelo,x_test,y_test,cv=5,scoring='neg_mean_squared_error')\n",
        "errores = -RMSE_modelo\n",
        "print(errores.mean(), errores.std())\n"
      ],
      "execution_count": null,
      "outputs": [
        {
          "output_type": "stream",
          "name": "stdout",
          "text": [
            "0.7361426667452287 0.16407784713584572\n"
          ]
        }
      ]
    },
    {
      "cell_type": "code",
      "metadata": {
        "id": "RQLbZi6ok3pT",
        "colab": {
          "base_uri": "https://localhost:8080/"
        },
        "outputId": "2d5208d8-1c6b-4ceb-fdb5-ae6bbae5d05c"
      },
      "source": [
        "RMSE_modelo=cross_val_score(modelo2,x_train,y_train,cv=20,scoring='neg_mean_squared_error')\n",
        "errores = -RMSE_modelo\n",
        "print(errores.mean(), errores.std())\n",
        "#En testeo el menor error es con grado 1, evidentemente estuvo sobreajustando con grado 3, ya que en train era bajo el error pero en testeo aumento"
      ],
      "execution_count": 19,
      "outputs": [
        {
          "output_type": "stream",
          "name": "stdout",
          "text": [
            "0.6282584065802469 0.05130642434274515\n"
          ]
        }
      ]
    },
    {
      "cell_type": "code",
      "metadata": {
        "colab": {
          "base_uri": "https://localhost:8080/"
        },
        "id": "JQh0b49R3F92",
        "outputId": "5bfdd065-4b27-4caa-a0e8-deeba3b7a5c8"
      },
      "source": [
        "print('DATOS DEL MODELO REGRESIÓN LINEAL SIMPLE')\n",
        "print()\n",
        "print('Valor de los coeficientes de cada variale regresora usada en el modelo:')\n",
        "print(modelo2['regressor'].coef_)\n",
        "print()\n",
        "print('Valor de la intersección o coeficiente \"b\":')\n",
        "print(modelo2['regressor'].intercept_)\n"
      ],
      "execution_count": null,
      "outputs": [
        {
          "output_type": "stream",
          "name": "stdout",
          "text": [
            "DATOS DEL MODELO REGRESIÓN LINEAL SIMPLE\n",
            "\n",
            "Valor de los coeficientes de cada variale regresora usada en el modelo:\n",
            "[ 0.          0.37570117  0.01384053  0.11154695 -0.02229318  0.12039505\n",
            "  0.01905753  0.34436121 -0.01597822]\n",
            "\n",
            "Valor de la intersección o coeficiente \"b\":\n",
            "1.8896238736225754\n"
          ]
        }
      ]
    },
    {
      "cell_type": "markdown",
      "metadata": {
        "id": "LCBjOEDhsQub"
      },
      "source": [
        "# Como vimos en el modelo estandarizado, los coeficientes de la humedad son muy pequeños, aportando \"posiblemente poco\" al poder predictivo y complejizando al modelo"
      ]
    },
    {
      "cell_type": "code",
      "metadata": {
        "id": "z1ptOXXssr4S"
      },
      "source": [
        "x= df[[ 'Temp_Las Varas AgriculturaCba',\n",
        "        'Temp_San Miguel - Establecimiento Don Luis', \n",
        "       'Temp_San Miguel - Listello', \n",
        "       'Temp_ San Miguel - Las Varillas']]\n",
        "y= df[\"Temp_Alicia AgriculturaCba\"]\n"
      ],
      "execution_count": null,
      "outputs": []
    },
    {
      "cell_type": "code",
      "metadata": {
        "id": "iSgkIzGmsr4e"
      },
      "source": [
        "#Separo los datos de \"train\" en entrenamiento y prueba \"test\" para probar los algoritmos\n",
        "x_train, x_test, y_train, y_test = train_test_split(x, y, test_size=0.2, random_state=42)\n"
      ],
      "execution_count": null,
      "outputs": []
    },
    {
      "cell_type": "code",
      "metadata": {
        "colab": {
          "base_uri": "https://localhost:8080/"
        },
        "id": "7j8uFTldsr4e",
        "outputId": "1e46e7b5-1c88-46d5-adc6-eac8cf292a2d"
      },
      "source": [
        "#se tarda demasiado al lograr estimar un CV con polinomios mayores a 5.\n",
        "modelo = Pipeline([('features', PolynomialFeatures()),\n",
        "                    ('regression', LinearRegression(fit_intercept=False))\n",
        "                    ])\n",
        "hyperparameters={'features__degree':[1,2,3,4,5]}\n",
        "grilla=GridSearchCV(modelo,hyperparameters,refit=True, cv=5,scoring='neg_mean_squared_error',)\n",
        "grilla.fit(x_train,y_train)\n",
        "\n"
      ],
      "execution_count": null,
      "outputs": [
        {
          "output_type": "execute_result",
          "data": {
            "text/plain": [
              "GridSearchCV(cv=5, error_score=nan,\n",
              "             estimator=Pipeline(memory=None,\n",
              "                                steps=[('features',\n",
              "                                        PolynomialFeatures(degree=2,\n",
              "                                                           include_bias=True,\n",
              "                                                           interaction_only=False,\n",
              "                                                           order='C')),\n",
              "                                       ('regression',\n",
              "                                        LinearRegression(copy_X=True,\n",
              "                                                         fit_intercept=False,\n",
              "                                                         n_jobs=None,\n",
              "                                                         normalize=False))],\n",
              "                                verbose=False),\n",
              "             iid='deprecated', n_jobs=None,\n",
              "             param_grid={'features__degree': [1, 2, 3, 4, 5]},\n",
              "             pre_dispatch='2*n_jobs', refit=True, return_train_score=False,\n",
              "             scoring='neg_mean_squared_error', verbose=0)"
            ]
          },
          "metadata": {},
          "execution_count": 15
        }
      ]
    },
    {
      "cell_type": "code",
      "metadata": {
        "colab": {
          "base_uri": "https://localhost:8080/"
        },
        "id": "-yNxVR96sr4f",
        "outputId": "5d10db76-c44c-472a-b8d5-53795b5af3ba"
      },
      "source": [
        "print(grilla.best_params_)\n",
        "#Mejor polinomio es de grado 4\n",
        "\n"
      ],
      "execution_count": null,
      "outputs": [
        {
          "output_type": "stream",
          "name": "stdout",
          "text": [
            "{'features__degree': 4}\n"
          ]
        }
      ]
    },
    {
      "cell_type": "code",
      "metadata": {
        "colab": {
          "base_uri": "https://localhost:8080/"
        },
        "id": "-757ISwVsr4f",
        "outputId": "3e46e680-3719-44cc-dd67-44d822776445"
      },
      "source": [
        "grilla.cv_results_"
      ],
      "execution_count": null,
      "outputs": [
        {
          "output_type": "execute_result",
          "data": {
            "text/plain": [
              "{'mean_fit_time': array([0.02511315, 0.01459546, 0.01683884, 0.07540298, 0.12943053]),\n",
              " 'mean_score_time': array([0.00226002, 0.00314569, 0.00340586, 0.00476599, 0.00580797]),\n",
              " 'mean_test_score': array([-0.63806278, -0.60801657, -0.59968551, -0.58577077, -1.71294372]),\n",
              " 'param_features__degree': masked_array(data=[1, 2, 3, 4, 5],\n",
              "              mask=[False, False, False, False, False],\n",
              "        fill_value='?',\n",
              "             dtype=object),\n",
              " 'params': [{'features__degree': 1},\n",
              "  {'features__degree': 2},\n",
              "  {'features__degree': 3},\n",
              "  {'features__degree': 4},\n",
              "  {'features__degree': 5}],\n",
              " 'rank_test_score': array([4, 3, 2, 1, 5], dtype=int32),\n",
              " 'split0_test_score': array([-0.63211008, -0.61404956, -0.59569031, -0.57961716, -0.56267682]),\n",
              " 'split1_test_score': array([-0.66099787, -0.62719268, -0.63777948, -0.62051434, -1.34519572]),\n",
              " 'split2_test_score': array([-0.63519832, -0.59609152, -0.58166977, -0.55858278, -0.56569112]),\n",
              " 'split3_test_score': array([-0.61930649, -0.59034923, -0.58515069, -0.58316264, -4.11621998]),\n",
              " 'split4_test_score': array([-0.64270116, -0.61239983, -0.59813732, -0.58697692, -1.97493498]),\n",
              " 'std_fit_time': array([0.02979497, 0.0034748 , 0.00052476, 0.01640655, 0.00885458]),\n",
              " 'std_score_time': array([0.00113931, 0.00109138, 0.00119008, 0.00134646, 0.00185072]),\n",
              " 'std_test_score': array([0.01373296, 0.01324896, 0.02002667, 0.0199621 , 1.31292934])}"
            ]
          },
          "metadata": {},
          "execution_count": 17
        }
      ]
    },
    {
      "cell_type": "code",
      "metadata": {
        "colab": {
          "base_uri": "https://localhost:8080/",
          "height": 381
        },
        "id": "i2A0cuTisr4f",
        "outputId": "7e5b7210-23a9-4ef7-9ade-8fbd7f8ac926"
      },
      "source": [
        "for ni, i in enumerate(grilla.cv_results_['params']):\n",
        "  print(i['features__degree'],-grilla.cv_results_['mean_test_score'][ni])\n",
        "plt.errorbar(grilla.cv_results_['param_features__degree'].data,np.sqrt(-grilla.cv_results_['mean_test_score']),yerr=grilla.cv_results_['std_test_score'])\n",
        "plt.yscale('log')\n",
        "plt.xlabel('grado')\n",
        "plt.ylabel('RMSE en validacion')\n"
      ],
      "execution_count": null,
      "outputs": [
        {
          "output_type": "stream",
          "name": "stdout",
          "text": [
            "1 0.6380627832788328\n",
            "2 0.6080165652312258\n",
            "3 0.5996855109028905\n",
            "4 0.5857707686062805\n",
            "5 1.71294372441528\n"
          ]
        },
        {
          "output_type": "execute_result",
          "data": {
            "text/plain": [
              "Text(0, 0.5, 'RMSE en validacion')"
            ]
          },
          "metadata": {},
          "execution_count": 18
        },
        {
          "output_type": "display_data",
          "data": {
            "image/png": "[encoded data removed]",
            "text/plain": [
              "<Figure size 432x288 with 1 Axes>"
            ]
          },
          "metadata": {
            "needs_background": "light"
          }
        }
      ]
    },
    {
      "cell_type": "code",
      "metadata": {
        "colab": {
          "base_uri": "https://localhost:8080/"
        },
        "id": "vr5PwKjHsr4f",
        "outputId": "d4430552-5c25-4ec9-8cce-a7eaf60bad1b"
      },
      "source": [
        "modelo=Pipeline([['poly',PolynomialFeatures(degree=4,include_bias=True)],['regressor',LinearRegression(fit_intercept=True)]])\n",
        "#entreno el modelo de grado 4 con los datos de entrenamiento\n",
        "modelo.fit(x_train,y_train)"
      ],
      "execution_count": null,
      "outputs": [
        {
          "output_type": "execute_result",
          "data": {
            "text/plain": [
              "Pipeline(memory=None,\n",
              "         steps=[('poly',\n",
              "                 PolynomialFeatures(degree=4, include_bias=True,\n",
              "                                    interaction_only=False, order='C')),\n",
              "                ['regressor',\n",
              "                 LinearRegression(copy_X=True, fit_intercept=True, n_jobs=None,\n",
              "                                  normalize=False)]],\n",
              "         verbose=False)"
            ]
          },
          "metadata": {},
          "execution_count": 19
        }
      ]
    },
    {
      "cell_type": "code",
      "metadata": {
        "colab": {
          "base_uri": "https://localhost:8080/"
        },
        "id": "sMUXPnOKsr4g",
        "outputId": "4aa92888-14f4-4a22-d2e2-f5b6a74ea730"
      },
      "source": [
        "#hago las predicciones con x_test\n",
        "y_pred_test = modelo.predict(x_test)\n",
        "y_pred_test"
      ],
      "execution_count": null,
      "outputs": [
        {
          "output_type": "execute_result",
          "data": {
            "text/plain": [
              "array([27.96084121, 30.36826671, 20.15276495, ..., 23.90033131,\n",
              "       15.50804567, 21.64890201])"
            ]
          },
          "metadata": {},
          "execution_count": 20
        }
      ]
    },
    {
      "cell_type": "code",
      "metadata": {
        "colab": {
          "base_uri": "https://localhost:8080/"
        },
        "id": "NiL_Th11tDP-",
        "outputId": "1f00fcc7-66e9-48c7-f1f5-550be7111989"
      },
      "source": [
        "y_test"
      ],
      "execution_count": null,
      "outputs": [
        {
          "output_type": "execute_result",
          "data": {
            "text/plain": [
              "6407     28.0\n",
              "6301     30.6\n",
              "304      20.1\n",
              "12520    14.6\n",
              "2417     26.6\n",
              "         ... \n",
              "7514     18.9\n",
              "4874     22.4\n",
              "2372     23.0\n",
              "8106     14.8\n",
              "4115     22.1\n",
              "Name: Temp_Alicia AgriculturaCba, Length: 2592, dtype: float64"
            ]
          },
          "metadata": {},
          "execution_count": 21
        }
      ]
    },
    {
      "cell_type": "code",
      "metadata": {
        "colab": {
          "base_uri": "https://localhost:8080/"
        },
        "id": "w1Jath9ssr4g",
        "outputId": "fadb9463-6d7a-47d0-c37a-48d85dce808a"
      },
      "source": [
        "\n",
        "print('Precisión del modelo usando la raíz del error cuadratico medio (RMSE):')\n",
        "score_testeo = mean_squared_error(y_test,y_pred_test,squared= False)\n",
        "\n",
        "print (score_testeo)\n"
      ],
      "execution_count": null,
      "outputs": [
        {
          "output_type": "stream",
          "name": "stdout",
          "text": [
            "Precisión del modelo usando la raíz del error cuadratico medio (RMSE):\n",
            "0.8109282485507795\n"
          ]
        }
      ]
    },
    {
      "cell_type": "code",
      "metadata": {
        "colab": {
          "base_uri": "https://localhost:8080/"
        },
        "id": "YUrzHCk4sr4g",
        "outputId": "ff02f0e2-9361-425f-b33f-cda482759c33"
      },
      "source": [
        "print('DATOS DEL MODELO REGRESIÓN LINEAL SIMPLE')\n",
        "print()\n",
        "print('Valor de los coeficientes de cada variale regresora usada en el modelo:')\n",
        "print(modelo['regressor'].coef_)\n",
        "print()\n",
        "print('Valor de la intersección o coeficiente \"b\":')\n",
        "print(modelo['regressor'].intercept_)\n"
      ],
      "execution_count": null,
      "outputs": [
        {
          "output_type": "stream",
          "name": "stdout",
          "text": [
            "DATOS DEL MODELO REGRESIÓN LINEAL SIMPLE\n",
            "\n",
            "Valor de los coeficientes de cada variale regresora usada en el modelo:\n",
            "[ 6.31970817e-10 -1.31324600e+00 -4.20203196e+00  2.99449218e+00\n",
            "  1.82997885e+00 -4.10534153e-01  1.71768408e-01 -3.54848101e-01\n",
            "  1.15838022e+00  4.58404050e-01  4.61633655e-02 -4.26301902e-01\n",
            " -3.88158571e-01  6.28613931e-01 -7.54236978e-01  2.22946771e-01\n",
            " -4.64194808e-02 -1.76002448e-01 -3.87147049e-01 -3.28736327e-02\n",
            "  1.93140560e-01 -7.47199619e-02 -1.03438704e-01  3.80950463e-01\n",
            "  1.80658167e-01 -4.04156065e-02  8.63906919e-02  2.61837605e-02\n",
            " -2.20253032e-01  8.39640279e-02 -8.61359918e-03  1.38031529e-01\n",
            " -3.70417225e-02 -2.36732677e-01  4.70273680e-02 -2.19108073e-02\n",
            "  1.87453967e-02  3.31368124e-02  2.69272074e-02  8.42461916e-03\n",
            " -6.12810099e-02 -9.71659575e-03 -1.98369362e-02  6.65484466e-03\n",
            " -3.06014868e-02 -8.86387467e-03  3.22380416e-02 -2.29693435e-02\n",
            "  4.71368422e-02 -3.92562357e-02  5.32429290e-02  2.15765771e-02\n",
            " -6.83703447e-02  7.36142994e-02 -2.43134057e-02  2.76379829e-03\n",
            " -4.92452065e-03  5.03272818e-03 -1.56607477e-02  8.29215740e-03\n",
            "  2.80036820e-04 -1.50526046e-02  3.75740274e-02 -2.77435593e-02\n",
            " -9.11135588e-03 -1.34339625e-02  4.16393485e-02 -4.57994910e-02\n",
            "  1.80250644e-02  3.59481340e-03]\n",
            "\n",
            "Valor de la intersección o coeficiente \"b\":\n",
            "9.077389299080943\n"
          ]
        }
      ]
    },
    {
      "cell_type": "markdown",
      "metadata": {
        "id": "Jxikd8vNtYqE"
      },
      "source": [
        "Precisión del modelo usando el error cuadratico medio (RMSE) con temperatura y humedad fue de: 0.51, mientras que son solo temperatura fue de 0.81"
      ]
    },
    {
      "cell_type": "markdown",
      "metadata": {
        "id": "lNVvrDGRtyMK"
      },
      "source": [
        "Queda demostrado que estimar la temperatura en una estación a partir de datos de temperatura de estaciones vecinas, es suficiente para tener un \"error bajo\". Sin embargo, una diferencia de 0.31 es más del 50%. Lo que puede significar conclusiones erróneas al detectar variaciones de temperaturas debido al cambio climático"
      ]
    },
    {
      "cell_type": "markdown",
      "metadata": {
        "id": "k8t0MFb5Nm5m"
      },
      "source": [
        "Aunque pueda parecer poco, medio grado centígrado más de temperatura global tendría unos efectos enormes sobre nuestro planeta.\n",
        "\n",
        "Por ejemplo, si la temperatura aumenta 2 °C, el hielo del ártico desaparecerá por completo en uno de cada diez veranos, y no en uno de cada cien como pasaría con un aumento del 1,5 °C. Estimar con la mayor precisión posible la temperatura hace que se pueda monitorear y llegar a conclusiones certeras si hay un aumento o no de la temperatura  "
      ]
    },
    {
      "cell_type": "markdown",
      "metadata": {
        "id": "fzFDavWjOF4N"
      },
      "source": [
        "![calentamiento global.JPG](data:image/jpeg;base64,/9j/4AAQSkZJRgABAQEAYABgAAD/4RDcRXhpZgAATU0AKgAAAAgABAE7AAIAAAAGAAAISodpAAQAAAABAAAIUJydAAEAAAAMAAAQyOocAAcAAAgMAAAAPgAAAAAc6gAAAAgAAAAAAAAAAAAAAAAAAAAAAAAAAAAAAAAAAAAAAAAAAAAAAAAAAAAAAAAAAAAAAAAAAAAAAAAAAAAAAAAAAAAAAAAAAAAAAAAAAAAAAAAAAAAAAAAAAAAAAAAAAAAAAAAAAAAAAAAAAAAAAAAAAAAAAAAAAAAAAAAAAAAAAAAAAAAAAAAAAAAAAAAAAAAAAAAAAAAAAAAAAAAAAAAAAAAAAAAAAAAAAAAAAAAAAAAAAAAAAAAAAAAAAAAAAAAAAAAAAAAAAAAAAAAAAAAAAAAAAAAAAAAAAAAAAAAAAAAAAAAAAAAAAAAAAAAAAAAAAAAAAAAAAAAAAAAAAAAAAAAAAAAAAAAAAAAAAAAAAAAAAAAAAAAAAAAAAAAAAAAAAAAAAAAAAAAAAAAAAAAAAAAAAAAAAAAAAAAAAAAAAAAAAAAAAAAAAAAAAAAAAAAAAAAAAAAAAAAAAAAAAAAAAAAAAAAAAAAAAAAAAAAAAAAAAAAAAAAAAAAAAAAAAAAAAAAAAAAAAAAAAAAAAAAAAAAAAAAAAAAAAAAAAAAAAAAAAAAAAAAAAAAAAAAAAAAAAAAAAAAAAAAAAAAAAAAAAAAAAAAAAAAAAAAAAAAAAAAAAAAAAAAAAAAAAAAAAAAAAAAAAAAAAAAAAAAAAAAAAAAAAAAAAAAAAAAAAAAAAAAAAAAAAAAAAAAAAAAAAAAAAAAAAAAAAAAAAAAAAAAAAAAAAAAAAAAAAAAAAAAAAAAAAAAAAAAAAAAAAAAAAAAAAAAAAAAAAAAAAAAAAAAAAAAAAAAAAAAAAAAAAAAAAAAAAAAAAAAAAAAAAAAAAAAAAAAAAAAAAAAAAAAAAAAAAAAAAAAAAAAAAAAAAAAAAAAAAAAAAAAAAAAAAAAAAAAAAAAAAAAAAAAAAAAAAAAAAAAAAAAAAAAAAAAAAAAAAAAAAAAAAAAAAAAAAAAAAAAAAAAAAAAAAAAAAAAAAAAAAAAAAAAAAAAAAAAAAAAAAAAAAAAAAAAAAAAAAAAAAAAAAAAAAAAAAAAAAAAAAAAAAAAAAAAAAAAAAAAAAAAAAAAAAAAAAAAAAAAAAAAAAAAAAAAAAAAAAAAAAAAAAAAAAAAAAAAAAAAAAAAAAAAAAAAAAAAAAAAAAAAAAAAAAAAAAAAAAAAAAAAAAAAAAAAAAAAAAAAAAAAAAAAAAAAAAAAAAAAAAAAAAAAAAAAAAAAAAAAAAAAAAAAAAAAAAAAAAAAAAAAAAAAAAAAAAAAAAAAAAAAAAAAAAAAAAAAAAAAAAAAAAAAAAAAAAAAAAAAAAAAAAAAAAAAAAAAAAAAAAAAAAAAAAAAAAAAAAAAAAAAAAAAAAAAAAAAAAAAAAAAAAAAAAAAAAAAAAAAAAAAAAAAAAAAAAAAAAAAAAAAAAAAAAAAAAAAAAAAAAAAAAAAAAAAAAAAAAAAAAAAAAAAAAAAAAAAAAAAAAAAAAAAAAAAAAAAAAAAAAAAAAAAAAAAAAAAAAAAAAAAAAAAAAAAAAAAAAAAAAAAAAAAAAAAAAAAAAAAAAAAAAAAAAAAAAAAAAAAAAAAAAAAAAAAAAAAAAAAAAAAAAAAAAAAAAAAAAAAAAAAAAAAAAAAAAAAAAAAAAAAAAAAAAAAAAAAAAAAAAAAAAAAAAAAAAAAAAAAAAAAAAAAAAAAAAAAAAAAAAAAAAAAAAAAAAAAAAAAAAAAAAAAAAAAAAAAAAAAAAAAAAAAAAAAAAAAAAAAAAAAAAAAAAAAAAAAAAAAAAAAAAAAAAAAAAAAAAAAAAAAAAAAAAAAAAAAAAAAAAAAAAAAAAAAAAAAAAAAAAAAAAAAAAAAAAAAAAAAAAAAAAAAAAAAAAAAAAAAAAAAAAAAAAAAAAAAAAAAAAAAAAAAAAAAAAAAAAAAAAAAAAAAAAAAAAAAAAAAAAAAAAAAAAAAAAAAAAAAAAAAAAAAAAAAAAAAAAAAAAAAAAAAAAAAAAAAAAAAAAAAAAAAAAAAAAAAAAAAAAAAAAAAAAAAAAAAAAAAAAAAAAAAAAAAAAAAAAAAAAAAAAAAAAAAAAAAAAAAAAAAAAAAAAAAAAAAAAAAAAAAAAAAAAAAAAAAAAAAAAAAAAAAAAAAAAAAAAAAAAAAAAAAAAAAAAAAAAAAAAAAAAAAAAAAAAAAAAAAAAAAAAAAAAAAAAAAAAAAAAAAAAAAAAAAAAAAAAAAAAAAAAAAAAAAAAAAAAAAAAAAAAAAAAAAAAAAAAAAAAAAAAAAAAAAAAAAAAAAAAAAAAAAAAAAAAAAAAAAAAAAAAAAAAAAAAAAAAAAAAAAAAAAAAAAAAAAAAAAAAAAAAAAAAAAAAAAAAAAAAAAAAAAAAAAAAAAAAAAAAAAAAAAAAAAAAAAAAAAAAAAAAAAAAAAAAAAAAAAAAAAAAAAAAAAAAAAAAAAAAAAAAAAAAAAAAAAAAAAAAAAAAAAAAAAAAAAAAAAAAAAAAAAAAAAAAAAAAAAAAAAAAAAAAAAAAAAAAAAAAAAAAAAAAAAAAAAAAAAAAAAAAAAAAAAAAAAAAAAAAAAAAAAAAAAAAAAAAAAAAAAAAAAAAAAAAAAAAAAAAAAAAAAAAAAAAAAAAAAAAAAAAAAAAAAAAAAAAAAAAAAAAAAAAAAAAAAAAAAAAAAAAAAAAAAAAAAAAAAAAAAAAAAAAAAAAAAAAAAAAAAAAAAAAAAAAAAAAAAAAAAAAAAAAAAAAAAAAAAAAAAAAAAAAAAAAAAAAAAAAGpvcmdlAAAFkAMAAgAAABQAABCekAQAAgAAABQAABCykpEAAgAAAAMxMwAAkpIAAgAAAAMxMwAA6hwABwAACAwAAAiSAAAAABzqAAAACAAAAAAAAAAAAAAAAAAAAAAAAAAAAAAAAAAAAAAAAAAAAAAAAAAAAAAAAAAAAAAAAAAAAAAAAAAAAAAAAAAAAAAAAAAAAAAAAAAAAAAAAAAAAAAAAAAAAAAAAAAAAAAAAAAAAAAAAAAAAAAAAAAAAAAAAAAAAAAAAAAAAAAAAAAAAAAAAAAAAAAAAAAAAAAAAAAAAAAAAAAAAAAAAAAAAAAAAAAAAAAAAAAAAAAAAAAAAAAAAAAAAAAAAAAAAAAAAAAAAAAAAAAAAAAAAAAAAAAAAAAAAAAAAAAAAAAAAAAAAAAAAAAAAAAAAAAAAAAAAAAAAAAAAAAAAAAAAAAAAAAAAAAAAAAAAAAAAAAAAAAAAAAAAAAAAAAAAAAAAAAAAAAAAAAAAAAAAAAAAAAAAAAAAAAAAAAAAAAAAAAAAAAAAAAAAAAAAAAAAAAAAAAAAAAAAAAAAAAAAAAAAAAAAAAAAAAAAAAAAAAAAAAAAAAAAAAAAAAAAAAAAAAAAAAAAAAAAAAAAAAAAAAAAAAAAAAAAAAAAAAAAAAAAAAAAAAAAAAAAAAAAAAAAAAAAAAAAAAAAAAAAAAAAAAAAAAAAAAAAAAAAAAAAAAAAAAAAAAAAAAAAAAAAAAAAAAAAAAAAAAAAAAAAAAAAAAAAAAAAAAAAAAAAAAAAAAAAAAAAAAAAAAAAAAAAAAAAAAAAAAAAAAAAAAAAAAAAAAAAAAAAAAAAAAAAAAAAAAAAAAAAAAAAAAAAAAAAAAAAAAAAAAAAAAAAAAAAAAAAAAAAAAAAAAAAAAAAAAAAAAAAAAAAAAAAAAAAAAAAAAAAAAAAAAAAAAAAAAAAAAAAAAAAAAAAAAAAAAAAAAAAAAAAAAAAAAAAAAAAAAAAAAAAAAAAAAAAAAAAAAAAAAAAAAAAAAAAAAAAAAAAAAAAAAAAAAAAAAAAAAAAAAAAAAAAAAAAAAAAAAAAAAAAAAAAAAAAAAAAAAAAAAAAAAAAAAAAAAAAAAAAAAAAAAAAAAAAAAAAAAAAAAAAAAAAAAAAAAAAAAAAAAAAAAAAAAAAAAAAAAAAAAAAAAAAAAAAAAAAAAAAAAAAAAAAAAAAAAAAAAAAAAAAAAAAAAAAAAAAAAAAAAAAAAAAAAAAAAAAAAAAAAAAAAAAAAAAAAAAAAAAAAAAAAAAAAAAAAAAAAAAAAAAAAAAAAAAAAAAAAAAAAAAAAAAAAAAAAAAAAAAAAAAAAAAAAAAAAAAAAAAAAAAAAAAAAAAAAAAAAAAAAAAAAAAAAAAAAAAAAAAAAAAAAAAAAAAAAAAAAAAAAAAAAAAAAAAAAAAAAAAAAAAAAAAAAAAAAAAAAAAAAAAAAAAAAAAAAAAAAAAAAAAAAAAAAAAAAAAAAAAAAAAAAAAAAAAAAAAAAAAAAAAAAAAAAAAAAAAAAAAAAAAAAAAAAAAAAAAAAAAAAAAAAAAAAAAAAAAAAAAAAAAAAAAAAAAAAAAAAAAAAAAAAAAAAAAAAAAAAAAAAAAAAAAAAAAAAAAAAAAAAAAAAAAAAAAAAAAAAAAAAAAAAAAAAAAAAAAAAAAAAAAAAAAAAAAAAAAAAAAAAAAAAAAAAAAAAAAAAAAAAAAAAAAAAAAAAAAAAAAAAAAAAAAAAAAAAAAAAAAAAAAAAAAAAAAAAAAAAAAAAAAAAAAAAAAAAAAAAAAAAAAAAAAAAAAAAAAAAAAAAAAAAAAAAAAAAAAAAAAAAAAAAAAAAAAAAAAAAAAAAAAAAAAAAAAAAAAAAAAAAAAAAAAAAAAAAAAAAAAAAAAAAAAAAAAAAAAAAAAAAAAAAAAAAAAAAAAAAAAAAAAAAAAAAAAAAAAAAAAAAAAAAAAAAAAAAAAAAAAAAAAAAAAAAAAAAAAAAAAAAAAAAAAAAAAAAAAAAAAAAAAAAAAAAAAAAAAAAAAAAAAAAAAAAAAAAAAAAAAAAAAAAAAAAAAAAAAAAAAAAAAAAAAAAAAAAAAAAAAAAAAAAAAAAAAAAAAAAAAAAAAAAAAAAAAAAAAAAAAAAAAAAAAAAAAAAAAAAAAAAAAAAAAAAAAAAAAAAAAAAAAAAAAAAAAAAAAAAAAAAAAAAAAAAAAAAAAAAAAAAAAAAAAAAAAAAAAAAAAAAAAAAAAAAAAAAAAAAAAAAAAAAAAAAAAAAAAAAAAAAAAAAAAAAAAAAAAAAAAAAAAAAAAAAAAAAAAAAAAAAAAAAAAAAAAAAAAAAAAAAAAAAAAAAAAAAAAAAAAAAAAAAAAAAAAAAAAAAAAAAAAAAAAAAAAAAAAAAAAAAAAAAAAAAAAAAAAAAAAAAAAAAAAAAAAAAAAAAAAAAAAAAAAAAAAAAAAAAAAAAAAAAAAAAAAAAAAAAAAAAAAAAAAAAAAAAAAAAAAAAAAAAAAAAAAAAAAAAAAAAAAAAAAAAAAAAAAAAAAAAAAAAAAAAAAAAAAAAAAAAAAAAAAAAAAAAAAAAAAAAAAAAAAAAAAAAAAAAAAAAAAAAAAAAAAAAAAAAAAAAAAAAAAAAAAAAAAAAAAAAAAAAAAAAAAAAAAAAAAAAAAAAAAAAAAAAAAAAAAAAAAAAAAAAAAAAAAAAAAAAAAAAAAAAAAAAAAAAAAAAAAAAAAAAAAAAAAAAAAAAAAAAAAAAAAAAAAAAAAAAAAAAAAAAAAAAAAAAAAAAAAAAAAAAAAAAAAAAAAAAAAAAAAAAAAAAAAAAAAAAAAAAAAAAAAAAAAAAAAAAAAAAAAAAAAAAAMjAyMTowOToxMyAxNDozNDowOQAyMDIxOjA5OjEzIDE0OjM0OjA5AAAAagBvAHIAZwBlAAAA/+ELGGh0dHA6Ly9ucy5hZG9iZS5jb20veGFwLzEuMC8APD94cGFja2V0IGJlZ2luPSfvu78nIGlkPSdXNU0wTXBDZWhpSHpyZVN6TlRjemtjOWQnPz4NCjx4OnhtcG1ldGEgeG1sbnM6eD0iYWRvYmU6bnM6bWV0YS8iPjxyZGY6UkRGIHhtbG5zOnJkZj0iaHR0cDovL3d3dy53My5vcmcvMTk5OS8wMi8yMi1yZGYtc3ludGF4LW5zIyI+PHJkZjpEZXNjcmlwdGlvbiByZGY6YWJvdXQ9InV1aWQ6ZmFmNWJkZDUtYmEzZC0xMWRhLWFkMzEtZDMzZDc1MTgyZjFiIiB4bWxuczpkYz0iaHR0cDovL3B1cmwub3JnL2RjL2VsZW1lbnRzLzEuMS8iLz48cmRmOkRlc2NyaXB0aW9uIHJkZjphYm91dD0idXVpZDpmYWY1YmRkNS1iYTNkLTExZGEtYWQzMS1kMzNkNzUxODJmMWIiIHhtbG5zOnhtcD0iaHR0cDovL25zLmFkb2JlLmNvbS94YXAvMS4wLyI+PHhtcDpDcmVhdGVEYXRlPjIwMjEtMDktMTNUMTQ6MzQ6MDkuMTI5PC94bXA6Q3JlYXRlRGF0ZT48L3JkZjpEZXNjcmlwdGlvbj48cmRmOkRlc2NyaXB0aW9uIHJkZjphYm91dD0idXVpZDpmYWY1YmRkNS1iYTNkLTExZGEtYWQzMS1kMzNkNzUxODJmMWIiIHhtbG5zOmRjPSJodHRwOi8vcHVybC5vcmcvZGMvZWxlbWVudHMvMS4xLyI+PGRjOmNyZWF0b3I+PHJkZjpTZXEgeG1sbnM6cmRmPSJodHRwOi8vd3d3LnczLm9yZy8xOTk5LzAyLzIyLXJkZi1zeW50YXgtbnMjIj48cmRmOmxpPmpvcmdlPC9yZGY6bGk+PC9yZGY6U2VxPg0KCQkJPC9kYzpjcmVhdG9yPjwvcmRmOkRlc2NyaXB0aW9uPjwvcmRmOlJERj48L3g6eG1wbWV0YT4NCiAgICAgICAgICAgICAgICAgICAgICAgICAgICAgICAgICAgICAgICAgICAgICAgICAgICAgICAgICAgICAgICAgICAgICAgICAgICAgICAgICAgICAgICAgICAgICAgICAgICAKICAgICAgICAgICAgICAgICAgICAgICAgICAgICAgICAgICAgICAgICAgICAgICAgICAgICAgICAgICAgICAgICAgICAgICAgICAgICAgICAgICAgICAgICAgICAgICAgICAgIAogICAgICAgICAgICAgICAgICAgICAgICAgICAgICAgICAgICAgICAgICAgICAgICAgICAgICAgICAgICAgICAgICAgICAgICAgICAgICAgICAgICAgICAgICAgICAgICAgICAgCiAgICAgICAgICAgICAgICAgICAgICAgICAgICAgICAgICAgICAgICAgICAgICAgICAgICAgICAgICAgICAgICAgICAgICAgICAgICAgICAgICAgICAgICAgICAgICAgICAgICAKICAgICAgICAgICAgICAgICAgICAgICAgICAgICAgICAgICAgICAgICAgICAgICAgICAgICAgICAgICAgICAgICAgICAgICAgICAgICAgICAgICAgICAgICAgICAgICAgICAgIAogICAgICAgICAgICAgICAgICAgICAgICAgICAgICAgICAgICAgICAgICAgICAgICAgICAgICAgICAgICAgICAgICAgICAgICAgICAgICAgICAgICAgICAgICAgICAgICAgICAgCiAgICAgICAgICAgICAgICAgICAgICAgICAgICAgICAgICAgICAgICAgICAgICAgICAgICAgICAgICAgICAgICAgICAgICAgICAgICAgICAgICAgICAgICAgICAgICAgICAgICAKICAgICAgICAgICAgICAgICAgICAgICAgICAgICAgICAgICAgICAgICAgICAgICAgICAgICAgICAgICAgICAgICAgICAgICAgICAgICAgICAgICAgICAgICAgICAgICAgICAgIAogICAgICAgICAgICAgICAgICAgICAgICAgICAgICAgICAgICAgICAgICAgICAgICAgICAgICAgICAgICAgICAgICAgICAgICAgICAgICAgICAgICAgICAgICAgICAgICAgICAgCiAgICAgICAgICAgICAgICAgICAgICAgICAgICAgICAgICAgICAgICAgICAgICAgICAgICAgICAgICAgICAgICAgICAgICAgICAgICAgICAgICAgICAgICAgICAgICAgICAgICAKICAgICAgICAgICAgICAgICAgICAgICAgICAgICAgICAgICAgICAgICAgICAgICAgICAgICAgICAgICAgICAgICAgICAgICAgICAgICAgICAgICAgICAgICAgICAgICAgICAgIAogICAgICAgICAgICAgICAgICAgICAgICAgICAgICAgICAgICAgICAgICAgICAgICAgICAgICAgICAgICAgICAgICAgICAgICAgICAgICAgICAgICAgICAgICAgICAgICAgICAgCiAgICAgICAgICAgICAgICAgICAgICAgICAgICAgICAgICAgICAgICAgICAgICAgICAgICAgICAgICAgICAgICAgICAgICAgICAgICAgICAgICAgICAgICAgICAgICAgICAgICAKICAgICAgICAgICAgICAgICAgICAgICAgICAgICAgICAgICAgICAgICAgICAgICAgICAgICAgICAgICAgICAgICAgICAgICAgICAgICAgICAgICAgICAgICAgICAgICAgICAgIAogICAgICAgICAgICAgICAgICAgICAgICAgICAgICAgICAgICAgICAgICAgICAgICAgICAgICAgICAgICAgICAgICAgICAgICAgICAgICAgICAgICAgICAgICAgICAgICAgICAgCiAgICAgICAgICAgICAgICAgICAgICAgICAgICAgICAgICAgICAgICAgICAgICAgICAgICAgICAgICAgICAgICAgICAgICAgICAgICAgICAgICAgICAgICAgICAgICAgICAgICAKICAgICAgICAgICAgICAgICAgICAgICAgICAgICAgICAgICAgICAgICAgICAgICAgICAgICAgICAgICAgICAgICAgICAgICAgICAgICAgICAgICAgICAgICAgICAgICAgICAgIAogICAgICAgICAgICAgICAgICAgICAgICAgICAgICAgICAgICAgICAgICAgICAgICAgICAgICAgICAgICAgICAgICAgICAgICAgICAgICAgICAgICAgICAgICAgICAgICAgICAgCiAgICAgICAgICAgICAgICAgICAgICAgICAgICAgICAgICAgICAgICAgICAgICAgICAgICAgICAgICAgICAgICAgICAgICAgICAgICAgICAgICAgICAgICAgICAgICAgICAgICAKICAgICAgICAgICAgICAgICAgICAgICAgICAgICAgICAgICAgICAgICAgICAgICAgICAgICAgICAgICAgICAgICAgICAgICAgICAgICAgICAgICAgICAgICAgICAgICAgICAgIAogICAgICAgICAgICAgICAgICAgICAgICAgICAgPD94cGFja2V0IGVuZD0ndyc/Pv/bAEMABwUFBgUEBwYFBggHBwgKEQsKCQkKFQ8QDBEYFRoZGBUYFxseJyEbHSUdFxgiLiIlKCkrLCsaIC8zLyoyJyorKv/bAEMBBwgICgkKFAsLFCocGBwqKioqKioqKioqKioqKioqKioqKioqKioqKioqKioqKioqKioqKioqKioqKioqKioqKv/AABEIAmMCZgMBIgACEQEDEQH/xAAfAAABBQEBAQEBAQAAAAAAAAAAAQIDBAUGBwgJCgv/xAC1EAACAQMDAgQDBQUEBAAAAX0BAgMABBEFEiExQQYTUWEHInEUMoGRoQgjQrHBFVLR8CQzYnKCCQoWFxgZGiUmJygpKjQ1Njc4OTpDREVGR0hJSlNUVVZXWFlaY2RlZmdoaWpzdHV2d3h5eoOEhYaHiImKkpOUlZaXmJmaoqOkpaanqKmqsrO0tba3uLm6wsPExcbHyMnK0tPU1dbX2Nna4eLj5OXm5+jp6vHy8/T19vf4+fr/xAAfAQADAQEBAQEBAQEBAAAAAAAAAQIDBAUGBwgJCgv/xAC1EQACAQIEBAMEBwUEBAABAncAAQIDEQQFITEGEkFRB2FxEyIygQgUQpGhscEJIzNS8BVictEKFiQ04SXxFxgZGiYnKCkqNTY3ODk6Q0RFRkdISUpTVFVWV1hZWmNkZWZnaGlqc3R1dnd4eXqCg4SFhoeIiYqSk5SVlpeYmZqio6Slpqeoqaqys7S1tre4ubrCw8TFxsfIycrS09TV1tfY2dri4+Tl5ufo6ery8/T19vf4+fr/2gAMAwEAAhEDEQA/APf9X1KPR9Gu9SnRnitIWmdU+8QoycZ7151/wvrw/wD9A3Uv++Y//i67Pxz/AMiBrv8A14Tf+gGvlGu3DUYVE3I8nH4qpQklDqe9/wDC+vD/AP0DdS/75j/+Lo/4X14f/wCgbqX/AHzH/wDF14JRXX9UpHn/ANpYjy+497/4X14f/wCgbqX/AHzH/wDF0f8AC+vD/wD0DdS/75j/APi68Eoo+p0g/tLEeX3Hvf8Awvrw/wD9A3Uv++Y//i6P+F9eH/8AoG6l/wB8x/8AxdeCUU/qdIP7SxHl9x73/wAL68P/APQN1L/vmP8A+Lo/4X14f/6Bupf98x//ABdeCUUfU6Qf2liPL7j3v/hfXh//AKBupf8AfMf/AMXR/wAL68P/APQN1L/vmP8A+LrwSij6nSD+0sR5fce9/wDC+vD/AP0DdS/75j/+Lo/4X14f/wCgbqX/AHzH/wDF14JRS+qUg/tLEeX3Hvf/AAvrw/8A9A3Uv++Y/wD4uj/hfXh//oG6l/3zH/8AF14JRR9UpB/aWI8vuPe/+F9eH/8AoG6l/wB8x/8AxdH/AAvrw/8A9A3Uv++Y/wD4uvBKKPqlIP7SxHl9x73/AML68P8A/QN1L/vmP/4uj/hfXh//AKBupf8AfMf/AMXXglFH1SkH9pYjy+497/4X14f/AOgbqX/fMf8A8XR/wvrw/wD9A3Uv++Y//i68Eoo+qUg/tLEeX3Hvf/C+vD//AEDdS/75j/8Ai6P+F9eH/wDoG6l/3zH/APF14JRR9UpB/aWI7r7j3v8A4X14f/6Bupf98x//ABdH/C+vD/8A0DdS/wC+Y/8A4uvBKKPqlIP7Sr919x73/wAL68P/APQN1L/vmP8A+Lo/4X14f/6Bupf98x//ABdeCUUfVKRP9p4juvuPe/8AhfXh/wD6Bmpf98x//F0v/C+fD/8A0DNS/wC+Y/8A4uvA6Wj6pSD+08R3X3Hvf/C+fD//AEDNS/75j/8Ai6T/AIXz4f8A+gZqf/fMf/xdeC0UfU6Qf2niPL7j3v8A4Xz4f/6Bmp/98x//ABdJ/wAL58P/APQM1P8A75j/APi68Fop/U6Qf2niPL7j3v8A4Xz4f/6Bupf98x//ABVH/C+fD/8A0DdS/wC+Y/8A4qvBKMUfU6Qf2niO6+497/4Xz4f/AOgbqX/fMf8A8VR/wvnw/wD9A3Uv++Y//iq8FxRij6nRF/aeI7r7j3r/AIXz4f8A+gbqX/fMf/xVH/C+PD//AEDdS/75j/8Aiq8FxRR9TpB/aeI7r7j3r/hfHh//AKBupf8AfMf/AMVR/wAL58P/APQN1L/vmP8A+KrwWjFH1OkH9p4juvuPef8AhfPh/wD6Bmp/98x//F0f8L58P/8AQM1P/vmP/wCLrwaij6nSH/aeI7r7j3r/AIXz4f8A+gZqX/fMf/xdJ/wvnw//ANAzU/8AvmP/AOLrwakpfU6Yf2niPL7j3r/hfXh//oG6l/3zH/8AF0f8L68P/wDQN1L/AL5j/wDi68Eoo+p0g/tPEd19x73/AML68P8A/QN1L/vmP/4uj/hfXh//AKBupf8AfMf/AMXXglFH1SkH9p4juvuPe/8AhfXh/wD6Bupf98x//F0f8L68P/8AQN1L/vmP/wCLrwSij6pSH/adfuvuPe/+F9eH/wDoG6l/3zH/APF0f8L68P8A/QN1L/vmP/4uvBKKPqlIP7SxHdfce9/8L68P/wDQN1L/AL5j/wDi6P8AhfXh/wD6Bupf98x//F14JRR9UpD/ALSxHl9x73/wvrw//wBA3Uv++Y//AIuj/hfXh/8A6Bupf98x/wDxdeCUUfVKQf2liPL7j3v/AIX14f8A+gbqX/fMf/xdH/C+vD//AEDdS/75j/8Ai68Eoo+qUg/tLEeX3Hvf/C+vD/8A0DdS/wC+Y/8A4uj/AIX14f8A+gbqX/fMf/xdeCUUfVKQf2liPL7j3v8A4X14f/6Bupf98x//ABdH/C+vD/8A0DdS/wC+Y/8A4uvBKKPqlIP7SxHl9x73/wAL68P/APQN1L/vmP8A+Lo/4X14f/6Bupf98x//ABdeCUUfVKQf2liPL7j3v/hfXh//AKBupf8AfMf/AMXR/wAL68P/APQN1L/vmP8A+LrwSij6pSD+0sR5fce9/wDC+vD/AP0DdS/75j/+Lo/4X14f/wCgbqX/AHzH/wDF14JRR9UpB/aWI8vuPe/+F9eH/wDoG6l/3zH/APF0f8L68P8A/QN1L/vmP/4uvBKKPqlIP7SxHl9x73/wvrw//wBA3Uv++Y//AIuj/hfXh/8A6Bupf98x/wDxdeCUUfVKQf2liPL7j3v/AIX14f8A+gbqX/fMf/xdbvhL4m6b4z1eTTtLsrqKaOEzFrjaq7QQP4STn5h2r5nr0z4Df8j9df8AYOk/9GR1lVw1OMHJG+Hx9apVjCWzPfttx/zzj/7+H/4mirFFeYe+c345/wCRA13/AK8Jv/QDXyjX1d45/wCRA13/AK8Jv/QDXyjXp4L4WeBmvxx9Aooq5pEaTa5YRSrujkuokdT3BcAiu9uybPHiruxT/GivfNI+HtvrNh9tU2VusksgWJbBCFCuVAyfYVe/4VRB/wA97T/wXx/41xfXoroev/ZU/wCY+daK+iv+FUW//Pe0/wDBfH/jR/wqi3/572n/AIL4/wDGn9ej2D+yp/zI+daK+iv+FUW//Pe0/wDBfH/jR/wqiD/nvaf+C+P/ABo+vR7B/ZU/5kfOtFfRX/CqIP8An4tP/BfH/jSP8KrdInbz7PIUkf8AEvSj69HsH9lT/mR87YorofGcEVvrNuLeGKHfaRu6wptUtlgTj3xXPV1QkpxUjy6tN05uL6BRRRVGYUUdOvFGO9PQYUUDnpz9KKbQWYUUUuBUsQlFFLinZiEoxS49jS4osAmKBS4pcex/KjYQmKMUYpRz05p3YCYopf0+tGPWkKzCijFGPbNMLMKSnEf5xRj86AG0tKV+v5UmKEuo7CUUoANBGKWghKWgUYosFtQzSZpcUoXj1qhjaKO9LjjPaldi9RMUUuOvt1oxQMbRinUmKWgCYpD7U7HpRjK0WDQbiilxQRjrS3GJRRS4oGhKKXBpKem4BRR+FAGaOgBRR2o+lLfYAoo+lFMdgooox9aem4rBRS4pBz05+lK2oBRRzRzQAUUY/KlxS8g9BKKKKYBXpnwG/wCR+uv+wdJ/6MjrzOvTPgN/yP11/wBg6T/0ZHWFf+FI6sH/ALxD1PoaiiivDPrjm/HP/Iga7/14Tf8AoBr5Rr6u8c/8iBrv/XhN/wCgGvlGvTwXws8DNfjj6BV7Q/8AkY9M/wCvyH/0MVRq9on/ACMemf8AX5D/AOhiu9/Czyqfxo+o/BQ/4pmH/rrN/wCjWrocVz/gr/kWYf8ArrN/6Nat9jjnt3r50+zWwuKr3d5BYwma7mjhiHV5GCgfiarPrdourLpqM0t2yeY0ca7vLT+8x7DPT17V4P8AtDjV9Z8SaZpOjtNfxrDuksbRWkaN2bCs4XpnoM470xn0Hb3Ed1CssEiSRuMq6NkEexqU8V5z8FvC/iDwl4Naw8SSrvaYyw26vvMCkDKk9OvOBUfxs8R+JPDXg9LnwrDIC0h+13cabzbRgdcdsk4z2pAelVHcf8e8n+6f5V5B8BvH+u+LrXUbTX5ftRsyrR3RTBYH+EkcE16/P/x7Sf7h/lQM+WPHP/Ibtf8Aryj/APQmrma6bx1/yGrX/ryj/wDQmrma96j/AAo+h8hi/wCPMK3vB3hw+KNfjsS7RwqvmTSKOQo649+1YPSvSvgwo/tbVH7i3QA/Vv8A61eVnuKqYPLqlanuloXgaSrYiMJbHU3Hh7wDoQjs9Rt7GKSRfl+1SFnb3yT/AIVwHxD0LQdGvIBoc/7yVdz2wfeqL2YHt9DUHxNdn8fXwY5CqigHsNorlMluWJJ968TIMqrqNLHTrybkrtdNTux2KptyoqCVnozu/hr4S03xGdRl1iBpYoNiRhZCnzHJPT2FN+JXhTT/AA5JYvpELQwzBldWkZ8sO/NdV8M1XS/h/e6nIPvSSzH3VF/+saPihENR8C2eoL/yzeOX8HWvDWbYlcRcrk/Z83Lbod31Wn/Z97e9a5w3w80Ow8QeJWs9UhM0AgZ9ocryCMcj616NN8PPBSS/Z3hMcpGQpvWDfkTXEfCMY8ZSf9ekn9Kg+KJP/CdTFSQREmCDjtXXmNPF43O3haVZwSjfQww8qVHBKrKCbvY0vHHw4t9D0t9T0aWVoIziWGZtxQZ+8D6fWuCs7drq/t7ZeWmlVB+LAf1r3C5lN98IWmnJdpNLDMW6khev6V5X4BtPtvjrS0YZVJfNbPooJ/niuvJcyrvLsR9YleVNtX+RljcNTWIh7NWUrHpep/DHw3Fpd21nZyrcJExjc3Dn5gPTNeJHI69e9fS0d+k+sXWmkDdDCkje4bI/pXztrdqbHXr22YY8qdl/WuXgzMMTXnVpYmTb0av2ZrnOHpwjGVJW6MonhSe+K+hNF+E/hK90KzubiwlaWaBHYi5kHJGfWvnth8h+lfWGhXaW3hvRVkOPPijiU++zI/lX3GMlKNlE4sspwqOXMj5i8QaaNJ8SahYKCEt7hkUEk4XPH6V6Z8L/AIdaJ4l8KvqWu2sk0j3DJERMyYRcDoD65rnPi/YfYfiHcyAYW5jWX8cYP8q9i8DxJoPgLQbaQYe4RBj/AGnyxqK1R+xjZ7lYWgvrUlJaI8r8ZeDtH0b4k6NpGnQSR2V00QmjMzMW3Pg8k+lehS/CbwLbKpntGiB4G68kAPfu1cx8Rx/xeTw6f9uD/wBGVa+PXGm6Rgkfvn6HH8NZ3lPkinub2pwVSfLsyv468C+DtG8HXt9o0ai8i2+WRds/8QB+Unnirfg74beFNV8D6fqurWjGaWHdLIbl1XqeeDgV4iWbuxP417/pn/Jvg/7Bz/zNaVYzpxS5t2Y4epTr1JS5dEhr/CLwVqcL/wBmPNE4HElvdl9v4HNeT6n4Uk8P+PINE1BvOjeeMB1yvmxsevsa2Pg1dTQ/EKCCORhHcW8quueDgBhx9RXRfFVFHxQ8OsB8zFMn1/eCnFzp1HBu+gSVKtSVVRs7lD4reCdC8K6PYT6LavDJPcFJC0rPkbc4wT61reB/hhosfhqLWvFMYnaWPzhHI5WOJOoz0ycc88Vb+O/Og6QOmbo/+gVsfEFjb/B2VYjtBtoUOPT5eKx9pN04xvuzf2NNVZytskVx4I+H/i/T5xocdsjx/L59jIVMZ7ZHQ/iK8N13R5tB1y60y6wZLeQpuAwGHY16F8CpSvirUYQflktASPUhh/jWP8YUC/Ea72jGYoyffiuihzQrOm3dHJieSrhlWSscfpWmzavq1tp9qP3txIEXPbPevd4/APgXwjpMUviCO3lY/K1xfOW3t3wucD8BXlvwtRX+I+mbhnDsR9dtdd8epGOo6PGT8gikYD3yBmis5SqqmnZBhVCnh5Vmru5B8QvDfge38Ox6toFzFbXEp/cR27l0n9Rtzxj17VJ8LvAegeKPC817rVq806XTRqwndcKAOOD715PnIAJOB05r3r4If8iJdf8AX4//AKCtKtGVOlbmDDThiMRrGyHr8L/h/qDNb2TMJVJB8m+Ysp+hJ/lXlHjzwZJ4M1xLbzTPa3Cl7eVl5IB5U+49fcVJ4XkeH4rWhjdlJ1J1OD1BLcV3Xx8AEOhcDO+YfotTDnp1Yxbvcur7OrQlNRs4uxgfCfwTpfio6hLrcDTw2+xI9sjJgnk9KZ8WPBemeE7jTn0WBoYLhXVw0jPlhjByT6V2PwmA0T4Z6hq0nQtLPz3CL/8AWp/xihGqfD2y1OMZ8uSOXI7K64/rUqrL2/kafV4fVNvetc85+F3hzTfFHiiaw1mFpoBbNIFWRk+YMAOVPvXqU3wu8AJcG2lh8qY4O03rhhn23VwXwOH/ABXVxn/nxf8A9DWqPxhJX4kXLKzKRBEQQcY4NXUU51uRPoZUZQp4X2ko31NX4h/CqDw3pDavoc80ltEw8+GY7igJwGDdx9aqfC/4e23itptR1jebGBtixIxXzX75PoPavS72Q33wOkluMyPJpW5ye521W+D6CL4YrIv3mllbPvWXtp+ys3rex0/V6brxaWlr2Fj8MfDS+1CTRYLTTmvEBUxRORKPX5gc/rXk3xF8Ff8ACHa4kdrI8tjcqXhLnJXHVSe+Kq+Erh1+JOlzljvOoAkjvliDXpPx8Rf7K0l8fN5zgH/gNaR5qVWMb3uY1HDEYeU+WzR4iqjI+temeL/Bmh6P4GTU7C1kju28nLmZm+8OeCcV5oPvD6ivafiDx8L4/pB/Kvn8+xFWjjcJCEmlKWvmhZfCM6NWUlsjP8G+AfDuseD7C/1CzeS5nQmRhO65wxHQH2rgfGuiw6B4surG0Rktlw8alicKQO9eueA50tfhvpcsvChSOvrIR/WuM+Mdn5WvWF2FwJrco31Vv8DXz2R5nif7eqUa024tySv5Ho43DU/qMZQWtkVvhr4Q03xFHfz6xA00UJVUCyFMMevSl+JXhXSPDo0z+yLd4ftLOJN8zPuAx6njrXWfDWNdL8A/a5Rj7ROzZ9edorL+M33dE5/jk/8AZayjmmKq5/KCm1D3kl00RX1anDAJte9obb/DnwdBbrNdWjRKQuXe6cDJH1qrdfCzw1f2bNo8ktu+MJJHP5qZ9wam+Kn/ACIC/wDXeL+RrC+C9xJ52rW25jGEjkCk8A5Irz6M8xeXzzKGIleMmrdDomsP9YjhnT3W5x+i+ErrU/GB0OdvKaF28+QDO1V6kD1NeozeGPAWgLFa6jbWaSSjCm7kLO/vnPH4YFVfD0SL8XPEDAciFf1xXFfFeRn8eTq5JEdvEF9vlzXr1K+JznMIYZ1HCKgpad7HIoUsFQdTlu7tamv8QfANjpmlNrOhKYoY8edBvLKAejKT0+lWPAPgrQtc8Ki91a1aSbzpELCZkGFx2Bro7w/aPg3M0nzbtLyc+w/+tVf4Y/8AJN3/AOus/wDIV508yxv9lypOo+aFTlv1sdKw1L60pWWsb26DR8O/BWoq0dgzeYByYLwsV/A5rmtP8B6fp/jibStfk+0WJtjNBK0pj3c45weorA8ASPF8RtNMbEbpnVsHqNrcV0nxmH/Ey0vHB8pxkfUV6lOnjsPmEcveIbjUje/VehyTlQnQeI9mrxf3nUQ/DnwZclhBbGUqMnZds2PyNNk+H3gmKUpLCEcHBDXzAj8M1zXwYP8AxMtX/wCuMf8A6Ea5b4hE/wDCeanyfvjv7CuTD5fjqmaTwDxUrQV7mtTEUYYaNf2S1JdK0Kz1L4kHSEQtYC5ddquTmNSTjP8AWuy8bfD/AEPS/CN3f6RayRXEBVsmZnG3cAeCfesP4QWnneLJrnGRb2xOfQsQP8a9LupE8ReHtbs1wSPOth/vBeP1q86zLFYTNaVKE3yQ5ebzuxYPD06uFlKS1d7Hzr/kUUDJUEjHHeiv1SMlKKaPlpKzsFemfAb/AJH66/7B0n/oyOvM69M+A3/I/XX/AGDpP/RkdY4j+FI6cH/vEPU+hqKKK8I+uOb8c/8AIga7/wBeE3/oBr5Rr6u8c/8AIga7/wBeE3/oBr5Rr08F8LPAzX44+gVe0T/kY9M/6/If/QxVGr2if8jHpn/X5D/6GK75fCzyafxo+pPBX/Isw/8AXWb/ANGtT/GfiFPCvhDUtakUOLOAuqE43N0UfmRTPBX/ACLMP/XWb/0a1cz8d7eS4+EOriLPyCN2wf4Q4zXzp9otitp103gb4M3HiS9b7Tqt5b/bru4flpZ5BlQT6LkKB0AFZnwbkttK+HN94y8Q3Q+0ajM91eXcxz8qnAH09vesXxB4otvEX7K4nRsTRRQ2c8Y6pIjBcH64B/GuX8Aa9pfiv4Y33w51nVI9JupHD2NzNxG/zBtpJI7jGM9+KZR714N8faJ45tbmbQJ5HFs+yRZIyrDPIOD2NaUevaNqWpXOkQ31tcXkK/v7UOCwB65H0rgvAOj+FPhTajRr/wARaf8A21fbZJmlnWMv2UKpPC9cdyc1yml/DDXvD/x2/wCEhidY/D8U0l099JOOUZWyh5znJ5yMY5pCPadD0PRfD0D6foVlbWSBvMeKBQuSe5rSn/49pP8AcP8AKvM/h74wi8YfErxRc6dKZNPt44YIHHSTaTlh7E5x7V6ZP/x7Sf7h/lQM+WPHX/Iatf8Aryj/APQmrma6bx1/yGrX/ryj/wDQmrma96j/AA4+h8hi/wCPP1CvTPgx/wAhLVf+uCf+hGvM69M+DH/IS1X/AK4J/wChGvnOK/8AkUVTpyr/AHuP9dDnviX/AMj/AH/0T/0EVyvSuq+Jf/I/X30T/wBBFc1bxGa6ihXkyOqD8TivQymXLlVOT/lX5GGLi3i5pdz2KVTo3wOcZ2u9iF/GQ4/rUqr/AG38FQv33Wy49jGf/rV0mo6Lp+o6BFpepnFsAgx5mzO0DHNP0zRtP0/RW0vTubUhxgvu+915r8dlj6dvacr5/a81+lvU+vWHd+X7PLY8n+Ef/I5v/wBekmfzFV/imP8AiuJ/+uSfyq98LoTbePrqBxhooJUI+jAVR+KX/I8T/wDXJP5V99Rn7TiTn70zwppxy63949BT/kjI/wCwT/SuL+ENp5via5uWHFvbED6scf0rtlTZ8GlD8Y0r/wBlrG+DlqE0zULw/wDLWVYwT3Cj/E181Tr+xyrHW+1O33nozp+0xVBdkW9I1PzPjJrNuT8phEQHugFcL8SbP7L44vMDCzhZR+I/xr1i18MaHaeIn1iA/wCnyOzM3nZBLdeM1w3xhs9mp6degf6yFo247qc/1royDG0v7YpqnFpOCWq6ojH0ZfVJOTvZ3PNWGYz9DX0Tr97/AGX8PvDl6OPIurMn6cA/oa+d2+6fpXunxFYr8F9OI6hrUj8q/TcUrygjxMvlyxqPyKXxp0Y3ur6DPEuftEn2Y475YY/ma63X7lbXxX4P0mM4BleQr7JHgfzqeKwTxb4e8N6gSD5DxXJz7Lg/rXK6zqH2v9oTSLYH5bOAIcdmZWY/oRXEveXJ2uepJKEvafzWKPxG5+Mvhz/fg/8ARleieKtA0DXoLZPEe3ZGxaLdN5fOOe/Ned/Eb/ks3hz/AH4P/RlWfjz/AMg3R8f89n/9BrRRcnTSdjNzUFWk1dXKPxB8G+ENH8IT3eheX9rWSMLtud5wWweM+ldJpgH/AAz8B/1Dn/ma+fzk8E8Z9a+gNMP/ABj+P+we/wDM1tWg4Rim76nNhasas5uMbaHmnwg/5Kbp/wD1ym/9ANdX8Vv+SneHP+Af+jBXLfCBc/EuxIH3YZif++Mf1rqvirz8TfDmfVP/AEYKdT+P8iaX+6fP9TQ+O3/IC0f/AK+z/wCg1r/Ej/kkMn/XKH/2Wsj47f8AID0f/r7P/oNa/wARzn4QORz+5h6fVa5o/DD1O6p8Vb0RwfwM/wCRwu/+vM/+hCs34xf8lFuf+uMf8q0/gap/4S69YDgWh/8AQhWZ8Yf+SjXP/XGP+Vdcf95foeZL/cF6lT4V/wDJSNN+rf8AoNejfEaxsdT+JHhez1bH2OWOYS5faMYyOfqBXnfwrx/wsbTfq3/oNdR8eSRq+jkcfuZP/QhU1k3XS8jTDy5cFJ+Z0Os/DXwhD4Yvr+wtd7RW7vHIk7MAwB9/Wl+B43eBbget44/8dWo/Bxz8CLnP/PC4/rT/AIIceArn/r7f/wBBWuaXNySTfU7aah7WEoq10WdB+E1jo3ij+2pr+W6lSVpY4igVQzZ798Zrzf4s+JZtb8ULZy2slrFpoZFjlGGZmwS30wBitf4eeKdS/wCFmTWF7fTz29zJMgjkcsFIJxj8qj+NGmg+PtPeNcNfW6qSB1YPj+RFa0+aFX3+xhWlGeH/AHStrqdRdp/Yf7PZj+68tkF/GQ//AF6sMv8AwkPwDj/icaeB/wACj4/9lrqtV8P6ZqfhuDSNYwLVAnAk2ZKj1p+laFpul+G30jSubXa4C79+N2Sefxrm51+J3eyfw+Vjxr4Hf8j3cf8AXi2f++lqh8Yf+SjXX/XvF/I1r/ByA2nxK1C3YEGK3lQ59nWsn4wjPxFusf8APCL+RrujriPkeTLTBW8z1H/mg3/cI/8AZaZ8JP8Aklqf78tSMCvwHx/1CP8A2Wo/hGc/C1P9+UGuN/A/U9KH8WH+E8T8KZHj3S/+v9P/AEKvU/j7/wAgfSf+u7/+g15d4TUt8QNLA5P29P8A0KvUfj5/yB9J/wCu7/8AoNdlT+NA4KP+7VPU8Q7j617R8Qf+SXRfSD+VeLgZYfWvaPiB/wAkvj/7Yfyr5TiT/f8ABf4v8jTLv93rehW0+UwfA2KVT80cBcH6SZqP4pxjUfA2m6mgz5cqMSPR0/xxS2g/4sLz/wA+z/8Aow1e0K2Hir4T21kxG/YseT2KOD/IV8fJ/Va0sb/JVd/R3PZX72Co94oTUP8AiS+CfDunj5Xlmt4yPf7xrJ+MvP8AYn/XST+lWfiJeAeLPDlhHwEnEhA+oAqt8Zf+YJ/10k/9lrXL6bWMw1Z/b55fmRiJL2VSC+zZHU+ONDvPEPhFbLTgjTeZG/zttGAOeao/D3wbd+For2bUZYzcXO1dkbZCKuT179au+ONcvfD/AIRS+05kWbzI0y67hgj0ryfUviH4l1O2eCe/8uNxhlgQJkfUVOU5fmeZYGWHpSSouTu3uPFYnDYeupyV5207Hd+D72PUfiZ4iuIWDRlAqsO4DYrjvip/yUC6/wCuEP8A6BWp8G+de1AHqYF/9CrL+Kv/ACP91/1whx/3zX0GAoxw/EUqK+zTS/BHDXqe0y9T7s9Ck/5IxL/2Cj/Ko/hanmfD3YTjfPMufrgVLKMfBeTPX+yj/wCg1B8MTj4csRwRNORj6Cvk6zbwNfl0/e/5nrQsq1P/AAEnhv4b2fh3WP7Ue8lu5ow3lKUCqpPU+5x0rzn4ha7LrXihxJbyWy2QMKxyDDdckn61v/C/xFqE/iyfT767mniuInKCVy21l54/DNZXxWtRB42aVRj7RAjn3PQ/yr6fJ6Valnfs8bLnnyXi+yPLxkoSwN6CtG+qNf4L/wDIS1fP/PCP/wBCNct8Qf8AkfNS/wCug/kK6n4Lf8hPVv8ArhH/AOhGuW+IH/I+al/10H8hXo4L/kpq/wDhRhW/5FsPVnbfBq1EemarfMPvSLED7KuT/MflV/4Yan9um11GbP8ApxlH0bj+lXPhrZLbfD23MuEF00srknHBJHX6CtTQPDGjeH7id9G4knA3jz9+7HOevvXxOaY2FSvi3JNttW7Kz6s9nC0ZKnRSt5ng+v2R07xHqVnjAhupFA/2dxI/TFZ1dj8UbP7J48uXUfLcxRyj64wf/Qa46v17KqyxGBpVO8UfJYuHJXlHzCvTPgN/yP11/wBg6T/0ZHXmdemfAb/kfrr/ALB0n/oyOurEfwpBg/8AeIep9DUUUV4Z9cc345/5EDXf+vCb/wBANfKNfV3jn/kQNd/68Jv/AEA18o16eC+FngZr8cfQKvaJ/wAjHpn/AF+Q/wDoYqjV7RP+Rj0z/r8h/wDQxXfL4WeTT+NH1J4K/wCRZh/66zf+jWqt8SdPn1X4b69ZWa7ppbN9i4zkgZx+lWfBX/Isw/8AXWb/ANGtW6+COelfOo+1ifBdlrd9Y6Xe6dbTH7FfqqzwMMhiDlTjsw9aouhViki8g8qRXsvxA+CNzYeLGl8O39hHbX0xkgtrmUxvCc5IHBBXJ47jIHaub+LvgS+8Ja3bXc0StBfwqzyRjKCYAB1/PmqKLPg3xZqOsx6dow0qPW9VsVK6d9oto5ECAdHLfNhe3/1q5XxF4z8Ua5LcW2uatdunmFZLQSFYgQfu7RxgeldL8C9Ti0z4nwNPyZraWKPJ6vjOP0xXGyWWoeIPFU9vY2kk15dXThYUUk7ix6+nXmgD6A/Zm0sweF9U1N1IF1chEPqFXn9TXt1x/wAe0n+6f5Vz/gXwxF4Q8G6do6EF7eLMrD+KQ8sfzroJ/wDj1k/3T/KpJPlbx3/yHLUf9OUf/oTVzVdN47/5Dlp/15J/6E1czXu0f4cfQ+Rxn8aXqKPvV3Hwq1iHTPFLwXLhEvYfLVieN+cj/PvXD4py8EYz14I7VzZjgo47Czw8/tKxGGrOhVVRdD2fxb8Nj4j17+0ba+W1MiqJVkQt04yMVhXPw/i0PxhoS2lx50U0g3pIfn3LyTj0rkLfxh4itYBDDq90sYGApfOPz6VQbVL6W9+2SXszXP8Az1aQlvzr5bCZNm9GHsJ4hOmk0lY9atjMJOXOqet0z0f4zXJK6VaZI5kmI9egH9aPg1dH/iZ2n+5KBn8K81ur26vXV726kuGUYDSOWIHpzRaXtzYuz2dxJAzDDGNyufyrofDi/sd5fzLm7+Zh/aL+te3tp2PUvD9j9h+NerxAbQ0TyqPZ9p/qa2fEPw4s/EWuNqNzdzx7lAMaKOQB0zXjP9qX/wBsN0Lyf7QV2mXzCGI+ualOu6sw2tql1j085v8AGuGvw3j5YiNehXUZKKi/yN4Zlh/ZuE4XV7nr/jzU7LQfBMmlwSKJZYltoYQcttwASfwFM8CR/wBk/DL7Wy7T5c1wSR7HH8q8XeR5ZC8sjSMx+87ZNWRq2ora/ZlvrgQbdvl+aQuPTFaf6qyjg44ZVLvn5pN9fIX9qr23tHHpZDdJuTa6tZ3OfmSZHJz71618WLU3PhGC8UZMFwpzj+Fhj+eK8aHGMEce9XZ9W1G5g8i4vp5YjjMbykqcdOK9bG5K6+MoYilJL2fbqjko43ko1KU1fmKLfdP0r3T4jH/iyun+ubb+VeHY3cnkVcn1fUbq1W2uL24lgXBWKSUlRjpwTjiveqQ55Ra6HLQrqnCUbbo99+EOofbPh/bxM2TayNEfYZyP5155oOof2n8fDdg5WS9l2n/ZVSo/lXC2esajp8Risb24t0Y5KRSlQT68GoILq4tbkXFtNJFMpJEisQwPfkVlHD2lJ33OiWNvGEbfCeufEUZ+Mnhw/wC3B/6MrvfGXgi08Z29rFeXM0AtmLqYgOcjHOa+a59Tvrq6juLm7nlni+5LJIWZfoe1W/8AhJ9dPXV77P8A18Mah4aSUeV7GscdTvPmjfmPRfFPwh03QPC9/qcOoXMsltEXVWAwTmu08G6emsfB+x0+RzGl1aMjMv8ACCxrwOfX9Xurd4LrUruWJxhkeZirD0IzSQa9q1rAkFrqV3FEgwqJMQF+nNVKhUnG0pdSKeLo053jDS1j3vwl8NdM8GalJqi3ctxMIiitLhVRT1/kBXnXjbX7bXvitpxsZBLBazRQq6nIY78nFcPc6zqd4hS61C6mVuqvMxB/CqcbmKRXRirKQVYcFSKqGHak5TlcitjIOChTjZI9s+O2T4f0n/r6I/8AHD/hXQaWbL4gfDFbMTqvm26wyFeTFIuOcfUZr59vNX1DUI1S+vbi5VG3KJpSwB9adpms6lo8pl0q9ntXbqYnIz+Hes3hm6fLfVGix0fayk46NWPevAPw/XwM97eXd8k8sqBNyrtVEHJ6968b8f6zDr3ja/vLZt0AYRxsP4lUYzVXUfGHiDVoPJ1DV7qeI9U34B+oHWsU8rjFa0aLjJzm7sxxOKhOmqVJWRt+DNVj0Xxlp1/OdsMcoEh9AeDXuPj3wOvju0sp7S8jglgyUkK7ldGx6fTNfOeK2tN8XeINIthBpurXUEQ4CB8hR7A5x+FFak5yU4OzQYXEwpwdOpG8We5R6D/wiXwnvdLuLlJWjtpiZMbQScnAzWX8EePAdz/19yf+grXi+o67qurnOp6jdXXoJJCQPw6VHaaxqWnwmKyvrm3jLbikUpUE/QVl9XfI03ds3+vQVSLUdErG54ZufsfxUtJjx/xMWU/8CYj+tes+P9H/ALS8beD3C5UXUiuQOwAf/wBkNeArLIs/nK7CUNu3g859c+tXn8Q6xLJG8mp3jtESY2aYkqSMEg5444rSrRcpJp9DGhi4wg4yXW56f8d7w50izB7PKRn6Cj4D3n/IXsiePkmAz9R/hXk17f3mousl9czXLKNqmWQsQPbNLZ6he6dIz2NzNbu4wxicqT7cUfV/3XJfUPrv+0e1toexeErD+zvjvrkI4VrdpF+jMprd8T/Cyw8UeIn1S7v54i6KrRIB0HvXgg1jUheNdi/uBcsuwzeawcr6bs9KmfxJrcikPrF6Qeo89sfzrN4epzKSl0N442jyuMo31ue3/EnWNP8ADfw9l0W2kUTzwi2ghDZYL0LEewrM+CWt282g3GiySKJoZTIqE8sjDtXiU00szNJNK8jt1Z2yTS21zPZ3Cz2s0kMyHKyRttI/EVf1Zezcb6kPHt1lO2m1j3TSPhFHpfjaPWft/mWsMxmig2YbPYE9MDP6Vzfxu16C+1Oz0q3kWRrQGSbByFY9B+VcXJ4+8VS2/kPrl2UxjhwCfx61gO7SOzuWZmOWZjkk0UqM+dTqPYK+Lg6ThSja40feGPUV7R8QAT8L4/8Ath/KvF+mMHp71an1S+ubfyLi8nlh4xG8hI49s15maZVLHYihWjK3s3f1JwuLVCFSDXxI9StQf+FDZ/6dX/8AQzR8H70y6HfWZyTBOHA9mH+Irywajeiz+yC7mFtjHk+YduPTHSm2l/d2LMbO6mty4AbynK5+uOteRV4alVwdehKavOXMvI6oZko1YVLaRVjtPFt59s+L1uq8pbywwr+Byf51r/GUHbopPH7yXt/u15g9zO90bhpXM27eXLHdu9c1JdajeXuz7ZdS3Gz7vmSFtvuMmuhZBy1cPOMlanFp+dyPr6caikvjZ7F8VAT4BXI/5bxfyNeI1dudU1C7h8m6vp5ouDskkLDP0qnj3rvyPK55ZhnRnK7bb+858diFiqvPFdEjsPhjq8OleLgt04jju4jDvY4AbqK73xh8O18Ua1HqMV4LZtixzKyZ3gdCPfFeI1tWvjDxDZ24httYuljUYCl92B6civMzXJMVVxqx2CqKM7WdzqwuNpRoujXjdHq/j2+tfD3w9k0tH/eTQi1hQn5mXjc2PTGfzpnwy5+HEmB/y1n/AJV4xe391qFwZ7+4kuJT1eVixqS31bULW38m1vbiGLn5EkKrz14rlXCs1gVh/ae85czf+R0PM17fn5dLWRueALj7N8Q9NYfxzPH/AN9KwrpPjLbbdS024x9+F0J+hz/WvN4pZIZRLE7JKp3K4PKn1zU13qN7fBRe3U1xsyV81y2Pzr2KmUTeZ0sdGS92Nmu5xLFJYadFrd3PQ/gx/wAhLVsf88I//QjXLfEDI8d6n67xj64FYlpf3dgzNZXUsBcYYxOV3frUc08tzM01xK0sjfed2yT9TVUcpnTzOrjufSUbWCWKjLCxoW2Z7b4jU6J8IDbgbCtpHD+LYyP1NeafDq7+y+PtOOeJmaE/8CU4/UViXGraheQeTdX1xNFkHY8pK8dOCarRSSQTLLC5SRDlWU4Kn1rmweQewwlajUabqNu9u5rWx3PVhOKsoo9M+M1iUudMvQDhkeE/h8w/QmvMKtXep31+ipe3k9wqnKiWQtj6ZqrXq5Ngp4DBxw05X5epxYysq9Z1ErXCvTPgN/yP11/2DpP/AEZHXmdemfAfP/Ce3WOT/Z0nU/8ATSOu7EL91IWD/wB4h6n0NRTcv/dX/vr/AOtRXhn1xzvjn/kQNd/68Jv/AEA18o19XeOf+RA13/rwm/8AQDXyjXp4L4WeBmvxx9Aq9on/ACMemf8AX5D/AOhiqNXtE/5GPTP+vyH/ANDFd8vhZ5NP40fUngv/AJFmH/rrN/6NatTU9StNI06a/wBSnW3tbdd8sr9FHvWX4L/5FmH/AK6zf+jWrQ1zSoNb0O90y7UNDdwvC4PoRjNfOn2iOR1bX/BGpppWrX2swiO6ZorWVZCBMQ3zKeOxqz4w1vwRLptzpXi28sjbptEsU2TsLKSp46HAJ4r5jj8M+IbrwprcEjMtp4TuXfytn/LV3w+PoF3V6fF4JvPEP7P+ralqgM2saiBqanbyPLHyqPqgIx70yjd0X4ffDHR/HViLG+Y6rhbi1tXuCQcjKsOOeOetdbc+L/Auh5uvt2m2U9y0iCZI8F2U4bJA5wetfNbWnihNB8O+OYp5GnEy6bYjZyiRrtjPvk7h+Fdf4+8OS6D4h+HOkW86RXfBM7xhwJmlUlyvQ/Mc470CPYPhzr/9t/b2Gsxaksbg/ISdmfwFdxP/AMesn+4f5Vl+HdO1LT9NEWs30N/dbiTcQ2wgBHYbQTWpP/x7Sf7p/lSA+WfHQ/4nVof+nKP/ANCauarpvHH/ACGbX/rzT/0Jq5qveofw4+h8hjH+/l6iYrR0m/srCeR7/TI9QVlwqO5UIc9ePyrOpaqrTVWLhLZ9tDmjJxaaOlPiPQ/+hVtv+/70f8JDoX/Qq23/AH/euborg/suh3l/4E/8zf63U8vuR0o8Q6H/ANCrbf8Af96X/hIND/6Fa2/7/vXNUUf2XQ7y/wDAn/mL63U8vuR03/CQaH/0K1t/3/ekPiHQ/wDoVrb/AL/vXN0Uf2Xh+8v/AAJ/5h9bq+X3I6UeIdD/AOhWtv8Av89H/CQ6H/0K1t/3/eubFFH9l4fvL/wJ/wCYvrVTy+5HS/8ACQ6H/wBCta/9/wB6T/hIND/6Fa2/7/vXOClz7Uf2Xh/73/gT/wAxfW6nl9yOmg17QpbiKM+F7ZQ7qpYzvxk9a9OHhnwUQD9m031/14/xrwrNLx6V5OY8PSxLXsK8oW827/iduGzJUr88FI91/wCEa8E9rbTf+/4/+Ko/4RvwV/z7ab/3/H/xVeFfgPyo/L8q8n/VHFf9Bk/6+Z1/2xS/58o91/4RvwV/z7ad/wB/x/8AFUv/AAjfgv8A59tO/wC/w/xrwn8qOPSj/VHFf9Bk/wCvmH9sUv8Anyj3b/hG/BX/AD7ad/3/AB/8VS/8I14K/wCffTf+/wCP/iq8IxTsD0H5Uf6o4r/oMmL+2KP/AD5R7p/wjXgr/n303/v+P/iqP+Ea8Ff8+2m/9/x/8VXheB7flRge35Uv9UcV/wBBk/6+Yf2xS/58o91/4RrwV/z76b/3/H+NH/CM+Cj/AMu+m/8Af8f/ABVeE4Ht+VH+elP/AFRxX/QZMP7Ypf8APlHu3/CM+Cv+ffTv+/4/+Ko/4RnwX/z7ad/3/H/xVeE/56Ufl+VH+qOK/wCgyf8AXzD+2KX/AD5R7r/wjXgr/n303/v+P/iqX/hGvBf/AD7ad/3/AB/8VXhXHt+VGBjoPyo/1RxX/QZP+vmH9sUv+fSPdP8AhG/BX/Ptp3/f8f8AxVH/AAjfgr/n307/AL/j/wCKrwraKTb7Cj/VHFf9Bkw/tij/AM+Ue7f8I34K/wCffTv+/wCP8aD4b8Ff8+2m/wDf8f414TgelGPYUf6o4r/oMmH9sUf+fKPdh4b8Ff8APrpv/f8AH/xVB8N+Cu1rpv8A3/H/AMVXhP5flRj6flR/qjiv+gyf9fMf9sUv+fKPdf8AhGvBR622m/8Af8f/ABVL/wAIx4K/59tN/wC/4/8Aiq8IAHcD8qXj2/Kl/qjiv+gyf9fMP7Ypf8+Ue7f8Iz4K/wCfbTf+/wCP8aT/AIRjwT3ttN/7/j/4qvCuPb8qQge35Uf6pYv/AKDJ/wBfMP7Ypf8APpHu3/CM+Cf+fbTf+/4/+KrnPGdv4V0CytpbHSLG8aSQqypP90Y9jXlZA9vyoAHbArqwvDFajWVSriZSS6XepnVzWnODjGmkdJ/wkWhf9Ctbf9/mo/4SHQ/+hWtv+/71zXQ+tHFfR/2XQvvL73/meYsVUXb7kdIfEGhf9Cra/wDf96P+Eh0If8yrbf8Af965uij+y6HeX/gT/wAx/Wqnl9yOj/4SLQv+hVtv+/70h8RaFj/kVbb/AL/vXNmkp/2XQ7v73/mP61U8vuR0v/CRaFjnwpbf9/3oPiHQf+hVtv8Av+9c1SUv7Lw/eX/gT/zD61U8vuR0v/CQ6D/0Ktt/3/ek/wCEh0L/AKFS2/7/AL1zdFL+y8P/AHv/AAJ/5h9aqeX3I6T/AISLQv8AoVLX/v8AvR/wkeg/9Cnbf9/3rmqSn/ZmH7v/AMCf+Y/rVTy+5HTf8JHoP/Qp23/f96P+Ej0H/oU7X/v+9czRR/ZdDvL/AMCf+ZX1mp5fcjpv+Ej0H/oU7X/v+9J/wkehf9Cna/8Af965qin/AGXQ7y/8Cf8AmH1mp5fcjpv+Ej0H/oU7X/v+9J/wkWhf9Cna/wDf965qij+y6HeX/gT/AMw+sz8vuR0c+vaLJbyRxeGLaF2UhZBOxKn1rnKKK6aGHhh01Dr31/MyqVHU3/KwV6Z8Bv8Akfrr/sHSf+jI68zr0z4Df8j9df8AYOk/9GR08Q/3UjXB/wC8Q9T6Gooorwz645vxz/yIGu/9eE3/AKAa+Ua+rvHP/Iga7/14Tf8AoBr5Rr08F8LPAzX44+gVe0P/AJGPTP8Ar8h/9DFUauaM6xa9p8khARLqJmJ7AOMmu57M8mn8aPqXwUf+KZi/66zf+jWrfbkY/OvONF8Yro2n/YXtFnMcsuJI7uEKwMjEEZb0NaP/AAsWL/oGn/wMg/8Aiq8Hkl2PsVUhbc6kaPp4hu4vscOy8YvcrsGJWIAJb14FWIraGG2WCOJVhRdioBwF6YxXHf8ACxYv+gcf/AyD/wCKo/4WNGP+Yaf/AAMg/wDiqOSXYPaR7nTDQtMWxgslsYBa27Boodg2oQcggduadeaJpuoXVvdXtjBcXFscwySIC0ZznIPbpXL/APCx4v8AoGn/AMDIf/iqP+Fjxf8AQNP/AIGQ/wDxVLkl2D2ke5244FRzn/RpP90/yrjf+FjRf9A4/wDgZB/8VTJfiHHJEy/2cfmBH/H3D/8AFUckuwe0h3PDvHH/ACGrX/ryT/0J65vtXR+NyP7atxujZks4w4jcMFOWJGRx3rnK9yin7ON+x8limnWk13CiinAVucoYpaKKBBRRRigQUtIKUUCCloooEFLQKKADFAooxTEFFOpKAuGKKKKACilApdtAhtGKdiigBuKMU7FGKAG4oxTsUYoAbijFOooAbRTsUmKAEoxS4pKADFJS0Uh3EpMU7FJigBMUUtFACYpMUuKMUDEpMU40lAxKKKKBiUhFOooAbSGnEU2kMSiiihDExQaWg0WAbRS0lIpMKKKKLjCiiii4BRRRQ2AV6Z8Bv+R+uv8AsHSf+jI68zr0z4Df8j9df9g6T/0ZHWFf+FI6sH/vEPU+hqKKK8M+uOb8c/8AIga7/wBeE3/oBr5Rr6u8c/8AIga7/wBeE3/oBr5Rr08F8LPAzX44+gUUUV6CbR44YB7UbR6UUUaCuG0elJtHoKWijTsFxNo9BS7RjoPyoxS09BcwBB3Apdo9KKXFGgriY9BilopwoE2wApaKKYgooooEFLRS0CAUUUuPWgQlLSZHqPzpeD3FA7MMUoFKCPUfnVi0t47mRhLKVCrkKi72c5wFUCgSi2VqKs39mbC/ltmcSGM4LDj9Ox9qWwsZdQuhBBtD7WYl22qAoyST7Ci6Dld7FWlxWqNElP8Ay+WH/gQKsXPhbULO3imuXtY4ZkDxyeblWU9DkcVPPHuV7OfYw8CjFaJ0eUxyNHc2kpjQuUjmBbA68VQIqk09iGmtxopcUtFMQmKMUtFAgooopgFFFFIBKMUtFACUYpaKBiUhFOpDQA2jFPCbs4BOOuBnFNPsQR6ikOzG0UtJigQUlLRTASilNJQMTFIadU0VncXEZkhhd0BwSB/nNSNJlekqaKCWeTZFGzt6AVLJp88cZcqGUDLbGDbfrii6K5WVMUUuKSmAUhFLRSAZSU8im0xiUUUUDExSU40lIBKKKKQwooopFBRRRQAV6Z8Bv+R+uv8AsHSf+jI68zr0z4Df8j9df9g6T/0ZHWNf+FI6sH/vEPU+hqKKK8M+uOb8c/8AIga7/wBeE3/oBr5Rr6u8c/8AIga7/wBeE3/oBr5Rr08F8LPAzX44+gUUUV3njBRRRQAUCgUtBIUtFFUIKWjFFADlooxS0xBRRRQIKWjGacAPWgQlGKMUtAg6VpaPqsWmPK01jFeBwABIcbf0NZw5qzaW0VwzCW5S3A5BYdaTSa1Ki2nob3/CW2v/AEAbT81/+Io/4S217aDafmP/AIis9NItnzjVbcc9wRSy6TBaKss92xjyMPFFuGevXOKz5YnRz1DVk8RJFGJJfDUKRt912AAP/jlW9Ku7zXt6aXogiRc7pI7sW6rgZPzbR25/w61jSyXF5pk8Om2t5cxSSiSedwWJYdAFHA610Kz3Oh+HbFLGwklu7i3BhkSIkwr1ckYwdxOMHsKiVrWNYXbvLYwJdJsrm++y2pkiuXYqrJOt1CzdcFwAR9aq6ENmpTqeotLgH/v2aqyNd2czhvPtnkzuUgx59selWtBB/tCbj/lzuP8A0Wa115dzn0ctjo4tIt2tUI0q3OIgYMqcznyt3PPzfN24rf0hf3kOmXFtGNNuN8V2hG4Qfu0YKuT8vzsfxPtWPESbWIKIfmhAtP3Q4byee397171dsrmO1vY7ibyRDEXN4ViH3xCm09OzZNcstTug1F3MG+soLO8nSC0jtdsd5GoXILIq/KTknmuUIz+NdjqNnqFqkb6sRJPNbXTrKAP3iFeDxWDoFzFa61A89pFdDdtCS/dznrjvWjqOnTc4q9umxyVYqU7bIy/T86Ks38sdxfzSxQrbo7kiJDwv0qvit6cuaCla1zkmkpNITFFLRWhAmKMUtFACYopaKAEwaKWigQ2lOAOv/wBelxXTeHNPtn0y6vljjuLy3cMInJO1ByTt7n0J49amUlFXNYR55WMqHRW+zrc6hcxWED8oZQWeT/dQDJHucCrYs9FtZsRPdas6ReaVEYgjA6sW5LfL3Ax9a0zYLcx3U97I0JubYmSS5G50bzP3YwOQxX+EVWuIojaJciW5kxeeWTer5Szl0O88c4AVc/UVjzcx18iirnR6Q5nt2bQbuO4MYAeG3iWF489hG/yqB3kYsfQVzHiW3tLmBdSszapL5vk3MNqzFAcZUgsBlsZDYGMgHiqguBDGk1wJPmCyljKQ8xGRwR0AIB59K1Imlv4d91pP29niV1vWt2UltuWB2kbueA341KTi7lOSqR5TlEikkcLGjOxPAUZNNIr0PVQml6ZiztvsJkgUsI0dQjEDOWUZ4znk9q5HxKMeKdTBGD9obr39/wAev41rGfM7GFWlyK9zIxQRinUhFaHONq5DYFrdbm4lEMDHarAbmJ9lFVKu22oeXavazgtC/GQeV/xHtUu/QqNr6iG6ggI+xW4z182cb2P4dB+tQzXk85UvKfkGF2jaB+AqX7JA5/c3ceCeBKpQj69qUaYwLCWaOJlwXDZO0Hvkdun50XRp73QjGpXZP7yZpF6lXG4Nxjkd+laLavFeIm9YLGZcAyLEXR16bcdVGOwyD3xWeLSPj/TYOcZHzccZ9P8AOatRWccEZaUQSMCSZGmBQAegHLHkflSaRacluVh9it0UgNdy4HLApGD/ADP6A1JdSmXSY5JljzJKREERQI1GcjI5GSeh6gZqI3duxxNZRYHGYiVOOlOe4tV06aGLzt0jKyo/RCCcnP04/GkwM80Up5pKsyCkNLSUhjaMUpFJTGIaMUtJSATFJTsU3FIYUUUUigooooAK9M+A3/I/XX/YOk/9GR15nXpnwG/5H66/7B0n/oyOsa/8KR1YP/eIep9DUUUV4Z9cc345/wCRA13/AK8Jv/QDXyjX1d45/wCRA13/AK8Jv/QDXyjXp4L4WeBmvxx9AooorvPGCiiigQtWbbTry7Uta2s0yg4LRxlgD+FRQQvcTJDENzyMFUDuTwK+g/DGir4e8P29inEgXdKw/ic9ayq1VTRvRouoeDSaTqEELSz2NzGi/eZoiAPxqpj5q948eknwPqX/AFzH8xXhCjJAHJPQevtRRqOpFthWpKnJRQBckAdT0FXI9I1GRN0dhcsvqIW/wr1/wb4KtNC0+O4vYUm1GRQzs4yI/wDZArX1DxVouk3YtL/UY4ZscpgnZnpnHT8ayliXe0UaRwqteTPApYJbdts8Txn0dSDUZr6Mu7DT9bsdt1FFdQTLlWIByPUHrXiHi3w83hvXHtMs1u6+ZA5/iXJ4/DpWtKup6dTOth3T95PQxERpJAsalmPQKMmrbaTqKxhzY3AX1MTf4V7D4E8O22k+H7acwo15dIHeQj5hnoAewqxp/jfTNS8RS6PB53nIzRrIw+WQr1A/XrWcsQ7tRRpHCqy5nueGFSpweCOoNJzXqXxP8PWw01NZtYVjmjkCTbRjep4BI9Qf515fjGc9PWt6dRVI3RyVabpTsXdL0i+1m7NrpsDTyhd5AIGF9ST061Jq+gajobRjVIPIMuSgLgk4+lepeANDXQvDbX16Nk90vmyM38EYGQPy5rzTxPrb+INenvDkRZ2Qrnog6fn1qY1HObS2LqUo06ab3MfpSijFKK3OQOlXE1CRdPltVhiHnBQ8gHzEKcgen44zVM1pS6fAujw30N1uctskhYYKtnt6jFGhSvbQ7T4a3enz276ffWqy3EUheOYtjyUYfM+OnBArpNV1GXXo0so5hayRBmhkuUDRzICQwZcc47lSCMg8159pZ/szwHqN+uVnvZktYm9EHzMfxq7fa0niLRLRbLcms2rbvLAdncd/KK9B6g/nXDKF5OR69Kso01Bmld6ha6PY+RrugGeMhkWWG5eS0mbqNu7kHtweK5TTpLSXW7hrCCS3tzaTlYpJBIU/dHI3YGRTZ/FOr3Gmtp11Mk1vk5SSFcq3qOODTtKsZ7PUnFzGY99ncbehz+7ORx3HcVvGHKtTknVU5LlOniS4NrFtmmH2qELb/u5P3REOMnjj8M8VM4mVGklluPKtRIlyojkzKTDGM9MHkH73SsNNf0wQFWa7zNEEkOwYTEWz5eeefpT38RaZtVgbvdArpGCoxJmJEyeeOVqHGXY1VWNtzTvtKnuIbiVr5Hm8u5aG3lDrI6OuAF3DnHcDpXFIr6dqwW8jeN7eXEiEfMpHUV01trVs2pCaxEsjQx3dywuEAGSmccH2rnNX1J9X1We+mhjhlmO51jzjPc8+tXBN3i9jCtKPKprcpvy5I7kmm0UV0JWSRwyld3CiijFMkKKMUuKB3EopcUYoC4lFFFAgp8M0tvKstvK0Ui9HQ4I/GmUUik2ndG6PE014scGvILyESBvOX5Joz03BhwxHowPSrOpadCYYGvtRvlWT5be7nIlt5eASVwdyg5GeDg8HkVzNPaeQwpCzsY4ySiE8KT1wPeocP5TdVnb3tTtdP06ws7NZFslmmVSTcySCZcjnfD/yzPTlGAPoaqeJBCdNTVWndry8dfJ8qVhGVH3nVD8yem05A/hJ7cxa3tzZvutJ5ISeuxsbvqO9JcXU93MZbqV5pD1d2ycVHs3zXuaOvFQslqasPie4ZDHqSG8UrtMqytFNtxjG9evH94Gsy/umvbySd93zYA3HJCgAAE8Z4A5xRYWqX2oQ20lxHapI20zS/dT3NdMdBgs5WWHTbmfyoDLLdXyYiTHYKvDdsHPeqbjAlKVVas5qw0+e/dhAFVIxulmkbaka+rE9P60alZrp955CXUV0NiuJIwQDuGcYPNbn9rwsqJLeyWTpnNubJDGG7/Lnkj1PIpPtttIf3mp6ZJ7SaaQf0qeZt3LdOCVr6nM4/CjFdVD/AGXPJsBsJ5f7sFlMT7cA1PeaEsaQl9Pt44XyWLs1uxwOg3En68cU/apC+rytc45ImkcIil2PRVGSfwFWJLm7ghaymBQDja6AMnOcAnkc816Haw2GnaPbz28NtBI8DtvguCyPKGO1TLgjkAZGRXnF7dzX15Lc3Tl5pGJY570oz55DqU/ZohI6YHNJnrU9pGJbyCMjIaVVI9cmvcf+EO8PgDOlW54GTjrSq1Y09x0aMqq0Z4MaMivev+EP8Pf9Aq3/ACpP+EO8PD/mE2/5Vk8XHsb/AFKfc8FPFJXTeP7C107xXLbWECQQiJCI06ZxV3wN4LHiBmvr/cthEdoC8GVu4z6Dua29olHmZzeyk58iOLHJwOtJx3/KvoWPSND0q3BWzs7eIcb5FUD8SaSfQtE1S3+ewtJo35Vo1HP0IrD60ux1/U/M+fMUhFdh458Gjw3Ol1YlmsLhiF3HJjb0J9MVP8O/CltrtxPeaknmWluQqpnh3PPPtW/tI8vMcyoy5+Q4fGRx+NNGD0OfpXvl9eeGNCngs7xLO2kmA2R+QDx0ycDge5rP8W+CdN1TSZ7ixtY7e8hjMiNEoAfAztIFYrEJtXR0PCtJ2ex4nQFLHABJ7Ad6UjFdl8NvD39ra/8AbbhN1rYkPgjh37D8OtdE5KK5mc0IuUrI5ebSNQt4WlnsriONerPEQB+NUq9Q+K/iMr5eg20npLc4PT+6v9a8vqacnON2i6kYwlZBRRRVGYV6Z8Bv+R+uv+wdJ/6MjrzOvTPgN/yP11/2DpP/AEZHWNf+FI6sH/vEPU+hqKKK8M+uOb8c/wDIga7/ANeE3/oBr5Rr6u8c/wDIga7/ANeE3/oBr5Rr08F8LPAzX44+gUUUV3nihSijFTWlpNfXcVrarummcJGPcmjQEr6Hc/C3w99t1STV7hMwWh2xZ6NIR/QfrXqhvoRqgsN2ZzCZivoucfzqppWn2vhnw5FaqwWG1iLSSHuerMfxzXF+BtZfXviDq1++QslviNT/AAoHGBXnSvUbl0R60LUUordnT+PP+RH1L/rmP515L4IsV1HxppkEi7k83zGB9FBb+letePf+RH1L/rmP515v8Lk3eOITjO2CVv0xWtB/uZGOISdaJ7SWwCx6Dnn86+dNWunvdZu7mU7mlmZiTz3r6HuSVtJiD0jb+Rr5vm/1zH1Y0YRatixraSSPaPhrctc+C4Vc5MErxjPp1H86yvi1ZrJpenXYHzRzGMn2Iz/MVa+FWT4VmHb7S2PyFTfFBd3g7PdblCP1rJe7XsjV64e7On01dulWgTGPITH5V414OLf8LBsmPU3Dk/jmvWPCmoR6n4XsZ4mDFYgjgdmHBFc3ongK50zxo2qSTxNZpI8kKjO47s4BGOMZpwkoc6kKpGVTlcTX+IIB8CahntsP5MK8y8FeHzrviKJJFJtrc+bMexx0H4mvQPidqEdt4VFnnMt5KoVB1Kqck/yFWPCelxeE/CJub7Cyunn3DHtxwv5frVQk4UbLqROKqVrvZGb8TPEAsdJTR7VgJbsAy7T92IHp+P8ALNeUZrR1rU5tb1q4vZctJM+VUDO1ew/KqLRSRj95G6e7KQK7KUVCJwV5yqS20QynUgHHqPWtXT7SzbS7i8vIrmXy5UjCwMF6gnJ4PpWt0lcwjFydkZePeprW1nvJvKtYmlk2lgqjnAGT+QrQA0n/AKB+o/8Af0f/ABNPjl02CTfDZapG2MblmwQD1/hqXJW0NFCzNDVo3HgrQLWFSxl82fCjOck81P4e1Oz0rSGihht7u9uxiWOWRoztz90OMbT34PJqN/EVq8dkiWF7ELOEwRlZOqnGSfl68VlsdJckmw1Ak9f3o5/8drJK6szdtKSaOg1m1sdR0C41R/NWWJdqGddtwGyPlZh8sq/7RG73NYml3lxfajI1zK0hWyuAOgH+rOTx3Pc9T3qxcarY3NjDaSWWoeXF/wBNuW9M/L2qtDd6fZmWS1sL4StC8a+Y+VG9SuSNvvThHlViajvK6MYDAH0op3lSf885P++DSiKT/nnJ/wB8Gt76anG07l/Rf+Pq5wP+XG4/9Fms/bj6Vd02f7FdF57aaSN4pInVQVOGUjrj3q9b2mmXrSxQ219E6wvIrSOCPlBPIwPSoulK5pytxsYeMUUoANGBV9DASlpQPSjBFOz6iEoxS4JowaAG4oxTuR2zRQMbijFPxSEUCG0mKdRQMbiinUlAhKKXFJQMKs2N/cafcRzW0hBjOQhOVOeoK9CD3qtRjHU/rUySe5cZST0N3UPFU13Mhjs7RY0jVNk8CTMcersNx9OT0FS2Wt6f5EjTW0NpcBScR2iSRTNjjhgdnvjg+1YkNldXMJlggkkQNjKjOT6Dufw6UyG2nuJPLgjd29AOB9fT86XLGxv7Sd+51WneMrSxsGiFtcRAtu+ywOFjVv4sN97YwPKHODggjFZWpeLL++he3hWOztpPvpCMtIMY+dz8zHHB5571nPYTrCZB5ciqMsYnDleM8gdh69PeqgqVTgnccq1S1mWbS/u9Pm82yuZIHP3th4b2I6H8aryu0sjSPyzHJIAH8qOoPPA60hq9FqYty6l3Qo/N8QWEf964QfrXvuoTG30+6nVsGKB3B9MAn+leGeEohL4u01P+m4P5c17hqlq1/pV3aRvsa4iaMPjO3IIz+tcGKfvpHq4NPkdjxU+OvE+Af7ZnGf8AZT/Ck/4TvxR/0Grj8k/wr1PT/Aeg2FsqiwW4YAZlm+Yt/Sk1LwHoWowMgs1tpCPllhGCD24701Xp7NCdCta6keL6hqN5q12brUJ2uJyApdgASB0HFe8+H7BNM8O2NomP3UC7vdiMsfzrxLVNFuNE8QjTrr5iJU2uBw6kjBr31RtQKOwpYppxSRWDi+aTe55N8U9Rkm1+Kx3HyreINtzwWbv9atfCW/l+132nsxMRjEqqTwCDg/zH5VhfEZi3ja6z/CiD9Ku/Ctv+KskHY2z/ANKtxXsDGM39YPQvG9kuoeC9TjIyyQmVDjoy8/0NZPwrVV8IuwH37lz+gxXV6kgl0m8Q87reQY/4Ca4v4SXayeHrq0yPMhm3lfYjGfzFcsW3SaR3St7ZM5T4oOz+NJVbkJDGBn6Zr1+wJl0i2Z+S9upYnvla8/8AH3hDVdY8TQ3emW/nQzRrG7bgPLI7n2rv5JE0zR2dz+7trc5Psq1c5JwikRTUoyk3sfO0sDS6lJBAu5mlKIo7nPFe26fBbeBPBG6fBaGPzJcdZJD2/PiuM+Gfh86lrEuuXS5gtnIhyPvSnnP4D9TS/FHxD9r1GPR7Z8xW53zEdC57fhWs/wB5NU+nUwhaEXU69DhL68m1C+nvLpt0s7l3P1qrTtw6Z5+tJ2rrskkjjd3diUUUUwCvTPgN/wAj9df9g6T/ANGR15nXpnwG/wCR+uv+wdJ/6MjrCv8AwpHVg/8AeIep9DUUUV4Z9cc345/5EDXf+vCb/wBANfKNfV3jn/kQNd/68Jv/AEA18o16eC+Fnz+bfHH0Ciiiu88UWvSfhToIluZdbnAxCfLgzzhu5/Lj8a827V7J8LJoo/CLCSWND9ofhnAPasa7ahodOGSc9Q+JmpXMWkJpdhFNI93zK0ak7UB6ZHqf5Vg/Cm0ubfxBetPbyxqbXguhXJ3DpXqP2iA/8t4f+/i/405ZYnOI5I3PorA/yriVRxp8tjudPmqc1zD8cxSTeC9RjiRpHaPhVGT1FeefDOCW38bolxFJEzW0pAdSCRgetewsVVcsQo7kkCuK1G7jj+LujFJEYSWbxkqc9d3FVSk1BwQq0Vzxkdldf8ek3/XJ/wCRr5uk/wBc31NfSci+ZC6d2Uj9K+cLlDHdzIequVI+hrbBvcwx3Q9b+FPHhWbP/Py38hUvxQOPBpHrcRj+dL8MITH4NR248ydyPpVX4r3Aj8P2kGRuluc49lXOf1FZLWvoay0w55zo/iLUtCdm0y5Mat9+Mjcj/UGt5vid4gZMA2gY/wAQh5rjcU+ON5ZUjiUs7EBVHc16EqcHq0eXGrOOkWdv4PtLzxd4q/tPWZWuYrPDtvHys2cqgHQDPOK2fiRrLTzW3h+zfMs7qZiPc/KP61vaXaW3gnwWz3XWGMzTEdXkP8P54Ary7SbyXVvHVrd3bbpZ7sO3oOeg9q5Yrnm5dEdsn7OmodXueuaRomm+GdJPlwxp5Me+edlBZsckk9fwpNI8Q6T4pjmjs/3wi+/HNGOQehweopfF7FfB2rMvUWzYx7kCuC+FBI168A6G3H86wjHng53OicuScaaWhU+IXh230PVYLiwQR214DiMdEcdcexz0rmLXUbyx3fYbue2343eVIV3fXFek/Flc6PpzdxO2Pb5a8v2kDJU49cV3UJc1NNnnYiHJVfKaH/CQ6z/0Fr7/AMCG/wAaB4g1n/oL33/gQ3+NUNhHLKwHrihUcsFVWJPRQOTW2lrnPeV7Gj/wkGs/9Be+/wDAhv8AGk/4SDWP+gtff+BDf41R8t9xGxsr1BXpTaenQTc47mj/AMJBrP8A0Fr7/wACG/xoHiDWO2r3v/f9v8azqWiyI9pLuaP/AAkGsf8AQWvf+/7f40f8JBrP/QWvf/Ahv8azwKXHtRZBzy7mj/b+sEf8ha9/7/t/jTJda1WaJo5tTu5EcYZWmYhh781RAq3Hp1zJH5pQQxH/AJazMI1/DPX8M1LlCO7Bc7Kn1rS0jQr7XLhoNMh810AZssBgfjUXlafDxLcyXLekCbF/76br+VXNO8Qz6NM8uixR2kjpsLkmRiPx4/SuPEVK86T+qr3ul9jelCCmnVenkdDa/CrWJRunubWAdwCWP6VoL8KIYv8Aj81lV/3YwP5muNu/FGt3uftGqXLZ7BtoH5YrOeeeXmWaVz/tOT/Wvn/7Pz2t/ExKj5JHofWcvh8NNv1Z6Ovw78NxcXGutnv+8QUf8IN4P/6Drj/t4j/wrzQjPX+dJtHcCn/YeYPV42X4C/tHDLT2CPTD8O/DkvFvrrZ9PMQ1G/woik/489ZVv95Af5GvOOR06U+O4mi/1U8iH/Zcij+x81hrTxj+aTBY7By+Kivk2dndfCvWYQWt57WcegJU/rWFe+D9esAWn02YoP4oxvH6VHa+J9cs/wDj31S4A9GfcPyNbtl8T9ctsC7W3u1H95NrfmKLcR4fVOFRfcx3y2r/ADR/E4x0eKQpIjIwOCrDBFNNeoR+PvDetIItf0ow56sUEq/mBkflRJ4F8M6/CZvDmorEx5Co+9fxU8inHiOVB8uPoSpvvuvvJllkKmuHqKXlszy+kxXS6x4E1zRtzvb/AGqAf8trb5sfVeornDx9R19q+hwuNw+LjzUJpo82rh6tF2mrDMUU7jvSV2GBbh08/ZVurmQRQMcAhdxJ5xx+Heg3cUAH2O3Vf+mkwDv+XQd6W3v2jtntpVLxMCPlbay57A9x7etNNrayMPJv4xzwJ0ZCOcckZHTnr3qeupv00IZrma4ZWlkJMYwmONo9gOlPOo3bYEkzSr/cl+ZT9QetTDTMFlnuI4ZIwC6OjkqpONxKqRjoevcd6iNrb7f+Qhb5xyNsnH/jtGge8X5NXS9jTzUhtJ14MqRFlZf7uP4VA/hHBqhus7blVa6fqC/yoD9Op+nAq1HaRW8e5zbSckmd5lZMA4+VAcsTkdR1BxVX7ZG/E9nC46ZQGM49eO/H61Jbbt7xJdSvLpaSTBCzTERiOMARKOoBHIyT0PYVn1dee1FjLDCsymQqwVyCqkE8g+uOOlUqpLQiTVzU8Najb6R4itL67VjFAxJCDJ6Yr0Z/ilooiYxwXJcKSoKDGe1ec6BoM/iLU/sNrLHC+xnLSAkYH05robn4XalbWk9w9/aMsUbSFVVskAZwOK56qpOXvHXRlXjC8NjmZ/EOrz37XrajcrOzbsrIQB7AdhXtnhnUn1fw3Z3s3+slj+cjuw4P8q8BU5APsM17f8P1K+BtPBXBw5x/wM1lioRUNDXBzk6juzn/AIm2ijUtFvQPnMwjY+o3AivQ64D4qzCG00snqtwXH0GK72J/NgjcdGQMPx5rmqa04ndTsqskeKfEX/kdrv8A3U/lV34V/wDI3P8A9ez/ANKq/EePZ40uTj70aN+lX/hRGX8S3MnZLY5P1IFdja9h8jz4p/WD1a9O3T7lj0WGQ/kpr590TXL3Qb1bzTpMNtAZWGVcehHeveNenFr4b1KYnAjtZDn/AICa+dwMKB0wKywqTizbGScWrHpEfxem2fvtJjMncpKcH8xWRq/jTWfGEkWk2sKW0Vw4Qxxkln57n0rjsZxivSvhZ4e3PJrlynC5itwe/wDeb+lazhTpx5ramVOpUqvlvodVdzWvgXwOBHg/Zo9sQ/56ynv7881y3gfwZa6xZtrniBTdPcyF0iYnaeeWPrmsb4l+Iv7W1z7Bbtm1sCV46PJ/Efw+7+Br1HwrEIvCuloAAPIQ4+vNc0rwp83WR1R5Z1OXoikbHwgdQOk/ZNLN2BzB5S7umfz9q434geBrLTtNOq6NGYERgJ4AcqATgMPTntXOQ3Lt8TRcAkOdSPOf9vFeu+MYxJ4L1dT0+zMfywR/Kq96nKNmF41YSdtj57PtRR1x9KK72eZsFemfAb/kfrr/ALB0n/oyOvM69M+A3/I/XX/YOk/9GR1hX/hSOvB/7xD1PoaiiivDPrjm/HP/ACIGu/8AXhN/6Aa+Ua+rvHP/ACIGu/8AXhN/6Aa+Ua9PBfCz5/Nvjj6BSjrSUtegjxBaB1opaY15C133wk48R3v/AF6j/wBDFcCMd60dG13UNAunuNLmEUkibGJUNkZzWdSClFpGlKbjO7PZ/Hg/4ofUv+uY/mK8RsLx9O1C3vIf9ZBIsi+5B/yK2L7xxrmp6fJZ3t2rwSrh18pRkfgKwDgHpxWVGlyQaka16ynNOPQ+jdM1K31fT4b2zcPFKMjH8J9D9K4vWvhhDqOsS3lrfG3jnbe8ZTOCeuDXnOjeIdT0NydMu2hVj8yHlW+oPFdGnxV18Lgx2TnuxhP+NZujUhJ8jNvrFOcUprY9V03T4NI0uCytuIbdMZY/mT/OvIviF4gj1zX1jtW3WtmpjRv77E/M307fhVLVvG+u61EYbm78qFvvRQLsB/x/GsCtKFFxlzS3MsRiFJckQruvhn4f+36q+qXCZgs2/dgjhpP/AKw5rhq7zR/iLBomgxafZ6OwMSH9404O5z1YjHrWtVTceWKMMPyqd5EvxP1/7TeR6Pbv+7gO+fH8T44H4f1ri9JuhZaxaXJOBHMrH6ZqC4nkuriSaZi8kjFmY9yaYORmqpw5YcpFSo5T5z6E1K2TWNDubaJwVu4GVWzxyODXLeA/CN74euru51Ly90iiNAjZ4zkmuF0jxtrei2y21tcLLAv3Y5137R6A9q0Jvidr0ke2MWkJ/vJDyPzNcaw9RJxjsd31ijJqct0a3xXvkdtO09WBkTfM6+meBn9am8PTyN4VsNPfabW40+9eWNkBDMoyD65FedXV5Pf3MlxeStNNIcs7nJP41u2PjGew0MWENhamVIpIY7uQsZFST72B0rWVGSgoxMoV4upKctDa+IFxMbKyt/7UieAQW7fYAnzRHyh8xOOfzq3GfJ+IGpzxgJLBojyRMByjiEYYe9cprXiKPW7aJZdKtYLlEjjN2jMXdUXaAQeOlaDeON18l3/Y1kspgNvOwZ83EZXaVbnjjnIqfZT5Ei/bU3NtvsdZc3NzdWTRaXOsOuXml2l20hQbrlfLO9eR1PWvKWzvOeueciupXxu4vjdpo9iJ44VgtH3MTaoq7QAe/B71yzEuxZuSTkmtaEZRWpz4upCfwiUtKBxVu2sWlj86V1gtwcGaTOPoo/iPt+dbznGCvJnDGLlsVlUlsKCSTwAOTVz7CIcHUJRAOojX5nP4dvxoN8kClNNRogeDM+PMb/4kew/OqZO5iTkt6k5zWKdSeuy/Ev3IvuXftyQfLY26xEf8tHG9z/QVVmmknlMkztI56s5yafaWVxeziG0gluJG6JGuTW8PC0NgBJ4l1OGwGOLeLEsx/wCAjgVz1K+Gw7s/i8tWbRp1Ku234HN9OvT3qza6feXrYtLWac/9M4ya2/7a0TTeNG0Rbhx0uNRbcfqEHAqvc+LNaul2fbXhix/q7ceWo/AVn9Zxdb+HTsv7zt+A/Y0IfHP7h8fgzWSoNxHDaL1JuJlTj6U4eGbSLm98QWEZ9Iyz/wAqwpJpJWJlkeQnqWYmo6Pq+Nmrzq29F/mHtqEdofezof7J8Ox8S+IHb/ctif50f2f4W/6Dd3/4Cf8A165+jmn9RrN29vL8P8hfWYfyL8ToP7K8OvxH4gdf+ulsRSjwzaTf8eXiCwkPZZCU/nXPUUfU8SvhrP5pP/IPrFJ/FBfeb8ng3WAu63SG7X1tplf9KybrTruyYi8tZoCP76ECoY5ZIm3QyMh9VJH8jWva+LNatFCrfNNHjHl3AEi/kQaXLmFPrGa+5/qO+Gn3Rig06KV4ZhLBI8ci9HQ7W/MV0Q1rQ9SJGs6IIJD/AMvGntsIPqUPBpD4Wh1BS/hrU4b/ALm3k/dTj8DwfwqZY2DXLiqbj6q6GsPLejK/5lzRviRrGnbUvSL6Ef3zhwP94V0Ybwh46GGAstQI64COT/Jv515pdWdzZTNDewPBIp5SRSpqAH5gVyCOmK8zEZBhK79thJezl3i9Pmtjrp5jWp/u665l2Z0/iHwFqmibpYV+12o/5aRj5lHutcrgjrXX6B8QdT0lfIvD9ttcFR5nLp6YPcD0Nc9fQSMz3gkW5ilcsZ4xgZPOGB5U+36115bUx9OTo4+3lJdfUxxccPNc+H67rsUDR09qU0le8zzUT/bZxam2LBosYAKglRnOAe2TiqxpxptLQq4mOaU0UGmO4hpKdTaQ7G/4K1RNJ8V2s87BYnJicntu4H617cyrLEyMNyOuD6EGvnKur0T4hato8CwSiO+gXhVmOGUegb0rjr0XN80T0MLiFTXJLY1Z/hVdHUm+z3sQsy2QzA71U9sV6Rp9lFp2nwWduCIoUCKPXH+f1rz/AP4W0pXnRju/6+eP/QayNW+JerahbvDZxxWEbDDNHl5D+Jxj8BWMqdaorSOiNWhTvybsPiZq8eoa9HaQSB47NCrEdN56/lXfeCNYj1jwtancDPbqIZl7ggYBP1FeHElmJZiSeuTnJrQ0bXL/AEC8+1abN5bEYZWGVcehFdE6N6aSOaGJ5arlLqel+OfBVz4guob7TGjE6psdJDgMOxq54G8Jy+GrW4kvXR7q4IBCHIVR0GfWudt/i3MIwLvSEdx1MUxUfqDUN78WbuSMrYaXDA56PLIXx+GAKw9nW5eRnV7TD8/Otzd+J2tJZeHTpsbj7ReHDKOoQck/mMV48atX9/danePd38zTTyH5mb+VVa6qVPkjY4a9X2srlzSNMm1jVbewthmSdwuf7o7k/QV7F4j1G38G+DlgscI6x+RbL33Y5b+tcF4D17QvDr3F3qhuGvJB5cYih3BE6k5z1P8ASqPjbxMviXWhJbeYLOBdsKuME56kj1rOcXOprsjanKNKk5LdnNtlixY5YnJJ71754Lu1u/B2myIQdsWxsdiOK8DrofDHjTUfDG+OBUuLZ23NDIcAH1B7GqrU3UhoLD1VCTcupvx+DdUHxLMptGFn9sM4n/h2Zz19a7jx1dJa+CdTdzjzIvKX3LHH+NcmPjD8nGiHdj/n54z/AN81yPifxnqPicolyqW9tGdyQREkZ9ST1NYKnUnJOR0upThCSg9znT6GmmlpDXazzuoV6Z8Bv+R+uv8AsHSf+jI68zr0z4Df8j9df9g6T/0ZHWFf+FI7MH/vEPU+hqKKK8M+uOb8c/8AIga7/wBeE3/oBr5Rr6u8c/8AIga7/wBeE3/oBr5Rr08F8LPn82+OPoApaBRXoo8QWup+HOnWmreOrGy1CBbi3lD7o26HCkiuWrs/hOP+Lk6b/wBtP/QDWVX4Gb4dJ1UmWtE0fTbnwn4suZbWOSazukS3k7xgsRgflW//AMIxo3/C5rHSv7Pi+wyWe94OdpbZnP51bPiGHXPAviryNHtdN+zXCIxt/wDlr8/3m4HPH61az/xf3TT/ANOA/H93XFzybb/roew6cFFJeX5mHBD4f0bw1b3d94fhv2udXuLTJYhlQSMBj1wOKLLwfpMPxfm06WDfpVvbNdPHISQqlBwfYE1qWOoaRY+GtNOtaWuoRy+ILlYmLYELeY3z471PY6TeTeKfHUkl7GsxthbQ3E+FVA4yucdAOBWcZtJ6lSpxlJWV7GHF4P0tvjBd2EkCnTIoDdxwA8MoXOPpXL+I9Z0zXDBBpugwabOsxBkib769ACPWvVjYNbeO9OumdJfN0KWJ5IzlWZABkGvIvClj/aPjrTLUjcr3ilh2wDuP8q3pyuuZ9EcteHKlCK3Z1/xN8L6Xo2haXPpNvHFIkn2e6KZ+ZtoPNa2veCdJtfE3hSW1sI1s7xvJuYhna7bdwz+tWPG2kzS+CvEck13b3O2/W6jWF9zRrwu1vQ1vWrjU/FEmlzNhrOG0v4Ae3BVv8+9Ye0lyJ+p1ewh7Rq3Y4iSPw54d8Ipf33h+G+klv5oAWcrtUE4qtoMGijw5rvi+TRI7pY7kRwWLN8kCkA8/99fpWxda/B4f8CRzXOk2upiTU50Ed10X5ic9DXLeFPGqWHiW8+1Wca6Rq8mLizUZWPceNvrjPpWqUnBtXOebhGpFd0c3rd5ZahqstxptiLC3fGIA2dpxzV/Ur/w9Npmnx2WlzR3MUeLh/MxvbH6807xtoEfhvxVPZWz7rdlEsPchG5AP0rn63lh4V+SV3p5nlTnKlKUdNS2JrD/nzl/7/f8A1qXzbD/nzl/7/f8A1qp0Vt7CPd/eYe0fYuebYdrOX/v9/wDWp8ttFNbfabINtT/WxMcmM+vuKoc1PbXMlpOs0WNw4KsMqw7gjuD6VMqTirwb+8OdP4iMYz0P+FHHpVy6tYmhF5ZZ+zscNGT80LY+6fUeh7/WqYraE1KNzOUWmLn0pwHf8qEjLuFQFmY4AA61ob00kERkPfY5k6rB/u+r+/bt61M6lnyxV2+g4Q5tXsJ9nisFDXyh5zytt/d93/wqtcXEt3IHmbJUYUAcKPQDsKjYlmLMcknJJPX8a0tH0G61h2ddsFrFzNczHEcY9z3PtWE5U6Efa1WXFSqPlgZ0UUk8ywwI0kjnCooySa6NfD9loyCXxPdGOXGVsICDKfTcei0suu2miQtZ+FlZXYbZdSkA82T/AHB/CP1rnHkd3Z3YszHJJOST61x3xONWnuQ/8mf+Rt+5odOaX4G5deKrkQNa6RDHpdr0IgHzv/vN1NYJJZizEljySTkn60UV6FDB0KCtTXzOerXqVPify6C9elJn0ra0DTbbV01C1KZvRbmW0bP8S8kY75FYv8I4x6CnTrxqVZU0tURKlKMVO2jHxp5kqICBuYLk9smp9S0+XS9SnsbkqZoG2sV6E1XHByK2fFF3b6jrC3drIJfOt4zLj+FwuCP0rOdSpHERil7rT1/ruXGMXScuqMUDPNacWlRv4Zm1Mu29LlYAmOCCCc1m4561px6nFH4Xm0soxkkulmD8bcAYxRjPbcsfZfzL7hUeRN83Yy8VNa2sl5eQ20QBkmdUTPqTiosVr+FZ7a18UWVzeyLHDA5lLN0JUEgfnW2IlKFKUo7oilFSqJPYzr21axvJ7WXaZIJWjYoeMg4P8qr4qa4lae5lmbkyuXJPuc1GBk06Tbppz3FUsp2QmaFLIwZCQw6EHBH41sarptvp2i6YxVvtt0hnk+bhYyflGP1rIPPSs6NWniafMttV9xU4SpSt1N218V3JgW11iGPVLUDAWcfOo/2X6ipW8P2WsBpfDNzvlAy1hcNiUf7p6NXN9KejsjBkZlZTkEHBB9vSuKpl/I+fCy5Jfg/VHRHFXXLVV1+P3hLFJbzPHMjRyIcMjjDKfpTre6mtpC8LbSfvDqrD0I71vw67aa1Clp4qUswG2LUYx+9j9mH8Q/Ws/WNButIKO224tZRmG6hOY5B/Q+1VTxd5ewxMeWX4P0f6DlQsuek7r8vUhNtFqALWCbJ+9sT9/wD3D3+nX0qgw7Cl5Vu4PqKvh11XiUql72k6LP7N/te/fv611XdHV6x/Ff8AAMdJrzMykqR0KOUcFWU4IPahYmkdUjBZmOAFGSa35klcys72GpG0rqkal3Y4VQMkn2FaEot9OUQ+XHc3IOZWY5SP/ZGOp9TTnkTSo3igKtesNssynIhHdE9/VvwHess9q5rOu7/Z/M6P4St1LX24D/lztv8Avg/40fbx/wA+Vr/3wf8AGqlGa09hT7E+1kWvt/8A052v/fB/xpDqA/58rX/vg/41VJpKPYU+w/aSLf28f8+dr/3wf8altNVW3vIZ20+zkEbhijIcNg9OtZ9JUSw1OSaa0ZUa007o1Nc1T+39ce7gs0tzNtVYIhnJ6fmasL4I8SNefZl0mYzeX5uwMvC5xnr69qytNupLHVLa7hTfJbyrKq/3iDnFekrY6aItb1d3vW0nWNPFyI4SBNC3n4dBu4wG7+9ZaYWEacFokdtCmsReUnqcK3hLW47VrufTpo7VX2STcMEwcEkA54NLqfh26tr7Ulsbeea204gXEkihWjyP4hn649q7qyNpH4Ujls3uGuV02cQwzAbTEZQCWP8AeA7YxW39gaZ/FEW6ILqV5NGyyPhiI4BjaO/zH8Kl4md7M6PqUGtGeLfYrg2P23yj9m83yfMyMb8Zx+VOudMvLOytbu5t3jt7tS0Eh6SAdcVtqr/8KvkIBJXVucDPSGup8f6bJD4B0+BvLK6WIIgqOCybovm3DqOa3dZ8yRzrC3g5eRxR8Ia/9mt7g6XP5NyyLC4wQ5bhe/GT61L/AMIP4l+1G2/siYTKgcpuXO3OM9a9M0ryIxBJavJJdPDpcdxE4+RIzJwy+pyAPbNcyn2EDXDo32/H2yDzPtZG7f5xztx2rH6xK+x0/U6fc4saBqrmICwm3TTPAikAEyIMsuOxFO/4RfWjZwXQ02YwXDhImAGXJ4HGc16lKCfEOnkD7viC+zjt+6rIjB/4Wl4WwTs+xxfT7rc01iJN6CeDhFX3OGuPCmt2khS506VCDGpwQ2N5wvQ85INWda8H6jpl9LDBa3EscFt9okldQvyj77AAngH8a6f4ehtuob85Oq2f3v8Aro9b2hXUNnpYlvl3QMl5FKG/uPcKhP4BiameIkpXKhhqckeO3lncWNwIbuIxSGNZAp7qwyD+IOag711XxGs/sHjKSzLbjb2ltET6lYlGf0rla64NzipHnVIck3ESvTPgN/yP11/2DpP/AEZHXmZr0z4Df8j9df8AYOk/9GR1lX/hSN8F/vEPU+hqKKK8M+vOb8c/8iBrv/XhN/6Aa+Ua+rvHP/Iga7/14Tf+gGvlGvTwXws+fzb44+gtLSClr0TxArY8Ma7J4a8QW+qwQrO8AbEbHAORisetvwrpdpq2sPBqLzLbR28s7+QQGOxc4GeKmdlF3NKV+dcpPZ+KprLQda01bdGXVpBI0m7BjIOcD866KH4q3MNtFK2j2b6pDb/Z479idwX6UP4K0K1tbnUJpNUuLP7NbXFvHAq+cBLnhu3GO3rWT4M8L23ijVr+CWaaGKGItEcgMXY4RW4rn/cyXM0d18RBqKZSl8TTy+G7HSWjQizvHuxNu+Z2Y55/OtbXPiFPrOkajZ/YIYP7QaJpZEcknYBgfjtrOTSNNtNN0O+1I3bLftMk6QldylH2jbn+tbtx4Z8NW2oau2dUkttHjjMymRA8jyOFXaccAZ5pS9kugorEN7lTTviJe6da6RFBaxO2lh0V2JPmI3VSKsH4h2cGrWd/pvhuytXtWeT5WO5mcYPP45qq3hC1j8Ua1pTzylLBA8TjALZK9fwato/DeyXxbqmnm5uPsVrp63UUmRuZ2yApOORlW/KiXsL7DgsS1ozmNL8VTabb61C8CXC6wjCUMxGwkk5Hr1rSh+Il3F4wj16O0j3raC1aDcdrKBjOfrzU1x4M0uSyiTTprz7ci2jTLLtMZ8/H3cYIxnvUl/4L0rS9e1UXM13NpljZR3SGJlEku87cZxjgg9qXNRd2LkxMVvt/wSOx+I0dvpX2C+0Kzvo/PeceeSQrMc1Bp3jeys7i7eTw1p8yTz+fGrZHlEAcA9wCM/jUcemeFpvC91qcY1XzYZxbqrNHguwJUnA6etT+KfCumaTYXv8AZ8l0bnTbmK2uWmYFJS6btygdKr9ze1nqLmxHLzXWhz+va3c+Idam1K92iWXACqOFUDAArOoorrSSVkeVOTk7sSlpKUVRAtLRRQIs2d01rMWADI42vG3Rx6GpLq0Vdk1qTJbzHEZ7g90Pv/OqgGevStmxuRo0PmSqZJLgD90Dgxp2cej/AN09q5K7dJ89PV9v67G9O01aexA5XS1MKEG8IxI46Qj+6P8Aa9fSqB44GSe1T3dqbZlKP5sEg3RSjow9x6+oNa2i6Pbi0bV9cymmxH5Yxw10/ZF9vU1lKtTw9L2kndv72+xUKcqk+RbCaPocUlkdV1mQ2+mRnCkffuG/up/jUesa9LqaJawItpp8P+ptY+FHu3qah1nWrjWbwSygRRRjbBbx8JCvYAf1rOxntWVHCyrT9vit+i6L/glVa6gvZ0tF37h/nFKCM1am0+6gsbe6liIgnz5cnUHB6VVP0r06dSNTWDuckoyTXMjZTS7e78LPf2W43NpJi7QnPyH7rAeg6GsfGOo/Crul6rPpNy01uFcSRNFJG4yrqR3Ht1pNO0q91WcQ6fbPO/fYOB9T2rhjKWGc3Xl7m6b/AFNnGNVRVNa9hNMv5dL1OC+tuJIG3AHo3sfrUDsbm6dkj+aRy3lxqTjJzgCvRtG+FyBVl1y6J7mCA4H4t/hW62peE/CcZit/s8cq8bYF3yH6nr+tfM1+KMN7Z/Uabqz202+89anlNZQX1mfJE82sfBmv6goaDT5I0P8AHMdg/Xmt22+FmpOAbm9t4fZAWrtfD/i208RSXflxtALcrzMR8ynPP6VcufEujWeRPqVupH8IfJ/SvlsZxLn/ALV0YUeV9krnr0Mqy3k55TuvWxx8fwniI/e6pIT32Ripv+FUWH/QRuc/7q1ryfELw/GSPtTyH/YjNQ/8LH0In/l5/wC/dcf13i2r71pfcbexyaPVfeZEnwnhwfK1SQHtvjFZ1z8K9TTJtby3m9A4K5rroviD4fkODcyJ/vxmtK18TaNeYFvqVuSegLYP60v7a4nwrvVi7ecRLAZRW+Br7zyK+8F6/p6lptPkkQdWh+cfpzWGyNHIVkVlboVYYP5GvoxXV/mjYMPVTkfpVLUdE0zVkK6hZQz5/jZMN+Y5H516WF49qxfs8ZS+7R/czmq8OxfvUJnhmsapNq+otdTIsZ2KiRp91FUYAFUB1r0zWfhbGQZNEuSpHIgn5/Jq4HUdIvtJuDDqNs8D9tw4b6GvvcpzrLsbTUMLJL+71PnsZgMTQfNVWj6lq30mBfDM2qX7MhdhFaKP+WjfxH6YrH9a0NS1WbUY7WKREiitYhHHFHwo9T9TVD1r08LCvZus9W2/JI5K0oNpU9rDc9K19G1+XTFe2nRbqwm/11s/3T7j0PvVC30+4uoZpbeF3SBN8rKPuD3qDOOKdWlRxMXTlZ2/D/IKc50XzR/4c29Y0SFLP+1tGkNxpjnDE/etz/df/GsMLgZ71o6LrVxot4ZoAskbjbNbycpOndWFXtX0OGaBdV8PK0lhMwUw9Xt3P8De3oa4adephJ+xxD93pLv5PzOmUI1l7Slo+q/yM+L/AIm22A/8f33Ym/57ein/AGvQ/hSuV0qNoYiDeNlZZAeIvVV9/U/hSu66UjRW7br1lIkmU/6kH+FD6+ppkg/tK3Mo/wCPqFf3gH/LVR/F9R3rSz5tv3fb+uhOnLp8RnHrzTSKeRTTXpdNNjk16jaKKKYDaKXFIaCwpKWkpAWdMjml1ezS1kEczzosbkZ2sTgGvT9Q8PeL7Ka+vbTxDY3d5bW+ya2iA3LGDuxt6Dnn8a830D/kZNM/6/Iv/QxXqWl4/wCFzeKu26zfPHX5U6+tcWIbUj1sHGPI2+5jWnhrWr3TLPVLrxRYWQu7dxGk+FOxzlh+dc/pF5rniTxdaWKamq3KTzPDOwG1WI+ZuOuQK6zV/D+ma14P8NtqOt22mGK1YIsy5Ljd2rlfhsmPiNYqjAjMgBB4PykZqINOEpfobVIqNSMO9uprzeH/ABD4b0KaTSdbsb3T5boJc/ZsP5buQuWHPril8S+E9U02y1aTUvE+nyyzKstzbBgJJSo+XgnrWiNHl8K+EdZh1ae3SfVNRh+zwxSBmP71Tnj6fpUPxP8AD2lya9qWqtr9tHeBEYWDL85IUADPvWam3Jf5Gs6aVNyS/ErW3h/XbLTUv7nxJZafez2iNHazEBjFGd6/TGAas6ZB4iudLg1fUPFVjpUuoRk28c6qDIoOQfz5qHxLYx+PfCNr4i0n577TbcQ31r/EFXncB7cn3FZ/xDOPDHhHnI/s8/0qo+9p19BS9xOS1SXfcPBtj4n8QtrMGmaysSxsZp3YbvNd8glT2yF6+lcy3ijW4beCy+2Mq2cg8r5RuQqePm68elegfDO5bRPCMV8AQdS1uK1Y4zmMAA/1rz/xdY/2b4w1S2xgJcuV+hOR/OtaTTqOLRjWUoUYzT/roJc+L9aumZpLwqWKMfLQLyhLKePQk/nTL/xXrGp+b9svCwliMLKFCgoSCRge4zmsikxXR7OPY4fbVO5Z1HUrvV75rzUZmnuHVVZ26kAYFVKWkq0jNtvViGvTPgN/yP11/wBg6T/0ZHXmhr0v4Df8j9df9g6T/wBGR1z4j+FI68F/vEPU+hqKKK8M+vOb8c/8iBrv/XhN/wCgGvlHFfV3jn/kQNd/68Jv/QDXylXp4L4WfPZt8cfQBS0g60tegzxQrovBVxa2+uSi/uorSKa0mhE0udqsyYGcVzwFXNM0261e+jsrCPzJpc4XOBgckk9hSmk4NM0pNqSaPSzr+nNptzp2l+J7WyuIbGztlvHDKkhj3b9vGccgVieD9f03w3bXc968V3cSalBhQ5X5FJJl9xk5xWQvgjWnjunEdv5dqwWR/tC7c7Q2Ac88Gqml+GtU1WFZbCASK7ug+bGSg3N+lcypwUWrna61Xn5lHVHS+If7HvNJt/sGt2I+w3l0625JLyo829dvGOhqYanpeo6p4qtG1S3tk1RYDbXMxPlHy3DMMgdcA1zFj4U1bUFBgiQI9utzvklCKEYkLknvkEYqdvBeuCxS6W2VonCkbZVJALbQ2B2z3puEOWzkHtKt+ZQ/r+mdAfEOl3HjbxBfrdKLa6RUgduPMwyZx+AJrfPjXR3MYF9EJXuZ45ZMnmFVlMXboTIMVwc/gTXYJpoWgiZ4ImmkVJlbaq9c46H2qGx8Iazf2tlPbW6+Vf7/ALOzOF3bAS3XpwKmVOk9eYUa1eN0onVJ4vjk8SaPBLfQJpFpbwSTFIwN0kcX3WbGThuMVYm17Q9b0Xyxd2+lT3mntaGOZ2ZYWSbcu5sdwSRXHt4Q1kSKogjctcC3DRyhlMhGQMjjpT5vB2sW+l/2jIlv9mAPzC4Un1xjPX2o9nSvdMft6+q5bpj1uLW18Iahp63cVxN/aMckfl5xKgU5YZ7c1veMtX0q60/VZbDUoLttWvYLiOKLO6JUjAO/I4Oa51PCGstqh09oES4EAuSHkAAj/vZP4VNP4VurTTlFzDML970WoTI2AlARz3yDnNXaDknzGUZVeVx5TnqK1J/DWqW7aislvg6Zg3QDD5MnA+tUr+xn02/msrxNlxC22RQc4OM/1rpUk3ZHBKEo6tEFLRS1ZiwpRSVNBbvcTJDEMu5wM9P/ANVTJ2VwSu7FiyiRUe8uRmGE4Cn+N+y/1PtUM0zzztNK253OSanvpo3ZILY/6PACsZ/vk/eb8T/IUlhYz6nqMFlZrummbauOg9SfYDmua6jB1p9vuRs9WqcTV8M2K3ouDqTbNJtwJLmQ/wAJ7Bf9o+lR+JdQnvdRRSqxWcSAWkUZ+QR9iPr3P4VN4iv7eCCPQtIbdZWjfvJAf+PiXux9QOgrLtZ4pIvsl6cQk5jlxkwt/wDE+o/GvNoUpVKv12a06Lsu/qzrqSUY+wj835lSgVLPbvbTNFKMOOfqPUe1RV7kZJpSXqjzGtTc0LV4IYZtN1YNJps/LbRloWxw61juFLnyyWXJCnHXn09cU6G3luJkhgRpJHOFVRnJ9K9V8K+CbXQrcanrZje6A34f7kP19T79q+dzPMMLkylVes57R7v0/U9TCYatjrRWy6voYHhj4dXF+EutbD20DcpAOJJAfX+6P1rrNS8R6F4Pt/sNnEjTqOLaDqP99u3865vxP4/mume00J2hh5D3PRn/AN30HvXDDnJOSTySec/WvCoZNjs6mq+aS5YbqC0+87amPw+BTpYRXl1bN3WPGWr6yWV5/s8B6RQ/KPxPU1hYyTTgtLtwOtfb4XBYfBw5KEEl5HzlbFVa0nKpJtsFZlUhWIB64OM0Yz161NDbTTH93Gze+Kux6Lcv98pH9TXQ/Zp3e5nGNSeiM0jPNJj/ADmttdA3dZsnOPlTvVn/AIROUDO5+pGMc8dan2sDT6rW7HN4+ooKitptCO3KT5/3lqvJo1yoym1/900+eEhSo1o9CvZ6pf6e4ayvJosc/K5x+VdVpfxKv7cqmqW6XadN6fI/+BrkJIJIWIkRlPuKj/UZ6etebjcmwGOjatTT8+pvQzDFYaXuSaPbNH8T6Xrq4sbgebjLQv8AK4/Dv+FX72xtdTtmt76BJ4m6hx0/wrwVC0bq8bMrKcqVOCD9a7Xw98Q7i2KW+ubriEfKJ/40+vqK/Nc04LxGEft8tk3bW3X5dz63BcQUq37vErXv0K/if4dT2O+70TdcW4yzQHl0HqPUfrXDbfmB6c/l+FfQ9pdwXlus9pKssTDKspzXJeLvA8Gro99parDe8l1HCzf4H/JrpyHi6pCX1TMtNbc3Z+aFmGSwkvbYbbt39DgNW1S1h0yPR9EZja8PcT4w1w/v6AdMVgnnrU1xbyW07QzI0bxnDIwwQaYsbySKkalmY4CjqTX6XhqNKhTvTd7637+Z8rWnOpL3lboJGjSSLHGrO7MFVVGSSeB/Ot7TNVHhiZoQouWm+W8QNlQvdF9WHr68CqEjppaGKBgbxwRJMvPlA9VU+vYms3j6e1ZVaMcbFxqfCXCboO63NjX9HTTpIbmxcz6beAyW8v8AND/tCsqGZ4Jkkhfa6HKn+lbnh3ULeaGXQtWb/QbtsxyH/l3m/hceg9ayNRsZ9L1CWzu12yQttPv6H6GscJOUW8JW3js+8f8ANGlaKf76H3ef+Q+9hRkW8tk2wTHDIP8AllJ1Kn27j2+lUCKu2M6pI8NwSLe4AV/9nHIYe4P6Eiq89u9tM8MvDocH0Ppiu6m3FuEum3p/wDnmlL3kQ4pKU9aSt9UZhTTTqSgq4lFFFIZd0WVINf0+WVgkcd1G7MeigMMk16tcaj4Z0fxLrniVPEttey31u0cNlbjcwOAO2c8j0FeVaFaxX/iCwtLgExT3CRuAcZBPNdrH4TsNRu9at49JudMks7XfbrNKW8195Abn1AxiuOuo8yuerg3PkfKlv+JYu7DQfFHhbQY7jxVY6bPZ25SSKQBjknOOoxXM+CLm10nx9by3d1HHbQtIpnc7VI2kA/jxWhYeHdOPivWLQ2E13FZWnnQ20cpDO3y8Z/GsrX9LtbXQ7C8trOWyknuriN4JHLGMIRhee4zU07L92nuVNz0q2V16+hlPcB/EAmebMa3YfeXyAu/Ofpiu98eaV4f1nVb/AFu28W6f5jIpW0ADMdq4xndz+VclfWdhZeGtPItXmvb+IyrP5pAjO7AG3oRx+tb934T0y08QW9tHby3Fv9ikeSJJCGeaP7wB7c9q8utmlCm03db226GtKlNpppPY0/DC6B4Kt7vWR4otr+OeyMS2US4d3ODgjOeCPT1qK5ttG8Z+FNEafxFZ6VLpkBhuIp/vD3AyM9Kqw+EdHkvoMwTASzxBoTKd0YaF3KZ65yoqNfDOmNGboaPdySGzEw07zj5iNv29euCOa4/7bwrlfW9+yOpUKiXK0uX5lweNF8I+CdAsNAvbK6nMskl2dofb82QcHkE5/Suf+Jl1Yal4we+0u5iuIriFHZomDYfGCDjvXL3YVbyYJE0KhyBE5yU56H6VCOK+jpU4q011PLrYlzi6bWg00lOPSm10nIJSUtHahAIa9L+A3/I/XX/YOk/9GR15oa9L+A3/ACP11/2DpP8A0ZHXPiP4UjswX+8Q9T6Gooorwz685vxz/wAiBrv/AF4Tf+gGvlEV9XeOf+RA13/rwm/9ANfKIr08F8LPns2+OPoOFFAor0XseKKOlbPhbVJNH16C7jtjdooZZoVBJeNhhsY9j1rG7VasNQutLulu7C4e2nTpIh5FTJXi0XTfLJM9I1PR9N0DwjqNnJZ3WpW39opNaiNyjwh4Ayl8Z6A46UngC9bTfD0N9gO1rJezAHodsIOP0rh4vFOtxfaGi1W4U3LF5j5mfMOMZP4DFVYNTvra38i3upEjbf8AIp4O4Yb8xwa5fYy5Wmzv+txU1K2x6f4vsooNA1O307dLD9hs3hCgk7WllYcDnoRUumNbx6JZm3SYakuk2wYsQYzCblQwA67h6nivM7TxHq9nMs1tqVxG6QLbqyt0jH3V+gzxTV13U1k8xb+besXlFt/ITO7b9M81P1eXLy3K+txUuazPUdOubK18b669vp9zZq5aGd7hywmLybSy56Dmr7JBZppmlFDNFphurZljJy+LUM2D7liK8muvE+tXv/H3qdxLkAfM/bOf5imR+ItXinFxHqE6y+a0ok3c72XDH6kACj6vJ9dQjjYx6M9O8CPYyWcNlFZy2MNxfmSCGdi7xsiA8kgZzzXNWVp9t8MadbDP73xK6kD/AHRmuYfxHrEt2s8moztNE/mK+7lWxjP5cUWNxqptXlsriRYLN/tLMGAEbsMbh7mm6ShrKSM3ilLRJnq2traz3N7qF5Kt5aHSbmCZrFxyFcfKCejAHFLdW5uNTtgrotvb6pHLC7nAEK2YKE9fxNeRprOoJZyWqXsgt5N2+MNw2772frUp8Q6s0ZibUJiu3btLdtu3/wBB4pfVX3L+vQ/lPWFMI1TU5ruaG4t9Zt7OGSeIkxnzC0ZZSf8Aawa818cDHjrV19LjGfX5VrN/tjUDapbC8k8iPaEQNwArbl/I81Bc3M15dSXN1I0s0p3O7Hlj6mt6VFwle5y4nFKrDltYjpaSnCuo81gBV+I/ZNPeXpNcfu4/ZP4j+PT86t6H4X1DXbS6ubFUEdswDmRsZyMnH0HNUL+ZJ7kiI/uY18uP3A7/AInmuL21OvVdGDvyv3vLyOj2cqUeeS32IO38sV01sT4c8LteAhdS1RTHAc4MUP8AE/1PSsvw9pX9r6zFbSnbAoMkz9ljXlj/AJ9aNe1T+2NZluFG2EYjgTssa8KK5cT/ALTWjhl8K1l+iNKVqVN1Xu9EZvHbpS9PrSCivYSsrHC2aFvKl7AlncsEZeIJm6Kf7hP90/oaqSwvDM0cqlHQ4ZT1Bpg+77VpW4/tREt2P+mLhYXP/LUdAh9/Q1yyXsJOX2fyNVapp1Ok+HV/pVlqE5v02XO0tHcNyqqByPY+9Q+LvF8+v3Bt7QtFp6H5Vxgy/wC039BWHcEWcbWUWN2cXD/3j/d+g/U1WUEV5NLJ6FXHPMJ6y6J6280dNXH1oYf6tHTuCrxinAYFKo55rqPDvhGbUsXF3mK3B7969+U401qzzKVKdeXLBGDaWE12wES4Gcb2OB+tdNa+FEhlVGkillHMjM3yxfU9PwGa1dU1DRdIthEQqQKMDYMyzY/u+g964jWvFtxqf7qzt47G3H3RH98/Vq5OedV+7selGhRw6953Z1kyaVZ4ku9Rjht0B9N8p7hE649zUujzWGpI0tpE2ZGKRGbhEHc9cnArzK2j8++hSQ58yRVZu+CfWvbdP0+xhsnuTaxpERmOMr91B0/E1lWXs1rqdeHl7R3WiIUGnWNyFkmghtbMBi8jgb5D398CobDUrK90+3uLS5jlaO7zJtPTcSOn0rnfHmnRx+ELK5EYWT7TucgdmBIFcBDczWwfyJGj8wYbaeoop0Y1I3uFXEOnPlsezz2do9xLZl4gjfvrZ8ghGzhl9xnnn1qo+nWsim5CYKErPbo4BB7sh7/SuT8EalAY3sblUZo5RPHuGSVPDr7+tegXlla2txDdCCLySRHKAvAB6NWM17N2Oim1VjzIwJtHh4D3SNDN/qZiBtPsw6g1kXPhTzWdYXjhuEyfL3DDj1Bzg12s9jbWV8JZLeM2852uCufLb1+hqJ9PtbST7PdQo9rMcRzYw0TH+EnsD2NONaUdUyKmHhP4kjyu5s5rV8SLx2Ycg1XPJ6816vcaTa+X9h1GBDG/EVyFA59G964jxD4WudHkMiKZLZjww7V20sQpvU8jEYKVL3o6opaT4g1HQ/M+wT7VkUgowyufXHrWj4X8Y3OjXpS+eSeymbdIpO4xk9WH9RXNkULG0rqiKWZjhVAzk1x4zKcDiYT9pBe9u+pOHx2JoyjyyenQ9R8WeFoPEunLqek7Guwm5SvSdcdM+vpXmcpGkI0EZBviNs8g6Q9iin+96n8B612HhLxFH4fuY9LvZi8crfO+75YHPQD+tT/EbwqNra1YJj/n5RR1H9//ABr4vLMRWyvFrLsY26T+CT/I+jxVOGMo/WaK9/7SPNT065pBTiMVq6X4dvtSga4CpbWiA7rmc7UH0Pf8K/QqlelRj78rLY+bhTnUfuq5kZ710twf+Ek8Lrd9dQ0tQs3rJD2b3xXNsAGKgg4PUdDWjoOqf2Rq8Vww3QH5J07Mh4YVx46k6lNVafxR1X9eZvh5qMnTnszL6nnrXd+CtK0jxNaXVtqMeb+KLZHIW6J2bHqPWuY8RaX/AGTrU1vH80LASwP2aNuV/wAPwpfDesNoev216CdittlA7oeCP6/hXJmMZ43L3VwztK118uh0YVxoYhQqrTZmff2c2n6hNZ3KlZoHKOCO4P8A+o/jVcivQvilpCpd2ut2wzHcqI5SOm4DKt+I/lXnproyjGrHYOFbrs/VbmWNw7w9Zw6dBKKKQ16pxiGig0UFl7Q7qKx8QWF1cErFBcJI5AzgA8nFdgviTTNJ1G+u7PW7jUnuWidPOgZPLCzbigz225rgKKynTjN6nTRxEqSsjuY/EWkzeM9eu3v5rK01C3McNxHESyE45wOe1VNTudCu/C8VmNcnlu7KeeSItbN/pO/BGST8vSuQJ9abnNQqUbmn1qTi4tbnVQX2iXun6Ib+/kt5NOKxyW4ty/mL5m7IYdsZrVl8a2N20l0/+iXSS3Ii8mI/Msg+Vj/tZ6muANNNeRUyPD1WnNvS/wCO5tHHVIrRHoVt4u0r7VbT3NxKJWnhlnPlngrC0bHPc5YVGPEejvbvp7azdJi0EP8AaPkNvdvM3cDOcY4rgfwFJnHSsVw9hoyumzT+0qtrMlvBGLyUQzNPHvO2Vl2lxnqR2qGg0V9BCPLFR7HnSfM7iGmmnGkPWrGNo7UGigBK9L+A3/I/3X/YOk/9GR15oa9L+A3/ACP91/2DpP8A0ZHXPiP4UjswX+8Q9T6Gooorwj685vxz/wAiBrv/AF4Tf+gGvlKvq7xz/wAiDrv/AF4Tf+gGvlGvUwPws+ezb44+gooooFeieKKK6v4fQLc+J/LMMEzC1mZFuFBj3BeC2e2a5TpWz4Z1eHRNWNzdW73MLwSQvEjYJDLjrWdRNw0NaLSqK56NomiJqmnzHVLXTm1KLVEYi0iQxtGsaFlG3jGDyPWuGkghHhfWZfKTdHqaIj7RlVIbgeg9q0dM8b2WhTW66Pp80VtDdPMY5JtzMGi2Fc49eayrHW7CPTdQs9TspbiO6nE6+XJtKEA4zxz1ry8TTrqneEb6pno+0pSaV+//AADcu7aLTPA+kXVvawfbYDHLK0sIcOsu7AIPXGB9K0JRBd61rFvJZ2ax2ptBEEt1XG+VN3Qd65+/8Yvfafdae0Liya3hitoiw/cmPHzZxznFIni2NNV1G7Fq2Lxrchd/3BG6t+u3FfPvAY6cG3F82vXu/wBDZYmgpJX006djrbnSbGzvrm4t7WBow1zcW5aMEDCDAx0IDA8dKg03TrG58RNd3lnCyXOl2ysqxjb50xxuCgYB4zxWFH44BihhubN3jVrgOA+CY5SeB7jNKfHUkCldKge2Ie3VWLAnyYlICn1J3E5rjjl2ZpcrTv3uavE4V6309DSstDt7rwtpURgj+0W9+32h9oy0YYggnuPlrR1q28mDVZNHtdMiVrtNwuY0AEZgBwue+TniubPjZUF0LWzZFninRQWHymRs5/DmkvPFGnalazw6hpszq0yTR7JguxliCc8c9M/jTeAzJzUqidr7b9vyF9Ywyi7b2Osj0238+1+16fZCFpIhaskK7m/dEvux7jvXLXyBY/D+kW0FusV7aQSyMYQZGdmOTv60WvjWOC8lmeyZld4nC7+hSMp+uaitvEtgo0q4udPlkvdNiWFHWQBWVCcHHrzXRRwOPpTcpxbWtvW2n4mc69CcbJ2E8dWttDrkU1jAsFvPACqqu0ZUlTx+FcyO/wClbGt+IJ9bs7NbwM1zbmQNKSPnVjkDHtWPX1mWwrU8LGFf4l8zxsXKEqrlDYKUUVq+GNN/tbxNY2eMq8oZ/wDdHJ/lXTiayw9GdaW0U39xhSpupNQXU7y/P/CJ/CiC1UlLu/GGI67nGW/JcCvMR0HHHYV2/wAU9S+0+IobCM/JZRDIH99uf5YrjbS3e7u4bWEZkmkWNR7k4r5/h+n7PBSxlT4qjcn6dD0cxlzV1QhtHT/M6C3P9jeBpbg/Lc6xJ5MZ7iBOWP4niuaroPGFzG+u/YrU/wCi6bEtpFz12/eP4nNYGPWvWy6D9n7aW83f5dPwOHFySkoR2joLS0UV6ZxiqM1p2w+w2f2rpcTfLB/sLnDP9ew/Gqtjb/arhIiSqE5dh/Co6mprqb7TdFwu1B8iJ/dUdBXPUXtJey6dS17i5i0F/tKHcB/pka8gf8t1Hf8A3h+tU8UIzI4ZGKsDkEHkGum0LS7fW71Lm4ZYAhzMp4EmP4l/qPxqHL6t/h/IUIPES03LHhjwpPeBb6WNCikbUkyA35VY8W+MJ9OVtJtfsvnKAJGt87Yx/d571f8AF3i6HQ9NSx0aRDcyLgMnIiX1+p7V5QWLMWZizE5JPJz7+9TTi6z557Ho1HHDw9nT3HzTS3ErSTuZHbqzHmo+aKUV2Wsee3cUEqcg4PYg4NdJofinWGvoLKa/lltZmETRynKgHiuazS7sHIOCOQfSolBSVmXCpKDujrvHHiWfUJv7IjaH7Pav85hzh3HHU9hn865AgkZNBPrzVzTba1vLxYb28FpGwOJCuRn09qIpQjYqc5VZ3Y/Q4Ly41i2j08ZnZ/lHt3/SvYLO4vNW0opE1lJEQYnO5sgjg596wLHQtM0vw5PNpF4v9p3FqQsjyDIyOg9M9M1H8O3m02K/ttSZYYt4ZN7jlv4setcVWaqLmXQ9LDwdJqD6nTQHUb3T2hkW0KrmFw5fORxn+tJD/aNzbS2csdm/lfu3EhfLDseP09xUkF/aQ6pc/wCkxeVKBJkMMbuholvrOLVYZ47mIpMpilww47qa5Nb7Hd0TuRINRlR9OuFtZTGg+aTdl19fwpoXUCf7Mu0tJQUyrS7v3g7ge4qbUL60BjuobmEywnlQ4+ZT1FS3dxZ3sIWG7jWZSHhO7kN2ovbVisjz/wAR+FrrTZllijDpIeFiyQD6Vkuy6ZGYrdt14w2ySg8RD+4vue57dBXrDX1jc2RiuriGN2UrIN4+Q9Dj/GvKdb0z+zL50jZZISfkdOR9M/rXRh6rxDtPRL8TyMZh1QXPT6/gZbLnpwO9en+AtfGsaU+kaifMlgUhd5z5sXTB+nT6V5gck1Z0rUpdH1WC+gPMTZI9R3Fcuf5XHMMI4L4o6xfZkZZjZYavd7PRljxVoT+H9ektxnyXbzIXIyNuc498dKpanrd/q8itezlkX7kSjbGn0UcV6f4102LxF4RTUrIB5bZPPiI5yuPmH5c/hXkLDk+nauLh3GxzLCxlWV6lPR/Lr8ztzKhLC1WoP3JaoTr1pMc81LbW015MIrSGSeRuixqSajdWSRkdSGU4IIxg19Qpxk+VP5Hk8slqzop/+Jx4Fjn5a60WTypD3aB/un8G4rmicAjGO1b/AIQuEi14Wdzxb6hE1rKD0+YfKfwNY13bPZ3c1pKMSQuY2+oOK8zCfua1TDPb4l6Pf8Tsre/TjV+T+X+Z6ZojDxZ8Lp7CT57qzUxqT1yvKH8uK8rIwSG6g4PtXY/DvXotE1a5F4zC2mgJYBc8rz/LNc3q8lrcazdzWG77NJIXj3DBweeleVlNCpgsfiKCi/ZtqS+e514ycK+Gp1L+8tGUBRR0NFfVHj9RKSlNNFBYtIaWkpANNJTjTaBgaSg0UhiUhpaQ0DENFBooGIetIetONNPWgoaaKDRSYxK9L+A3/I/3X/YOk/8ARkdea16V8Bv+R/uv+wdJ/wCjI6wxH8JnZgv94h6n0NRRRXhH15znjn/kQdd/68Jv/QDXyjX1d45/5EHXf+vCb/0A18o16mB+Fnz2bfHH0F7UCl7UCvRPFF70opBSigQtC9aKB1pCFpaTvS0xAOtOFNFOHWkSLk0UlLVCFBp1NFLSAXOetAoHSgVRI7tXffCmxWXW7q9kAC20OAT2Lf8A1hXADmvS/Bh/sz4a6xqf3WfeAfoMfzNfNcTVZRy/2Ud5tR+9nqZXFPEcz+ymzhdavTqWuXt43JmmZh9M4H6CtPwYiJrUuoSgGPT7d7g56bgML+prnxnv2rotOzZ+BdVuM4a6mjth7gfMa7MXFUMDGhDraK+ZjRlz13UfmzAeRpZmkkOWdizH3JptAoFexGKhFRXQ8+cnJ3Y6lAzSU5abdlcgvwf6Ppckg+/cN5a/7o5b+gqEVYv/AN1LFbgYEEQUj/aPLfqf0qAcisqC05u4qz+z2JraF7idIowS7nAAr2LQdIh0nS4YRGhkxuZio7iuC8D6VJe6i9yjKnkDIZlyM/Su9vW1C3tZJDdRHsFWLkknAFcmMkpvk6Hr5dS5Ie16s8/+Ic1rqF5us1Bez/dyhFA2qe/HUZ79q4c+1auqXc0HiS4lidS8chTkcNjggjvVa7to2hF5Yg/Z2OHjJyYW/un29D+HataN6KUJaro/0Oes1Vk5R3KVLSYpeldZxiClpBSjlqBiqCzBVGWJwAO9dLp3gHW9QXLWwtY2H35mxx9OtaHhDwy72ttrU7KN04S3RlyP9816V5WoHrdRc/8ATHrXHWxDT5YnpYfCqS5pEGhW0Mfh+xjMcbbIQpJUHJHGafbRRLql4nlRkEo4BUdMc1X0qO+bS4TFcxBPmABjz/EfegR3q6ww+0R72gBJ8rsDjpXBrd6np7RSsTXsMUd5ZyeUgBkKN8oxyOP5VLqNkk+nTJHEivtJQhR94c//AFqq6nDfLZmSS5jYRsrcRY71aEWokcXcPIz/AKmpvZXuVo7pIkt/IurOKVYYsSoGA2DjPWodOiigElqFRpIHxu2jIU8jn86hsIrmK3e2guo90EhUnyyQO+P1qOWO+g1WF/tEe65UxbvK4GORxmsFes/7v5l35UrbkxijtdXBMSeVcjGCo4cf4iqninQ49T0ZxFEqyw5ZdigZqzfWt/JaMxuY2MX7xQIsHI5Hekt7m4um8qO/gMnlLKyeT0VsgHr7EV0xbj7y6GM4qacWtzx10KEqwIK8EGr2gtZprlp/aUCz2xkAdW6c96u+LdMfTNZYN0lG4EDANYJyBxwexr1K0PrGHcE7XR8yl7CvdrZn0AkUUMKxQxosQXARRhcemPSvCfEGmDRPEd1Zld0cUu6MN/Eh5H6cV7J4Yv8A+1PDVncE5bZtf6jg1w/xU0/ZdWWoqMeYhhc+45H6Gvx/hPEVMHm1TBVX8V0/VH3WcUlXwcK9Pp+Rzdx4w1Iwm305YdLtsfcs0CE/VuprBZizEsSSeSSetBppr9gpYajQv7NW7+Z8VOrKprJj0kaKVJEOHUhgfcVt+MEV9Yj1CNcJqECXA9NxGG/UVg9a6LUs3ngXS7jq9pLJbMfb7wrixf7rFUavm4v57fidFD3qM4dtTFsJfJ1CFz93dg/Q8GmXVnNayMJI3Ee8qGZSA341Fn5evOeDXpni0DVPhfp18AC0JjJOPUbTXPmOPeCxNJNaVHyvy7GuGw6r0qmusVc8uPWilb7xpK9w4HuIabTjTe9BQtFFIaQCGm0ppKBiGig0UhiUGig0DGmig0UhhTT1p1NPWmUNNFBopMYhr0v4Df8AI/3X/YOk/wDRkdeaGvS/gN/yP91/2DpP/RkdYYj+EzswX+8Q9T6Gooorwj685zxz/wAiDrv/AF4Tf+gGvlGvq7xz/wAiDrv/AF4Tf+gGvlGvVwPws+ezb44+g7tQKO1Ar0DxRRSikFKKBC0DrRRQIXvS0gpaCQFOHWminCgQUtJSjmmIUU6kFLQAUCigUxDx1r0m6P2D4JQIDg3JBP8AwJs/0rzX1+leleNP9G+GehwDgMIyf++c/wBa+Tz5OeIwlHvO/wByPWy73aVaXaJ5vuP410epHyPAukw4x580kx/kK5v6V0fiX93pPh+AdFst35sa9jGe9iKMfP8AJHFQ0p1JeRz/AHoFHc/WgV6pwimrmnRefqFtEejSqD9M5P6CqdaOk/LdPL3jgkYex2ED9SKyrO0GOHxIjml+0XMszdZHLH8TQtRr0qaJd0ir6titIaRsYS1kem+DGttO0JTNIEllO48Hp2rVvdRtJ7i0i83935m9/lPQDj9auaZbrBpdtHgfLGO1MA368QcYith09Wb/AOtXjSnebkfV04OFNRR4nr9q1jrd3EW8weYXVzkbgTkGqtrdG1mLYDIw2vGw4dfQ16V8TNE+06YmrQrmS2+WXA6oe/4H+deXlGG0kcMMgnuOlejTcatOzPHr05Uqj+8tXdqkQE9uS9vIflJ6qf7re9VDk1Ys7sW7Okq+dbyDEkWevoQexHY1bh0eW51O3tbZxJFdMBFMemO+fcdxRGo4e5P5PuZOPPrEzR71NY2xvL+G2B2+a4Ut6A969Y0r4d6PYxH7WpvpmUgvIcAf7oHT+dZvh7wS2n+LZLyOVWsbV2EYY/NuxwCPx61DxMGmkdCwc01zdTopJrG1tNPtbVh5cEqKAFIwBWiNUs/+ew6/3TTdQAEllwP+PgdPTBq6FGeg59RXnNp6nspNaGRpWo20WmxpJKFYM+RtP940PqNr/a0Miy/KYWUkKeORVrRwG07gAgTSD/x9qLlduq2RA4IkHTrxUOpTUmm/xHyy5URXl/bXFlNEkmWdCAAp5NSxapaxwIsk2HCjd8pODVyVF+zuuACVPOPaq2mkNpsGR/AKxS9tr9n8y9YPzKdvqNrHqV0TJhJQrD5T1xg0mpajavDG6SZeGVXGAR35/nVrAXXlGOHgPbuDUmoxh9MuFA/5Zn9Oa6dFYz1syvda9p1payXE8+2NFLHg5PtXmfhbxGY/HQu7hikN3mEqTnYp+6PwOPzNbHxJvLr+zdNiQgWsy7nI/iYAcGvPrWZre8imU4Mbq4/A13UaadNvueZia7VRR7Hp3jz7PfafFPA+6SI4b5SOK8+b+teweII1v/CkzIAd8QkGB7Zrx8mtsK/ccX0OPMotVFLuel/DG636VeWhOfJlDj6MP/rVc+JFp9o8IPIOsEqOP5H+dc78L5ymuXkIPEkAbH0b/wCvXceK4ftHhTUY+v7gkfUc1+NZuvqPE0ai7xf3n2OAl9Yyhp9E0eJ6amlySyHWJ7iOML8ggjDFz6c9PrVjUZ9ANqYtLsrsTZGJ55Qcevyjislj0xSZ9a/YpYZTq+1c36Xsj4xVXGHJZfqJ6V0Onf6R4F1eHGfIuIpwPzU1zxPNdB4c/eaVr8H96y3/APfLZrDNNKHN2af4mmD/AInL3T/I54nmvTNLP2/4MXkXVoUfj/dYMK8yNem+Af8ASPh7rFueR+9HX1SvE4oX+y0qv8s4s7so1rSh3izy88miheg+lFfVxd4pnlPcb3pKdTaoQtIaWkNIY00lKaSgYhooNFIYhoNBpDQMQ0UGikMKaetOpp60yhpooNFJjENel/Ab/kf7r/sHSf8AoyOvNDXpfwG/5H+6/wCwdJ/6MjrDEfwmdmC/3iHqfQ1FFFeEfXnOeOf+RB13/rwm/wDQDXyjX1b45/5EDXf+vCb/ANANfKVepgfhZ89m3xx9B3akFHaivQPFFpw6U0U4dKYhaKKKBCilpKWgTAUtFGKRItKOtJSjrVCHClpBS0AJSiigUxDq9K+Ig2eDPD6r0wv/AKLFeafSvTPiF+88D6BL6Kv/AKLFfKZx/wAjLBf4n+R62BX+y1vRfmea5ro/Fn3dHA6DTo65zAPBro/FfMWjSf3tOT9DXr4n/e6Hz/I4qX8Gfy/M54UopuKWvVOEdV/TfuXp9LVv5qP61QFaGmfN9qX+9auP1B/pWNf+GyqfxEP8VWrBd+oQDtvH8xVXvVvTiF1CAn/nov8AOtX8LMI/xEeyx2d2I1Av2AAGB5Yqrb2102qXeL0h1WNWbyx83BI/nVldXtdo4uOna3b/AAqtb6nbLqd45E+19mMQsTwPTFeJqfW6WQ3V7K4k0qWO4uzLFIVRkMYAILAVzFx8PZfNbTxKXsjukgmIG6F+6t6qfb0rqdS1S3ksSEWbIdD80LAcMD1xVv8Ati2yeLj/AL8P/hWkak4rQynTpzfvHhmpabc6TqElneLiSM4yDww9Qa6bwHc26TT21zK0bMVKsQNoweo9D/Ouyu7bR9ZF1FqdtLIpm3IyxOGXj1A4+lc/qPgrTBZONJuryImRSRPCWA/HAPeqr1Y1aXJLRv8Aq5xwoSpVOeOqXQ228UvJ4utNHs5vMimBzcbBgnBI2+o4p99aeIZYriXw/fRxskxDxNGMuR3BNcvZ2VxoWlX9rdaPNqUhBazuoFI8gkYPBAZfXjrV7wL4sli+0WGs+YSp3rOwywb+639K4oRkuZpfDbXudfOm0qj3/Agu9Z8aQyQJe6czssmY2CD5mx7V1fh59ev4C+sBrJw4CpsB3LUuo6rHK9kLWKaabzwUiCFDJweAWwP/ANVUv+FhaVa3zWup295YzxttdJIw4H4qTW1Wopp04pc1tuoRiqb5pS0Nawt7uWxXZd7GZ2OAgIUbjwKleK4juLdGutzknLbBwuOePWsrTvFekRWMe+/UgsxR1U4Kljjt1x2q6+r2s9zbSxNI0ali7CM5Ix/CMc/hXizp1JTs9u1tb+vY7lUhy6PVk7Wd3sIN+Tx/zzFVtNtbp9OiKXpQY+75Y4qydXttp+W4zj/ng3+FVtN1OCLT40dZtwznELHv9K9mPMoamD5eYSa2uhq1upvWLtG2G8scAVZls7vyHzfMRtOR5Y5qrLqVu2rW8gEwCo4P7hs847YqzLq1t5MmBPnacZgb/Cq10F7upz3iDw7e634VhWGfzJYlDxxlQO3TNeTyxvFM8cqsjqcMjDBBHY17pY6pbx6fAjrPkIM4gY/0rm/Euh6Z4i1RJd89pIIfnljtSS53Y5HfjvXVRrOPuvY48Rh+e047mrp8N1c+DbeR7slGtR8hjHTHTNeVyABmA6ZIFetQ3Nrp/h1bCNriTyIDGHa3Zd3HXpXkj8yN/vGtcK7uTOHMVpFHVfDdseLNo/it3H8j/SvTNZAbQ78dvs7/APoJrzT4aru8UO/9y2Y/mQK9J1xvK8P37ntbv/KvyHi6zz6Fv7p9XkemWSv5ngtlZT6jdR21mgeV87QWAzxnvWnL4R1uCF5ZbNQiKWY+ah4H41i5K4xxx1B6Ub2wQWb8zX69OOJlJOEkl5o+OjKik+aLb9Rp57Vv+Ezl9YU9Dpcx/IVz+a6HwphV1mT+7pso/PArHNP90l8vzNMH/HVjne1enfC75vDusKeV3H9UNeY9q9O+GQ8vwvq8v+03X2SvG4qa/s3/ALej+Z3ZP/vXyZ5cvCj6UUij5R9KDX09L4I+h5UviYZpKDSVoIWkJpaaaQxDSUppKBiGig0UFCUhpaQ0AIaKDRSGBpp604009aBobRRRSZQV6V8Bv+R/uv8AsHSf+jI680r0v4Df8j/df9g6T/0ZHWGI/hM7MF/vEPU+hqKKK8I+vOb8c/8AIga7/wBeE3/oBr5Sr6t8c/8AIga7/wBeE3/oBr5SFengvhZ89m3xx9BaKKK9Bniiil7UgpRTAd/CKKO1FBItKKQVraboU2oCF5J7ezhmbbG9wxG85xwAMkD16UNpbjUHLYy6K6Q+GoIyyE6q5UkMyWA25HoC2SKqax4autJhWYuJYWCkkKUePd90Oh5XOOKlTV7FOlKJj0oHNOiieZwkKl2PIAGTVwBdOGSRJdnO0A7li7ZP+10xjIFWZpXI47GZ18yUeRD3kk4H0HqalE1lbviKI3OG5eX5QRnsB6iqkkskp3zO7n1ZsmrUUMUEKXF782/Jih5zJjuTxhcjHrSa7jXZC3dvAlrDPAZF80tiOTBwAeDkVTFS3FxJczNLMxLE9znHHQe1RVUdNyJPXQcO+fSvS/FX+lfCfR51/wCWflg/kR/SvMxXpkQ/tL4JSKOWtieP91/8DXynEFoVcLW7TS+9WPWy73oVafeP5Hmq4zz0rpPEOJfDvh+cdPszxH8GNc31PtmujuR9p+Hts/U2l40bewYZ/pXsY33atGov5rffocNBe5OPl+Rz1FHUUV6l7nAKK0dHP+npH/z1V4v++kI/rWcKntZDBdRTDgxurfkc1FVXg0OOjHqc4z1qaBtsyN3Vgf1pb2IQ6hMi/d3kr9DyP0NRg/LxTh70DGXuzPdLCbz9Nt5QchowR+VRIdniCXnHm26n67SR/WsXwkTqOgROL24RoxsKowwP0q/d2Tw3tpJ9tujvcxFt4yM9O1ePKNpNH1UJc1NSLmsZOj3RHZNw/A5/pVwNuUEE8gEVQk0xpYWRr27YMpG1nGD+lQadayXGmwSfb7pSUwQrDAI4Pap6GnUs2ny6ner6srfmP/rU7U5ClqrK2MSrn6Zqktk66u0f2y5G+ENvDDJwcY6U7UrB00+Zvtty+0ZwzAjg/ShxTsn1HFu2xrg4wTx6YrAutB0/XI7yG8gAKzkiROGBx1z3/GtFLBmQH+0LvDDPDD/CjTYvs819GLiSV2cElsZXI/nXFVm6KvTXNLorlKKnpLY8tuNMvdI8WxWUmrTw2trMCl5I/EakdRnvjiofEVtbXutXH9mXhvLlQC0n/PwMckf7Q9B1p3xChaDxdIryyS5iRg0hyeR/9auZRzGwZCyFTkFTgg+ua9KODqTqrEc1na1vx1PFqVIwTopaX6j4ppYCfJkaME87TirVhrN7p2qQ30EzmWI5wzZDDuD7VIyrq8ZliAS/XmSNRgXA/vAdm9R36j0rM2kEk8V303CpdSXvHO3KDvF6HvGka3b65oovbViAVO9CeY2A5FWdLyNLg542Z/OvBLe7ubNi9rPJCx6mNyufyrf0/wAeaxabI7id7iFRjG7a354rnnhWvhZ308ctpo9aY7tcj54SBv1NS38mzTrhicbY26/SuP8ADniO08Qas0S3N9b3DR/KHYEtjk/NjpXQalZulrt+23LmaRYwrMMHJ+lc0oOL5WdsJqUXJGlZr5VnAmSNqKMfhVeA79cumH/LOGOP8yTSjTnAx9vuxx13jj9Kp6dZtOk84vLlfNlbBVxlgvAzxUW1LXQm8RXH2fw9eSE/8syBXi/rXo/jpzY6OIvtc8pmb7sjAjFecHk16WEXLC7PBzKXNUUex3fwttt19f3BHCxqgP1Of6V1vjSf7P4P1Fs4LR7PzOKzPhxZ+R4ae4PBuZSfwHAqD4o3vk+G4rYH5riYZHsvNfjmPf1/ihQjqlJL7j7HCpYbKLvqn+J5KR05Az70jDHv7itHS9Yl0l3aG2tbhZQA8dzCJB/9aptT1mx1C0KR6FZ2dySD59szAY9NpOK/YpVq0avJye73PilTpuF+bXtYxq6Dw+PK8PeIJz/z7LEPqzVz/X866G3H2b4e3jn713eog9woz/OufM9aSh3kl+Jtg9JuXZM5016d4K/0T4ZarcnjcJiD/wABxXmGcDNenqP7O+Cb54adMD/gbV4nFHvUaNFfanFHdlPuznU7RZ5cOAKQ0por62KsrHkPcaaKDR9KYwppFL0rQu9D1Kx02C/u7R4rW4OI5G79xx1GR0z1qZNJ2ZSjJq6RmmkpTSUIQGkNFGM0DEpDS9KSgYhpM0pHrWjbaFqV1pU2pW1o72cH+slHQf44746VLkluaRi3sZp603vTmppqgENHaijtSASvS/gN/wAj/df9g6T/ANGR15pmvS/gN/yP11/2DpP/AEZHXPiP4TOzBf7xD1PoaiiivDPrzm/HP/Iga7/14Tf+gGvlKvq3xz/yIOu/9eE3/oBr5RzXp4L4WfPZt8cfQcOtFIKWvQZ4oopRTacKYDqKTvWvoehTazcSFXWG2gG6adgPl9AM4yx7DNJuyuEYOTsitpdidQvViJ2QqN80pOBGg6sTW7ftLq+nR3unQvG1iz7I9hXdCCCrL/e24G4ds56Vr2YbT7d1tLlrOwQbpFgcZlI/ilnI5PoEBx27mseOS6utWsZIdSuLjVGl81X89njtYhknJb25PYDg5zXO5ubOtU1BDNU1CK1ukd7ZruaaFJ2nnuHO8uMkgAgAZNV7rxE93p8ts1sqGSPyw4kYkLuDY5J9BVXWb+O/1Bmt0VLaIskAA/g3EjP51nD61tGEd2c86jUmkyxZTi3nLSKWRlKPt6gEYJHvVuDS0lmx9rhWBhlZty+g4Kkg98VmDrTuvWtGuplzdzoU8MCaBmtNQt3kTqZHRFzzgDnnpWh/aWl2uiTtZmxaeX7tq8BbYGALYY+44/GuQA4/nnpShdzYVST1wPSs+W/xM0VVJWigPBopPwpa2OdijmvTPhwRqPhTWdJbkkFlX/eX/EV5mOtdp8L9Q+yeLPs7HC3cRTHqRyK+c4koupl05R3jaS+R6OWVFDExT66feceylGKsOQSDXQ6CftvhvW9PPLLGt0g90PP6Gq3i/T/7K8XahbBcIZTIn+63zf1pfCV4ln4ntROf3FwTbS+6uMV0VZvFZdGvDeya+WpnCPssS4Pq2jFHIz60tWtQsn07UrmylGHglaM/gcVU6V7FKoqtNTXU4Jx5ZNC1IpyeajpwNadDM07r97bWtx6p5Tn3Xp+mKrjpU2n/AOkW81p/Ew8yIf7S9vxGagyM8ce1YUW4t030/IVVXXMdr4B1f7JcS2jo8gkGVVOTmu01G5eeyYJZXKspDKxUcEc+teP2F5JY30VxGcNGwIr2rTL5NT06G5iIYOoyPQ45rkxUFGXMkezl9Vzp8jew2HVDLEkiWd0wYAghBz+tVLC8a3a4t/sdyQspdFCjKhueefXNWbD/AEeeaybjYfMi90P+Bpbn/RtVguOiyjyZD056r+tcumqR6Ou9yrc3xTULW4+yXC8mIhlAzu6Ac9cip7m7ee0lhFjdEuhUfIP8an1SF5dPfywTJGRIn+8DmrKOHjVwPvgHHpmsalRqyitSlFtu5TgvWitYl+yXEjhBlo1BA4HvVW3vSmqXR+x3B3hGC7RkcfWrOlZWzeAjmGVkI9s5H86UZXXuD/rIP5GinBQd+oSk2tzh/H+iyan5eqWttcrMirE6Ooww5xjnr1rzknrnjHX2r37Vsraxt0KzRkHHvXH+MfCCwNPrejwAzLy8IXIVu8gHqPT8a9CliOSPKzzMRhnKTmjztLO6RlfAhbhl3yKjexwTkVeuLOS+USGHy77aWKDBW4A6sh6Fh3FULazu9QkkNtBLcMq+Y+0FyB6k/wBafYXBimWJywikZdwB5Rs8OPQg0VFKTbi1zL+tdTkjZaSWjKZI9aStaeL+0mlIATUIyRKi/wDLfHVh/teo79aysY6jHtXXSrKa1Vn1MZ0+V6HZ/DjT2Oqyam9vNLHbqVTyhn5j6/hXoNxemfUbWM2lxiHMrJtGfQHr061X8D2X2PwbZAptaVTK5x6nj9MVo6ePPnubw9JG2R/7i/4mvOrT5ptnt4eHJTSI7zVHitJGWzuVYrhSyjGTwO9FpcNa2sUIsbr5Fx9wcn86dcYutTigAykH72Tjjd2H9aZ4g1WPSNHlnLDewKoMdT61mleytubSlZOTeiPPfG+q/wBoauI0DKkIxtbqDXOQxNPMsUeS7kKo9yaSeVpZmlflnO411Xw80c3+vfbJV/cWY3Z7Fz0FdGYYyGXYKdZ/ZX49D5+jCWNxSiur/A9O0uyXTtJtrRRgQxhT9e/615d8T9RF14jSzjbKWcY3D0duT+mK9VvbyHTrGe7uTiKGMux9hXgF3enUNUlvbze5mlMkgU4JBPQfhX5fwVhp4nG1cdPovvbPsc+qxp0I4ePUqZ9KTvXRtpWg6pltJ1VrSYj/AI9r9cfgHHBrnXTy3ZeDtJGR0NfrWHxUK94pNW6NHxtWhKnYZXRa7mz8N6HYZ+Zo2upFx0LHj9BWNp9o+oalb2kYy08qp9MnFaPi28S78SXIgOYoCLeL/dQYrkxH73GUqfRXl+n6nRS9yhKffQxkUyOEH3mOPx6V6b8QmGm+CdJ0xflLFcr7Kv8Aia4rwlpx1LxXY2/UeaHb6Dk/yre+Kl/9o8SRWitlbaIZHoTz/hXh5l/tWc4bD9IXk/0O/C/usDUqfzaHC0UHikJr6/Y8bdifhmuo0my0mw0aC98RQNMdTlMcCo2GghXhp/c7sADuAaxtE0uTWdattPj485wHfsi9WP4Cuv8AEWg2+s6q11pOsWj6ZZKtvKx+UWiIOMD+MHsR1NYVZK/Iztw9PT2lrlbQfB6WviG7m1+aKLTNMAkM8h/dzkjMePUHg4FbOmaDda5fagf7Rgv9J1qIeXM8gRlmX7oWM9GTGCB/CapX2nSaz4BVNN1ZNSi0dt8AX5HaI9Q0Z5DL268V5+kjo6tG7KyHchBOVb1/Qc+1YRjKqua+qOqUoUGo20HXVtNZ3Uttcrslhco4x3BxUFdfr2mXmu6Pb+Jra2dt0Wy+IH8acb8dwRjkVyHT6etdcJqS8zz6sOSXkTpYXkiB47SdlIyGWJiD+lWDouoJpj6g9rIltHII3ZlKlSR1IPb3qmJ5VXas0ijsA5A/IVYbVr7+zH0/7TJ9leTzHQsTuYDHJPb2rnq/WLrktuvuNIez+0Uz1Nbfh2xtvJutX1aHzrGyUDyScedK33Uz+tYi7nYIoJLEAAdzXReJyul2dl4dhb/j0Xzbwg/enYZIP+6MCtpu/ujopK830J5vCsd/rVnLpTFdIv0NwJmORbqn+tRj6r+uRUcni3yfEdvcWkRGl2Y8iO17SQnhtw9WHJNL4U1VpLG+8MT3RgtdVXbE5PEUwwV/4C2Ap/CucuYJbW4eC4jaOWJijq3UEcGsoq8uWfyN5TUYqVNb7l7xHpS6VrDw27+ZaSqs9rKP+WkT8qR/I+4rJbiut02wufFXg97O2hea90eTdAem+CQ/NHn1VhkD3NcpLG0bsjgq6khlIwQfStISumuqMasbNTWzI6DRSGtEYiGvTPgN/wAj9df9g6T/ANGR15ma9M+A3/I/XX/YOk/9GR1hiP4UjswX+8Q9T6Gooorwj685vxz/AMiBrv8A14Tf+gGvlGvq7xz/AMiBrv8A14Tf+gGvlGvUwXws+ezb44+gtKKSlr0DxQFLmkpaYDhz6fjXoMGn3tr4c0+ySzWGVGMkkrWMk+8sRt2lAyk471yXhvTRqesRxuMxR/vJPoOg/E4Fb3iXV3TSxBbSsi3UzH92xG5F4J/Fs/gorCo22oo66KUYuTN+5IgtpWvAIFSHzmW4XcxjBx8qZJPPA3FRntXEajrfnJPBp8H2eKc5mkOPMm9iRwB7Dj603SdYjt7S4sNTa4m06ZM+RG/STOQwz0OfzrPuWtzOxs1lSIjgSsC3vkinGnysVSpzJWL2m6V9vV7i4mFtaRMFeXaWZmPREUfeY1omy0GJY2MV+4dnXfPMkAUqMkEbTgnsO9b1lpqR+G47dplhnS2EkC4+Y3DfvM+2EAFV9Haa7n0iOa4ikDXrKkLqS86yZ8wsCcLwxPQZ681m5t3KVNK2hRn0PTY1X7VZ6lab03oUuIpfMAAJABwScEcCq66Ro6xrLI2smJo/OUm3jTdHu27slumeM1ahP9jvBBaCW2vM7JJrpTuTccL5a9cjA+ZfXBqBlt2RYTFFKeSLlo2R2ZVJLMSCMbjtK+qjpVKUu5MoxWttSSePR7CTy2063YoASZ71pCMnB3BMDIHJHpUp1VrV5rNLbT7NXlMfyQmKUoBkZBBO1uPftVFrR18u3aRopJIURFZgmd2W2lRywPAHuRV46xbeGr64t4LC3urp/lu9zkRRt18tAOflP8Wc5HFDV9NxJ9XoUdTsIbvSV1Sxt1haI7buKJWCLnhXUNzjOVPoR71h1vX+u2kmnzQ6fbTQy3QVJTK4YIgO7ap6nLYJJ54rBrWnzW1OWty390KuaXfvpmq2t6nW3lV/wB5/SqdKKK1NVacqb6ozhJwkpLoejfFSwWYadrdvzHOnlOw7/wASH8iR+FedqSGBU4I5B9DXqOgY8XfDC40uQ7rqzGxc9ePmQ/lkV5eVKkqRgg4IPrXzHDlRxo1MDU3ptr5PY9TM4pzjXhtJX+fU6XxXtv49O1+L7t/bhJyO06YVv0wa5quk8P8A/E10PUNBkI8xgbqz9pFHzKPqP5VzZBUkHr3r18uk4c2Ge8Xp6PVHHikpKNVdQzSg0UCvW8zhJoZXgkSSM4ZSGB9xV69RdyXMIxBcAsP9ls/Mv4H9CDWaDV+xnQq9ncHEMxBDH/lm46N+uD7H2rnq3i/aIqPvLlZHnPNdR4R1iOC5WxvJJFgf7pVyu0k1y8sT28zRTDa6nDChWIbK8EdDWkoxqQsnoZ05yozuj2W+0tRD9pt3nd4/mIEhzIndQfpTzpdte2Ye3nmfzF3RsZSRnqP1rmfCfi93gSxuEaSYYWIA4J/Ouk+0SaSzMLSUQzNu27hiJj6fWvFrOVN8i3PpqM6dSPMiaxtIpLbJll80jZJiYnae4qCx06Ima3kknDQPtUCUj5D0pr3c9ldSXRspEglwJBuXhux4pbi6ngvEvTYyxrt2SfMOR2/WohTcW23q+pq5K6sLHp0MerSwtLMEkiEqYlOTg4b+lFzp0UN9a/vJsOzIT5pyOPWkvrq4R7e9NjIgt2JY7hyrcEfnil1C6uGt1kNlIghkD7iw7da21M/d2DUtOiisWdZJiVZThpCe4q1LpkKWsn72fhSw/enniq2o3VxJpswNjKo2Z3FgQOh/pT7m/uBp8r/YpVBiPz7hxx1qJxk1puWnG55vq0174P1jzdIcQR6jZo7AqCMn73X3/nXMWcRnugztiND5kr/3QDkn/wCt616H47hkn0Czup9OY/Y8IXd/4WAHQe4zXnc128kYiVViiByEQYyfUnqa66MOa7UbSe7PIxHuys3puhjzO101whMbFy4weVOc9a6zwrodv4r1NZrpSnkHNyqcLN6EY6HPWuPHvXqfgK1utI0FppbCQm4fzAxYLhB0PP51pio2heGkun/BJwnv1Pe2N+9sIreCOG3kmWSQhI1804A7n6AVJcWFrYWW5pLgBAAFWQ8nsAPWkguZLmQ6ibOXhcRKWA+X1+tRC5uLy4jvHs5Gt4lJjUsB82cFj/SvNp1HLR7nsSUVsS2+lRW9p5t3NKshG6RhKQB7fgOK828TauL++aG3dzbIx27nzk1s+LfFzXURsrPMa/8ALTnvXEE8816uHote9Lc8XG4m/wC7hsKeOhr2DwHJpg8Nxw6ZMJZF5ucjDBz6j+VeQQwy3U8cFvGZJZDtVB/ETXr2nWlp4F8JPNdMGmUb5n7ySY4Ue3YV8bxs41sPDCwb9pJq0V+p6fD8ZQqSrNe6luYnxP10RWsWjW7/ADSHzLjHZR0H49a8vJxV2/v5NW1aS7vGO6aTc2P4R6D6CtK88MeZate6BcjUrRRlgoxLH/vLXsZPh6GTYOnhqmjerduvqcuOq1MdWlVWxz5OaARSt05FNAyRjk5r6TmSVzy0nex0nhRRZrqGuzLhNPgKxZ/imfKqPwGTXNsSxyxyxOSfU10viE/2Roen6Ah/fD/S73HeRh8qn6LXNAEkKoLHOBjvXlYF+0dTFy+09P8ACv6bO7ELlUaMd1+bPQ/hVp4Wa+1iYYjgTykY+vVj+WPzriNc1E6prl5eMciWUlfp0Fek6rjwd8L47Fflu7pdjY6735Y/gOPwrycmvFyJfW8ZiMwezfLH0R3Y9qjh6eGXqwNNHJpSasafZTalqEFlbLumuJBGo9CT1+gHP4V9e3bVnjRi5OyNvT8aN4RuNQPy3OpMbW29VjH32/kK5vcSMZ4PUetbXiq/gudXFpZMDZacn2WD/a2/eb8WyaxMj1rKnZrm7nTVbT5F0LWnahc6XqEV7ZybJomyD2YdwfUEV01rdeCDqRv72LUDv+f7AkamONz1Gc5Zc9B9a47cB3pC2erfrROEZahTqyirHo9leWV9rsWoR+J45C37m306eLygwI+aJgPlVSOAfUiuT8X6A3hzxHcWW1xCcSwF+pjbkZ9xyD9KxCewNdXPqM3ivwgUunE2oaIoaOT+KW3PDA9yVOD9Ky5XSlzJ3R083toOLWu5yRpKX39aMccda6NjgSu7HQeEoIYLq61y9UNbaTGJQh6STMcRp/31z+FYNzPLdXMlxcuXmlcvIx7sTkmug8Q40fQdP0BTtlx9tvfeRx8qn6L/ADrms+9Zxs25M6aicYqHYVTg8Zz2PpXUTatoOspBe68LxdQiURzLaKu27A4BLH7p7GuW7daTI9RTkoyFCTgrdza1LxPdXflwWKrp1hCwaK1tjgA/3mPVm9zVjxQseo2tp4htwAL0GO6UfwXCj5v++hg1zmR6iuh8KONS+1+HZWXGpJ/oxbolwuSn58r+NZyUYWaNoyc7xfU5ykNPdSjFXBVl4ZT1B7imVunpc5WrOwlemfAb/kfrr/sHSf8AoyOvM69M+A3/ACP11/2DpP8A0ZHXPiP4UjrwX+8Q9T6Gooorwz685vxz/wAiBrv/AF4Tf+gGvlGvq7xz/wAiBrv/AF4Tf+gGvlGvTwXws+fzb44+goopKWvQR4gtKKSlqgOs8LSWyaTfRrf2tteykgC4fZ8oXAYHpwSx654FYusXcV3f4tcm2gQQw5GMqvGfx5P41nZpQahRSbZpKo3DlF7E/wAq6i28ItPrFvCJCbQwxTSSEcyhhkrEo5Ynp7c5Irl6uw6zqUFibKC/uI7VhgwrKQvuMdhSkpNWiwpyjHWSOyuL9dQ8YCK2ZWh0+OWV/LOQ8hXG0Hvj5UH0JrMnYaFpv2h0YandRGG23DDpDnDysMnB/gTH8IJrG8P3sVjrML3BxA4MMvsjjBP4ZzWz4h0lRoltdyzxrNZxx2e3erC4QbsOmDnhcZyOKy5bSSOj2jlFyMyz8RahawrA0iXMC9IblPMUfTPI/CpxrmmE7pdDIPIYQX8iKwPUYIPWsLPr+VFb8qORVJI7+5Zra41TW7RZFRrVJoC6ApG7bVXa3UlQT9K4MsS2Sck8k+prutKEGsaPFb74YxNZC1ll3jfC6uCuVJHy98iuIuIvs91LCWV/Ldk3ocq2CRkHuOKilZNmuI2TXUbmigUCtjjClooFMR1fw91saN4njSVtttdjyZMnof4T+f8AOnfEHRP7I8TPJGpWC7HmpxwD3H5/zrlFcq2V4PY16qoHj34ehRhtSshx6lgP6j9a+NzO+V5jTzBfBL3Zfoz28NbE4aVB7rVf5Hmen302nX0N5bnEsDh19OO1a/iqyhW6h1axH+g6kvnJ/sP/ABr+BrBZSjFXBDDgj0ro/DdxDqFnN4dvnCJdNvtJW/5Yz9vwbpXuYxOlKOMh0380cNFqUXRn129TnDxRUtzbS2lzLb3SNHNExR1b+EjqKi6V6kJKcVJdTgnFxdnuhRTgaZSirINWFhqUKwOf9KiH7on/AJar/dJ9R2qsiuXCBCWJwFHXP0qCMM8iqoLMWAUKMkntiuhMyjKeZGNZK4abPy9+M9N+MZb29a4KlSWHlywV0/w/4B0KHtVeRBvGkqUhYG9Iw8in/U/7I/2vU11XhvxojRLYawN8ZG0OeeK4Jw0bskisrg4ZSMYNANaxw8JRvJ69yViJ0Z+7t2PaEmS1i8q4In06TiOX73l5/hb29DT4j9n/AOJfeHzIJV2wSnow/uk+teU2GuT2iiOVmlh7oWPT+tdTba1p1yymKEsjD54GkPyH/Z5rlnh5QPVp4uFRb6nX2h4l0y85ZVOxj/y1jx1+oxg0WoM9hLYzn95EPKbPcfwmufS409v3UhkGeY7jLbk9iM9PpVtfskjBoo18+HiaJJGxKvqpz19qxcGdKqGrE5ufD7hvviJkYZ6MAQR+lJePv8NkjrJCq/iSBVS3s7I3mxV3wXS74G8xuo+8vX8ajWyt5NMtBsPmSTCM/OecE57+1LQrmLXiW3+26DNYKAXugIkHv1z+leGyRtFI0UgwyEqR6EV7XLBYi8lmZCLe2GwDe37yU9QOewxXn+t+FbiXxBJ9le3jjlHmtvkwsJ/un1rrw8+VWZ5+Lpudmit4J8PrrmtA3H/HtbAPIP73oPzr1KV0v2aJWWPT4f8AWvnAkI6IPb1riPD+n22jxzLcTNJvIP7sFS2P4fYe9WLrXtOtlfzIQW5CW6uSgHqR3NTUTqz90ulKNGGuh1stwtzH50z/AGfT4+VJ4M309v51y/iDxS2rwyWejtsZOdmeZVHXae5HXHcVyV/rFzfDaXZY+y7s/mazlkaNw6MVYHIIPIqvqWvP9pHLWx7fuR2e4rE5Oeueab1xweeB7mtEoNWBaBMXo5aJR/rvcD+97d67vwd4JXTgup64FM6jdHE33Yh6t7/yrhzLO6GXUOap8eyj1bJwuXVMVO0du5L4H8KLo9qdW1YBbllJVW6QJjqffFcZ428Vt4h1LyrZiLC3OIgf+Wh7ufr2rS8deNv7TZtN0pyLNT+9kHHmn0HtXK6PHplzdmLV5JII5FKxypyI27Ej0rwMpwFeVSWb5grye0f5V/wx62LrwhFYPCv3Vu+7M8k9Kkt7qe0lMltM8L4xlGxkelXNX0a60a5EVyoZHGYp0OUkX1BrOxX28J0q8FKLvH7zwZKdKXK9GBOe+a3fCtlEbqbVL5c2emr5rg/xv/Cv4msa3t5Lq5igtkLzSMFRR3Jre8SXEOnWkHh6ycMtu2+7kH/LSbuPovSvPx03O2Fpby38l1/yOrDxUb1p9PxZiX97LqOoTXlzzLM5dj9fSug+H+h/2x4nieRc29niV+OGP8I/OuXALEKgJLHgevpXrFuq+APh6ZZMDULoZwOu9hx/3yK8zPsU8Lho4XD/ABz92K/Bs7MvoqtWdao9I6nK/EnW/wC1fEhtYGzb2AMQwfvPn5j+HT8K4w09mZ2LOdzMcknuaYa9jLsHHBYWFCPRficOJryxFV1H1Crel6pd6NqCXunSeVcRg7H2hsZGDwfaqlFd7WljBNp3R0H/AAnOvf8APeDrn/j0i/8AiaQ+Ode/57wf+AcX/wATXPmkJqPZx7G3tqnc6E+Odd/572/42kX/AMTSf8Jzr3/Pxb/+AkX/AMTXPE0lHJHsHtqnc6H/AITrXv8An4t//ASL/wCJpH8c6+0Ukf2qFVkUo+21jGQeo4Fc9QeKOSIe1n3E+lPikaGVZUIDoQQSM8imUlO1yLnSP4/8QyPukuoHb+81pGSfx203/hPNf/5+Lf8A8A4v/ia5w0VPs42NvbVO50X/AAnmv/8APxb/APgHF/8AE0n/AAnmv/8APe3/APAOL/4mudNIaOSI/bVO50Z8ea+P+W9v/wCAcX/xNC+PvESMHS6gVlOQy2kQIPr92ubNJS5I9UNVqncmvLua+vJru5bdNO5kkYKBlj1OBUFLTTVbaIhu+4GvTPgN/wAj9df9g6T/ANGR15nXpnwG/wCR+uv+wdJ/6MjrCv8AwpHXg/8AeIep9DUUUV4Z9cc345/5EDXf+vCb/wBANfKNfV3jn/kQNd/68Jv/AEA18o16eC+Fnz+bfHH0ClpKK9A8Ww7tQOtAq7pOlXetajFY6fHvmkPfoo7knsBQ3ZXYKLbsipilAr1vTPhRpcMKnU7ia6kxyEOxf8a0n+Gnht49otZVz0IlNc/1mB1LCVGjxOivQ/EnwxaytZLvQ5XmSMbmgl+9gdwf6V58i7pFXplgORW0KkZxujnnSnB2khBSg46V6wvwn0naM3l1nAJ6U7/hU+k/8/l1+YrL6xSvqzZYWpbQ8lpccV6yfhRpI/5fLr8xXC+MdBg8Oa79itZXkQwrJl+uSTVwrRm7Iynh5wjzSMHPNLiu88HfD+LWNPTUdXeRIZOYok4LD1Jrqz8OvDL5hELh06hZ/mH1qZYiEXYqOGqTVzxjNKK6vxn4NPhp4ri1kaazlYqC33kbrg+tcoozW8ZKaujmnBwdmO7UZr0H4beGIruObVdSgWaI5igjcZB9W/TA/GsXx1e2MuvG00y3hhgtMozRoBvfv+VZqreXKkXKg40+eRzHSuj8E+Ij4e15JZWItJiEnA7Ds34Vzg96OKzxeFhi6EqNTaQqFaVCoqkd0d58R/Da2V6NZ09QbS8OZAvRHPf6MP1rhlZgwK5BHcdq9K8Ca7b65o8nhfXNsmYysDMeWX+79R1FcT4j0G48PaxJZXGSn3opMcOh6H6187kuKnRnLK8X8cdn3j3PSx9FTSxVH4Xv5M17tf8AhLNEGoxDOr2KBbpF6zxgYEnuRjB+lcpVvTNRudK1CO8s32yRnoejDuD7GtjW9Ot7/T217Q0/0Zji6tx1tnP/ALKe1epTk8DV9i/4cvhfbyf6HLNLER518S3OdpyozsFQFmJACgcnNCRs8iqgLOxAVQMkk9q0WZNIUxxMHvmGJJAciEH+Ff8Aa7E9u1elUq292Gsn/VzijFN3ewpZdIjMcbb75hh3B/1IP8I/2vU9ulZ4bB560wk/XvRmqp0lHfVsUp3dlsacd5FcosWoZyAAlwoyyezD+IfqKZPZywKHJWSJvuyxnKn8f6HmqAPrVi2vZrUnym+VvvIRlW+oqZQlDWn9wrqXxDgfU/jSh8HIPP1qcNZXPraSf99Rk/zH602TT7lEMioJoh/y0hO9f06VUa8XpPRmTpNaxLNvq93DgCTzFHZxn9avxeIgMebAwPqjVz4b0NOz71fs4SHGtUh1Oqh8SQxhQks0YVt4UrwG9avf8JjFgESYZXZwwQ8FhgkCuHB9MUuT2qHh4djX65VOnk8RwGMIXmkCksq44BPU1Ul8Q5/1EGD6uawyTSZNVGjBCliasupdn1W6n4aTavTEfFVMnNMJx14qxFYXMiCRlEUR/wCWkp2L+Gev4UOUKa1djHlqVNyHdVmw0u61O6jitVA3sF3uwVQT05NIXsrbpm8kHQ/djH9T+lV5r+eaVHaQrsOUVOAn0HauerOtUg1R0fdm1OnThL94euaJ4Y0nwhZHUNRmR7hVy9xIcKnsg/yTXK+JvGEvieCSx0d5LeFDkxsQGu19Qe2P7vcflXK6vr+o626tqNw0oQAKo4Ufh/Ws1XZHDIxVlOQQeQa+XwXDc1WeLxs+eruuy+R7VbM4+z9hQjyw/ECfX9KTIrTIXVkMkQAvlGXQD/XD+8P9r1HeszGcmvraVVS92WjR40ota9CaS8uZbSO1knkeCIkxxschSeuKhB60g7gV0OiaZb2NiNd1tc2ynFrbnrcv2/4CPWsK1anhKei32S6t9janTnXnr95Ys1HhTRf7SnH/ABN71CtnGf8Al3jPWU+/oK5ZmZ2O4kk85PerWp6hcapfS3l4+6WQ9OygdAPTFWPD2g3HiDVY7O3BCnmV+yL3NctJRwdOeKxTtJ6t9l2NZt1pxpUduh0nw58Nf2jqH9rXqj7JaHMYYcSSev0H88VneOvEh1/XWEDZtLbMcPPDHu34mup8b63beG9Di8NaKQkrR4kZesaf/FNXlvb2rxMoozzHFPNK602guy7/ADPQxlSOGorCUv8At5+YUlFBr7I8S12PEErR71jcp/eC8fnSNG65yhHODkHANegwTvF8P/D0Ueqx2wllkDWZjybn9/644xVz4kWsEWiveWygRXeqhwAOQwiKsPzFcn1izsegsInDmTPM2glU8xSAHkZQ8j1qE17Bq0zP4tuLc6pHcxx2UhWxWLH2f9yO/Q/hXj5H8q0p1OcxrUVSEoopK1MApDS0hoYCGkpxptAwooooGJmm0ppKBiUUUGpYxDSUtJQMK9M+A3/I/XX/AGDpP/RkdeZ16Z8Bv+R+uv8AsHSf+jI6wr/wpHZg/wDeIep9DUUUV4Z9cc345/5EDXf+vCb/ANANfKNfV3jn/kQNd/68Jv8A0A18o16eC+FngZr8cfQKKKK7zxWLXqvwj0+MWF9qBGZHcRK3cKBk4/GvKhXSeHvG+peG7B7SxjgaN3LnzFyc1FaMpwsjahKMJ8zPWPG2uzeH/DM13aEC5dhHEfQt3/DmvL/D/jTW7TX7Z7jULi6hmmVJopn3KykgHA7EdfwqHxB421LxJp62l9HbrGsgkHlpg5H/AOuqPhjTZtV8TWNrCP8AlqHkb+4qnJasYU+Sm+ZGs6znUXIz6FPDHP45rwvxFpsdn8QprSAYQ3iEKO24g/1r3RvmY+5rxfU501P4uIYvmVr+OPI77SB/SsMPvJI6cVrGN97nslzILeCaQ8+UjN+Q/wDrV5cfi7qGTjSbQ+n7x69K1WOWbSryK3XfNJC6oM9WI4rhNM+E9qIFbVb6VpsAlIMBV9snk1FL2aXvjrKq2lAz/wDhbuof9Amz/wC/j1y3iLX5fEurC+uYI4G8sRbIySOM85P1ru9S+E9o0DNpd9KkyjIWbDKfbPUV5te2Vxpt7La3sZinhba6nsR3+hrtpeyesNzire2Wk9j6A0aIW2iWMQ4CQIMfhXk3hHUJ5PiRHO0jM1zPIr5J5Bzgfy/IV6xo0q3Gh2EgOQ8CH9K8o8I6ZcRfElYGhdWtp5GfKkbQCcH8a5qVvfudVXmbgkd78RYhL4GvCesbRuPYhh/jXkOk6bNq+qwWNsPnmYDOOg7mvXviNMIfBF2rcGRo0H/fX/1qyPhjoP2exk1m5XDz5SHPZB1NVSqclFmdan7Surmz4i1G38HeDhHZ/LIEEFqvcsR978OSfwrxUsWJZjkk5JPeuk8da/8A254gcRNutbXMcXPB9W/Ej9K5r6V1UKfLG76nHianPLlWyClFFFdGqOUlguJbWZJreRo5Y2DIynkEV6tby2XxL8KmGcrBqtqMgjqrY6/7rd//AK1eSVd0nVrrRdQjvrCTZNGfwYeh9RXz+cZV9cgqtB8tWGsX+j8j0MFi/YvknrCW6G6hYXOmX8tnexmKeFtrKf5j2qzoerXejaks9mok3jy5IHGVnU9UI75r0e7tdM+JOgi7sisGqW64Kk8qf7p9VPY159dwv4dkktWXbqQ4lf8A54j0X3Pr+Vc+DzWGYUXhq8bVVo4/r6GmIwrw8lVg/cez/Q2tV0mCzsptT8OIxDHbOm4M9hnqox+W7tXH56enarml6td6NeC5s5MN0dW5WQejDuK3JdJsvEkL3nhtVivQN9xpbHn/AHov7w9u1ddKU8vl7OvrF7S7eT/QyqJYlc1PR9V/kcueaBSsrIxV1YMpwQwwQfTFJyK9yLTV0eY4taMWim0oNVfsIcGxUkM8kL74ZGjcdGViP5VFRScVJWeo02tjR/tV5P8Aj7gt7r/akj2t/wB9Lj9aQT6e/wB63uIT/wBM5QwH5jP61n5ozWPsIdNCudmiF089LyZf96DP8mpfJsj/AMxE/hbt/jWdmjdR7F9JP8P8hcy7I0NunL967mb/AHIOv5mkM2nR/dt7iY/9NJQg/JRWeTRmj2N95MOfyRojVHj/AOPOG3tPeOPc3/fTZNVJZ5JpC80jyuerOxP86hoqo04Rd0gc2x26kzmkpK0JFzRSZo60Ah6sVKspKspyCOoPqPetGQLqyNLGAt+BmSMcC4H94ejeo79RWYqs7KqKWYnAUdTXUW+l2nhmOO+8RDfenD2+mqfmHo0n90e1ebjK8KVuX4+i6v8A4B24elKe+xX0rRba3sxrHiMPHYqf3NsvyyXbdgO4X1NZ2s61PreoG4uAsaKNkMMYwkKdlUelXdTv5vFUhuZD/p0a/wCoX7roP7g7EenesaC3lupxDbpuc5OAcYA6knsKwwkJSk6+J+Pt0ivLz7s0rSSiqdL4fzC2t5Lm4WKEZY88nAAHcnsB616Lo3iDQfCvg15dLlW61CQ7WBXBZ/Uj+6P1rgZ547e3a0s3BVv9dNj/AFh9B/s/zqkx5PNRjsvjmcIwqt8id7d/UqhiXhW3D4rfcTXV1Le3Ut1dSGSaVizse5quetHWivZpwjTioxVkjilJyd2FFFKoZmCoMsxwBV+olfodLpuuz3OmWOkQ6Db6hPZszW8/zGRMvv6DjrW9f6L4v1zS/sl1p0EEf217xS0wBVmByuPTk/jXZeF/D0Hh3R4oI0X7SyhriXHLMeTz6DpVHxH46sPDl4LNoZLq4A3OqEAJnsSe/tXl87lO0Ee0oONO9SRi6j/wkNpqB1V/CFg85QrPJBIzGZSu0gjOcYFecalPHc38ksNjFYKT/wAe8WdqY9M8/wD66908P+ILPxFp/wBqsty7W2SRv95DXIfE7w7CbAa3bIEmjYJcBRjep6N9QcD8a0o1LT5ZGeIpuVPmi9Dy/Nbmm+DNd1WFZrWwcRN0eU7AfpnrWz8OfDUer6pLfXqB7a0IAQjh37flXqGsavaaHpUl9ekiGPAAUcsewArSriJRlyxMaOFUo889DyOb4beJIk3C0jkwOQkyk/lmucvLG60+4MF9byQSjqki4NexeHPH2n+IdS+wrby2s7AmMOwYPj39av8Ai3w9D4g0SWJ4wbmJC0EmOVYdvxrNV5RlaaNJYaEoXgzwq3t5bu5jt7ZDJNI21EHVjWt/whniL/oEXI9ttSeCYS/jvS42GCs+SD2wCf6V7ncXENrbyXFzKsMMY3O7nAUe5rStWcGlEzoYeM4tyPBz4N8Rf9Am5/75o/4Q3xF/0CLn/vmvZf8AhLfD3/Qbsf8Av8KB4u8Oj/mOWP8A3+FZfWKnY2+q0ukjwK5tprS5kt7lDHLExV0bqp9KS2tJ724WC0heeVj8qIpJP5VpeKJ4rrxXqU1tIs0Utw7I6HIYZ7GvXfA3hmHQNEimdAb64QPK5HKg9FrepV5Ips56VHnm0jzeD4beJZ0DtZJECM4klUH8RVPUfAviLTYWln092iXktEwfA/DmvUPE/j3T/DN8tm8Et1c7Q7qhACA9Mn1I7VsaDrlp4h0tL6wLKjEqyt95D3Brn9vUUeZ7HV9XpN8qep86kYODwR1pK9E+KfhyGyuYtYs4hGly5SdFHAfqG/HmvO664S51dHHOm4OzCvTPgN/yP11/2DpP/RkdeZ16Z8Bv+R+uv+wdJ/6MjrOv/Ckb4P8A3iHqfQ1FFFeGfXHN+Of+RA13/rwm/wDQDXyjX1d45/5EDXf+vCb/ANANfKNengvhZ4Ga/HH0Ciiiu88YBS0lT2lrNe3cVrap5k0zhEQdyf6U9tQtrYsaXpl5q9+lnp8Rkmc8AdB7n0r2/wAJ+E7TwvYkJiW7kA86fHX2HtS+E/C1t4Y0xYlAku5BmebHLH0HtVXxl40g8NW3kW4WbUZBlIz0jH95v8K8+dSVWXLE9KnThRjzT3F8a+LIvDumNHE+7UJlIiQHlMj75rynwncRR+MtOnvZlSNZ/Mkkc4A6nP51lX17caheS3V7K800pyzueTT9P0271a7+zadbvczFS2xMZwO/NdVOkoRaZx1KznNNHvLeKtCSNmOq2x2gkhZOTXmtz8UtcfUXktfs8duGOyExZ49znOTWHJ4M8RQwtJLo9wqICzMQOAO/WsX0NRTow9SqmIq9rH0PoWqrreh2uoIuwTLlkznaRwR+dcB8WtNRJ7DUkADSBoJCB1xyD9cZrpPhtn/hCLcMekrgfTNZvxZIHh+yz1N1x/3wc1zUvdrWR11feoXZh+DviDHo1gunatFJJAnEUsfJUehHeurPxK8OhdyySljyQIeT+NeLU4Hv29c12ToQk7nBHEzirI7/AFDWZ/iLr9npFjE9vYo5dy3XGMFj6ccAe9dR421mPw94ZWysB5cs6CCBF6ogGP5VB8ONCXStEbUroBJ7sbyW42Rjkf4muNvtW/4Sn4g2shJ+yi4WOFT/AHAev4nmsElKVlsjpbcYXlvI3dB+GCXFlHca1cyq8i7hDD1XPqx7+1ac/wALdFkjIt7i6ifsxYOB+FdJ4kunsfC+pXMJ2PFbuVYdQcYH864P4WajcS6lfWs00kiNEJMMxOGzz1rNSqzi5p7F+zpRkoNbnJeIdBufDmrGzuiHBXdHIvR19f8A61Zdem/FqFTY6ZPgbllePPsQD/SvMQa76MnOCZ5uIpqnUaQtORDIyoilnY4CgZJPtSKrO6pGCzMcBQMkmtJnXRo2jiYNflcSSKciEf3VP971P4UqlTltFatmcY31Zc07U5fCt0stk6vf/wDLXJyka909yfXtXfPFo3xL0ffERa6rAn/AlPofVfftXkRqzYX9zpt2l1ZzNDNGcq6np7V4OYZI8Q1iKEuWsvtfo/I9LC4/2f7uorwfT/Isaxo99od8bS/h8tgflYDhx6g1Tgmlt5llgkaOSNsqyHBU+or1LSfE+jeOLJdK8RRRxXpGEbOA59UbsfauV8UeBdQ0AvPCGu9PzxMi5aP/AHwOn16Vjgc555/UsxjyVPPZ+g6+B5Y+2w3vR/FCDWNN8RqIvEOLS/xtXUYl4f8A66Dv9ay9W8P3+kYkmUS2zfcuYjujYfUdPoaysdc81qaTr+oaQWS2k3wN9+3lXfG49wa9P6tWwz58K7r+V7fJnL7WnW92rv3Mvr0oPFdNjw3rp4kOhXh6h8vbufr1WqOp+GNW0mPzri2E1sfu3VufNjYf7w6fjitaeYUm+Sp7suz0/HZmU8LNLmj7y8v60MgZoz60nP8A+qjPFekmmtDlatuONIDSUU9ybC0optANAWHUlGTSc0BYXNFGfakoCwtByOtGO/b1rX0zwzquqJ51vbGK2HL3NyRHEv8AwI9awrYilRV6kkjanRnUdoK5j1q6T4fv9XBeBPKt15kuZTtjQe57n2FaJHhvQj87nXr1eyApbof5tWbqviHUNXIW5kCwL9yCJdkaD/dFee8RiMU+XDxtH+Z/ojpVKnR1qO77I1W1bTfDkZj0Afa7/BD6hKvCf9c1P8zXMzTy3MzzTyPJK5yzOckn60zOec1cjskjhW4v2MULcon/AC0lHsOw9z+tbU8PSwvvy1m+u7/4BM6kq2i0RHZ2808u+FvK8ohzMW2iPHfPata5ni1KCaLTfkues7bdpu8c5A7eu3v161k3N606iONRDbr92JD+pPc+9QK7IwZDtZTkEHpVzoSrPnlpbZf5ijUUFyoRvyph61qMi6whkhG2/UZeMcCcDuv+13I79u9ZddFKopaPR9jOcLarUKSlpK220Mxasac8cerWck5AjSdGckZwAwzVamk1L1Vilo7nuZ8c+HNx/wCJnH19D/hXkPiS9j1HxPqF1DJ5sUkxKMCfmXt1rJq7pOlXus6jHZ6dCZZnPPYKO5J7AVhClGm+Y6aladZKB6J8Jgxs9Rdh8vmKAffBrofHpA8C6luPDRqBn13rVzw5oUPh3RY7KFhIw+aSTGN7dz9K5H4pa6iWkWiwtulkYSzgfwqPug/U81wr3610el/Cw9pGx8NrcQeDIJAMNNIzscdecf0rL+Lc7JothADxJcFiPXC//Xrf8CLt8EaaCesZP/jxrmPi8cW+le7yfyWqhrXYp3WGRxHhWc2/i3S5FyCLlQcdweK9+57/AI1886Cf+Ki07/r6j/8AQhX0O2c1eK+JEYLWLPI/DlmIfi/LCBhYZZ2H/fJ/xrufH0vleCb8r/EoQe+TXN6JED8Z9VOMbI5G/E7R/WvQLuO2kgJvBGYYz5h8zoMc5qKsrTiaUo+5JHg9p4S1+9jEttpc5Q9GK7QaqajoWp6SQdRspoAejOvH517LbfEDw3dX62cV+RIzbFdoWVGPoGP9a37m1gvbV7e7iWaGQENGw4NX9ZnH4kZrCwkvdep88aNbi712xtyMiS4RSD3Ga+jMY4HQHAFeLw6GNC+LFlpwyYRdI8RP8SHkf4fhXtI+8Pr/AFqcTLmsaYWLipI+f/Gc5ufGuqyE5H2gqPYAAY/Su4+D8zGx1OEnIWVGA9Mj/wCtXn/iY/8AFUap/wBfUn867j4Okl9V56eWcfnW9VL2JzUX++Om+I1sJ/At4ccw7ZAfoRXhdfQHjVd3gjVAf+eBP8q+f6WFfuMrF/Ggr0z4Df8AI/XX/YOk/wDRkdeZ16Z8Bv8Akfrr/sHSf+jI6uv/AApE4P8A3iHqfQ1FFFeGfXHN+Of+RA13/rwm/wDQDXyjX1d45/5EDXf+vCb/ANANfKNengvhZ4Ga/HH0Ciiiu88YK9E+EukJPqV1qkqg/ZlEcRI6M3U/lXndd94E8a6T4Z0ea2v4rlppJd+YYwwxj61lXv7NqJvQ5ef3j16Tf5T+VjzNp27jxntmvKb74Y+INRvpbu6vrN5pnLuxY9fyroP+FseHuphv/wDvyP8A4ql/4Wx4f/543/8A36X/ABripxqw2id05Uam7OY/4VJrP/P5Z/8AfTf4VH4YtJPCPxMt7HUZYyzqYi6E7RvXj+Qrq/8AhbHh7HMN/wD9+V/xrznxdrdvrfieXUtP81ImCbS4CsCB/nmumHtZ3U9jmmqUUnA95miWe3kicYEiFD+IxXiN34D1+31ZrSGwklTfhJlxsI7HPaul8P8AxVSO2S38QwSFlAH2mEZ3fVfX3FdGvxI8MFc/2g4z28h81jBVaL0RtUlSrxTb2Nbw7pX9iaBaafkM8SfOR0LHkmuC+LepI95YacjZaJWlkGemeAPyrR1f4r6fFC6aNbS3M5HyyTLsRT64zk/pXl17eT6hey3d5KZZ5WLO57/5FXRpS5ueRliK0OTki7kNb3g7QW8QeIIbdlP2eL95OewQHp+J4rBzjrx9K9c8C/2P4e8NeddajZi7uV86Yecu5Vx8qfl29TXRVk1HRHJQgnK72JPiRrq6Zoa6XaNslvF2ttP3IuhH49K808OzCDxLp0jHCrcJn86PEOsS69rlxfSkgO2I1P8ACo6D/PrWarMjBlOCpyCPUUU6fLC3VhVq8079j3/xRbtd+FdUgQbme2fCjvxn+lcB8JoHbVr6fB2JCqk47k9K1dC+J+nvZRRa2JLe4UbTIib0f345B6VoN8Q/CtpGTbzO2TnZBblST+g/GuOKnGDhY73KlOSnzbGZ8W5VXTNMi43NM7fkoH9a8wjVncJGGZ2IAVRkkntW34o8RT+KdYScQmOJB5cEI5YD1Puaquy6RGYomVr9xiRxyIB/dH+16nt0rojL2cFBK7/rU4arVWbn0HM6aRGY4WD37DbJIpyIB3UH+979qzPc9abkn8aWtqVPlV3v1OecubYWlpBS1qZi575rprfx9rcOhTaaZ/MDqEjuG/1kY7jPfjjJ5Fcxx6Udq5cRg8Pire2gnbVG1OvUpX5Ha5om4tb3/j8X7PL/AM94l+Vv95f6iormymt08zCyQ9pYzuU/j2/GqdTW93NaSb4JGQnqB3+o6Gr9nKnrTenYnmUviQzOAR+tXtN1rUdHfdpt5Lb+qqcq31XpTRc2d1/x+QNbuf8AlrbDg/VCcflj6UHTJHXdZyxXa+kRw4+qnBqKjpVI8taP3r9RxjKLvD8DX/4STT9QP/E90SCVz964tD5T/UjoaDpnhy+x9g1mSzdv+Wd7DwP+BCudeN4mKyKUYdQwwfyNMz/+quRZfTT5sNUcfR3X3O5v9Ze1SKZ0b+CtSdd9hNZXq9jBcKSfwPNU5/DGuW/E2l3XHdY938qykYocqdp9RV2DWtTtsfZ9QuosdNszD+tX7PMIfDKMvVNC5sNJapr7iJ7C8iOJLO4XH96Jh/So/Im/54yf9+z/AIVrL4v8QIONWuj7lgf6U4+NPEJPOqTfkv8AhT5swW8I/f8A8Ajlwz6v7jMSwvJDiO0uGPosTH+lXIPDGt3J/c6VdH3aMqP1qR/F/iB1wdWuh/uuB/IVSn1rVLn/AI+NQupM9d0xNL/hRlsor72O2FXdmsvgrU1UtfTWVio6/aLhQQPoMmlGmeHLHP2/WpLth/yzsocg/wDAmrnGYv8AeJb6mgHFL6riqmtarp5K346le1oxXuQ+86T/AISTTtPP/Eh0SCNx924vD5zj8DwKydS1nUtXk3aleSz9wjN8o+ijgVSRHkfEaF29FHNWxpkiYa8kjtF9JGyx+ijn+VVTwuFoS5mry7vVkyrVqis9F2KRzVi3sZrhS4Aji7yyHav/ANf8KlNxZWv/AB6wG4f/AJ63I4/BP8SarXN3PduHuJGcgYGeg+g7fhXXzVJq0VZf10MuWMd2W/PtrH/j0X7RMP8AltKvyqf9lT/M/lVKaZ5pWkmkaR2OWdjkk0zNJVQpKGu77kym5adAJo/GikrUgcjsjqyMVZSCGU4IPqK03UavG0kQAvlGXjUcTj+8B/e9R3rLpUdo5FdCVZTlSDyDWFSnzWa3RrGVtHsIaStRkXV1MkI26go3SRgf8fA7svow7jv1HpWUep7VVOq56S0aCdPl1WqEJpKKUccmtGRYvaPpN1rWpR2Vim6RzyeyD1PtXtvh3w5ZeHNPWC1UNKwBlmI+Zz/h7Vl/D/w8uj6BHcyqPtd4odyRyq/wr+XP41L438Tnw7pSi1w17cErEDzsHdse38682tUdSfJE9jD0lSh7SRH4w8aW/h6A29qVl1B1+VOoj/2m/wAK8aurqe8uZLi6kMs0rbnc9SaJ5pbmd5rh2kkkO53Y5LE9zUeMdq66VONNW6nHWqzqvbQ9z8CNu8Eabj/nmR/48a5j4v8A/HvpP+/L/IVtfDS6E/g6GIHJglZCPTuP51mfFu3Z9EsLgAkRXBVjjpuXj9RXHBWrandPXDnnGgKW8SacB1+0x/8AoQr6Iyf1rwPwbam78Y6aijdtmDt7BeTXvZcAbm4AGT/OqxWskiMHdRbPFdd16+0P4havd6ZKI5XkaMsVDZXj1qpf+PNf1GxmtLm7QwTLtcLEBkfWuk8JadpXijxNr0mp2q3J80SRbmIwCxGeDWx4q8EaLbeGL2403TUjuYo9yurEkY68E1rzwTUZLUy9nUknJPQ8fJ4449MV9GaJcNd6BYXDnLyW6MT6nFfOoBdgACWY4AHOT6V9F6PbPZ6JZWz/AH4oERvqBzU4u3KjTBXuzivFqrH8VvDU3QsFDfg5x/M16EPvD615Z8QtRWD4iaQd3FokTsfTLk4/KvU8hvmX7p5GK56nwxZ002uaSR86+Jc/8JTqn/X1J/6FXd/B0Y/tVv8ArmP51x3jW2a18aaojArmcuPowBH867z4Q2zJpGoXLDAlnCqfUKP/AK9dVVr2Fzjop+2Ok8cvs8Eaof8Apjj9RXgPb3r3D4mXi2vgmeMkbrh1iX35yf0rw808KrQY8W/fQV6Z8Bzjx7dYGf8AiXScD/rpHXmdemfAb/kfrr/sHSf+jI6rEfwpE4P/AHiHqfQm8/8APNv0/wAaKdRXhn1xzfjn/kQNd/68Jv8A0A18o19XeOf+RA13/rwm/wDQDXyjXp4L4WeBmvxx9Aooor0DxgHWu50DwJpeo+FbbWdX15dNW5naBFePILD3rhhXe3v/ACRPRf8AsKSDk1jWbSVjqwyi23JXsSwfDAReJNV03VdWW2h0+2W6FyqZDRtnBx7YrmfE2laTpVxCuh6wuqo0ZZ5FQrtbsK9q1KO1l8Ua6uoTPBat4fiEsqDJRdzZIFeKeJLXQLK5iHhnUp9QgaPMjzJtKt6dB2rCjUlOXvM6sTShTj7qR1B8AaDaaNp15q3idbGW+tFuUhaI8gjOM/U1X0jwPpj6BBq3iPXBpsV7K0doAhJbH8R9u9dF4jsPC914a8MP4h1e5sbldIj8qOGPcHG0dTg96peGfsHjzwT/AMIncTCDVdOZpdPlY8SLzx+R5H0PtS9pJxvd7lulTU+XlW2nmZmmeBdHuNFbUtQ8RpaQG7e1ik8olZCDwfUZqzb/AAxjTWNXttW1hLa306COf7SseQ8b5wcdvu1paZ4Zk1P4YRafeXttpkltqj+c105XBHUDHU/Wt5L3RNZv/FyNff8AEti0u3tprqIbsBd+4gd+tQ6s76MqGHptLmRwln4G03VfEy2Gj68l3aJbme4uvLI8oA9MVJb+DNC1fXrOx0HxA10twkrSZhIaLYMj862fB1poVnrusJ4b1Ca+tjo8heSZNpDc8YwKwfhR/wAj9Bn/AJ95v/QDWvPKzd9kZezgnFWWrf8ASLNh4D0ZvDttqms+IRp63EjoivFnJU4PSoNH8EaZc2mo6pqesrb6Pa3JtobkRZM7dMgenIrpJbTw9e/DnR18TancafGLqfymhj3bjuOR0OKzvB13o2q2GqeCLudltLq4aTTbthglu2R2JwD+dRzyaerLdGkpqKS2/E4jVbC1s9YltLC/W7tlYBLkLtBB749q0Nf8OWej6gsFtrVtcKyB9y9vbjIrM1jSrnQ9XuNOvlAmgfa2OjDsR7EVS3fnW0qdSdSM4TaSWqstTzHKMbxlHX8i79ig/wCghb/+Pf4Uosos/wDIRt+eP4v8Ko7j/k0uT6/rWvJU/m/BGPNDsaazw6bD/ocgnu3BzMAQsS+i5/i9+1Zuc9evc0m4+tFVTp8l31JlLm0HCjNJRWpmKDS802l3UCHUUmaUUALRSZooAUHFPik8uZJCN21gcdM0yiplFSTjLZjTcdUemReP/DurQrFr+jKpA27wgcAfzpx8PeA9a50/UxayN0Qy4x+DV5jn/Jpc5FfMT4chCTlhK0qb8ndfcz1Vmd0lVgpHo8/wmeT5tN1eKVe25c/qKzJ/hdr8WfL+zTf7r4/nXHwXVzbtm2uJYj6o5H8q04fFmv2+PK1e7AHQGQsP1qfqee0tIYiMvVB7bL5/FTa9GaD/AA98Sof+Qfu91kU1n3vhnVdMKjUbZbYuCUEkqjd+tXI/iD4oTpqrN/vRof6Vn614j1PX2iOq3AmMIITCBcZ69K6sL/bftUsRycvle5lV+o8t6fNfzIf7OkGd89uuO5lB/lSfYoh/rL63HqEy39KpUZr2/Zzv8X4HDeK6F7ydPj+9cTS+yR4/U0farSL/AFNnu/2pnz+gqjRR7BP4m2Pn7IuPqlyV2xyCFP7sKhP5c1ULEkknJPUmkpK0jTjH4UZuTYvNFJil7VQgoopKAFopM0hNAxaN2OnWmk0lAD1kZJFdWKspyGU4IrSdU1dGkhAW+UZeNRjzv9oD+97d6yqcsjRurISrKcgqcYPrWFWlzax3NacraPYQ/wBelT2EIutStbc9JpkQ/iauOF1lTLEqrqCjMiKMLcD+8B2b1HfqOaoLBOrBkglBByCEPBpRrKUWpaSK5LO61R9H+XtG1VwowAPQAYFMkt45CPNhjkI6F0B/nXzz52p/89Lz/vp6t6fa67ql4trYC8lnYEhfMZeB15JxXHOnCC5pSSR6McS5Wiots94+xW3/AD6w/wDfpf8ACsXxjaQJ4L1VhbxKRbnBEYB614tPNqNvdSWs9xcpPG5RkMxyGHbrVqbT9dVbmO4S7xA6RzKzk4Z/urye/arjR2kpEyxF048ptfDzxRFoWpSWt8+y1usZc9EfsfpXrN5ZWmtaa1vcotxazAdDkH3BFeBPot/FrH9lyWsi3xcJ9nI+YsRnFaOlWHieOaKHSRexNM0iqI5SgJjID98DHGaurTjKXMnYmlUlGLjKNz1zRPCGk6DcPcafA3nMu3zJG3FR6Csjx34wt9J02awtJVl1CZSmFbPlKepNefs/jC91RtHluNSlu1GWt/NOcevXGKozeGNbilCS6fP5jy+V65fbu28d8c1MaS5ryZcqsuVxhFol8IeIf+Ec1+O7k3PbyKYrhV67T3HuDzXulpeWmq2Yns5o7mGReqfMOnQivBLbwzrN5cGC2sJnkEQmKgD7hPBz057DrVy08N+KrW3W9sLS7gibo8T7f5H/AOvVVYRm7pk0ZVKejTsetW3gvQLXUBewacgm3bhnJCn2Harms67YaFZPc6lMqAZITPzP7AV5I8fjo2L3ElxqgtoyVkfeSE2nDEjrgd6ztZ0O+/tXUEt/tl9Hp6q1xPMpDKCM5IJOBzWSpJyvKRs6sox92Jn65qsut61dahccPO+4L/dHQAfQYr17wJ4ttta0iC0uJlS/gUIyM2PMA4BHrXkMuialHGJJLORUNsLsMRx5JON/0zxUY02+SSzK28u685tiowZOcfLj3rpnCE48qexzQlOE7tbnuuueDtI8Q3EdxqFu5nRdokjYqSOwPrV60s7HQNLSGFUtbOAHljgD1JPrXj32Tx3ZX0OnLJqUc0yF40WfIKjqd2ccd+eKwdVutWa5kt9YubiSaJtrxzSFtp+nSudUHLTmOl1lH3uWxv8AxB8WR+IdTjt7Fi1ja52t/wA9H7t9O1cfRRXbGKhGxwTm5yuwr0z4Df8AI/XX/YOk/wDRkdeZ16Z8Bv8Akfrr/sHSf+jI6yxH8KRvg/8AeIep9DUUUV4Z9cc345/5EDXf+vCb/wBANfKNfV3jn/kQNd/68Jv/AEA18o16eC+FngZr8cfQKKKK9A8YBXoui6l4Tv8A4e2OjeIdUuLSW1u3uCsMRYtk9M4rzoda2rXwvfXeiLqYe3ihkYrCksoVpSCAdo74zWdWKktXY6cPOUW+VXPQh478O6x4o117+5mstOu9OSxhk8slyATk4xx171wHiWx0Cznhj8ManPqEbRkyNNHs2t2A49KNW8KXuj6hBZXM9rJcTSmIJDMG2NnGGx061ff4c62LsQbrRhskZphOCieXjcCexGaxjGnB3UjoqOrUTi4/M6PULnwR4j0TRF1TXrq0utP0+O3aOGAkbgozkkeoqn4RPgvSLmx1q41q8W+s2Z2tRF/rTyBgjtWJF4C1WeGaW3msplimaFdtwD5rBQxCevBpZPAOtwwwyYgcSvEjBJQWjMhATeO2c1NqaVubQfNVb5+TU0fEfimy1vwfLCGKXs2qSXRh2nCoenNJ4C1XRLPTdf07xBeSWcWowJEjxxliPvZxj61QHgHUzeS2wudPLQLukYXIKp823BPrmiPwpPD4f1+5vLWY3OlSJExWQBI88sfVj04HrVfu1HkTJvWdRSa2Og0DUvCXhbxOyWWp3V5p17Zvb3E0kJDQk9DjGcUuiz+EPCXimxvLDXJr5BFOtxIYCFXcpCgcdc1yd54U1OxtJLm4jQRpax3WQ+fkc4GPf2qxD4K1ObT7G6WWzH24KYI2mAkcM2AcemaOWD15twjUqaJQ21R08Oo+Eda8G6fpmuazcWU1pNLIBDCWJ3McdvSs3RLLwUl1LNe69eQSWt4WhbyeJolPykEDgn8K5688O6hp8kEdyqI09y1so3fxhgD+GSKD4cv1uNUhxHu0lttx8/A+bb8vrzTUFbSW5Mqs3JNw1Ra8aa/H4k8V3Wo2ylYH2pGGHJUDGTWBXQTeDNStoLma7ktbdYGK4lmCmRgu4hfU4NQJ4X1KTTdOv1RTBqM3k25LYy2cc+laxlGKsmctSnVnJya3MccmlrqP+Ffayt15W+0KeVJIZhOPLAjIDgt2ILCqreEb1LK6u3uLRYbdzGHMwAmYDJCeuAapVIvVESw9RbowaWk/WitDnFopM0ZoEOzS4ptXIsf2Nctgblniw2ORw/FRKfKiox5mVaOlFWdOUNqVsrgMplUEHvVSfLFyEo3divjFKOaJD++b/eNIOuKIyukxNWdhaM1avgqw2ZUAboATgdTk81Uqac1ON0VOPK7C5pc02l6VpcgWkzjrRRSuMXOelFBGOtFMQUUYpKAsFLRR1zQFgoowc8UdOtK67jsJmijBpO3PpTCwuaQmk780Y5560gtYKSnFenPX1pMdQaNOg+ViUVJ5Mnk+cEYxBgpfHG70z61GRxS5ohytBmkzRikpgOVyrBlJVgcgg4xUx1C8/wCfuf8A7+Gq9FS4xluilJrYsf2hef8AP3P/AN/DU1prmp2Nytxa308cq5w3mE9frVDNJUSo05LllFWKVSad0yWWaS4mkmndpJJWLO7Hkk969Pt74603gyDy1V72b7VeuT/rDbqUUn2AUmvLFHrWxb6rrVk9nHA8sT28LxWoMQ3BJPvAZHOcnmoq000lHQ6sPV5W29djtNWjkb4saDfytBI94scjPA4dGdQwJDd+gre1jyX0e4u7QgR3mmX94Av8Bdoiw/76Bryy3vNcjNg1qtx/xLNy2pWHPlc5I6evY1NB4h8Raatq0dxPEliJIoi0QKrvOXQgjBzwcHNc7ouSSvsdixCTbae52aNEPiPmcyeWNAy5jOGx5POD61F4OcTaP4lfSmc27IPsJvXBkM/lHdg9M7c/pXGw69r8OuLrUM032+bKpMYQQ46bQpG3GO2KlufFXiW51KA3F1IbqGXzY1ECqfMK7clQOeBjmrlTk3YiNeK1d/8Ahzq4ZLe7msvDl3JJANX021WC5jzmKdclM47E1l6es1v4VtraZyXi8RrE+GyCVGD+GRWUvivxRpZd0uZrUyRiPcbdQcDONpK8EZPIqhbza0NLVbZbhrOKf7SHWMsokH8W7FCp+hbrJytZnq8/kxxNKksv2+KDU2t4f+WUi7/m3d8gHIHepbawaW+8TorwKuoTfZyJZAGcC3BwvqckcV5ZDr3iO8u0ltpZriaFZQpjhDbRL9/OB0P/AOqo5fE/iC4v4JJbuRrq3nM0X7pdyyEBScY64AGKzVCWyZbxMbJtHol75Vz8NbhiAt1p2gRW7DuyShGB/Bo2rC0/B1X4fDI6H/0Ya5e71nX1iuFvHnjS6gS2mDxBVeND8o6Y4J+vWrNv4g8VQ6LDp9rJcrZxENEFtxlcHcCGxnr7040mo2uKVWMp3s9DrodWt9O0HS4tQDm0v7rUbSZ0PzorSgBh9CBXnuvaZLo2u3enXEnnSW77DJnO4dj+VabePvE39oJenUiJ442iXEKbQpOT8uMZJ5zjNYN1dTXl1LcXMjSzSsWd26sT3ralTcHc58RWjUVkQ0UUV0M4gr0z4Df8j9df9g6T/wBGR15nXpnwG/5H66/7B0n/AKMjrCv/AApHVg/94h6n0NRRRXhn1xzfjn/kQNd/68Jv/QDXyjX1d45/5EDXf+vCb/0A18o16eC+FngZr8cfQKKKK7zxgHWu+8OWkus+EfI1Czmij0yQXVlfshCNmRQ0ZbGDz0964EVbXUtQWw+yJeXItVbeIRI2wN2OOmazrR5om9Coqc7tXO18YwlPiNE/9hy6eDqRBuXDbbv5wdwJ4/Kuit9Ys5vE2taLp+mXFwkNvfTTRSNlriRgo2KByB+vNeV3WqapfNE19e3lwYzvi86Rm2n1XPSmQX99bXbXdtd3EVw/35o3IZueeR61k6N0tTqWJ5ZXS6nqHh82sGj28dxpEthdPqs4s4GLA2sn2cYyrDLZ9/WtKG3uIb69uLqJ40nbSESV1KrI4kXIUnr+FeQS6rqjziWe+u2lD+YGklbcGIxuyec44zSyatqsqxCe/u3WBg8YaVsIR0IHb61m6FtbouOJSVnHY9KhNnbap4hk1Lw5PZWhI3xlnT7R+/8A9YCR+PHFbMlkPs+qafeXqRz61Pf+TAYz/pCrGqrg9Bt2jr1rxy41nVL0EXeo3c/y7T5kzNkdcc9u9I2q6lJPDPJfXLywH91I0pJjz12nt+FOVDXdISxSX2T1PxBPFc/Di+VwBc2dhZxY9Ubaw/XNVbaPdF4MkXRZZ2S2gP8AaQDFYf3rfIcDb+frXmTXt66uslzOyyKqyBnPzAdAfYdqsJrOrR2qW6aleJbR42RLM2xMeg7U/ZpK1yXiG3fl6HoPjWaG8m8NXsBGbq/aSQDs/mKD/KmzaZqA1zxxGbG53XTGSAGFv3qiccrx8w9xXnL3V4yxiSaYiNi8YJPyknJI/HvVo67rElzHO2qXzTRqRHIZ2LKD1APYGmqd1o0S665uZxZ61f2Fpqtwlre2Ju4Pt1yHYEjyGWAMGOPdcc+tQwWsI8K6Ppy3iyXOnixne2CHMW5iWYnpzuHHtXk8OqajBFOtvf3UaTn98EmYByf73PP40q6hqAkedLq5DkBXkDtkgdAx9sVMaLenMW8XG/w7nryPbTwXR07TXntTaakr2O4u0s3mx7uRzyMcAVyllYy6roGq6bqOj3GmW1qZL20lkjYLbSADdGSwHWuMh1fUrVt1tqF1EwYsCkpByfvH8eM+tLLrGpzwSQzahdSRTHdKjzMVc+pGeauOHlDYzlioy6FQn0GKSkzzRmuzyPMY4UUmaXNAha2LS+0ePw3c21zZzPfvIpR1kxGcZwT7jJ471jUvPHvx/n2rCtSjVik3azvoXTm4PRDlQuQFyxY4AA5NaGhXNjZ6xDNq0Estsp5ETYZSO/8A9auo8GaadKeLWrlE87HnRecPlghB+aZh3z0Ud6yvF0FpdXS67o8ZTT9QdxsI5ilU/Mh9M/eH1qJtVb0non1OpUJQgqvXsYd7LbTXssljE0MBc7FdtxA9zUIIUgnnmmgc5P511ug+DoruxnvddunsYFtmnijRN0rKDjzCvZeR9e1a+7SgovoYQpyqz91GVrV7pF1aWa6VazwyRxbZWlkyM+g9vesetDVdLn0udUl2yRSLuhnjOUmXsQf6dqodOtRh6caUOWLuia3M5e8rMSpoFD3MSNyGdQR9SKiqWB1juYnb7qurH6Zrd7GcLX1PRNV8NWUGqahbNoDWVvb6dcz29wZCftDIEww+m79a5rwtZ2U9tquoahai7WwthIkDMVViWA5I+tb0mu+G38Q319/at68Wo2k1vIrQHFuXCY2jPPQ+lYui6ho1jcaxp0t3ONPvoBFHd+T8wAIIJT9K5Y8/K0z0p+z51y7al7TtA07UfAWs6sIPKu/Nkks4w5OyOPYXA9cbq1YfCejSazLEbc+Uklkqjcekgy351V0/xjpGl6Xa6LAvn2JguknuJYMSBpD8u3ngHjNSR+M9FiuLe6R7gyTy2puIzFgRLEMEg981nL2jZtD6vZbXGw+HtF1HVNAuY7P7La3Ut2t3AJSy7YGxuBPTIrL1zQLPT9L1iWKP95b6qkML56RshYCtSPxfoulQQRae0l21nBdmJriDCvLO4baVz0AzTNT8ReHfEGn3cV5czWT3MkNwfJt9wDpHtK4zwM0QdRNXv/TJnGg4uzV/+AReF9F0i90C0+3WPnT317NbLMJSpiCx7gQO/NQeKdFi0zw5aSWuhvHHJFEzapvJBYnlcdOaPDXiLSNN0G1S/muFurG7luY4o4tyybowoGc8VV8R6npOq6Vbz21/dfbYoI4jaNEfLBHU5z1/CqcZ+08ib0vY9Llm38N2M/hnRrhgRc3F0gnO7/lk7lR/KnXOiQNe6r52jmxgg0+eW2beSJSjgB/1qWHxlp0VvFZtCDb21vb+XIsWJHkRgWBPpnNEviXR/Oa2S7uZLa4guo5ZzFzF5zKwwM8424r5CUszjN80ZWd38r+X6nXbC8qs1+BJZ+FdMn1S7heIiP8As+JoRu/5bumf6dKyvCmlR32n6rKdKbVbi1EPlwKxXqSGPHoK1Y/HGn2V0stpEJv30KMZ48nyY127h6N1rH03UdJSPXLS4vLm1gvJY3gmijJbCuW6AjHBFbU/7Q9nP2il0t9+pElhk4uNuppyeGbFvDsOorbbH+wzvIm4nZIp+X+orHi0q1ls/Dh2FWvppI5mz1AkAH6VoxeKbGDRrnTleSSOTTmt1Ypz5m44P4g1Us9V0lNF0g3NxMt5pcruIViysmX3fe7dKqj9ehCTmnvpvs07eaJn7CbTTWxux+H9HvrqKSLT1SRJLqGO1WQ4uXiAKAnsTzXP6Ha2mpa3qBbSSwitnkSwDMSHGPl9etXb7V9EuzbW8Wo3UCpcy3hulg+aN3IIXGe2OtV5fE9u3ifWtTt/MgF3bskDKMNvwBuOOhJBP41NGnjfZVE1LVaXvo7/AORpOWH543ta/wCh0L+H9OzBbGOQ28dxNK9sZDhWW3D7D9G/Gs86PpYspdVg0tZ3axiuBYLIQqBiQzDucYp//CYaUbiB2M2JJZGuGCfd8yDyy3ud1VrfX9FttZsrlb67CaZbLCm2D/j6AzuBGeAc+9cdKlmEJXlzL79fI1lPDPaxxbEFmKrhScgZzimU+aQS3EjouxXcsFH8OT0qOvv6d+RNqzPnp7hQaKSrJCiiigYo7/Svetf0yGe+8E6lCFMlrdQwTY9HTK59sj9a8E7HmvoDRryGXxyNHufuz6ZaXUWezxHPH4H9K4cVfRo9bL7NST6mLJqGt6X4LupvDdvJLdNrU6sIoPNO3ce2DisKG7u9e+Gfi2LVkK6jaXiXjq0exlyFGMdvun862by/13T/AAPdSeGWnFw+uThvIj3nbuPbBrG+HMt3qni7XdK11pBc6tZsJvNXa28EHJH0JrCK9xyR1y1qRj3+43rGCODxB4O091BTTtOe+lGO5XjNU9ahjl+N/h3UYFAg1KKGdfToR/hWjby2f/CZ+Kr2+ldLDTdNWyaSMZKrtwce9EkWn3dz4A1DRJpJ7OC4NmkkowxAGBn/AL5qVLW/kaOKcbef5WRUm1m58TaF48stXEUsemRSPassYDRlQxHP4CtBNXudK8XeEPD9kUj0250+NpoNgxIWXnNY9jYXVjpfxKuL23kghmhlETSLtDnD9M9eorQuLO5n+JPgm7hgke3/ALOizKqkqML3P40Wj8v+AO8rX63/AAuQO17oHgDVbnweqR3Vpqsv21kUM6xhj29ANvHpXnmhX8+rfEjTr68KtNPfIzlVCjr6Cus8P6hremfE65uNPs57jTdT1B4J1EZMcg3EFs9AV65+orHuNPtNK+NkdnpuFto9RQqq9FzyQPxraGnMn2OWr7zjJd7WO6/ti58Ra5428P6qkM1lZ28rW48oAx4OBz/npVDXNa8VaV4d8PReGrSaWCTTUaYx2nmgHHcgHHFT6bYXdn418f393ayQ2j2soSaRcK2TkYPfpVDxJqviqx8P+HIvDjXYt5NMTzRBCHBOMc8HtWUbcyS2OibtBtv/AD3PJXyXZm6k5NNpWLbju65OfrSV6lkeC9wooopCCvTPgN/yP11/2DpP/RkdeZ16Z8Bv+R+uv+wdJ/6MjrGv/CkdWD/3iHqfQ1FFFeGfXHN+Of8AkQNd/wCvCb/0A18o19XeOf8AkQNd/wCvCb/0A18o16eC+FngZr8cfQKKKK9BHjAODXcxXMln4T8NWlsVjg1G4cXa7AfN/eAcnGelcNXQ23ieOPw/bafc6dHPcWbl7S5MhUxEsD06HkVnVi5WSOnDyim0/wCtT1SwljuNdllv40kSx1u4giBQfu4RDnYOOnFR6ZodnYWZs5oI3M+uQ3GGUcxGT5fw+WuEuviJI8ha20uO3EsstxOBIT5k0kewsPQY5xTD8R9QMkcwt4/NjW2CFmJH7kkjP1zzXH7Gdj0I4mlfcs+Ip5NQtdBvLvEtw2pXMRk2gFkWUBV46gVf1tpZLrxHHcajZX0cWnSmGK3HNsPNThjtGD+dctrPidNTlshZ2C2VtZzPcLFvLlpHbcxJPbIq0fGFkb67uhoMQ+2wtHcp5zYkywOfbkdq8nG4SvOpGdNX0/W4e3pPmW3/AAxL8OIVPiCa5mt/PSGEqV27uXIXOPxreh0SO48JLpJjXz4dWeXdt5KLMsbD6YfNcXaeI5dM+3/2VG1obqRWVo5CDEqnO0HvmtQ+ProXpuYbRIy63CsNx587bk/gUBrjzDAY+viHUp6J269v+HKoVqFOmos7RbW3vPGWqTRWoeC6tIbaMImQm8Nzx9BzXM6NeXNr4TW21Ao8N1fLZWsLIOFVgZHzjPcLyetZq+Or6FLcWcZt3iaHe6SEGVY1wFPsaXUPGVvfw26nSIop7YsbeQSnEZL7icdCSTXNTy3HR92orp266q3+fUqeIoPWL2O1triKbVvP1JUkjtbu7i5UZWIIPlHqBUWmaOmn69DBNb+ctrpSW5AXdnfMyhuP9nnNchd+NWuC4t9PS3SVZjIBIW3PKu0sPTHpSzePdRlt4hAn2edI4I3njkILrHng/XPNYf2RmN/cVk+l9jT63htL9CyonTwZe2ekuizWE8o1GAoN8sTHCvyOQMY46VveFCE8N6RaBUEF7BfNcKVB80qPlJ+lcjJ4pj2ajLb6ZHBeX6yRvchydqP94Y6fjUmleNDpeiR2QsY5p7dZVtrhnIMQkGGBXvX0+Cw9empKouvfXb+rHFKtT5k0+hzWccUZprUA17a00Z5M9XcdRSUtUQFKDSUUCHorOwVVLMxwAB1PpXXQeDW0e0i1jxNLapYx8vaRzgzSSD7sJHYk4yewrmdO1G40u6F3ZMqzqCFcqG254yM9/Q1t2/iKzvNFi0jXoJRBHI0q3Vq2H3nq0gPDn9axq8/Q66Kp/a3Kn/CTaiuuSaqkiLJINrRY/dGPGBGVP8OOMVbXxBp1t9ohtdM8+wvEV5bG5c7Ip1OQY2XkjHrgkHHaslNKu725ddKtbq9jDEJIkJ+ZexPpWingzWgubmCGzX1uZ0T+ZpNU3oVF1b7XNm6n8N2+jWHiCDR2W9lLRi0V/wDRhKuPmKnkjngA9etVrXUBpd0viDWdSa51Gdd8NlbTcuvbzWHCJxwg5NbWh6lpWj2EGn+IJtH1COHcIlihaaVd3XHGDzVWR9cnupZNN0Kwg00ufLkv7GKL5ffNYpq+ux0taKSfyX5mDbeJEuJ54datlm067kLvDbgKbdj/ABw9lI9O/es3VbSGxvnhtr2G+gwHiuIcgOp5GVPKsO6noa686hpFsD/wkK6LeHBzBplqQ+cf3wQBXBuVMjbBtUkkDOcDPA962p6vQ5cQ21q7sTFOGWIVRkscAepptPTcXATO4kYwe9bvY5ElfU6hfAs51BbFtX0xbkQvLOnmN/owQBjv+X0P559KpWfhk3+sXVjBqun+XbRGZ7ws3klR1wcZ7+lehadZ3Et9balqGmCPWbjTru3ntGIxdBUXa+B65wfXNcxoJOn+ItcbU9HjttmnOZNPBKqBgfLnOea4fayalrseq6FNOPmU5vAN3Z2txcX+raXaRwzCNXklbbOSm9ShA7g9/elk+HuoIbbyr+wlaaSJHjjkbdB5gypcEdPpXa67DdXXh6/+x6THqiveRvHG/wDy7xG2XaR9OlPEEmnagLu+Hk29xNpyxSuwAchecfSo9vUtdl/VaTeiPPbXwXfXaQv9ptIoZJLhGldmxGITh2PHT071Na+B57zbJb6tpz2zLMwuQz7AsQBY/d9D+ldpFZXFtYRaXPEY724XVGigJG5gz/Lj69vWqvh23l0nwzDDqdp+8gtNRMttIdu75FO0kdM0/bTauL6tTT/rsc1d+D5rHTY4Wjt57i5u4o4LyOZijo67lKrt6EdSefasy58L3tp4uXw7M8IunnSESAt5eWHB6Zxz6V6cIY7yXT7lcRWKy211EnXyYhbEhfwrndQ8i4+JfhXU7Sc3MN60DCVl2lyrbSSPXpThWn18/vFUw1PdeX3HPP4Kudt41nqenX4slDTG2djty23HI6g1MfAcscF5NNr2kw/YHEdwrtJlGJ+Ufd744rstKlm0vVNUOqaNHpcN1PHC0adJFaRhv69eQaw9fUJB49QHgX1sBz1w5FEalRuyE8PRir2M7/hXGoNJDFBqOmymRkWQK7Zg3ruXdx6DtWUPDLy+IodHs9TsbySZSwngdmjU/MdpOM54P6V6lZ3Ec+sQRW0CwzQT2vnMrE/aFMBxn0weOK4ywintPijp32/So9HaQELAnCnKsA3XuePwpxqzu79hTw9NJOPVmNH4K1KXRH1OKW3aJLZrkxgtv2Bip7deCaytZ0uXRNXn0+5kjeWEgM0ZJU5Abj8xXq2mznQ9FtrbU08p0tUhuomxlUknKnP4HNeffEJQnj/VkByFkVQfUBFH9KujVlKTUjLE0IU6alH0OcBzSGk+lFdZ5wu6kJopM0XGLmkJyaKKACiikPNAxaTNJnFITmgYvUcVrr4p1kaxBqa30n223i8qObC5VMYx/wDrrIHt9K9C+z2P/Ccx6R/ZtoLaxgeZCI/mdlg3Yc/xDdzXmY3GrDNJxvo2duGpSns7anPWPjrxJpsMiWWqzQpI7SsoC8sep6VSTxLq8XiB9ajvXXUWOTcADJ4x0xjpXRazZ2kvheXU1s4Ibiezt5j5SbVV2ZgSo7ZAq+mm2DWS6ebC32waXaXqy7P3jSO4DZbuCO1eX/bVGNL2nJ3XTodv1Wq5crn5o4w+IdWaC+hN7IY9RbfdDA/en34p1p4m1iwsra1tL6SKC1m86FAAdj/3hx71303hzS49a1+ZbOL7O1nm0Tb8qPtJJHuMU+60KwOoItxpVnFEl5BHbNEvMiNFlt4z6+tc64jw8pJKHYv6jWtdyOE1Xxl4i1u1Nrqmq3E8BILREgA49QOtSWXjzxLYaUNOs9VmjtlXaqgBiq+gOMgfjWlf6PZx/DlJ44FF9HMLh5MfMYndkA+mQK4s9eete5gcRRxkG4LZ2/4JyV1Voy1lujf0zxr4h0exNnp+rTwwEk7Mg4z1xkEj1rIhv7qDUFvo52+1JJ5glJy27Oc/Wq9Fd/JHexzOpN7s6DVPG3iPWbNrPUdYuJoHGHj3BQw9Dgc1PbfEPxTZ2kVtbazMkMSBEQKvAA6dK5iip9nDsP21S9+Yc5LMWY5JJJNNoorQxCiiikAV6Z8Bv+R+uv8AsHSf+jI68zr0z4Df8j9df9g6T/0ZHWNf+FI6sH/vEPU+hqKKK8M+uOb8c/8AIga7/wBeE3/oBr5Rr6u8c/8AIga7/wBeE3/oBr5Rr08F8LPAzX44+gUUUV6CPGCtS+0xLfR9Mu4mZ5b0OWU4wpDYGMVliuysI9NvdK0BrnVrO3+wzEzwysd5XzAeABXmZhWnRUZR8/PodeGpqo2n/WpNd+BrSz8UQWBu55bRrNrmRkwZCyZ3IvbqO9Ydlp2n6jeap9kkuEtrWze5h87bvJUjhsdue3PFdNqGtWetXGnXmmX9vpV1aXlxgzyE7lZt27OOhOePes2TUNLHiLxDLayxR21zp8sUZAIWR2252jHqDivBw+Kxjpvncua3bbX/ACO+dOimuVaX/Qde+FtJt9Un0uO4vjd2dq080jqojlIQMCmOduTis/SPDUepeENV1ZpnWezwYYhjbJgAvnvwDXTW99psdhaWV/rNlcXq288CXik7VhKDYrnHUH+VM0TUNF0bT7TRrq7trlrgXSy3UUhEcO9NoyMc5wOtZfXsZGm1G/NddL6Ld/Mr2NJyu7JWf39DmNb0jTtJ0my/eXcuoXEC3G8qvkMrdgRzmpda0Ww06GztYWvZNQlSJ5HYKIcSDOB3yMj681PfTWyeA4bK51C2v7lZVa0WLJeBSPnVs9B7V0y6xpk9rbfaNWtjbSyWLCAn5ozF/rCwxx0H1raeLxUIRkk3rL59um3kSqVKUmnbZfLuYOr+DbbTdVvbaK5meKDTjdI525ZwcFTgdM5qHStKM/w71e9EioyTrtTyxmRVxu+YjIA3A4GOa3ZNa0jWrd3W6t9Nkntrm3KzyE43PuDE46HmotO1LRtM0a20Oa6t7h5YbrzbuOQ7I2Y4UEY5yFXmuT65jpUEmnzJp2t0W/luaexoKfMmrNMo3Xg3T/JRdOubtrmOe2imWZVKHzu6kenoaLzwjpum6xqq3NxeT6dYwRTRmDaZJg5AHOMdc/pVxfFUL+KrKKS7t10u1WOd3VcGSRI/lBbqTnirlvr+mXtrBLZ3sGmXMllHGEnkJ8oxTZALY6lTUSxGZ0rXbs/w7dNClTwsr90YmleFdMv9OhMk14lzf/aTafd2xrECf3g6kn2xis3X9J07SLW1hiku5L+SGOeR3VfJYOufl78dK65Nd0lrqLUBqECrYSX26MkhpfNXCbBjnmub1W4t18F2NlNqFtf3kUgNu0Od0MRHKMT79BXbg8Vi54lOpflb2+/8NrmFelSVN8qVzlzQDQRSV9jc8Njs0oNNFFUKw+g02lzQAv8ASupu5bTwoYrS1sobvU/KV5ry7XesZYA7Y4+nQ/eOee1csMY5rstPun1m0iu9Oign1yyt/Jktp4w/2mJekiA9XUcEelY1L9djoo63tuZi+LdQubpW1m5ury2x81tDcG3U+g+QYA9sU+TUvD95mJNCmtZJiB9pbUXk8knGCAVwVHXB5PrTH146nizvoLCyt5G/eSw2YDxn1GOc9sUp0zQJAVtNYu5ZpBiKIWJJ3ehwe/bFQ7dtTW8tk7ovavqtx4Y1CfTdCtI9OSL5RdFA81wOz7znAPYL09a5q6vrq9lMl5czTueS0jlv510drL4htbH7Lqnh+4v7KBf9XdWj/uh7PjIFVC3hW7J3R6hpjkZxEVnTP0ODiqjaPS4qilLW9vIwM0VunQdNmX/QfElmSei3UbxH88EVj3UH2a7lgMscpjbHmRNuRvoe9aqUZM5Z05R1ZFQODmm5q/pGk3euaitjYKhmYEje2Bx7021bUhJt6EP2q4aRWE0rOBgHecgegpryy72Z3k3MMEsTkj+teqeDPh/Louo/2lq0kck6KViij+ZVJGCST1OO1YXxYUJrtiEUKPsx6DH8Vc8a0ZT5UjqlRlGnzNnEC5nTIE8oB4IEh5pTLNKAGaVwvQFiwFbfgvw8PEXiBYJ8i2hXzZiO46AficfrXpOu+ItF8Frb2a6crM65EcKKNq9OSacqiUuRIKdNzjzOVkeNm4m8wSNLJ5i/dcscj8aQ3MzE7pZGJznLnn1r2bW/D+l+LfDYvbKGOOaSHzreZECt0zg/y9q534YaBaXMN1qN9AkskcvlIHXcEwOTj1qVWi4t21KdCfMlfRnnhmnUcvIBjAG5gKZ50g2kM3yfd+b7texaBq2meNRqFnc6XCkcDbRwDuUnGR6HivKNSsHs9cuNPiBkaOcxIAMlucAfrV06ik2mrNE1Kbik07pjY4tQvUZ41uZ1TG4ruYL3681XaRzvDO/zH5ssea9K1yRfA/gKHSLdwuoXw/esp9fvH+leYsCKqEuZPTQzqx5GlfUkFxKpyJZAfUOQaRp5ZGDySO7jozMSR+NR1seFdG/4SDxBbWJJWJiXkYHogGT/AJ96t8sVdkR5pOxmGWeViS8jk9ckkn602QuzbpN249d2cmvbNY1DQ/AumwhbBPnO2OKNBuOOpJNPshonjrQPtD2S7WJjbcoEkTj3H1Brl9vZXtodksM78vNqeG0u1jkKjN9BXUaV4QN346l0W4dhBbOzTMvUoOg+pyBXoet6zovga2tbdNOUmUHZFEgztHUkmtJ1kmlFXbMoYdu7k7JHiZyvB6+9IB617dfaNo/jbw2t1bQJHLNEXgmVQrI3ocdeetcn8M/Dtte6je3GoQLK1qwjRJBlQ+eTjvjFEa6cW7bDeGfMknueflSoOVIHuKbXtOi65pvifWNT0ebS4Fjtc7SVB8xc7T9K8q8SaYuk+J72wgyUjlxGO5B5A/XFVTq87syalHlXMnuUbezubvf9lglm2fe8tC2PyqBgVYgjBBwQa9Qkx4A+HQjBC6pqPXB5BI/9lH6mvLWJLEkkknJJ706c+e76EVIcll1Cg9KSitOpmKK7FvFmlf2/BrK2N59qkQxXaGVdmxo9h2cZz0OT9K42gnmuLFYKlidaiei6eZvSrzpfCdk3ifQ5rWTTrmyv204W8UERSRBLhCTlieO/alPjLThZq8dlci9a2gs5NzqY/LifcGGBncQB14riwfWgke9cX9i4W3Lrb1On67VO3k8eRS2ywtaS7R9pBO8ZPmD5frjNPm8dact41xa6fdK9zcRT3LSyqR+7TaAgHT1ya4SjNQsiwSd7fiUsfW6s6+58ai50m50ryZRYPYrDFGduUmDBt5Pp1rkD3xRmivQwuDo4SLjSW5z1a863xhRRRXWYBRRRQAUUUUAFFFFABXpnwG/5H66/7B0n/oyOvM69M+A3/I/XX/YOk/8ARkdY1/4Ujqwf+8Q9T6Gooorwz645vxz/AMiBrv8A14Tf+gGvlGvq7xz/AMiBrv8A14Tf+gGvlGvTwXws8DNfjj6BRRRXoHjBRnPXNFFA9Qz/AJxRk/4UUUtAuxcnuTSEmiinoF2GaM5oopOwahR6n1oopWTC7A9c0uTmkop6C1FyfWjJpKKegtR2aKQUtO6EwooopiFzRSUUAOzUkMzwSJLDI8ciMGV0bDKR3BqLNLSBNp3R0p1XTfEG0eIY/st9jA1O3jyJP+uyDqf9pefWqGoabd6FcW88dzGyyZe3u7SXIbHUqRyMfgaydxpd3AHYdKhRttsaupdarUvf2xqWxV/tK82pnYPtD4XPXHPepNNsrK88w32qxWAUgKHjdyxPfA6D1NZuRSg4NU4q3u6EKbv72ppanYWNpEjWWsQ37FirrHE6bff5hyKzfxoJzRQlZCnLmegVc0zVLvSL5bvTpRFOoIDlA2M+xqnRTtfRk3aeh618OfEura9eX6ardecsMSNGBGq7SWIPSsT4t/8AIdsf+vY/+hVN8If+Qhq3/XCP/wBCqD4uH/ifWP8A17n/ANCriilGvZHoSblhtTQ+EEQ8rVZsfNujTPtycf59KxPihJu8ZbT0SBAK3vhAw+waqv8AF50Z/Q1z/wATh/xWj/8AXBKcda7FL/dkeg/D5vM8A6Zn+7Iv4CRqq+AWjEWs2SlQ0V++QD0DdKtfDsbfAOm5/wCmp/8AIjV5Xca3faR4qv7rTLhoXadwcDIYZ6Ed6yUHOUkjWVRU4wbO9+HGh3+lX+qvqFu8Cs4RC4wGwScj2ql4Y0uLU/HGreILnb9js53aMnoXGcn/AICMn61zp8beKNbZNPjugGuCIwI0Ck54610vilk0Hw7p3hLTXxcXrKtw46hWYA5+p/StJRlF67slSjJabI4fxRrkniHxBPe8iLOyBf7qDp+J6/jWPgmvZtcudI8BabZxQ6XFcb38s5A3ED7zEnOTWL8StBsV0a31mwgSGTzFRxGuA4YcHHrkVpTrLRW0MqlFtOV9TzKtXw9r9x4b1P7dZRxyyeW0ZWX7uDjn9KgTRdRkSNo7OQrLC1xGw6NGvVgfQVR6V0aSVjktKDub3iXxXeeJ3t2vYYIfIBVRCDzn6mvT/hxpU+l+E1F2pje5lacK3VVIAGffArA8A+BQEi1fWYtzHDW9uw6ejEfyFTeOvHsdqsuk6NIJJ2+WadTkR+oB7n+VcdS037OGx304uH72puy54Sniv/HfiO9hwy/JGreoBP8AhXNfFmQ/8JLaJ2W1z+JY1f8AhC4MuqgnnEZ/U1m/Fcf8VTbk9Pso/wDQjSgrVrDm70LnZ/DR93gi3yfuyuB9N3/16h8ESRweJvEdoCA63nmAexNS/DIY8EwZBwZZP515rrer3el+O9Su9OnaGUXDDcp6j0NRGDnKUS5T9nCEjuPA+gX+m+Mtaubu3eOFgyRuRw5Z92R+AqrZaRFr3xU1LUJQrWOnyhix6M4HAz7Yz+FczJ8QvE97Etsl0oaQ7AYowGyeOPeun16T/hDvA1votuw/tPUT++fuC33j/SrcZJ3ejZClCUdNkch4219vEXiSWWIk2sA8q3A/ug43fic1zuOcHrXs2pDSfh/4WtpI9MiunLLExYDc7YyWJP41meP9G0++8IRa9ZW6W8yiNjsGNyv2P09a0p1UvdSMqlBu7bPKqKMMeccfzpdp9K6jksNoo2t6UbW9DQOwlFLtPoaNp9KQCUUu1vQ0bW9DQMSil2t6Gja3oaQCUUu1vQ0bW9DQAlFLtb0NG1vQ0AJRS7W9DRtb0NACUUu1vQ0bW9DQAlemfAfP/Ce3WOD/AGdJ1H/TSOvNNp9K9M+A4I8fXWR/zDpP/RkdY1/4Ujqwf+8Q9T6Dw/8AeX/vn/69FOorwz645vxz/wAiBrv/AF4Tf+gGvlGvq7xz/wAiBrv/AF4Tf+gGvlGvTwXws8DNfjj6BRRRXe9DxgooopgFFFFABRRRSAKKKKACiiigAooooAKKKKACjNFFMTQoNLmm0UIQ6ikBpc0xBRRRQAUoNJiigBaWm0uaLgKDS5puaKAHZFFJxRTEej/CHnUNVx/zwj/9Cqv8XP8AkP2Of+fY/wDoVcjo+v6loMkr6VcmB5lCuQoOQPrTdW1zUNcuEm1SczyRrtViAMD8K5/Zy9tznV7WPseQ674U6pHa65dWUrBReRDy9xxl1PT8jWv8QvCOqaxrUF9pUH2jdGI3UMAQR0PPavLUmkikV4nKOhDKynBBHQ11Nt8SPElvEEN1HNgYDSxhj+dTKnLn547lQqwdPkmeoWax+E/A8Md3Io+xW/znsXOTgf8AAjivCZpjPPJK+cyMWP1JrR1nxPq2vFRqd20iKcrGBtUfgKyc8+oqqVNwu3uRXqKdlHZHoXw30mK2juvEmo4W3tVIhLdyOp/p+Nc1Prj6p4yh1W6bAN3G3P8ACgcYH5CpL3xldXfhmHQ4bWC1tIwAfKzucD1z6nk1z5OWzVRg3JykKU1ZRiev/FDS7vVLWwbT4JJ9s5BEYzjPQ/Sj4kuLXwDBbSsA7SxIAe+0ZNcNp3xC8Q6bZpbRXSyRxgKnmoGKj0zWXrPiHUdfnWXVLhpSgwi4wqfQCsYUZ3SeyNp1oNO3U6Wx1bZ8Kb7KE3MU32OOXP3Y5PmYD8qyPBelR614utLacBoVJlkHYqozj8TisddRuE0yTT0kItpZBK6Y+8w4BqTS9YvdEvPtemTmGfaU34B4PUfoK25Gou3UzlVUnFvoe+a7a31/o01rpVwlrPKNomOfkXvjHevOT8I9Rxj+0bU/VWrA/wCFh+J+2pN/3wv+FKPiJ4n/AOgk3/fC/wCFc8aVWC0ZvKtRm/eOh8FR/wDCK/EC50S9nRjcRiMSDhS/3gOa0/iP4V1HW7yzvdKh890jMUiZAI5yDz+NeYX+p3ep6g19ezNJcuQS44OR0PHSt60+I/iS0hWP7WswUYBmjDHH1q5U583PHczjVhy8j2PUtBtV8J+Cok1FlT7NEZZm3cA5zjP6V4XfXTXuoXF0/WaVpD7ZOa0dZ8V6vryhNRu2eJTkRKAq5+g61j54q6VNxd5bsmtVU7KOyO6+GehJcajLrd8ALTTxlC/QyYzn/gI5+pFYHiHxA2ueKm1F93kpKBEpP3UU/wCTU7eMrtfCX/CP2ttBb25Xa8ke7e/OWzz3rnDz1pxg3JuRMppRUYns3xKsbjVvCls+nRNcFZlk2xjOVKnn9an1qy/4t/YaTcP5Ul1Ja2hPdWZ1B/EA15ppXj7X9Hs0tba6V4YxhFlQNtHoDU9p4n1XxD4w0M6pcmRY9RgKxqMKP3i9q5pU5qPodcKtNyXnoe6W3wq8HQ26I2iQTMBzJKzMze5OetS/8Ku8Gf8AQv2n5N/jXWD7tZHiXxRpPhHRpdU166W2to+MnlnY9FVRyxPoPr0rzeeXc+iVGmlblRlf8Ku8Gf8AQv2n5N/jR/wq7wZ/0L9p+Tf41FrfxS8N6DotlrFzLcT6ZfLuhvLW3aWM+xI6H2PofSuej/aJ8ASypGl5ebnYKoNm4yTS55dx+xp/yo6b/hV3gv8A6F+0/Jv8aP8AhV3gsf8AMv2n5N/jXWKc9KSQ4Q0c8u4/ZQ7I5I/DHwSoydAswPo3+NL/AMKw8Ff9C/aY+jf41zfijxDH4h09tHubttPsb4ztNcxNh4be3ILsMZySRjHoD1NXLy50vWdA0HTfD/iy60p/s8V5bNyZJ7eMAHeGGTwec85HfBp88u7D2UOy+42R8L/BZ6eH7T8m/wAaP+FXeC/+hftPyb/GuqiIMYIbcMcH1p9Lnl3D2UOyOS/4Vd4L/wChftPyb/Gj/hV3gv8A6F+0/Jv8a63NFHPLuHsodkcl/wAKu8F/9C/afk3+NH/CrvBf/Qv2n5N/jXWZFLmjnl3D2UOyOS/4Vd4L/wChftPyb/Gj/hV3gv8A6F+0/Jv8a3tZ1zTvD+mSahrF5FZ2sXDyzNgA9h7k9gKk0vVLPWdLg1HTpxPa3Cb4pVBAYevNHPLuHsodkc7/AMKu8F/9C/afk3+NH/CrvBf/AEL9p+Tf411uaM0c8u4eyh2RyX/CrvBf/Qv2n5N/jV/RvBnh7w5qH2vRdLhtJ5FMbSJnJU8kcn1A/Kt4c0jfeT/e/oaOaT6jVOCd0h1FFFSWc345/wCRB13/AK8Jv/QDXyjX1d45/wCRB13/AK8Jv/QDXyjXqYH4WeBmvxx9Db0Hw4+u219cLcCFLMJuHl7id2ccfhTovBmtzyukNpu2EgneAMgA4+vI/OsmO8nisp7SKQpDcFGkQfxFMlT+Ga1/+Ez10bf9OOFTy8eWuCOBzxyeBzXW/aJ6HmxdK2qZIvgbWtshkiij2RNIA0gySoU7Mf3sOp/Go7jwZrlrBcTT2gWO3TfIfMUgD29xUI8V6yGci/fLli2VHOUVD/46ij8Kkl8Y65PHcpJe5W5j8uT92oyCMHtwT3I60l7XuV+5t1KUulSRR6dl182/TzFQ/wAKliFJ+uCaU6U80hTT5Bc7Qd2Btxj69aiNzdX99C7ykzYSNG6bQoAUe2KuLfavtlljfKwE7yqLtUg8nHfr+tW+buZrlbI49BvWlCMEXrklxxjrn8x+dRnR7sRhggIY4B3DDemD3zViGXWAzTR+YWJ3fdB3bwD6dxinXL6xaKTKTsjCvlQpVehB/DI6UrvuPljbYpWumTXJTGEV920seTj2qWTRL2ME+UDjtuGehbGPXAJ/Cp7aHVVjWOINHtUum4DODzjJ9fSmLJrTMJ1EpbIYFQOSFKdPoSKLvuFo9gk8P3kag4ViRwAeTxVRtOuUiMhVSgGQVYHIAyceuM81qO2vmMOdx2k42bcrz7e5/Gqom1RpzBtywXJj2gDacenGDxmneTBqPYrw6bPc2qzQ4YM+zBOOew+ppINMurmMvCgI54LAE4ODx9anB1Sx2RhGjEkm5EKgjeemB2NSQPqdhbqiLkzFo0U8kHgkg/5HFK7tcSjHqVH0y7jtjcNHiILu3Z6juaeujXzoGEHBXd1HAxnmrhXWb4i3kLeW5ERyF2rkgduxOPr0pIn1tYwUSQCNAOQvyjGB+NK77j5YlafRrm3t55nClYGAYqc8cc/QEgfjQNEvyobyQAcYywHXoPrVqZNcYT2sis6vmOTAU579e33c59qRhrZXDiQGMggFR1HAJPT86d33DlXYp2+lXVzAskUe4OSFAIycEA8enNKdHvgu4xALuxuLDHTOfyqza2+sRBPs6vGFRiucDjlj+e049cUqXeqR3AhkUsH+YxHADDockcYHvRzMOWPYqT6Vd2sZeZAAFD8MDlePmHqORzVPNbmoJq9w+2WLYsiBfLUD92Bxt/8AHc4HXr3rPm0m9glkRrdmMYJJTBzj0556U4vTUmVPsU80uafdW7Wl1JbyFS8bbWKnIP0qKqMWh2aM0lGaBC0UlFPQBaKM0ZoAKKM0UALRmkopagLmjNJRQAuaM0lFAC59qSiigAooopq4BRRmjNMAoopKQC5opM0UAL+NITSZopXGLmkooouOwVqeGf8AkbtG/wCwhb/+jFrLrU8Mf8jdo3/YQt//AEatRP4Wa0v4kfU+vO1eF/tL+GbaTwfHr0t1dvcQXEcEUHmDyUDZ3Hbj7xx1zXugrzD9oDR9S134ZNZ6NYXF/c/bIX8m3jLsQCcnA5718+faFL4N+B9Kl+Etsbsz3lrq8PmXNncuHhDbiMquMqeB3ry747eEdC8JeKvDcPhzTorBLgM0ojLfMRIoHUmtLwX4x+LHhSy0zSpPBN/caTZ4R4106RZGTPOG9ean+Kfw68Y+K/Eejapo8l5qOn3RAhivE2S6azHcVkBAITjgnkYwexYA+lF5ocZXisfwxpl/pOiwW2q6nLql2Bma5lAG9j6AdB6VryEBST/OgD5Z8faZ4q0LxJfywpNBZaZcvd21zGnyqkzYPPIIz1B45ParCeIvEfjDUPDOnxNbkanudzFFukhQTFJFDn7iHy87R0HGa9Q1C68bXGqavZJpVjJamKdYLmWHd5wUbkUr3DbgvXsTVHQ4fFEJsLGLQ7DRbZ7tw4t7fiKFk87lgOCCwjPqyt0oCzPXI1CIFUYAGBTiM1HG6lflbOPQ1KKAOOt/Et9F8SNW8P6kIRbJYR31i6LtZkyVkDHvhsVzvhf4lX2oeF/EGqa5FBA9lEbq0VBjfAwbyieepIx+NWfiz4f1q/Onap4VtmuNRhWeylRGCkwzxFSxJP8ACwVqzfE3gXUjr2i2OiWvmaVcWsFjqMxIwkcLBlyO+cY/GgDY0HxZry+K9F0vxKlskeraMbuNooypW5QgvHyTwFYGovCfxDvNU1TxANZjigsrJXubORB9+BGZWJJPJypq58TdD1K70jTtQ8M2v2jVdJuhJDECAXjZSkiAn2bP/Aa5bxJ4A1iLQ/DtjoVuztJY/wBmak6uB5UblWd+Tzzv9etAGf4pvfFmv+D/AAhql7Jp0Avr6GUQNAx2SNIxiJ55UJtyOpPpXS3HiLxs3jYeFdObTDOthHcTXjwt5cbZO4hc5OeAB9ea2PHWg3d7p/h630i0aVbLU7aSRUwPLjTOTz6Cuc1O/wBV0v44Xt5pGmtqkSaXELm2hkCzFSxwybsKSD1BI60Aa1l4k8UWfiO68L64bKXUprJ7rTb23jZYpivBVkJ4I46GnxfEKT/hUVx4ouY0+328bxPbgcG6DbAmOuC5H51HollrPiX4iReKdW0mbRrHT7R7ezt7p1M8jOfmdgpIUYAAHXvWG+gTTfGA+HograI1zH4hnUN9yRQVWMj0Mm18egoA9S0M350a0bWDGb4wqbjyxhQ+OQB6A8Vff7yf739DShcdKR/vJ/vf0NADqKKKAOb8c/8AIga7/wBeE3/oBr5Rr7A1fTY9Y0a702d2SK7haF2T7wDDBxnvXnX/AAoXw/8A9BPUv++o/wD4iu7DVoU01I8nH4WpXknDoeCUV73/AMKF8P8A/QT1L/vqP/4ij/hQvh//AKCepf8AfUf/AMRXV9cpHn/2biPL7zwSive/+FC+H/8AoJ6l/wB9R/8AxFH/AAoXw/8A9BPUv++o/wD4ij65SD+zcR5feeDxSNDKkifeRgwq6dauPJmhSOKKOdWV1RcZ3df5Cva/+FC+H/8AoJal/wB9R/8AxFH/AAoXw/8A9BLUv++o/wD4ij63SGsvxK7HiSaxdxxRxBlMcaGMAr1UnOD6+n0p82t3U1tJbkRrE6CMqi4AUYwP/HRXtX/ChfD/AP0E9S/76j/+Io/4UL4f/wCglqX/AH1H/wDEUvrVEf1DFeR4odcvTCsW8BVTYCBzj605tevm37pFO5tw+XpwAcfgo/Kvaf8AhQvh/wD6Cepf99R//EUf8KF8P/8AQT1P/vqP/wCIo+tUQ+oYryPFX1y8dt25Q24MGCjOQcimLq90t004KgsnlkY425zj869t/wCFC+H/APoJ6l/31H/8RR/woXw//wBBPUv++o//AIij61RD+z8T5HiDapdNOspk+dJBKGx/EBinSatcySxOSo8liUGOBkYxXtv/AAoXw/8A9BPU/wDvqP8A+Io/4UL4f/6Cep/99R//ABFH1qiL+z8T5Hi0Wu3cEJii8pEyMBVxt5B4/EUkmtXkxBd1JzuJx1PrXtX/AAoXw/8A9BLUv++o/wD4ij/hQvh//oJ6l/31H/8AEUfWqI/qGK8jxc67eG3khLIEk+98v1/xP502PXLyHcEdMOfmG3r7fpXtX/ChfD//AEEtS/76j/8AiKP+FC+H/wDoJ6l/31H/APEUfWqIfUMV5HiY1m7ErSbwWZQpJHXG7H/oZ/SkTU2NwHnRXj2MjRjgMG65+te2/wDChvD/AP0E9S/76j/+Io/4UL4f/wCglqX/AH1H/wDEUvrVEPqGK8jxmfX7qe5Mo2IA2YgB/q8DAI/DikXX7xGfyxEofcWVVwCWBDH8cmvZ/wDhQ3h//oJal/31H/8AE0f8KF8P/wDQS1L/AL6j/wDiKPrVEPqGK8jweeZ7md5pTl3OWIGKZXvf/ChfD/8A0EtS/wC+o/8A4ij/AIUL4f8A+gnqX/fUf/xFV9bpCeXYh72PBKK97/4UL4f/AOgnqX/fUf8A8RR/woXw/wD9BPUv++o//iKPrdIn+zMR2X3nglFe9/8AChfD/wD0E9S/76j/APiKP+FC+H/+gnqX/fUf/wARR9cpB/ZmI7L7zwSjNe9/8KF8P/8AQT1L/vqP/wCIo/4UL4f/AOgnqf8A31H/APEUfW6Qv7MxHZfeeC0V71/woXw//wBBPU/++o//AIij/hQ3h/8A6Cep/wDfUf8A8RT+uUw/szEeX3ngvWive/8AhQ3h/wD6Cep/99R//EUf8KG8P/8AQT1L/vqP/wCIo+uUhf2ZiPL7zwSive/+FDeH/wDoJ6l/31H/APEUf8KG8P8A/QT1L/vqP/4ij65SD+zMR2X3nglLXvX/AAobw/8A9BPUv++o/wD4mj/hQ3h//oJ6n/31H/8AEUfXKQf2ZiPL7zwWkxXvf/ChvD//AEE9T/76j/8AiKP+FDeH/wDoJ6n/AN9R/wDxFH1ykH9mYjy+88EzRmvev+FC+H/+gnqf/fUf/wARR/woXw//ANBPU/8AvqP/AOIpfXKQ/wCzMR5feeC5pM173/woXw//ANBPU/8AvqP/AOIo/wCFC+H/APoJ6l/31H/8RR9cpB/ZmI8vvPBKK97/AOFC+H/+gnqX/fUf/wARR/woXw//ANBPUv8AvqP/AOIo+uUh/wBmYjsvvPBKK97/AOFC+H/+gnqX/fUf/wARR/woXw//ANBPUv8AvqP/AOIo+t0hf2ZiOy+88Eor3v8A4UL4f/6Cepf99R//ABFH/ChfD/8A0E9S/wC+o/8A4ij63SK/s3Edl954JRXvf/ChfD//AEE9S/76j/8AiKP+FC+H/wDoJ6l/31H/APEUfW6Qf2biPL7zwStTwzj/AIS7Rs9tQg/9GrXs/wDwoXw//wBBPUv++o//AIirFj8EdCsNQtryLUdQaS3mSZVcoVJVgwB+XpkVMsVTcWi6eXV4zTdj00dKXbzmqyi4Uf62M894z/jTt1x/z0j/AO/Z/wDiq8k+jJ8Cm+UvpUW64/56R/8Afs//ABVG64/56R/9+z/8VQBPtA6VDd20d3avBOu6OQbWGSMj6ik3XH/PSP8A79n/AOKozcf89I/+/Z/+KoA4nU/h7NcXTNpt4lvCeiv5jMPx381Xi+HWopIC+pQsueRtk/8Ai6739/8A34v+/Z/xpcz/APPSP/v2f8ad9NiuefcqaRo1rpEDR2qEF+XZmY7jj3JxWmOlV83H/PSP/v2f/iqN1x/z0j/79n/4qkTdvcnKg0gjAqHdcf8APSP/AL9n/wCKo3XH/PSP/v2f/iqAJtgPXmjy1/Cod1x/z0j/AO/Z/wDiqN1x/wA9I/8Av2f/AIqgCcqDWRH4bsovFU2vJ5n2yaBbd8t8uxTkcevNaG64/wCekf8A37P/AMVRuuP+ekf/AH7P/wAVQA+WEPCyAsu5SMqcEZ9KxPDng+x8OS3dxBLc3V3eMDPc3cm+Rgv3Vz6DsK2N1x/z0j/79n/4qjNx/fj/AO/Z/wDiqALFMY/On+9/Q1FuuP8AnpH/AN+z/wDFU0LPnJlQ4ORmM8frQBaoqvuuP+ekf/fs/wDxVFADqKKKACiiigAooooAKKKKACiiigAooooAKKKKACiiigAooooAKKKKACiiigAooooAKKKKACiiigAooooAKKKKACiiigAooooAKKKKACiiigAooooAKKKKACiiigAooooAKKKKACiiigAooooAKKKKACiiigAooooAKKKKACiiigAooooAKKKKACiiigAooooAKKKKACiiigAooooA/9k=)"
      ]
    },
    {
      "cell_type": "code",
      "metadata": {
        "colab": {
          "base_uri": "https://localhost:8080/",
          "height": 292
        },
        "id": "hV93ypuguYMs",
        "outputId": "58ceaf40-23f5-45ac-bdc1-bf715a568b66"
      },
      "source": [
        "df2= df.copy()\n",
        "df2[\"temperatura_alicia_calculada(mean)\"]=df2[['Temp_Las Varas AgriculturaCba',\n",
        "        'Temp_San Miguel - Establecimiento Don Luis', \n",
        "       'Temp_San Miguel - Listello', \n",
        "       'Temp_ San Miguel - Las Varillas']].mean(axis=1)\n",
        "df2.head()\n",
        "#verifico que se creo la nueva columna con la temperatura calculada mediante el promedio de las vecinas\n"
      ],
      "execution_count": 5,
      "outputs": [
        {
          "output_type": "execute_result",
          "data": {
            "text/html": [
              "<div>\n",
              "<style scoped>\n",
              "    .dataframe tbody tr th:only-of-type {\n",
              "        vertical-align: middle;\n",
              "    }\n",
              "\n",
              "    .dataframe tbody tr th {\n",
              "        vertical-align: top;\n",
              "    }\n",
              "\n",
              "    .dataframe thead th {\n",
              "        text-align: right;\n",
              "    }\n",
              "</style>\n",
              "<table border=\"1\" class=\"dataframe\">\n",
              "  <thead>\n",
              "    <tr style=\"text-align: right;\">\n",
              "      <th></th>\n",
              "      <th>Unnamed: 0</th>\n",
              "      <th>fecha_completa</th>\n",
              "      <th>Fecha</th>\n",
              "      <th>Hora</th>\n",
              "      <th>Temp_Alicia AgriculturaCba</th>\n",
              "      <th>Humedad_Alicia AgriculturaCba</th>\n",
              "      <th>PP_Alicia AgriculturaCba</th>\n",
              "      <th>Temp_Las Varas AgriculturaCba</th>\n",
              "      <th>Humedad_Las Varas AgriculturaCba</th>\n",
              "      <th>PP_Las Varas AgriculturaCba</th>\n",
              "      <th>Temp_San Miguel - Establecimiento Don Luis</th>\n",
              "      <th>Humedad_San Miguel - Establecimiento Don Luis</th>\n",
              "      <th>PP_San Miguel - Establecimiento Don Luis</th>\n",
              "      <th>Temp_San Miguel - Listello</th>\n",
              "      <th>Humedad_San Miguel - Listello</th>\n",
              "      <th>PP_San Miguel - Listello</th>\n",
              "      <th>Temp_ San Miguel - Las Varillas</th>\n",
              "      <th>Humedad_ San Miguel - Las Varillas</th>\n",
              "      <th>PP_ San Miguel - Las Varillas</th>\n",
              "      <th>temperatura_alicia_calculada(mean)</th>\n",
              "    </tr>\n",
              "  </thead>\n",
              "  <tbody>\n",
              "    <tr>\n",
              "      <th>0</th>\n",
              "      <td>7242</td>\n",
              "      <td>20/2/2021 7:00</td>\n",
              "      <td>20/2/2021</td>\n",
              "      <td>7:00</td>\n",
              "      <td>13.0</td>\n",
              "      <td>98.5</td>\n",
              "      <td>0.0</td>\n",
              "      <td>11.9</td>\n",
              "      <td>95.4</td>\n",
              "      <td>0.0</td>\n",
              "      <td>11.2</td>\n",
              "      <td>97.1</td>\n",
              "      <td>0.0</td>\n",
              "      <td>11.2</td>\n",
              "      <td>97.3</td>\n",
              "      <td>0.0</td>\n",
              "      <td>12.3</td>\n",
              "      <td>99.3</td>\n",
              "      <td>0.0</td>\n",
              "      <td>11.650</td>\n",
              "    </tr>\n",
              "    <tr>\n",
              "      <th>1</th>\n",
              "      <td>448</td>\n",
              "      <td>4/1/2021 2:40</td>\n",
              "      <td>4/1/2021</td>\n",
              "      <td>2:40</td>\n",
              "      <td>20.8</td>\n",
              "      <td>86.9</td>\n",
              "      <td>0.0</td>\n",
              "      <td>20.0</td>\n",
              "      <td>86.1</td>\n",
              "      <td>0.0</td>\n",
              "      <td>19.4</td>\n",
              "      <td>84.4</td>\n",
              "      <td>0.0</td>\n",
              "      <td>20.3</td>\n",
              "      <td>86.6</td>\n",
              "      <td>0.0</td>\n",
              "      <td>19.6</td>\n",
              "      <td>84.8</td>\n",
              "      <td>0.0</td>\n",
              "      <td>19.825</td>\n",
              "    </tr>\n",
              "    <tr>\n",
              "      <th>2</th>\n",
              "      <td>12732</td>\n",
              "      <td>30/3/2021 10:00</td>\n",
              "      <td>30/3/2021</td>\n",
              "      <td>10:00</td>\n",
              "      <td>20.8</td>\n",
              "      <td>70.9</td>\n",
              "      <td>0.0</td>\n",
              "      <td>20.3</td>\n",
              "      <td>74.3</td>\n",
              "      <td>0.0</td>\n",
              "      <td>21.4</td>\n",
              "      <td>72.7</td>\n",
              "      <td>0.0</td>\n",
              "      <td>19.6</td>\n",
              "      <td>71.7</td>\n",
              "      <td>0.0</td>\n",
              "      <td>19.5</td>\n",
              "      <td>78.5</td>\n",
              "      <td>0.0</td>\n",
              "      <td>20.200</td>\n",
              "    </tr>\n",
              "    <tr>\n",
              "      <th>3</th>\n",
              "      <td>756</td>\n",
              "      <td>6/1/2021 6:00</td>\n",
              "      <td>6/1/2021</td>\n",
              "      <td>6:00</td>\n",
              "      <td>14.7</td>\n",
              "      <td>97.7</td>\n",
              "      <td>0.0</td>\n",
              "      <td>15.2</td>\n",
              "      <td>93.6</td>\n",
              "      <td>0.0</td>\n",
              "      <td>14.3</td>\n",
              "      <td>94.5</td>\n",
              "      <td>0.0</td>\n",
              "      <td>15.1</td>\n",
              "      <td>98.8</td>\n",
              "      <td>0.0</td>\n",
              "      <td>14.1</td>\n",
              "      <td>96.8</td>\n",
              "      <td>0.0</td>\n",
              "      <td>14.675</td>\n",
              "    </tr>\n",
              "    <tr>\n",
              "      <th>4</th>\n",
              "      <td>11723</td>\n",
              "      <td>23/3/2021 9:50</td>\n",
              "      <td>23/3/2021</td>\n",
              "      <td>9:50</td>\n",
              "      <td>16.8</td>\n",
              "      <td>98.3</td>\n",
              "      <td>0.0</td>\n",
              "      <td>16.9</td>\n",
              "      <td>100.0</td>\n",
              "      <td>0.0</td>\n",
              "      <td>18.5</td>\n",
              "      <td>98.9</td>\n",
              "      <td>0.2</td>\n",
              "      <td>15.7</td>\n",
              "      <td>98.3</td>\n",
              "      <td>0.0</td>\n",
              "      <td>17.2</td>\n",
              "      <td>100.0</td>\n",
              "      <td>0.0</td>\n",
              "      <td>17.075</td>\n",
              "    </tr>\n",
              "  </tbody>\n",
              "</table>\n",
              "</div>"
            ],
            "text/plain": [
              "   Unnamed: 0  ... temperatura_alicia_calculada(mean)\n",
              "0        7242  ...                             11.650\n",
              "1         448  ...                             19.825\n",
              "2       12732  ...                             20.200\n",
              "3         756  ...                             14.675\n",
              "4       11723  ...                             17.075\n",
              "\n",
              "[5 rows x 20 columns]"
            ]
          },
          "metadata": {},
          "execution_count": 5
        }
      ]
    },
    {
      "cell_type": "code",
      "metadata": {
        "colab": {
          "base_uri": "https://localhost:8080/"
        },
        "id": "0yuDojIJjp75",
        "outputId": "0ac34a9f-d001-4813-8fbe-c9f64f5e4421"
      },
      "source": [
        "len(df2)"
      ],
      "execution_count": 8,
      "outputs": [
        {
          "output_type": "execute_result",
          "data": {
            "text/plain": [
              "10368"
            ]
          },
          "metadata": {},
          "execution_count": 8
        }
      ]
    },
    {
      "cell_type": "code",
      "metadata": {
        "colab": {
          "base_uri": "https://localhost:8080/"
        },
        "id": "_LAoG2SJzXP4",
        "outputId": "d33ce0e8-30e2-4981-cada-1e698cd80433"
      },
      "source": [
        "print('Precisión del modelo usando el MSE):')\n",
        "score_testeo = mean_squared_error(df2[\"Temp_Alicia AgriculturaCba\"],df2[\"temperatura_alicia_calculada(mean)\"],squared= True)\n",
        "print (score_testeo)\n"
      ],
      "execution_count": 7,
      "outputs": [
        {
          "output_type": "stream",
          "name": "stdout",
          "text": [
            "Precisión del modelo usando la raíz del error cuadratico medio (RMSE):\n",
            "1.0198069179205245\n"
          ]
        }
      ]
    },
    {
      "cell_type": "markdown",
      "metadata": {
        "id": "6DWwDjk9z9O9"
      },
      "source": [
        "Usando el modelo más simple como el calculo de la media se obtiene un MSE de 1.022, esto es un 100% más de error con respecto a los 0.50 encontrados al aplicar el modelo de regresión lineal de grado 3 con las variables predictoras de temperatura y humedad"
      ]
    }
  ]
}