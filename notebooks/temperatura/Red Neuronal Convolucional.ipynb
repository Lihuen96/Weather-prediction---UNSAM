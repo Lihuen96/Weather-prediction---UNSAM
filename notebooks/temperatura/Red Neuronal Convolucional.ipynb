{
  "nbformat": 4,
  "nbformat_minor": 0,
  "metadata": {
    "colab": {
      "name": "Untitled21.ipynb",
      "provenance": [],
      "authorship_tag": "ABX9TyPxHAclP2BIUGburiBft6yt",
      "include_colab_link": true
    },
    "kernelspec": {
      "name": "python3",
      "display_name": "Python 3"
    },
    "language_info": {
      "name": "python"
    }
  },
  "cells": [
    {
      "cell_type": "markdown",
      "metadata": {
        "id": "view-in-github",
        "colab_type": "text"
      },
      "source": [
        "<a href=\"https://colab.research.google.com/github/Jorge-89/Regresiones_TP_UNSAM/blob/main/Red%20Neuronal%20Convolucional.ipynb\" target=\"_parent\"><img src=\"https://colab.research.google.com/assets/colab-badge.svg\" alt=\"Open In Colab\"/></a>"
      ]
    },
    {
      "cell_type": "code",
      "metadata": {
        "id": "DlJhy1RPiPHe"
      },
      "source": [
        "from sklearn.datasets import load_boston\n",
        "from keras.models import Sequential\n",
        "from keras.layers import Dense, Conv1D, Flatten\n",
        "from sklearn.model_selection import train_test_split\n",
        "from sklearn.metrics import mean_squared_error\n",
        "import matplotlib.pyplot as plt\n",
        "import pandas as pd\n",
        "from sklearn.model_selection import cross_val_score"
      ],
      "execution_count": 82,
      "outputs": []
    },
    {
      "cell_type": "code",
      "metadata": {
        "colab": {
          "base_uri": "https://localhost:8080/"
        },
        "id": "AcjxWRgdiWcL",
        "outputId": "b6aec396-24dd-432b-e837-8ec06c6ef985"
      },
      "source": [
        "\n",
        "#se importa el set de datos\n",
        "url = 'https://raw.githubusercontent.com/Jorge-89/Regresion-Lineal-/main/base_datos_estaciones_met_V3_train.csv'\n",
        "df = pd.read_csv(url, sep=\",\")\n",
        "df.columns"
      ],
      "execution_count": 4,
      "outputs": [
        {
          "output_type": "execute_result",
          "data": {
            "text/plain": [
              "Index(['Unnamed: 0', 'fecha_completa', 'Fecha', 'Hora',\n",
              "       'Temp_Alicia AgriculturaCba', 'Humedad_Alicia AgriculturaCba',\n",
              "       'PP_Alicia AgriculturaCba', 'Temp_Las Varas AgriculturaCba',\n",
              "       'Humedad_Las Varas AgriculturaCba', 'PP_Las Varas AgriculturaCba',\n",
              "       'Temp_San Miguel - Establecimiento Don Luis',\n",
              "       'Humedad_San Miguel - Establecimiento Don Luis',\n",
              "       'PP_San Miguel - Establecimiento Don Luis',\n",
              "       'Temp_San Miguel - Listello', 'Humedad_San Miguel - Listello',\n",
              "       'PP_San Miguel - Listello', 'Temp_ San Miguel - Las Varillas',\n",
              "       'Humedad_ San Miguel - Las Varillas', 'PP_ San Miguel - Las Varillas'],\n",
              "      dtype='object')"
            ]
          },
          "metadata": {},
          "execution_count": 4
        }
      ]
    },
    {
      "cell_type": "code",
      "metadata": {
        "id": "Nv-H8VbxijzX"
      },
      "source": [
        "x= df[[ 'Temp_Las Varas AgriculturaCba', 'Humedad_Las Varas AgriculturaCba',\n",
        "        'Temp_San Miguel - Establecimiento Don Luis', 'Humedad_San Miguel - Establecimiento Don Luis',\n",
        "       'Temp_San Miguel - Listello', 'Humedad_San Miguel - Listello',\n",
        "       'Temp_ San Miguel - Las Varillas', 'Humedad_ San Miguel - Las Varillas']]\n",
        "y= df[\"Temp_Alicia AgriculturaCba\"]"
      ],
      "execution_count": 28,
      "outputs": []
    },
    {
      "cell_type": "code",
      "metadata": {
        "id": "Yr9WFcYcikcd"
      },
      "source": [
        "#Separo los datos de \"train\" en entrenamiento y prueba \"test\" para probar los algoritmos\n",
        "x_train, x_test, y_train, y_test = train_test_split(x, y, test_size=0.2, random_state=42)"
      ],
      "execution_count": 29,
      "outputs": []
    },
    {
      "cell_type": "code",
      "metadata": {
        "id": "sx5zZpmeim2b"
      },
      "source": [
        "from sklearn.preprocessing import StandardScaler, MinMaxScaler"
      ],
      "execution_count": 30,
      "outputs": []
    },
    {
      "cell_type": "code",
      "metadata": {
        "id": "UuAKuK7Oio5k"
      },
      "source": [
        "#Estandarizo las features, las redes son muy sensibles a datos no escalados.\n",
        "scaler_labels = StandardScaler()\n",
        "x_train = scaler_labels.fit_transform(x_train)\n",
        "x_test = scaler_labels.transform(x_test)"
      ],
      "execution_count": 31,
      "outputs": []
    },
    {
      "cell_type": "code",
      "metadata": {
        "colab": {
          "base_uri": "https://localhost:8080/"
        },
        "id": "FJaFZkDsjHQS",
        "outputId": "ff91b7ec-db0f-49b0-a68b-b14f2b39306f"
      },
      "source": [
        "x_train = x_train.reshape(x_train.shape[0], x_train.shape[1], 1)\n",
        "x_test = x_test.reshape(x_test.shape[0], x_test.shape[1], 1)\n",
        "print(x_test.shape)\n"
      ],
      "execution_count": 36,
      "outputs": [
        {
          "output_type": "stream",
          "name": "stdout",
          "text": [
            "(2074, 8, 1)\n"
          ]
        }
      ]
    },
    {
      "cell_type": "code",
      "metadata": {
        "colab": {
          "base_uri": "https://localhost:8080/"
        },
        "id": "wioB_LtZlQ6G",
        "outputId": "d50ec9a0-6b11-4975-c04c-a85d64fb3bde"
      },
      "source": [
        "model = Sequential()\n",
        "model.add(Conv1D(32, 2, activation=\"relu\", input_shape=(8, 1)))\n",
        "model.add(Flatten())\n",
        "model.add(Dense(64, activation=\"relu\"))\n",
        "model.add(Flatten())\n",
        "model.add(Dense(16, activation=\"relu\"))\n",
        "model.add(Flatten())\n",
        "model.add(Dense(16, activation=\"relu\"))\n",
        "model.add(Dense(1))\n",
        "model.compile(loss=\"mse\", optimizer=\"adam\")\n",
        " \n",
        "model.summary()"
      ],
      "execution_count": 74,
      "outputs": [
        {
          "output_type": "stream",
          "name": "stdout",
          "text": [
            "Model: \"sequential_7\"\n",
            "_________________________________________________________________\n",
            "Layer (type)                 Output Shape              Param #   \n",
            "=================================================================\n",
            "conv1d_7 (Conv1D)            (None, 7, 32)             96        \n",
            "_________________________________________________________________\n",
            "flatten_8 (Flatten)          (None, 224)               0         \n",
            "_________________________________________________________________\n",
            "dense_16 (Dense)             (None, 64)                14400     \n",
            "_________________________________________________________________\n",
            "flatten_9 (Flatten)          (None, 64)                0         \n",
            "_________________________________________________________________\n",
            "dense_17 (Dense)             (None, 16)                1040      \n",
            "_________________________________________________________________\n",
            "flatten_10 (Flatten)         (None, 16)                0         \n",
            "_________________________________________________________________\n",
            "dense_18 (Dense)             (None, 16)                272       \n",
            "_________________________________________________________________\n",
            "dense_19 (Dense)             (None, 1)                 17        \n",
            "=================================================================\n",
            "Total params: 15,825\n",
            "Trainable params: 15,825\n",
            "Non-trainable params: 0\n",
            "_________________________________________________________________\n"
          ]
        }
      ]
    },
    {
      "cell_type": "code",
      "metadata": {
        "id": "AiAmukX2r1_-"
      },
      "source": [
        "#Defino la función neuronal\n",
        "def define_model():\n",
        "    \n",
        "    model = Sequential()\n",
        "    model.add(Conv1D(32, 2, activation=\"relu\", input_shape=(8, 1)))\n",
        "    model.add(Flatten())\n",
        "    model.add(Dense(64, activation=\"relu\"))\n",
        "    model.add(Flatten())\n",
        "    model.add(Dense(16, activation=\"relu\"))\n",
        "    model.add(Flatten())\n",
        "    model.add(Dense(16, activation=\"relu\"))\n",
        "    model.add(Dense(1))\n",
        "    model.compile(loss=\"mse\", optimizer=\"adam\")\n",
        "    \n",
        "   \n",
        "    return model"
      ],
      "execution_count": 96,
      "outputs": []
    },
    {
      "cell_type": "code",
      "metadata": {
        "id": "IwPOE_fGs5k2"
      },
      "source": [
        "model = define_model()"
      ],
      "execution_count": 97,
      "outputs": []
    },
    {
      "cell_type": "code",
      "metadata": {
        "id": "l62YMBxgsXtY"
      },
      "source": [
        "import numpy\n",
        "import pandas as pd\n",
        "from pandas import read_csv\n",
        "from tensorflow.keras.models import Sequential\n",
        "from tensorflow.keras.layers import Dense\n",
        "from tensorflow.keras.layers import Dropout\n",
        "from tensorflow.keras.wrappers.scikit_learn import KerasRegressor\n",
        "from sklearn.model_selection import GridSearchCV\n",
        "from sklearn.model_selection import cross_val_score\n",
        "from sklearn.model_selection import KFold\n",
        "from sklearn.preprocessing import StandardScaler\n",
        "from sklearn.model_selection import train_test_split\n",
        "from sklearn.metrics import mean_squared_error, r2_score\n",
        "import pathlib\n",
        "import matplotlib.pyplot as plt\n",
        "import seaborn as sns"
      ],
      "execution_count": 91,
      "outputs": []
    },
    {
      "cell_type": "code",
      "metadata": {
        "colab": {
          "base_uri": "https://localhost:8080/"
        },
        "id": "udCBGTuqsPL9",
        "outputId": "bccca52b-6d32-40d9-b9a1-0dee9baea1ca"
      },
      "source": [
        "\n",
        "#Veamos como se comporta el modelo con CV y con hiperparametros obtenidos de GriSearchCV \n",
        "   \n",
        "    # To start from scratch\n",
        "\n",
        "#Luego de tener un modelo con regularización es conveniente usar un CV y tener un mse para ver como se comporta con datos que nunca observo.\n",
        "regressor = KerasRegressor(build_fn = define_model, batch_size = 32, epochs = 100)\n",
        "errores = cross_val_score(regressor, x_test, y_test, cv = 5, scoring='neg_mean_squared_error', n_jobs=-1)\n",
        "errores = -errores\n",
        "errores"
      ],
      "execution_count": 99,
      "outputs": [
        {
          "output_type": "execute_result",
          "data": {
            "text/plain": [
              "array([0.5663274 , 0.66082623, 0.86898977, 0.61239222, 0.78993946])"
            ]
          },
          "metadata": {},
          "execution_count": 99
        }
      ]
    },
    {
      "cell_type": "code",
      "metadata": {
        "colab": {
          "base_uri": "https://localhost:8080/"
        },
        "id": "cClqWmz_tn_y",
        "outputId": "d3d9a22b-eb3c-4bd7-8ca5-fd439f6aa71e"
      },
      "source": [
        "print(errores.mean(), errores.std())"
      ],
      "execution_count": 101,
      "outputs": [
        {
          "output_type": "stream",
          "name": "stdout",
          "text": [
            "0.6996950166589896 0.11289309516807737\n"
          ]
        }
      ]
    },
    {
      "cell_type": "code",
      "metadata": {
        "colab": {
          "base_uri": "https://localhost:8080/"
        },
        "id": "8AJOhbASlh70",
        "outputId": "44a13d6f-0eaf-4b63-8263-9b81686bf801"
      },
      "source": [
        "model.fit(x_train, y_train, batch_size=32,epochs=100)"
      ],
      "execution_count": 100,
      "outputs": [
        {
          "output_type": "stream",
          "name": "stdout",
          "text": [
            "Epoch 1/100\n",
            "260/260 [==============================] - 1s 2ms/step - loss: 79.3915\n",
            "Epoch 2/100\n",
            "260/260 [==============================] - 0s 2ms/step - loss: 1.0050\n",
            "Epoch 3/100\n",
            "260/260 [==============================] - 0s 2ms/step - loss: 0.7408\n",
            "Epoch 4/100\n",
            "260/260 [==============================] - 0s 2ms/step - loss: 0.6739\n",
            "Epoch 5/100\n",
            "260/260 [==============================] - 0s 2ms/step - loss: 0.6618\n",
            "Epoch 6/100\n",
            "260/260 [==============================] - 0s 2ms/step - loss: 0.6515\n",
            "Epoch 7/100\n",
            "260/260 [==============================] - 0s 2ms/step - loss: 0.6394\n",
            "Epoch 8/100\n",
            "260/260 [==============================] - 0s 2ms/step - loss: 0.6612\n",
            "Epoch 9/100\n",
            "260/260 [==============================] - 0s 2ms/step - loss: 0.6472\n",
            "Epoch 10/100\n",
            "260/260 [==============================] - 0s 2ms/step - loss: 0.6328\n",
            "Epoch 11/100\n",
            "260/260 [==============================] - 0s 2ms/step - loss: 0.6294\n",
            "Epoch 12/100\n",
            "260/260 [==============================] - 0s 2ms/step - loss: 0.6543\n",
            "Epoch 13/100\n",
            "260/260 [==============================] - 0s 2ms/step - loss: 0.6435\n",
            "Epoch 14/100\n",
            "260/260 [==============================] - 0s 2ms/step - loss: 0.6333\n",
            "Epoch 15/100\n",
            "260/260 [==============================] - 0s 2ms/step - loss: 0.6453\n",
            "Epoch 16/100\n",
            "260/260 [==============================] - 0s 2ms/step - loss: 0.6549\n",
            "Epoch 17/100\n",
            "260/260 [==============================] - 0s 2ms/step - loss: 0.6502\n",
            "Epoch 18/100\n",
            "260/260 [==============================] - 0s 2ms/step - loss: 0.6367\n",
            "Epoch 19/100\n",
            "260/260 [==============================] - 0s 2ms/step - loss: 0.6327\n",
            "Epoch 20/100\n",
            "260/260 [==============================] - 0s 2ms/step - loss: 0.6262\n",
            "Epoch 21/100\n",
            "260/260 [==============================] - 0s 2ms/step - loss: 0.6302\n",
            "Epoch 22/100\n",
            "260/260 [==============================] - 0s 2ms/step - loss: 0.6276\n",
            "Epoch 23/100\n",
            "260/260 [==============================] - 0s 2ms/step - loss: 0.6250\n",
            "Epoch 24/100\n",
            "260/260 [==============================] - 0s 2ms/step - loss: 0.6523\n",
            "Epoch 25/100\n",
            "260/260 [==============================] - 0s 2ms/step - loss: 0.6383\n",
            "Epoch 26/100\n",
            "260/260 [==============================] - 0s 2ms/step - loss: 0.6321\n",
            "Epoch 27/100\n",
            "260/260 [==============================] - 0s 2ms/step - loss: 0.6511\n",
            "Epoch 28/100\n",
            "260/260 [==============================] - 0s 2ms/step - loss: 0.6095\n",
            "Epoch 29/100\n",
            "260/260 [==============================] - 0s 2ms/step - loss: 0.6381\n",
            "Epoch 30/100\n",
            "260/260 [==============================] - 0s 2ms/step - loss: 0.6234\n",
            "Epoch 31/100\n",
            "260/260 [==============================] - 0s 2ms/step - loss: 0.6140\n",
            "Epoch 32/100\n",
            "260/260 [==============================] - 0s 2ms/step - loss: 0.6090\n",
            "Epoch 33/100\n",
            "260/260 [==============================] - 0s 2ms/step - loss: 0.6375\n",
            "Epoch 34/100\n",
            "260/260 [==============================] - 0s 2ms/step - loss: 0.6300\n",
            "Epoch 35/100\n",
            "260/260 [==============================] - 0s 2ms/step - loss: 0.6056\n",
            "Epoch 36/100\n",
            "260/260 [==============================] - 0s 2ms/step - loss: 0.6201\n",
            "Epoch 37/100\n",
            "260/260 [==============================] - 0s 2ms/step - loss: 0.6146\n",
            "Epoch 38/100\n",
            "260/260 [==============================] - 0s 2ms/step - loss: 0.6127\n",
            "Epoch 39/100\n",
            "260/260 [==============================] - 0s 2ms/step - loss: 0.6064\n",
            "Epoch 40/100\n",
            "260/260 [==============================] - 0s 2ms/step - loss: 0.6011\n",
            "Epoch 41/100\n",
            "260/260 [==============================] - 0s 2ms/step - loss: 0.6138\n",
            "Epoch 42/100\n",
            "260/260 [==============================] - 0s 2ms/step - loss: 0.6097\n",
            "Epoch 43/100\n",
            "260/260 [==============================] - 0s 2ms/step - loss: 0.6154\n",
            "Epoch 44/100\n",
            "260/260 [==============================] - 0s 2ms/step - loss: 0.6194\n",
            "Epoch 45/100\n",
            "260/260 [==============================] - 0s 2ms/step - loss: 0.6143\n",
            "Epoch 46/100\n",
            "260/260 [==============================] - 0s 2ms/step - loss: 0.6068\n",
            "Epoch 47/100\n",
            "260/260 [==============================] - 0s 2ms/step - loss: 0.6098\n",
            "Epoch 48/100\n",
            "260/260 [==============================] - 0s 2ms/step - loss: 0.5888\n",
            "Epoch 49/100\n",
            "260/260 [==============================] - 0s 2ms/step - loss: 0.5861\n",
            "Epoch 50/100\n",
            "260/260 [==============================] - 0s 2ms/step - loss: 0.6077\n",
            "Epoch 51/100\n",
            "260/260 [==============================] - 0s 2ms/step - loss: 0.5987\n",
            "Epoch 52/100\n",
            "260/260 [==============================] - 0s 2ms/step - loss: 0.5846\n",
            "Epoch 53/100\n",
            "260/260 [==============================] - 0s 2ms/step - loss: 0.5888\n",
            "Epoch 54/100\n",
            "260/260 [==============================] - 0s 2ms/step - loss: 0.6045\n",
            "Epoch 55/100\n",
            "260/260 [==============================] - 0s 2ms/step - loss: 0.5923\n",
            "Epoch 56/100\n",
            "260/260 [==============================] - 0s 2ms/step - loss: 0.5790\n",
            "Epoch 57/100\n",
            "260/260 [==============================] - 0s 2ms/step - loss: 0.6076\n",
            "Epoch 58/100\n",
            "260/260 [==============================] - 0s 2ms/step - loss: 0.5948\n",
            "Epoch 59/100\n",
            "260/260 [==============================] - 0s 2ms/step - loss: 0.5919\n",
            "Epoch 60/100\n",
            "260/260 [==============================] - 0s 2ms/step - loss: 0.6068\n",
            "Epoch 61/100\n",
            "260/260 [==============================] - 0s 2ms/step - loss: 0.5937\n",
            "Epoch 62/100\n",
            "260/260 [==============================] - 0s 2ms/step - loss: 0.5818\n",
            "Epoch 63/100\n",
            "260/260 [==============================] - 0s 2ms/step - loss: 0.5974\n",
            "Epoch 64/100\n",
            "260/260 [==============================] - 0s 2ms/step - loss: 0.5871\n",
            "Epoch 65/100\n",
            "260/260 [==============================] - 0s 2ms/step - loss: 0.5693\n",
            "Epoch 66/100\n",
            "260/260 [==============================] - 0s 2ms/step - loss: 0.5641\n",
            "Epoch 67/100\n",
            "260/260 [==============================] - 0s 2ms/step - loss: 0.5731\n",
            "Epoch 68/100\n",
            "260/260 [==============================] - 0s 2ms/step - loss: 0.5796\n",
            "Epoch 69/100\n",
            "260/260 [==============================] - 0s 2ms/step - loss: 0.5825\n",
            "Epoch 70/100\n",
            "260/260 [==============================] - 0s 2ms/step - loss: 0.5682\n",
            "Epoch 71/100\n",
            "260/260 [==============================] - 0s 2ms/step - loss: 0.5711\n",
            "Epoch 72/100\n",
            "260/260 [==============================] - 0s 2ms/step - loss: 0.5745\n",
            "Epoch 73/100\n",
            "260/260 [==============================] - 0s 2ms/step - loss: 0.5676\n",
            "Epoch 74/100\n",
            "260/260 [==============================] - 0s 2ms/step - loss: 0.5588\n",
            "Epoch 75/100\n",
            "260/260 [==============================] - 0s 2ms/step - loss: 0.5579\n",
            "Epoch 76/100\n",
            "260/260 [==============================] - 0s 2ms/step - loss: 0.5594\n",
            "Epoch 77/100\n",
            "260/260 [==============================] - 0s 2ms/step - loss: 0.5642\n",
            "Epoch 78/100\n",
            "260/260 [==============================] - 0s 2ms/step - loss: 0.5668\n",
            "Epoch 79/100\n",
            "260/260 [==============================] - 0s 2ms/step - loss: 0.5760\n",
            "Epoch 80/100\n",
            "260/260 [==============================] - 0s 2ms/step - loss: 0.5619\n",
            "Epoch 81/100\n",
            "260/260 [==============================] - 0s 2ms/step - loss: 0.5460\n",
            "Epoch 82/100\n",
            "260/260 [==============================] - 0s 2ms/step - loss: 0.5504\n",
            "Epoch 83/100\n",
            "260/260 [==============================] - 0s 2ms/step - loss: 0.5715\n",
            "Epoch 84/100\n",
            "260/260 [==============================] - 0s 2ms/step - loss: 0.5616\n",
            "Epoch 85/100\n",
            "260/260 [==============================] - 0s 2ms/step - loss: 0.5551\n",
            "Epoch 86/100\n",
            "260/260 [==============================] - 0s 2ms/step - loss: 0.5643\n",
            "Epoch 87/100\n",
            "260/260 [==============================] - 0s 2ms/step - loss: 0.5471\n",
            "Epoch 88/100\n",
            "260/260 [==============================] - 0s 2ms/step - loss: 0.5539\n",
            "Epoch 89/100\n",
            "260/260 [==============================] - 0s 2ms/step - loss: 0.5481\n",
            "Epoch 90/100\n",
            "260/260 [==============================] - 0s 2ms/step - loss: 0.5421\n",
            "Epoch 91/100\n",
            "260/260 [==============================] - 0s 2ms/step - loss: 0.5648\n",
            "Epoch 92/100\n",
            "260/260 [==============================] - 0s 2ms/step - loss: 0.5389\n",
            "Epoch 93/100\n",
            "260/260 [==============================] - 0s 2ms/step - loss: 0.5452\n",
            "Epoch 94/100\n",
            "260/260 [==============================] - 0s 2ms/step - loss: 0.5424\n",
            "Epoch 95/100\n",
            "260/260 [==============================] - 0s 2ms/step - loss: 0.5504\n",
            "Epoch 96/100\n",
            "260/260 [==============================] - 0s 2ms/step - loss: 0.5344\n",
            "Epoch 97/100\n",
            "260/260 [==============================] - 0s 2ms/step - loss: 0.5383\n",
            "Epoch 98/100\n",
            "260/260 [==============================] - 0s 2ms/step - loss: 0.5390\n",
            "Epoch 99/100\n",
            "260/260 [==============================] - 0s 2ms/step - loss: 0.5270\n",
            "Epoch 100/100\n",
            "260/260 [==============================] - 0s 2ms/step - loss: 0.5250\n"
          ]
        },
        {
          "output_type": "execute_result",
          "data": {
            "text/plain": [
              "<keras.callbacks.History at 0x7f35d2eae450>"
            ]
          },
          "metadata": {},
          "execution_count": 100
        }
      ]
    },
    {
      "cell_type": "code",
      "metadata": {
        "colab": {
          "base_uri": "https://localhost:8080/"
        },
        "id": "pxq2hCg7iq8B",
        "outputId": "a6be044f-6ac2-487c-c955-f8879483447b"
      },
      "source": [
        "y_pred_test = model.predict(x_test)\n",
        "y_pred_test"
      ],
      "execution_count": 85,
      "outputs": [
        {
          "output_type": "execute_result",
          "data": {
            "text/plain": [
              "array([[25.34413 ],\n",
              "       [27.542027],\n",
              "       [14.382778],\n",
              "       ...,\n",
              "       [34.321987],\n",
              "       [27.577824],\n",
              "       [29.098696]], dtype=float32)"
            ]
          },
          "metadata": {},
          "execution_count": 85
        }
      ]
    },
    {
      "cell_type": "code",
      "metadata": {
        "colab": {
          "base_uri": "https://localhost:8080/"
        },
        "id": "-n8zUPjkl5vU",
        "outputId": "7a8a14e8-5206-4b6e-e4a1-9361e885aa24"
      },
      "source": [
        "print('Precisión del modelo usando la raíz del error cuadratico medio (RMSE):')\n",
        "score_testeo = mean_squared_error(y_test,y_pred_test,squared= True)\n",
        "\n",
        "print (score_testeo)"
      ],
      "execution_count": 86,
      "outputs": [
        {
          "output_type": "stream",
          "name": "stdout",
          "text": [
            "Precisión del modelo usando la raíz del error cuadratico medio (RMSE):\n",
            "0.47291498677222094\n"
          ]
        }
      ]
    },
    {
      "cell_type": "code",
      "metadata": {
        "colab": {
          "base_uri": "https://localhost:8080/",
          "height": 265
        },
        "id": "jIu7VgVDmVGz",
        "outputId": "56c02048-9f5e-48e9-dc4a-8326fded3321"
      },
      "source": [
        "x_ax = range(len(y_pred_test))\n",
        "plt.scatter(x_ax, y_test, s=5, color=\"blue\", label=\"original\")\n",
        "plt.plot(x_ax, y_pred_test, lw=0.8, color=\"red\", label=\"predicted\")\n",
        "plt.legend()\n",
        "plt.show()"
      ],
      "execution_count": 73,
      "outputs": [
        {
          "output_type": "display_data",
          "data": {
            "image/png": "[encoded data removed]",
            "text/plain": [
              "<Figure size 432x288 with 1 Axes>"
            ]
          },
          "metadata": {
            "needs_background": "light"
          }
        }
      ]
    }
  ]
}