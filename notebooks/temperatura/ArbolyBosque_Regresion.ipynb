{
  "nbformat": 4,
  "nbformat_minor": 0,
  "metadata": {
    "colab": {
      "name": "Untitled14.ipynb",
      "provenance": [],
      "authorship_tag": "ABX9TyPcMFbsZiVKAoZI16i0Mzdh",
      "include_colab_link": true
    },
    "kernelspec": {
      "name": "python3",
      "display_name": "Python 3"
    },
    "language_info": {
      "name": "python"
    }
  },
  "cells": [
    {
      "cell_type": "markdown",
      "metadata": {
        "id": "view-in-github",
        "colab_type": "text"
      },
      "source": [
        "<a href=\"https://colab.research.google.com/github/Jorge-89/Regresiones_TP_UNSAM/blob/main/ArbolyBosque_Regresion.ipynb\" target=\"_parent\"><img src=\"https://colab.research.google.com/assets/colab-badge.svg\" alt=\"Open In Colab\"/></a>"
      ]
    },
    {
      "cell_type": "code",
      "metadata": {
        "id": "jQ71quj5q3cr"
      },
      "source": [
        "# importo librerias necesarias\n",
        "import pandas as pd\n",
        "import numpy as np\n",
        "from sklearn.metrics import mean_squared_error as mse\n",
        "from sklearn.pipeline import Pipeline\n",
        "from sklearn.preprocessing  import PolynomialFeatures\n",
        "from sklearn.model_selection import train_test_split\n",
        "from sklearn.model_selection import GridSearchCV\n",
        "from sklearn.model_selection import cross_val_score\n",
        "from sklearn.tree import DecisionTreeRegressor\n",
        "import matplotlib.pyplot as plt\n",
        "from sklearn.tree import plot_tree\n",
        "from sklearn.tree import export_graphviz\n",
        "from sklearn.tree import export_text\n",
        "from sklearn.ensemble import RandomForestRegressor\n",
        "from sklearn.model_selection import RandomizedSearchCV"
      ],
      "execution_count": null,
      "outputs": []
    },
    {
      "cell_type": "code",
      "metadata": {
        "colab": {
          "base_uri": "https://localhost:8080/"
        },
        "id": "xj1iLjFDq-KI",
        "outputId": "9ca50251-9ce3-4d64-a183-a1890cca461e"
      },
      "source": [
        "#se importa el set de datos\n",
        "url = 'https://raw.githubusercontent.com/Jorge-89/Regresion-Lineal-/main/base_datos_estaciones_met_V3_train.csv'\n",
        "df = pd.read_csv(url, sep=\",\")\n",
        "df.columns"
      ],
      "execution_count": null,
      "outputs": [
        {
          "output_type": "execute_result",
          "data": {
            "text/plain": [
              "Index(['Unnamed: 0', 'fecha_completa', 'Fecha', 'Hora',\n",
              "       'Temp_Alicia AgriculturaCba', 'Humedad_Alicia AgriculturaCba',\n",
              "       'PP_Alicia AgriculturaCba', 'Temp_Las Varas AgriculturaCba',\n",
              "       'Humedad_Las Varas AgriculturaCba', 'PP_Las Varas AgriculturaCba',\n",
              "       'Temp_San Miguel - Establecimiento Don Luis',\n",
              "       'Humedad_San Miguel - Establecimiento Don Luis',\n",
              "       'PP_San Miguel - Establecimiento Don Luis',\n",
              "       'Temp_San Miguel - Listello', 'Humedad_San Miguel - Listello',\n",
              "       'PP_San Miguel - Listello', 'Temp_ San Miguel - Las Varillas',\n",
              "       'Humedad_ San Miguel - Las Varillas', 'PP_ San Miguel - Las Varillas'],\n",
              "      dtype='object')"
            ]
          },
          "metadata": {},
          "execution_count": 10
        }
      ]
    },
    {
      "cell_type": "code",
      "metadata": {
        "id": "UWkUPXRwrCeT"
      },
      "source": [
        "x= df[[ 'Temp_Las Varas AgriculturaCba', 'Humedad_Las Varas AgriculturaCba',\n",
        "        'Temp_San Miguel - Establecimiento Don Luis', 'Humedad_San Miguel - Establecimiento Don Luis',\n",
        "       'Temp_San Miguel - Listello', 'Humedad_San Miguel - Listello',\n",
        "       'Temp_ San Miguel - Las Varillas', 'Humedad_ San Miguel - Las Varillas']]\n",
        "y= df[\"Temp_Alicia AgriculturaCba\"]\n"
      ],
      "execution_count": null,
      "outputs": []
    },
    {
      "cell_type": "code",
      "metadata": {
        "id": "IkkB0sT9q_cB"
      },
      "source": [
        "#Separo los datos de \"train\" en entrenamiento y prueba \"test\" para probar los algoritmos\n",
        "x_train, x_test, y_train, y_test = train_test_split(x, y, test_size=0.2, random_state=42)"
      ],
      "execution_count": null,
      "outputs": []
    },
    {
      "cell_type": "code",
      "metadata": {
        "colab": {
          "base_uri": "https://localhost:8080/"
        },
        "id": "teYPSVvSsV2K",
        "outputId": "dad52467-ba99-43b8-f33f-7bcc391bccac"
      },
      "source": [
        "clf = tree.DecisionTreeRegressor()\n",
        "params={'max_depth':[4,5,6,7],'min_samples_leaf':[5,10,50], 'max_leaf_nodes':[2,5,10]}\n",
        "grilla=GridSearchCV(clf,params,cv=5,scoring='neg_mean_squared_error', verbose=3)\n",
        "grilla.fit(x_train,y_train)"
      ],
      "execution_count": null,
      "outputs": [
        {
          "output_type": "stream",
          "name": "stdout",
          "text": [
            "Fitting 5 folds for each of 36 candidates, totalling 180 fits\n",
            "[CV] max_depth=4, max_leaf_nodes=2, min_samples_leaf=5 ...............\n",
            "[CV]  max_depth=4, max_leaf_nodes=2, min_samples_leaf=5, score=-10.678, total=   0.0s\n",
            "[CV] max_depth=4, max_leaf_nodes=2, min_samples_leaf=5 ...............\n",
            "[CV]  max_depth=4, max_leaf_nodes=2, min_samples_leaf=5, score=-10.431, total=   0.0s\n",
            "[CV] max_depth=4, max_leaf_nodes=2, min_samples_leaf=5 ...............\n",
            "[CV]  max_depth=4, max_leaf_nodes=2, min_samples_leaf=5, score=-10.246, total=   0.0s\n",
            "[CV] max_depth=4, max_leaf_nodes=2, min_samples_leaf=5 ...............\n",
            "[CV]  max_depth=4, max_leaf_nodes=2, min_samples_leaf=5, score=-10.138, total=   0.0s\n",
            "[CV] max_depth=4, max_leaf_nodes=2, min_samples_leaf=5 ...............\n",
            "[CV]  max_depth=4, max_leaf_nodes=2, min_samples_leaf=5, score=-10.125, total=   0.0s\n",
            "[CV] max_depth=4, max_leaf_nodes=2, min_samples_leaf=10 ..............\n",
            "[CV]  max_depth=4, max_leaf_nodes=2, min_samples_leaf=10, score=-10.678, total=   0.0s\n",
            "[CV] max_depth=4, max_leaf_nodes=2, min_samples_leaf=10 ..............\n",
            "[CV]  max_depth=4, max_leaf_nodes=2, min_samples_leaf=10, score=-10.431, total=   0.0s\n",
            "[CV] max_depth=4, max_leaf_nodes=2, min_samples_leaf=10 ..............\n",
            "[CV]  max_depth=4, max_leaf_nodes=2, min_samples_leaf=10, score=-10.246, total=   0.0s\n",
            "[CV] max_depth=4, max_leaf_nodes=2, min_samples_leaf=10 ..............\n",
            "[CV]  max_depth=4, max_leaf_nodes=2, min_samples_leaf=10, score=-10.138, total=   0.0s\n",
            "[CV] max_depth=4, max_leaf_nodes=2, min_samples_leaf=10 ..............\n",
            "[CV]  max_depth=4, max_leaf_nodes=2, min_samples_leaf=10, score=-10.125, total=   0.0s\n",
            "[CV] max_depth=4, max_leaf_nodes=2, min_samples_leaf=50 ..............\n",
            "[CV]  max_depth=4, max_leaf_nodes=2, min_samples_leaf=50, score=-10.678, total=   0.0s\n",
            "[CV] max_depth=4, max_leaf_nodes=2, min_samples_leaf=50 ..............\n",
            "[CV]  max_depth=4, max_leaf_nodes=2, min_samples_leaf=50, score=-10.431, total=   0.0s\n",
            "[CV] max_depth=4, max_leaf_nodes=2, min_samples_leaf=50 ..............\n",
            "[CV]  max_depth=4, max_leaf_nodes=2, min_samples_leaf=50, score=-10.246, total=   0.0s\n",
            "[CV] max_depth=4, max_leaf_nodes=2, min_samples_leaf=50 ..............\n",
            "[CV]  max_depth=4, max_leaf_nodes=2, min_samples_leaf=50, score=-10.138, total=   0.0s\n",
            "[CV] max_depth=4, max_leaf_nodes=2, min_samples_leaf=50 ..............\n",
            "[CV]  max_depth=4, max_leaf_nodes=2, min_samples_leaf=50, score=-10.125, total=   0.0s\n",
            "[CV] max_depth=4, max_leaf_nodes=5, min_samples_leaf=5 ...............\n"
          ]
        },
        {
          "output_type": "stream",
          "name": "stderr",
          "text": [
            "[Parallel(n_jobs=1)]: Using backend SequentialBackend with 1 concurrent workers.\n",
            "[Parallel(n_jobs=1)]: Done   1 out of   1 | elapsed:    0.0s remaining:    0.0s\n",
            "[Parallel(n_jobs=1)]: Done   2 out of   2 | elapsed:    0.0s remaining:    0.0s\n"
          ]
        },
        {
          "output_type": "stream",
          "name": "stdout",
          "text": [
            "[CV]  max_depth=4, max_leaf_nodes=5, min_samples_leaf=5, score=-2.976, total=   0.0s\n",
            "[CV] max_depth=4, max_leaf_nodes=5, min_samples_leaf=5 ...............\n",
            "[CV]  max_depth=4, max_leaf_nodes=5, min_samples_leaf=5, score=-3.159, total=   0.0s\n",
            "[CV] max_depth=4, max_leaf_nodes=5, min_samples_leaf=5 ...............\n",
            "[CV]  max_depth=4, max_leaf_nodes=5, min_samples_leaf=5, score=-2.917, total=   0.0s\n",
            "[CV] max_depth=4, max_leaf_nodes=5, min_samples_leaf=5 ...............\n",
            "[CV]  max_depth=4, max_leaf_nodes=5, min_samples_leaf=5, score=-2.920, total=   0.0s\n",
            "[CV] max_depth=4, max_leaf_nodes=5, min_samples_leaf=5 ...............\n",
            "[CV]  max_depth=4, max_leaf_nodes=5, min_samples_leaf=5, score=-2.847, total=   0.0s\n",
            "[CV] max_depth=4, max_leaf_nodes=5, min_samples_leaf=10 ..............\n",
            "[CV]  max_depth=4, max_leaf_nodes=5, min_samples_leaf=10, score=-2.976, total=   0.0s\n",
            "[CV] max_depth=4, max_leaf_nodes=5, min_samples_leaf=10 ..............\n",
            "[CV]  max_depth=4, max_leaf_nodes=5, min_samples_leaf=10, score=-3.159, total=   0.0s\n",
            "[CV] max_depth=4, max_leaf_nodes=5, min_samples_leaf=10 ..............\n",
            "[CV]  max_depth=4, max_leaf_nodes=5, min_samples_leaf=10, score=-2.917, total=   0.0s\n",
            "[CV] max_depth=4, max_leaf_nodes=5, min_samples_leaf=10 ..............\n",
            "[CV]  max_depth=4, max_leaf_nodes=5, min_samples_leaf=10, score=-2.920, total=   0.0s\n",
            "[CV] max_depth=4, max_leaf_nodes=5, min_samples_leaf=10 ..............\n",
            "[CV]  max_depth=4, max_leaf_nodes=5, min_samples_leaf=10, score=-2.847, total=   0.0s\n",
            "[CV] max_depth=4, max_leaf_nodes=5, min_samples_leaf=50 ..............\n",
            "[CV]  max_depth=4, max_leaf_nodes=5, min_samples_leaf=50, score=-2.976, total=   0.0s\n",
            "[CV] max_depth=4, max_leaf_nodes=5, min_samples_leaf=50 ..............\n",
            "[CV]  max_depth=4, max_leaf_nodes=5, min_samples_leaf=50, score=-3.159, total=   0.0s\n",
            "[CV] max_depth=4, max_leaf_nodes=5, min_samples_leaf=50 ..............\n",
            "[CV]  max_depth=4, max_leaf_nodes=5, min_samples_leaf=50, score=-2.917, total=   0.0s\n",
            "[CV] max_depth=4, max_leaf_nodes=5, min_samples_leaf=50 ..............\n",
            "[CV]  max_depth=4, max_leaf_nodes=5, min_samples_leaf=50, score=-2.920, total=   0.0s\n",
            "[CV] max_depth=4, max_leaf_nodes=5, min_samples_leaf=50 ..............\n",
            "[CV]  max_depth=4, max_leaf_nodes=5, min_samples_leaf=50, score=-2.847, total=   0.0s\n",
            "[CV] max_depth=4, max_leaf_nodes=10, min_samples_leaf=5 ..............\n",
            "[CV]  max_depth=4, max_leaf_nodes=10, min_samples_leaf=5, score=-1.404, total=   0.0s\n",
            "[CV] max_depth=4, max_leaf_nodes=10, min_samples_leaf=5 ..............\n",
            "[CV]  max_depth=4, max_leaf_nodes=10, min_samples_leaf=5, score=-1.444, total=   0.0s\n",
            "[CV] max_depth=4, max_leaf_nodes=10, min_samples_leaf=5 ..............\n",
            "[CV]  max_depth=4, max_leaf_nodes=10, min_samples_leaf=5, score=-1.394, total=   0.0s\n",
            "[CV] max_depth=4, max_leaf_nodes=10, min_samples_leaf=5 ..............\n",
            "[CV]  max_depth=4, max_leaf_nodes=10, min_samples_leaf=5, score=-1.437, total=   0.0s\n",
            "[CV] max_depth=4, max_leaf_nodes=10, min_samples_leaf=5 ..............\n",
            "[CV]  max_depth=4, max_leaf_nodes=10, min_samples_leaf=5, score=-1.445, total=   0.0s\n",
            "[CV] max_depth=4, max_leaf_nodes=10, min_samples_leaf=10 .............\n",
            "[CV]  max_depth=4, max_leaf_nodes=10, min_samples_leaf=10, score=-1.404, total=   0.0s\n",
            "[CV] max_depth=4, max_leaf_nodes=10, min_samples_leaf=10 .............\n",
            "[CV]  max_depth=4, max_leaf_nodes=10, min_samples_leaf=10, score=-1.444, total=   0.0s\n",
            "[CV] max_depth=4, max_leaf_nodes=10, min_samples_leaf=10 .............\n",
            "[CV]  max_depth=4, max_leaf_nodes=10, min_samples_leaf=10, score=-1.394, total=   0.0s\n",
            "[CV] max_depth=4, max_leaf_nodes=10, min_samples_leaf=10 .............\n",
            "[CV]  max_depth=4, max_leaf_nodes=10, min_samples_leaf=10, score=-1.437, total=   0.0s\n",
            "[CV] max_depth=4, max_leaf_nodes=10, min_samples_leaf=10 .............\n",
            "[CV]  max_depth=4, max_leaf_nodes=10, min_samples_leaf=10, score=-1.445, total=   0.0s\n",
            "[CV] max_depth=4, max_leaf_nodes=10, min_samples_leaf=50 .............\n",
            "[CV]  max_depth=4, max_leaf_nodes=10, min_samples_leaf=50, score=-1.404, total=   0.0s\n",
            "[CV] max_depth=4, max_leaf_nodes=10, min_samples_leaf=50 .............\n",
            "[CV]  max_depth=4, max_leaf_nodes=10, min_samples_leaf=50, score=-1.444, total=   0.0s\n",
            "[CV] max_depth=4, max_leaf_nodes=10, min_samples_leaf=50 .............\n",
            "[CV]  max_depth=4, max_leaf_nodes=10, min_samples_leaf=50, score=-1.394, total=   0.0s\n",
            "[CV] max_depth=4, max_leaf_nodes=10, min_samples_leaf=50 .............\n",
            "[CV]  max_depth=4, max_leaf_nodes=10, min_samples_leaf=50, score=-1.437, total=   0.0s\n",
            "[CV] max_depth=4, max_leaf_nodes=10, min_samples_leaf=50 .............\n",
            "[CV]  max_depth=4, max_leaf_nodes=10, min_samples_leaf=50, score=-1.445, total=   0.0s\n",
            "[CV] max_depth=5, max_leaf_nodes=2, min_samples_leaf=5 ...............\n",
            "[CV]  max_depth=5, max_leaf_nodes=2, min_samples_leaf=5, score=-10.678, total=   0.0s\n",
            "[CV] max_depth=5, max_leaf_nodes=2, min_samples_leaf=5 ...............\n",
            "[CV]  max_depth=5, max_leaf_nodes=2, min_samples_leaf=5, score=-10.431, total=   0.0s\n",
            "[CV] max_depth=5, max_leaf_nodes=2, min_samples_leaf=5 ...............\n",
            "[CV]  max_depth=5, max_leaf_nodes=2, min_samples_leaf=5, score=-10.246, total=   0.0s\n",
            "[CV] max_depth=5, max_leaf_nodes=2, min_samples_leaf=5 ...............\n",
            "[CV]  max_depth=5, max_leaf_nodes=2, min_samples_leaf=5, score=-10.138, total=   0.0s\n",
            "[CV] max_depth=5, max_leaf_nodes=2, min_samples_leaf=5 ...............\n",
            "[CV]  max_depth=5, max_leaf_nodes=2, min_samples_leaf=5, score=-10.125, total=   0.0s\n",
            "[CV] max_depth=5, max_leaf_nodes=2, min_samples_leaf=10 ..............\n",
            "[CV]  max_depth=5, max_leaf_nodes=2, min_samples_leaf=10, score=-10.678, total=   0.0s\n",
            "[CV] max_depth=5, max_leaf_nodes=2, min_samples_leaf=10 ..............\n",
            "[CV]  max_depth=5, max_leaf_nodes=2, min_samples_leaf=10, score=-10.431, total=   0.0s\n",
            "[CV] max_depth=5, max_leaf_nodes=2, min_samples_leaf=10 ..............\n",
            "[CV]  max_depth=5, max_leaf_nodes=2, min_samples_leaf=10, score=-10.246, total=   0.0s\n",
            "[CV] max_depth=5, max_leaf_nodes=2, min_samples_leaf=10 ..............\n",
            "[CV]  max_depth=5, max_leaf_nodes=2, min_samples_leaf=10, score=-10.138, total=   0.0s\n",
            "[CV] max_depth=5, max_leaf_nodes=2, min_samples_leaf=10 ..............\n",
            "[CV]  max_depth=5, max_leaf_nodes=2, min_samples_leaf=10, score=-10.125, total=   0.0s\n",
            "[CV] max_depth=5, max_leaf_nodes=2, min_samples_leaf=50 ..............\n",
            "[CV]  max_depth=5, max_leaf_nodes=2, min_samples_leaf=50, score=-10.678, total=   0.0s\n",
            "[CV] max_depth=5, max_leaf_nodes=2, min_samples_leaf=50 ..............\n",
            "[CV]  max_depth=5, max_leaf_nodes=2, min_samples_leaf=50, score=-10.431, total=   0.0s\n",
            "[CV] max_depth=5, max_leaf_nodes=2, min_samples_leaf=50 ..............\n",
            "[CV]  max_depth=5, max_leaf_nodes=2, min_samples_leaf=50, score=-10.246, total=   0.0s\n",
            "[CV] max_depth=5, max_leaf_nodes=2, min_samples_leaf=50 ..............\n",
            "[CV]  max_depth=5, max_leaf_nodes=2, min_samples_leaf=50, score=-10.138, total=   0.0s\n",
            "[CV] max_depth=5, max_leaf_nodes=2, min_samples_leaf=50 ..............\n",
            "[CV]  max_depth=5, max_leaf_nodes=2, min_samples_leaf=50, score=-10.125, total=   0.0s\n",
            "[CV] max_depth=5, max_leaf_nodes=5, min_samples_leaf=5 ...............\n",
            "[CV]  max_depth=5, max_leaf_nodes=5, min_samples_leaf=5, score=-2.976, total=   0.0s\n",
            "[CV] max_depth=5, max_leaf_nodes=5, min_samples_leaf=5 ...............\n",
            "[CV]  max_depth=5, max_leaf_nodes=5, min_samples_leaf=5, score=-3.159, total=   0.0s\n",
            "[CV] max_depth=5, max_leaf_nodes=5, min_samples_leaf=5 ...............\n",
            "[CV]  max_depth=5, max_leaf_nodes=5, min_samples_leaf=5, score=-2.917, total=   0.0s\n",
            "[CV] max_depth=5, max_leaf_nodes=5, min_samples_leaf=5 ...............\n",
            "[CV]  max_depth=5, max_leaf_nodes=5, min_samples_leaf=5, score=-2.920, total=   0.0s\n",
            "[CV] max_depth=5, max_leaf_nodes=5, min_samples_leaf=5 ...............\n",
            "[CV]  max_depth=5, max_leaf_nodes=5, min_samples_leaf=5, score=-2.847, total=   0.0s\n",
            "[CV] max_depth=5, max_leaf_nodes=5, min_samples_leaf=10 ..............\n",
            "[CV]  max_depth=5, max_leaf_nodes=5, min_samples_leaf=10, score=-2.976, total=   0.0s\n",
            "[CV] max_depth=5, max_leaf_nodes=5, min_samples_leaf=10 ..............\n",
            "[CV]  max_depth=5, max_leaf_nodes=5, min_samples_leaf=10, score=-3.159, total=   0.0s\n",
            "[CV] max_depth=5, max_leaf_nodes=5, min_samples_leaf=10 ..............\n",
            "[CV]  max_depth=5, max_leaf_nodes=5, min_samples_leaf=10, score=-2.917, total=   0.0s\n",
            "[CV] max_depth=5, max_leaf_nodes=5, min_samples_leaf=10 ..............\n",
            "[CV]  max_depth=5, max_leaf_nodes=5, min_samples_leaf=10, score=-2.920, total=   0.0s\n",
            "[CV] max_depth=5, max_leaf_nodes=5, min_samples_leaf=10 ..............\n",
            "[CV]  max_depth=5, max_leaf_nodes=5, min_samples_leaf=10, score=-2.847, total=   0.0s\n",
            "[CV] max_depth=5, max_leaf_nodes=5, min_samples_leaf=50 ..............\n",
            "[CV]  max_depth=5, max_leaf_nodes=5, min_samples_leaf=50, score=-2.976, total=   0.0s\n",
            "[CV] max_depth=5, max_leaf_nodes=5, min_samples_leaf=50 ..............\n",
            "[CV]  max_depth=5, max_leaf_nodes=5, min_samples_leaf=50, score=-3.159, total=   0.0s\n",
            "[CV] max_depth=5, max_leaf_nodes=5, min_samples_leaf=50 ..............\n",
            "[CV]  max_depth=5, max_leaf_nodes=5, min_samples_leaf=50, score=-2.917, total=   0.0s\n",
            "[CV] max_depth=5, max_leaf_nodes=5, min_samples_leaf=50 ..............\n",
            "[CV]  max_depth=5, max_leaf_nodes=5, min_samples_leaf=50, score=-2.920, total=   0.0s\n",
            "[CV] max_depth=5, max_leaf_nodes=5, min_samples_leaf=50 ..............\n",
            "[CV]  max_depth=5, max_leaf_nodes=5, min_samples_leaf=50, score=-2.847, total=   0.0s\n",
            "[CV] max_depth=5, max_leaf_nodes=10, min_samples_leaf=5 ..............\n",
            "[CV]  max_depth=5, max_leaf_nodes=10, min_samples_leaf=5, score=-1.404, total=   0.0s\n",
            "[CV] max_depth=5, max_leaf_nodes=10, min_samples_leaf=5 ..............\n",
            "[CV]  max_depth=5, max_leaf_nodes=10, min_samples_leaf=5, score=-1.444, total=   0.0s\n",
            "[CV] max_depth=5, max_leaf_nodes=10, min_samples_leaf=5 ..............\n",
            "[CV]  max_depth=5, max_leaf_nodes=10, min_samples_leaf=5, score=-1.394, total=   0.0s\n",
            "[CV] max_depth=5, max_leaf_nodes=10, min_samples_leaf=5 ..............\n",
            "[CV]  max_depth=5, max_leaf_nodes=10, min_samples_leaf=5, score=-1.437, total=   0.0s\n",
            "[CV] max_depth=5, max_leaf_nodes=10, min_samples_leaf=5 ..............\n",
            "[CV]  max_depth=5, max_leaf_nodes=10, min_samples_leaf=5, score=-1.445, total=   0.0s\n",
            "[CV] max_depth=5, max_leaf_nodes=10, min_samples_leaf=10 .............\n",
            "[CV]  max_depth=5, max_leaf_nodes=10, min_samples_leaf=10, score=-1.404, total=   0.0s\n",
            "[CV] max_depth=5, max_leaf_nodes=10, min_samples_leaf=10 .............\n",
            "[CV]  max_depth=5, max_leaf_nodes=10, min_samples_leaf=10, score=-1.444, total=   0.0s\n",
            "[CV] max_depth=5, max_leaf_nodes=10, min_samples_leaf=10 .............\n",
            "[CV]  max_depth=5, max_leaf_nodes=10, min_samples_leaf=10, score=-1.394, total=   0.0s\n",
            "[CV] max_depth=5, max_leaf_nodes=10, min_samples_leaf=10 .............\n",
            "[CV]  max_depth=5, max_leaf_nodes=10, min_samples_leaf=10, score=-1.437, total=   0.0s\n",
            "[CV] max_depth=5, max_leaf_nodes=10, min_samples_leaf=10 .............\n",
            "[CV]  max_depth=5, max_leaf_nodes=10, min_samples_leaf=10, score=-1.445, total=   0.0s\n",
            "[CV] max_depth=5, max_leaf_nodes=10, min_samples_leaf=50 .............\n",
            "[CV]  max_depth=5, max_leaf_nodes=10, min_samples_leaf=50, score=-1.404, total=   0.0s\n",
            "[CV] max_depth=5, max_leaf_nodes=10, min_samples_leaf=50 .............\n",
            "[CV]  max_depth=5, max_leaf_nodes=10, min_samples_leaf=50, score=-1.444, total=   0.0s\n",
            "[CV] max_depth=5, max_leaf_nodes=10, min_samples_leaf=50 .............\n",
            "[CV]  max_depth=5, max_leaf_nodes=10, min_samples_leaf=50, score=-1.394, total=   0.0s\n",
            "[CV] max_depth=5, max_leaf_nodes=10, min_samples_leaf=50 .............\n",
            "[CV]  max_depth=5, max_leaf_nodes=10, min_samples_leaf=50, score=-1.437, total=   0.0s\n",
            "[CV] max_depth=5, max_leaf_nodes=10, min_samples_leaf=50 .............\n",
            "[CV]  max_depth=5, max_leaf_nodes=10, min_samples_leaf=50, score=-1.445, total=   0.0s\n",
            "[CV] max_depth=6, max_leaf_nodes=2, min_samples_leaf=5 ...............\n",
            "[CV]  max_depth=6, max_leaf_nodes=2, min_samples_leaf=5, score=-10.678, total=   0.0s\n",
            "[CV] max_depth=6, max_leaf_nodes=2, min_samples_leaf=5 ...............\n",
            "[CV]  max_depth=6, max_leaf_nodes=2, min_samples_leaf=5, score=-10.431, total=   0.0s\n",
            "[CV] max_depth=6, max_leaf_nodes=2, min_samples_leaf=5 ...............\n",
            "[CV]  max_depth=6, max_leaf_nodes=2, min_samples_leaf=5, score=-10.246, total=   0.0s\n",
            "[CV] max_depth=6, max_leaf_nodes=2, min_samples_leaf=5 ...............\n",
            "[CV]  max_depth=6, max_leaf_nodes=2, min_samples_leaf=5, score=-10.138, total=   0.0s\n",
            "[CV] max_depth=6, max_leaf_nodes=2, min_samples_leaf=5 ...............\n",
            "[CV]  max_depth=6, max_leaf_nodes=2, min_samples_leaf=5, score=-10.125, total=   0.0s\n",
            "[CV] max_depth=6, max_leaf_nodes=2, min_samples_leaf=10 ..............\n",
            "[CV]  max_depth=6, max_leaf_nodes=2, min_samples_leaf=10, score=-10.678, total=   0.0s\n",
            "[CV] max_depth=6, max_leaf_nodes=2, min_samples_leaf=10 ..............\n",
            "[CV]  max_depth=6, max_leaf_nodes=2, min_samples_leaf=10, score=-10.431, total=   0.0s\n",
            "[CV] max_depth=6, max_leaf_nodes=2, min_samples_leaf=10 ..............\n",
            "[CV]  max_depth=6, max_leaf_nodes=2, min_samples_leaf=10, score=-10.246, total=   0.0s\n",
            "[CV] max_depth=6, max_leaf_nodes=2, min_samples_leaf=10 ..............\n",
            "[CV]  max_depth=6, max_leaf_nodes=2, min_samples_leaf=10, score=-10.138, total=   0.0s\n",
            "[CV] max_depth=6, max_leaf_nodes=2, min_samples_leaf=10 ..............\n",
            "[CV]  max_depth=6, max_leaf_nodes=2, min_samples_leaf=10, score=-10.125, total=   0.0s\n",
            "[CV] max_depth=6, max_leaf_nodes=2, min_samples_leaf=50 ..............\n",
            "[CV]  max_depth=6, max_leaf_nodes=2, min_samples_leaf=50, score=-10.678, total=   0.0s\n",
            "[CV] max_depth=6, max_leaf_nodes=2, min_samples_leaf=50 ..............\n",
            "[CV]  max_depth=6, max_leaf_nodes=2, min_samples_leaf=50, score=-10.431, total=   0.0s\n",
            "[CV] max_depth=6, max_leaf_nodes=2, min_samples_leaf=50 ..............\n",
            "[CV]  max_depth=6, max_leaf_nodes=2, min_samples_leaf=50, score=-10.246, total=   0.0s\n",
            "[CV] max_depth=6, max_leaf_nodes=2, min_samples_leaf=50 ..............\n",
            "[CV]  max_depth=6, max_leaf_nodes=2, min_samples_leaf=50, score=-10.138, total=   0.0s\n",
            "[CV] max_depth=6, max_leaf_nodes=2, min_samples_leaf=50 ..............\n",
            "[CV]  max_depth=6, max_leaf_nodes=2, min_samples_leaf=50, score=-10.125, total=   0.0s\n",
            "[CV] max_depth=6, max_leaf_nodes=5, min_samples_leaf=5 ...............\n",
            "[CV]  max_depth=6, max_leaf_nodes=5, min_samples_leaf=5, score=-2.976, total=   0.0s\n",
            "[CV] max_depth=6, max_leaf_nodes=5, min_samples_leaf=5 ...............\n",
            "[CV]  max_depth=6, max_leaf_nodes=5, min_samples_leaf=5, score=-3.159, total=   0.0s\n",
            "[CV] max_depth=6, max_leaf_nodes=5, min_samples_leaf=5 ...............\n",
            "[CV]  max_depth=6, max_leaf_nodes=5, min_samples_leaf=5, score=-2.917, total=   0.0s\n",
            "[CV] max_depth=6, max_leaf_nodes=5, min_samples_leaf=5 ...............\n",
            "[CV]  max_depth=6, max_leaf_nodes=5, min_samples_leaf=5, score=-2.920, total=   0.0s\n",
            "[CV] max_depth=6, max_leaf_nodes=5, min_samples_leaf=5 ...............\n",
            "[CV]  max_depth=6, max_leaf_nodes=5, min_samples_leaf=5, score=-2.847, total=   0.0s\n",
            "[CV] max_depth=6, max_leaf_nodes=5, min_samples_leaf=10 ..............\n",
            "[CV]  max_depth=6, max_leaf_nodes=5, min_samples_leaf=10, score=-2.976, total=   0.0s\n",
            "[CV] max_depth=6, max_leaf_nodes=5, min_samples_leaf=10 ..............\n",
            "[CV]  max_depth=6, max_leaf_nodes=5, min_samples_leaf=10, score=-3.159, total=   0.0s\n",
            "[CV] max_depth=6, max_leaf_nodes=5, min_samples_leaf=10 ..............\n",
            "[CV]  max_depth=6, max_leaf_nodes=5, min_samples_leaf=10, score=-2.917, total=   0.0s\n",
            "[CV] max_depth=6, max_leaf_nodes=5, min_samples_leaf=10 ..............\n",
            "[CV]  max_depth=6, max_leaf_nodes=5, min_samples_leaf=10, score=-2.920, total=   0.0s\n",
            "[CV] max_depth=6, max_leaf_nodes=5, min_samples_leaf=10 ..............\n",
            "[CV]  max_depth=6, max_leaf_nodes=5, min_samples_leaf=10, score=-2.847, total=   0.0s\n",
            "[CV] max_depth=6, max_leaf_nodes=5, min_samples_leaf=50 ..............\n",
            "[CV]  max_depth=6, max_leaf_nodes=5, min_samples_leaf=50, score=-2.976, total=   0.0s\n",
            "[CV] max_depth=6, max_leaf_nodes=5, min_samples_leaf=50 ..............\n",
            "[CV]  max_depth=6, max_leaf_nodes=5, min_samples_leaf=50, score=-3.159, total=   0.0s\n",
            "[CV] max_depth=6, max_leaf_nodes=5, min_samples_leaf=50 ..............\n",
            "[CV]  max_depth=6, max_leaf_nodes=5, min_samples_leaf=50, score=-2.917, total=   0.0s\n",
            "[CV] max_depth=6, max_leaf_nodes=5, min_samples_leaf=50 ..............\n",
            "[CV]  max_depth=6, max_leaf_nodes=5, min_samples_leaf=50, score=-2.920, total=   0.0s\n",
            "[CV] max_depth=6, max_leaf_nodes=5, min_samples_leaf=50 ..............\n",
            "[CV]  max_depth=6, max_leaf_nodes=5, min_samples_leaf=50, score=-2.847, total=   0.0s\n",
            "[CV] max_depth=6, max_leaf_nodes=10, min_samples_leaf=5 ..............\n",
            "[CV]  max_depth=6, max_leaf_nodes=10, min_samples_leaf=5, score=-1.404, total=   0.0s\n",
            "[CV] max_depth=6, max_leaf_nodes=10, min_samples_leaf=5 ..............\n",
            "[CV]  max_depth=6, max_leaf_nodes=10, min_samples_leaf=5, score=-1.444, total=   0.0s\n",
            "[CV] max_depth=6, max_leaf_nodes=10, min_samples_leaf=5 ..............\n",
            "[CV]  max_depth=6, max_leaf_nodes=10, min_samples_leaf=5, score=-1.394, total=   0.0s\n",
            "[CV] max_depth=6, max_leaf_nodes=10, min_samples_leaf=5 ..............\n",
            "[CV]  max_depth=6, max_leaf_nodes=10, min_samples_leaf=5, score=-1.437, total=   0.0s\n",
            "[CV] max_depth=6, max_leaf_nodes=10, min_samples_leaf=5 ..............\n",
            "[CV]  max_depth=6, max_leaf_nodes=10, min_samples_leaf=5, score=-1.445, total=   0.0s\n",
            "[CV] max_depth=6, max_leaf_nodes=10, min_samples_leaf=10 .............\n",
            "[CV]  max_depth=6, max_leaf_nodes=10, min_samples_leaf=10, score=-1.404, total=   0.0s\n",
            "[CV] max_depth=6, max_leaf_nodes=10, min_samples_leaf=10 .............\n",
            "[CV]  max_depth=6, max_leaf_nodes=10, min_samples_leaf=10, score=-1.444, total=   0.0s\n",
            "[CV] max_depth=6, max_leaf_nodes=10, min_samples_leaf=10 .............\n",
            "[CV]  max_depth=6, max_leaf_nodes=10, min_samples_leaf=10, score=-1.394, total=   0.0s\n",
            "[CV] max_depth=6, max_leaf_nodes=10, min_samples_leaf=10 .............\n",
            "[CV]  max_depth=6, max_leaf_nodes=10, min_samples_leaf=10, score=-1.437, total=   0.0s\n",
            "[CV] max_depth=6, max_leaf_nodes=10, min_samples_leaf=10 .............\n",
            "[CV]  max_depth=6, max_leaf_nodes=10, min_samples_leaf=10, score=-1.445, total=   0.0s\n",
            "[CV] max_depth=6, max_leaf_nodes=10, min_samples_leaf=50 .............\n",
            "[CV]  max_depth=6, max_leaf_nodes=10, min_samples_leaf=50, score=-1.404, total=   0.0s\n",
            "[CV] max_depth=6, max_leaf_nodes=10, min_samples_leaf=50 .............\n",
            "[CV]  max_depth=6, max_leaf_nodes=10, min_samples_leaf=50, score=-1.444, total=   0.0s\n",
            "[CV] max_depth=6, max_leaf_nodes=10, min_samples_leaf=50 .............\n",
            "[CV]  max_depth=6, max_leaf_nodes=10, min_samples_leaf=50, score=-1.394, total=   0.0s\n",
            "[CV] max_depth=6, max_leaf_nodes=10, min_samples_leaf=50 .............\n",
            "[CV]  max_depth=6, max_leaf_nodes=10, min_samples_leaf=50, score=-1.437, total=   0.0s\n",
            "[CV] max_depth=6, max_leaf_nodes=10, min_samples_leaf=50 .............\n",
            "[CV]  max_depth=6, max_leaf_nodes=10, min_samples_leaf=50, score=-1.445, total=   0.0s\n",
            "[CV] max_depth=7, max_leaf_nodes=2, min_samples_leaf=5 ...............\n",
            "[CV]  max_depth=7, max_leaf_nodes=2, min_samples_leaf=5, score=-10.678, total=   0.0s\n",
            "[CV] max_depth=7, max_leaf_nodes=2, min_samples_leaf=5 ...............\n",
            "[CV]  max_depth=7, max_leaf_nodes=2, min_samples_leaf=5, score=-10.431, total=   0.0s\n",
            "[CV] max_depth=7, max_leaf_nodes=2, min_samples_leaf=5 ...............\n",
            "[CV]  max_depth=7, max_leaf_nodes=2, min_samples_leaf=5, score=-10.246, total=   0.0s\n",
            "[CV] max_depth=7, max_leaf_nodes=2, min_samples_leaf=5 ...............\n",
            "[CV]  max_depth=7, max_leaf_nodes=2, min_samples_leaf=5, score=-10.138, total=   0.0s\n",
            "[CV] max_depth=7, max_leaf_nodes=2, min_samples_leaf=5 ...............\n",
            "[CV]  max_depth=7, max_leaf_nodes=2, min_samples_leaf=5, score=-10.125, total=   0.0s\n",
            "[CV] max_depth=7, max_leaf_nodes=2, min_samples_leaf=10 ..............\n",
            "[CV]  max_depth=7, max_leaf_nodes=2, min_samples_leaf=10, score=-10.678, total=   0.0s\n",
            "[CV] max_depth=7, max_leaf_nodes=2, min_samples_leaf=10 ..............\n",
            "[CV]  max_depth=7, max_leaf_nodes=2, min_samples_leaf=10, score=-10.431, total=   0.0s\n",
            "[CV] max_depth=7, max_leaf_nodes=2, min_samples_leaf=10 ..............\n",
            "[CV]  max_depth=7, max_leaf_nodes=2, min_samples_leaf=10, score=-10.246, total=   0.0s\n",
            "[CV] max_depth=7, max_leaf_nodes=2, min_samples_leaf=10 ..............\n",
            "[CV]  max_depth=7, max_leaf_nodes=2, min_samples_leaf=10, score=-10.138, total=   0.0s\n",
            "[CV] max_depth=7, max_leaf_nodes=2, min_samples_leaf=10 ..............\n",
            "[CV]  max_depth=7, max_leaf_nodes=2, min_samples_leaf=10, score=-10.125, total=   0.0s\n",
            "[CV] max_depth=7, max_leaf_nodes=2, min_samples_leaf=50 ..............\n",
            "[CV]  max_depth=7, max_leaf_nodes=2, min_samples_leaf=50, score=-10.678, total=   0.0s\n",
            "[CV] max_depth=7, max_leaf_nodes=2, min_samples_leaf=50 ..............\n",
            "[CV]  max_depth=7, max_leaf_nodes=2, min_samples_leaf=50, score=-10.431, total=   0.0s\n",
            "[CV] max_depth=7, max_leaf_nodes=2, min_samples_leaf=50 ..............\n",
            "[CV]  max_depth=7, max_leaf_nodes=2, min_samples_leaf=50, score=-10.246, total=   0.0s\n",
            "[CV] max_depth=7, max_leaf_nodes=2, min_samples_leaf=50 ..............\n",
            "[CV]  max_depth=7, max_leaf_nodes=2, min_samples_leaf=50, score=-10.138, total=   0.0s\n",
            "[CV] max_depth=7, max_leaf_nodes=2, min_samples_leaf=50 ..............\n",
            "[CV]  max_depth=7, max_leaf_nodes=2, min_samples_leaf=50, score=-10.125, total=   0.0s\n",
            "[CV] max_depth=7, max_leaf_nodes=5, min_samples_leaf=5 ...............\n",
            "[CV]  max_depth=7, max_leaf_nodes=5, min_samples_leaf=5, score=-2.976, total=   0.0s\n",
            "[CV] max_depth=7, max_leaf_nodes=5, min_samples_leaf=5 ...............\n",
            "[CV]  max_depth=7, max_leaf_nodes=5, min_samples_leaf=5, score=-3.159, total=   0.0s\n",
            "[CV] max_depth=7, max_leaf_nodes=5, min_samples_leaf=5 ...............\n",
            "[CV]  max_depth=7, max_leaf_nodes=5, min_samples_leaf=5, score=-2.917, total=   0.0s\n",
            "[CV] max_depth=7, max_leaf_nodes=5, min_samples_leaf=5 ...............\n",
            "[CV]  max_depth=7, max_leaf_nodes=5, min_samples_leaf=5, score=-2.920, total=   0.0s\n",
            "[CV] max_depth=7, max_leaf_nodes=5, min_samples_leaf=5 ...............\n",
            "[CV]  max_depth=7, max_leaf_nodes=5, min_samples_leaf=5, score=-2.847, total=   0.0s\n",
            "[CV] max_depth=7, max_leaf_nodes=5, min_samples_leaf=10 ..............\n",
            "[CV]  max_depth=7, max_leaf_nodes=5, min_samples_leaf=10, score=-2.976, total=   0.0s\n",
            "[CV] max_depth=7, max_leaf_nodes=5, min_samples_leaf=10 ..............\n",
            "[CV]  max_depth=7, max_leaf_nodes=5, min_samples_leaf=10, score=-3.159, total=   0.0s\n",
            "[CV] max_depth=7, max_leaf_nodes=5, min_samples_leaf=10 ..............\n",
            "[CV]  max_depth=7, max_leaf_nodes=5, min_samples_leaf=10, score=-2.917, total=   0.0s\n",
            "[CV] max_depth=7, max_leaf_nodes=5, min_samples_leaf=10 ..............\n",
            "[CV]  max_depth=7, max_leaf_nodes=5, min_samples_leaf=10, score=-2.920, total=   0.0s\n",
            "[CV] max_depth=7, max_leaf_nodes=5, min_samples_leaf=10 ..............\n",
            "[CV]  max_depth=7, max_leaf_nodes=5, min_samples_leaf=10, score=-2.847, total=   0.0s\n",
            "[CV] max_depth=7, max_leaf_nodes=5, min_samples_leaf=50 ..............\n",
            "[CV]  max_depth=7, max_leaf_nodes=5, min_samples_leaf=50, score=-2.976, total=   0.0s\n",
            "[CV] max_depth=7, max_leaf_nodes=5, min_samples_leaf=50 ..............\n",
            "[CV]  max_depth=7, max_leaf_nodes=5, min_samples_leaf=50, score=-3.159, total=   0.0s\n",
            "[CV] max_depth=7, max_leaf_nodes=5, min_samples_leaf=50 ..............\n",
            "[CV]  max_depth=7, max_leaf_nodes=5, min_samples_leaf=50, score=-2.917, total=   0.0s\n",
            "[CV] max_depth=7, max_leaf_nodes=5, min_samples_leaf=50 ..............\n",
            "[CV]  max_depth=7, max_leaf_nodes=5, min_samples_leaf=50, score=-2.920, total=   0.0s\n",
            "[CV] max_depth=7, max_leaf_nodes=5, min_samples_leaf=50 ..............\n",
            "[CV]  max_depth=7, max_leaf_nodes=5, min_samples_leaf=50, score=-2.847, total=   0.0s\n",
            "[CV] max_depth=7, max_leaf_nodes=10, min_samples_leaf=5 ..............\n",
            "[CV]  max_depth=7, max_leaf_nodes=10, min_samples_leaf=5, score=-1.404, total=   0.0s\n",
            "[CV] max_depth=7, max_leaf_nodes=10, min_samples_leaf=5 ..............\n",
            "[CV]  max_depth=7, max_leaf_nodes=10, min_samples_leaf=5, score=-1.444, total=   0.0s\n",
            "[CV] max_depth=7, max_leaf_nodes=10, min_samples_leaf=5 ..............\n",
            "[CV]  max_depth=7, max_leaf_nodes=10, min_samples_leaf=5, score=-1.394, total=   0.0s\n",
            "[CV] max_depth=7, max_leaf_nodes=10, min_samples_leaf=5 ..............\n",
            "[CV]  max_depth=7, max_leaf_nodes=10, min_samples_leaf=5, score=-1.437, total=   0.0s\n",
            "[CV] max_depth=7, max_leaf_nodes=10, min_samples_leaf=5 ..............\n",
            "[CV]  max_depth=7, max_leaf_nodes=10, min_samples_leaf=5, score=-1.445, total=   0.0s\n",
            "[CV] max_depth=7, max_leaf_nodes=10, min_samples_leaf=10 .............\n",
            "[CV]  max_depth=7, max_leaf_nodes=10, min_samples_leaf=10, score=-1.404, total=   0.0s\n",
            "[CV] max_depth=7, max_leaf_nodes=10, min_samples_leaf=10 .............\n",
            "[CV]  max_depth=7, max_leaf_nodes=10, min_samples_leaf=10, score=-1.444, total=   0.0s\n",
            "[CV] max_depth=7, max_leaf_nodes=10, min_samples_leaf=10 .............\n",
            "[CV]  max_depth=7, max_leaf_nodes=10, min_samples_leaf=10, score=-1.394, total=   0.0s\n",
            "[CV] max_depth=7, max_leaf_nodes=10, min_samples_leaf=10 .............\n",
            "[CV]  max_depth=7, max_leaf_nodes=10, min_samples_leaf=10, score=-1.437, total=   0.0s\n",
            "[CV] max_depth=7, max_leaf_nodes=10, min_samples_leaf=10 .............\n",
            "[CV]  max_depth=7, max_leaf_nodes=10, min_samples_leaf=10, score=-1.445, total=   0.0s\n",
            "[CV] max_depth=7, max_leaf_nodes=10, min_samples_leaf=50 .............\n",
            "[CV]  max_depth=7, max_leaf_nodes=10, min_samples_leaf=50, score=-1.404, total=   0.0s\n",
            "[CV] max_depth=7, max_leaf_nodes=10, min_samples_leaf=50 .............\n",
            "[CV]  max_depth=7, max_leaf_nodes=10, min_samples_leaf=50, score=-1.444, total=   0.0s\n",
            "[CV] max_depth=7, max_leaf_nodes=10, min_samples_leaf=50 .............\n",
            "[CV]  max_depth=7, max_leaf_nodes=10, min_samples_leaf=50, score=-1.394, total=   0.0s\n",
            "[CV] max_depth=7, max_leaf_nodes=10, min_samples_leaf=50 .............\n",
            "[CV]  max_depth=7, max_leaf_nodes=10, min_samples_leaf=50, score=-1.437, total=   0.0s\n",
            "[CV] max_depth=7, max_leaf_nodes=10, min_samples_leaf=50 .............\n",
            "[CV]  max_depth=7, max_leaf_nodes=10, min_samples_leaf=50, score=-1.445, total=   0.0s\n"
          ]
        },
        {
          "output_type": "stream",
          "name": "stderr",
          "text": [
            "[Parallel(n_jobs=1)]: Done 180 out of 180 | elapsed:    3.0s finished\n"
          ]
        },
        {
          "output_type": "execute_result",
          "data": {
            "text/plain": [
              "GridSearchCV(cv=5, error_score=nan,\n",
              "             estimator=DecisionTreeRegressor(ccp_alpha=0.0, criterion='mse',\n",
              "                                             max_depth=None, max_features=None,\n",
              "                                             max_leaf_nodes=None,\n",
              "                                             min_impurity_decrease=0.0,\n",
              "                                             min_impurity_split=None,\n",
              "                                             min_samples_leaf=1,\n",
              "                                             min_samples_split=2,\n",
              "                                             min_weight_fraction_leaf=0.0,\n",
              "                                             presort='deprecated',\n",
              "                                             random_state=None,\n",
              "                                             splitter='best'),\n",
              "             iid='deprecated', n_jobs=None,\n",
              "             param_grid={'max_depth': [4, 5, 6, 7],\n",
              "                         'max_leaf_nodes': [2, 5, 10],\n",
              "                         'min_samples_leaf': [5, 10, 50]},\n",
              "             pre_dispatch='2*n_jobs', refit=True, return_train_score=False,\n",
              "             scoring='neg_mean_squared_error', verbose=3)"
            ]
          },
          "metadata": {},
          "execution_count": 120
        }
      ]
    },
    {
      "cell_type": "code",
      "metadata": {
        "colab": {
          "base_uri": "https://localhost:8080/"
        },
        "id": "JRlvCMtrucsM",
        "outputId": "158e20c4-8bce-4200-9cc9-8d93cff3b052"
      },
      "source": [
        "grilla.best_params_"
      ],
      "execution_count": null,
      "outputs": [
        {
          "output_type": "execute_result",
          "data": {
            "text/plain": [
              "{'max_depth': 7, 'max_leaf_nodes': 10, 'min_samples_leaf': 50}"
            ]
          },
          "metadata": {},
          "execution_count": 121
        }
      ]
    },
    {
      "cell_type": "code",
      "metadata": {
        "colab": {
          "base_uri": "https://localhost:8080/"
        },
        "id": "5Y53bI5gyN5S",
        "outputId": "c9cae463-3cd6-4315-865a-db44f64940d2"
      },
      "source": [
        "grilla.best_score_"
      ],
      "execution_count": null,
      "outputs": [
        {
          "output_type": "execute_result",
          "data": {
            "text/plain": [
              "-1.424544056862522"
            ]
          },
          "metadata": {},
          "execution_count": 122
        }
      ]
    },
    {
      "cell_type": "code",
      "metadata": {
        "colab": {
          "base_uri": "https://localhost:8080/"
        },
        "id": "hHki-De6uz4E",
        "outputId": "32bd573e-03b5-48f5-d050-5815b77a17f4"
      },
      "source": [
        "# Fit best model\n",
        "modelo=grilla.best_estimator_\n",
        "modelo.fit(x_train, y_train)"
      ],
      "execution_count": null,
      "outputs": [
        {
          "output_type": "execute_result",
          "data": {
            "text/plain": [
              "DecisionTreeRegressor(ccp_alpha=0.0, criterion='mse', max_depth=7,\n",
              "                      max_features=None, max_leaf_nodes=10,\n",
              "                      min_impurity_decrease=0.0, min_impurity_split=None,\n",
              "                      min_samples_leaf=50, min_samples_split=2,\n",
              "                      min_weight_fraction_leaf=0.0, presort='deprecated',\n",
              "                      random_state=None, splitter='best')"
            ]
          },
          "metadata": {},
          "execution_count": 123
        }
      ]
    },
    {
      "cell_type": "code",
      "metadata": {
        "colab": {
          "base_uri": "https://localhost:8080/"
        },
        "id": "9uF0n66xvU3I",
        "outputId": "d25ff759-e24b-40df-a98b-b9883a66353d"
      },
      "source": [
        "y_pred_test = modelo.predict(x_test)\n",
        "y_pred_test"
      ],
      "execution_count": null,
      "outputs": [
        {
          "output_type": "execute_result",
          "data": {
            "text/plain": [
              "array([24.2085034 , 26.74520231, 16.12530414, ..., 34.39255319,\n",
              "       26.74520231, 26.74520231])"
            ]
          },
          "metadata": {},
          "execution_count": 124
        }
      ]
    },
    {
      "cell_type": "code",
      "metadata": {
        "colab": {
          "base_uri": "https://localhost:8080/"
        },
        "id": "kt76vBKbvIVx",
        "outputId": "eec9c382-42bb-4568-e12f-c011d8002a62"
      },
      "source": [
        "#se puede usar scoring='neg_root_mean_squared_error' tambien que seria la raiz\n",
        "MSE_modelo=cross_val_score(modelo,x_test,y_test,cv=5,scoring='neg_mean_squared_error')\n",
        "errores = -MSE_modelo\n",
        "MSE_modelo\n"
      ],
      "execution_count": null,
      "outputs": [
        {
          "output_type": "execute_result",
          "data": {
            "text/plain": [
              "array([-1.41620364, -1.47776877, -1.62937862, -1.41321439, -1.55051289])"
            ]
          },
          "metadata": {},
          "execution_count": 125
        }
      ]
    },
    {
      "cell_type": "code",
      "metadata": {
        "colab": {
          "base_uri": "https://localhost:8080/"
        },
        "id": "S9psJqxrvOAP",
        "outputId": "be964ad1-c3d6-4ba9-aa24-cc90ffba20b9"
      },
      "source": [
        "print(errores.mean(), errores.std())"
      ],
      "execution_count": null,
      "outputs": [
        {
          "output_type": "stream",
          "name": "stdout",
          "text": [
            "1.4974156626275843 0.08283089493891993\n"
          ]
        }
      ]
    },
    {
      "cell_type": "markdown",
      "metadata": {
        "id": "OZrW-ILZzsnw"
      },
      "source": [
        "Se observa como el arbol empieza a sobreajustar, ya que el MSE de entrenamiento, se puede mejorar y hacerse más pequeño, pero el test no mejora el MSE, aún con ajustes de hiperparametros\n"
      ]
    },
    {
      "cell_type": "code",
      "metadata": {
        "colab": {
          "base_uri": "https://localhost:8080/",
          "height": 339
        },
        "id": "1DynQXB2vmHz",
        "outputId": "58ed1cde-7d4c-4e16-fde3-d31eea4a428c"
      },
      "source": [
        "# Estructura del árbol creado\n",
        "\n",
        "fig, ax = plt.subplots(figsize=(12, 5))\n",
        "\n",
        "print(f\"Profundidad del árbol: {modelo.get_depth()}\")\n",
        "print(f\"Número de nodos terminales: {modelo.get_n_leaves()}\")\n",
        "\n",
        "plot = plot_tree(\n",
        "            decision_tree = modelo,\n",
        "            feature_names = x.columns,\n",
        "            class_names   = 'MEDV',\n",
        "            filled        = True,\n",
        "            impurity      = False,\n",
        "            fontsize      = 10,\n",
        "            precision     = 2,\n",
        "            ax            = ax\n",
        "       )"
      ],
      "execution_count": null,
      "outputs": [
        {
          "output_type": "stream",
          "name": "stdout",
          "text": [
            "Profundidad del árbol: 4\n",
            "Número de nodos terminales: 10\n"
          ]
        },
        {
          "output_type": "display_data",
          "data": {
            "image/png": "[encoded data removed]",
            "text/plain": [
              "<Figure size 864x360 with 1 Axes>"
            ]
          },
          "metadata": {
            "needs_background": "light"
          }
        }
      ]
    },
    {
      "cell_type": "code",
      "metadata": {
        "colab": {
          "base_uri": "https://localhost:8080/",
          "height": 336
        },
        "id": "6nL86yLaxZA0",
        "outputId": "6d7acd80-85dd-4219-bff5-096add8bcd2d"
      },
      "source": [
        "importancia_predictores = pd.DataFrame(\n",
        "                            {'predictor': x.columns,\n",
        "                             'importancia': modelo.feature_importances_}\n",
        "                            )\n",
        "print(\"Importancia de los predictores en el modelo\")\n",
        "print(\"-------------------------------------------\")\n",
        "importancia_predictores.sort_values('importancia', ascending=False)"
      ],
      "execution_count": null,
      "outputs": [
        {
          "output_type": "stream",
          "name": "stdout",
          "text": [
            "Importancia de los predictores en el modelo\n",
            "-------------------------------------------\n"
          ]
        },
        {
          "output_type": "execute_result",
          "data": {
            "text/html": [
              "<div>\n",
              "<style scoped>\n",
              "    .dataframe tbody tr th:only-of-type {\n",
              "        vertical-align: middle;\n",
              "    }\n",
              "\n",
              "    .dataframe tbody tr th {\n",
              "        vertical-align: top;\n",
              "    }\n",
              "\n",
              "    .dataframe thead th {\n",
              "        text-align: right;\n",
              "    }\n",
              "</style>\n",
              "<table border=\"1\" class=\"dataframe\">\n",
              "  <thead>\n",
              "    <tr style=\"text-align: right;\">\n",
              "      <th></th>\n",
              "      <th>predictor</th>\n",
              "      <th>importancia</th>\n",
              "    </tr>\n",
              "  </thead>\n",
              "  <tbody>\n",
              "    <tr>\n",
              "      <th>0</th>\n",
              "      <td>Temp_Las Varas AgriculturaCba</td>\n",
              "      <td>0.847269</td>\n",
              "    </tr>\n",
              "    <tr>\n",
              "      <th>6</th>\n",
              "      <td>Temp_ San Miguel - Las Varillas</td>\n",
              "      <td>0.122615</td>\n",
              "    </tr>\n",
              "    <tr>\n",
              "      <th>4</th>\n",
              "      <td>Temp_San Miguel - Listello</td>\n",
              "      <td>0.022235</td>\n",
              "    </tr>\n",
              "    <tr>\n",
              "      <th>2</th>\n",
              "      <td>Temp_San Miguel - Establecimiento Don Luis</td>\n",
              "      <td>0.007881</td>\n",
              "    </tr>\n",
              "    <tr>\n",
              "      <th>1</th>\n",
              "      <td>Humedad_Las Varas AgriculturaCba</td>\n",
              "      <td>0.000000</td>\n",
              "    </tr>\n",
              "    <tr>\n",
              "      <th>3</th>\n",
              "      <td>Humedad_San Miguel - Establecimiento Don Luis</td>\n",
              "      <td>0.000000</td>\n",
              "    </tr>\n",
              "    <tr>\n",
              "      <th>5</th>\n",
              "      <td>Humedad_San Miguel - Listello</td>\n",
              "      <td>0.000000</td>\n",
              "    </tr>\n",
              "    <tr>\n",
              "      <th>7</th>\n",
              "      <td>Humedad_ San Miguel - Las Varillas</td>\n",
              "      <td>0.000000</td>\n",
              "    </tr>\n",
              "  </tbody>\n",
              "</table>\n",
              "</div>"
            ],
            "text/plain": [
              "                                       predictor  importancia\n",
              "0                  Temp_Las Varas AgriculturaCba     0.847269\n",
              "6                Temp_ San Miguel - Las Varillas     0.122615\n",
              "4                     Temp_San Miguel - Listello     0.022235\n",
              "2     Temp_San Miguel - Establecimiento Don Luis     0.007881\n",
              "1               Humedad_Las Varas AgriculturaCba     0.000000\n",
              "3  Humedad_San Miguel - Establecimiento Don Luis     0.000000\n",
              "5                  Humedad_San Miguel - Listello     0.000000\n",
              "7             Humedad_ San Miguel - Las Varillas     0.000000"
            ]
          },
          "metadata": {},
          "execution_count": 119
        }
      ]
    },
    {
      "cell_type": "markdown",
      "metadata": {
        "id": "svG06L2s2vcq"
      },
      "source": [
        "RandomForestRegressor"
      ]
    },
    {
      "cell_type": "code",
      "metadata": {
        "colab": {
          "base_uri": "https://localhost:8080/"
        },
        "id": "DZXImM0D2ya2",
        "outputId": "83c1b397-373a-4da8-d18c-b06b47436837"
      },
      "source": [
        "clf = RandomForestRegressor()\n",
        "params={'max_depth':[7,8,9,10,11],'min_samples_leaf':[20,25,50], 'max_leaf_nodes':[10,20,30,40,50,80,100], 'n_estimators':[650,700]}\n",
        "grilla=RandomizedSearchCV(clf,params,cv=5,scoring='neg_mean_squared_error', verbose=3)\n",
        "grilla.fit(x_train,y_train)"
      ],
      "execution_count": null,
      "outputs": [
        {
          "output_type": "stream",
          "name": "stdout",
          "text": [
            "Fitting 5 folds for each of 10 candidates, totalling 50 fits\n",
            "[CV] n_estimators=700, min_samples_leaf=50, max_leaf_nodes=30, max_depth=7 \n"
          ]
        },
        {
          "output_type": "stream",
          "name": "stderr",
          "text": [
            "[Parallel(n_jobs=1)]: Using backend SequentialBackend with 1 concurrent workers.\n"
          ]
        },
        {
          "output_type": "stream",
          "name": "stdout",
          "text": [
            "[CV]  n_estimators=700, min_samples_leaf=50, max_leaf_nodes=30, max_depth=7, score=-0.650, total=  10.1s\n",
            "[CV] n_estimators=700, min_samples_leaf=50, max_leaf_nodes=30, max_depth=7 \n"
          ]
        },
        {
          "output_type": "stream",
          "name": "stderr",
          "text": [
            "[Parallel(n_jobs=1)]: Done   1 out of   1 | elapsed:   10.1s remaining:    0.0s\n"
          ]
        },
        {
          "output_type": "stream",
          "name": "stdout",
          "text": [
            "[CV]  n_estimators=700, min_samples_leaf=50, max_leaf_nodes=30, max_depth=7, score=-0.676, total=  10.1s\n",
            "[CV] n_estimators=700, min_samples_leaf=50, max_leaf_nodes=30, max_depth=7 \n"
          ]
        },
        {
          "output_type": "stream",
          "name": "stderr",
          "text": [
            "[Parallel(n_jobs=1)]: Done   2 out of   2 | elapsed:   20.2s remaining:    0.0s\n"
          ]
        },
        {
          "output_type": "stream",
          "name": "stdout",
          "text": [
            "[CV]  n_estimators=700, min_samples_leaf=50, max_leaf_nodes=30, max_depth=7, score=-0.605, total=  10.1s\n",
            "[CV] n_estimators=700, min_samples_leaf=50, max_leaf_nodes=30, max_depth=7 \n",
            "[CV]  n_estimators=700, min_samples_leaf=50, max_leaf_nodes=30, max_depth=7, score=-0.652, total=  10.1s\n",
            "[CV] n_estimators=700, min_samples_leaf=50, max_leaf_nodes=30, max_depth=7 \n",
            "[CV]  n_estimators=700, min_samples_leaf=50, max_leaf_nodes=30, max_depth=7, score=-0.697, total=  10.1s\n",
            "[CV] n_estimators=650, min_samples_leaf=25, max_leaf_nodes=50, max_depth=9 \n",
            "[CV]  n_estimators=650, min_samples_leaf=25, max_leaf_nodes=50, max_depth=9, score=-0.580, total=  10.6s\n",
            "[CV] n_estimators=650, min_samples_leaf=25, max_leaf_nodes=50, max_depth=9 \n",
            "[CV]  n_estimators=650, min_samples_leaf=25, max_leaf_nodes=50, max_depth=9, score=-0.611, total=  10.6s\n",
            "[CV] n_estimators=650, min_samples_leaf=25, max_leaf_nodes=50, max_depth=9 \n",
            "[CV]  n_estimators=650, min_samples_leaf=25, max_leaf_nodes=50, max_depth=9, score=-0.551, total=  10.6s\n",
            "[CV] n_estimators=650, min_samples_leaf=25, max_leaf_nodes=50, max_depth=9 \n",
            "[CV]  n_estimators=650, min_samples_leaf=25, max_leaf_nodes=50, max_depth=9, score=-0.588, total=  10.5s\n",
            "[CV] n_estimators=650, min_samples_leaf=25, max_leaf_nodes=50, max_depth=9 \n",
            "[CV]  n_estimators=650, min_samples_leaf=25, max_leaf_nodes=50, max_depth=9, score=-0.629, total=  10.6s\n",
            "[CV] n_estimators=700, min_samples_leaf=50, max_leaf_nodes=80, max_depth=8 \n",
            "[CV]  n_estimators=700, min_samples_leaf=50, max_leaf_nodes=80, max_depth=8, score=-0.598, total=  10.7s\n",
            "[CV] n_estimators=700, min_samples_leaf=50, max_leaf_nodes=80, max_depth=8 \n",
            "[CV]  n_estimators=700, min_samples_leaf=50, max_leaf_nodes=80, max_depth=8, score=-0.617, total=  10.7s\n",
            "[CV] n_estimators=700, min_samples_leaf=50, max_leaf_nodes=80, max_depth=8 \n",
            "[CV]  n_estimators=700, min_samples_leaf=50, max_leaf_nodes=80, max_depth=8, score=-0.561, total=  10.7s\n",
            "[CV] n_estimators=700, min_samples_leaf=50, max_leaf_nodes=80, max_depth=8 \n",
            "[CV]  n_estimators=700, min_samples_leaf=50, max_leaf_nodes=80, max_depth=8, score=-0.606, total=  10.6s\n",
            "[CV] n_estimators=700, min_samples_leaf=50, max_leaf_nodes=80, max_depth=8 \n",
            "[CV]  n_estimators=700, min_samples_leaf=50, max_leaf_nodes=80, max_depth=8, score=-0.636, total=  10.7s\n",
            "[CV] n_estimators=700, min_samples_leaf=20, max_leaf_nodes=80, max_depth=10 \n",
            "[CV]  n_estimators=700, min_samples_leaf=20, max_leaf_nodes=80, max_depth=10, score=-0.540, total=  12.4s\n",
            "[CV] n_estimators=700, min_samples_leaf=20, max_leaf_nodes=80, max_depth=10 \n",
            "[CV]  n_estimators=700, min_samples_leaf=20, max_leaf_nodes=80, max_depth=10, score=-0.567, total=  12.4s\n",
            "[CV] n_estimators=700, min_samples_leaf=20, max_leaf_nodes=80, max_depth=10 \n",
            "[CV]  n_estimators=700, min_samples_leaf=20, max_leaf_nodes=80, max_depth=10, score=-0.523, total=  12.3s\n",
            "[CV] n_estimators=700, min_samples_leaf=20, max_leaf_nodes=80, max_depth=10 \n",
            "[CV]  n_estimators=700, min_samples_leaf=20, max_leaf_nodes=80, max_depth=10, score=-0.555, total=  12.5s\n",
            "[CV] n_estimators=700, min_samples_leaf=20, max_leaf_nodes=80, max_depth=10 \n",
            "[CV]  n_estimators=700, min_samples_leaf=20, max_leaf_nodes=80, max_depth=10, score=-0.588, total=  12.3s\n",
            "[CV] n_estimators=700, min_samples_leaf=20, max_leaf_nodes=10, max_depth=10 \n",
            "[CV]  n_estimators=700, min_samples_leaf=20, max_leaf_nodes=10, max_depth=10, score=-0.914, total=   8.0s\n",
            "[CV] n_estimators=700, min_samples_leaf=20, max_leaf_nodes=10, max_depth=10 \n",
            "[CV]  n_estimators=700, min_samples_leaf=20, max_leaf_nodes=10, max_depth=10, score=-0.997, total=   8.0s\n",
            "[CV] n_estimators=700, min_samples_leaf=20, max_leaf_nodes=10, max_depth=10 \n",
            "[CV]  n_estimators=700, min_samples_leaf=20, max_leaf_nodes=10, max_depth=10, score=-0.888, total=   8.0s\n",
            "[CV] n_estimators=700, min_samples_leaf=20, max_leaf_nodes=10, max_depth=10 \n",
            "[CV]  n_estimators=700, min_samples_leaf=20, max_leaf_nodes=10, max_depth=10, score=-0.940, total=   8.0s\n",
            "[CV] n_estimators=700, min_samples_leaf=20, max_leaf_nodes=10, max_depth=10 \n",
            "[CV]  n_estimators=700, min_samples_leaf=20, max_leaf_nodes=10, max_depth=10, score=-0.933, total=   8.0s\n",
            "[CV] n_estimators=700, min_samples_leaf=25, max_leaf_nodes=30, max_depth=9 \n",
            "[CV]  n_estimators=700, min_samples_leaf=25, max_leaf_nodes=30, max_depth=9, score=-0.641, total=  10.4s\n",
            "[CV] n_estimators=700, min_samples_leaf=25, max_leaf_nodes=30, max_depth=9 \n",
            "[CV]  n_estimators=700, min_samples_leaf=25, max_leaf_nodes=30, max_depth=9, score=-0.671, total=  10.4s\n",
            "[CV] n_estimators=700, min_samples_leaf=25, max_leaf_nodes=30, max_depth=9 \n",
            "[CV]  n_estimators=700, min_samples_leaf=25, max_leaf_nodes=30, max_depth=9, score=-0.599, total=  10.4s\n",
            "[CV] n_estimators=700, min_samples_leaf=25, max_leaf_nodes=30, max_depth=9 \n",
            "[CV]  n_estimators=700, min_samples_leaf=25, max_leaf_nodes=30, max_depth=9, score=-0.643, total=  10.4s\n",
            "[CV] n_estimators=700, min_samples_leaf=25, max_leaf_nodes=30, max_depth=9 \n",
            "[CV]  n_estimators=700, min_samples_leaf=25, max_leaf_nodes=30, max_depth=9, score=-0.694, total=  10.4s\n",
            "[CV] n_estimators=700, min_samples_leaf=20, max_leaf_nodes=80, max_depth=8 \n",
            "[CV]  n_estimators=700, min_samples_leaf=20, max_leaf_nodes=80, max_depth=8, score=-0.540, total=  12.3s\n",
            "[CV] n_estimators=700, min_samples_leaf=20, max_leaf_nodes=80, max_depth=8 \n",
            "[CV]  n_estimators=700, min_samples_leaf=20, max_leaf_nodes=80, max_depth=8, score=-0.569, total=  12.2s\n",
            "[CV] n_estimators=700, min_samples_leaf=20, max_leaf_nodes=80, max_depth=8 \n",
            "[CV]  n_estimators=700, min_samples_leaf=20, max_leaf_nodes=80, max_depth=8, score=-0.523, total=  12.3s\n",
            "[CV] n_estimators=700, min_samples_leaf=20, max_leaf_nodes=80, max_depth=8 \n",
            "[CV]  n_estimators=700, min_samples_leaf=20, max_leaf_nodes=80, max_depth=8, score=-0.555, total=  12.2s\n",
            "[CV] n_estimators=700, min_samples_leaf=20, max_leaf_nodes=80, max_depth=8 \n",
            "[CV]  n_estimators=700, min_samples_leaf=20, max_leaf_nodes=80, max_depth=8, score=-0.588, total=  12.3s\n",
            "[CV] n_estimators=650, min_samples_leaf=50, max_leaf_nodes=100, max_depth=7 \n",
            "[CV]  n_estimators=650, min_samples_leaf=50, max_leaf_nodes=100, max_depth=7, score=-0.599, total=   9.8s\n",
            "[CV] n_estimators=650, min_samples_leaf=50, max_leaf_nodes=100, max_depth=7 \n",
            "[CV]  n_estimators=650, min_samples_leaf=50, max_leaf_nodes=100, max_depth=7, score=-0.619, total=   9.8s\n",
            "[CV] n_estimators=650, min_samples_leaf=50, max_leaf_nodes=100, max_depth=7 \n",
            "[CV]  n_estimators=650, min_samples_leaf=50, max_leaf_nodes=100, max_depth=7, score=-0.563, total=   9.8s\n",
            "[CV] n_estimators=650, min_samples_leaf=50, max_leaf_nodes=100, max_depth=7 \n",
            "[CV]  n_estimators=650, min_samples_leaf=50, max_leaf_nodes=100, max_depth=7, score=-0.609, total=   9.9s\n",
            "[CV] n_estimators=650, min_samples_leaf=50, max_leaf_nodes=100, max_depth=7 \n",
            "[CV]  n_estimators=650, min_samples_leaf=50, max_leaf_nodes=100, max_depth=7, score=-0.638, total=   9.8s\n",
            "[CV] n_estimators=650, min_samples_leaf=20, max_leaf_nodes=20, max_depth=9 \n",
            "[CV]  n_estimators=650, min_samples_leaf=20, max_leaf_nodes=20, max_depth=9, score=-0.706, total=   8.9s\n",
            "[CV] n_estimators=650, min_samples_leaf=20, max_leaf_nodes=20, max_depth=9 \n",
            "[CV]  n_estimators=650, min_samples_leaf=20, max_leaf_nodes=20, max_depth=9, score=-0.738, total=   8.9s\n",
            "[CV] n_estimators=650, min_samples_leaf=20, max_leaf_nodes=20, max_depth=9 \n",
            "[CV]  n_estimators=650, min_samples_leaf=20, max_leaf_nodes=20, max_depth=9, score=-0.655, total=   8.9s\n",
            "[CV] n_estimators=650, min_samples_leaf=20, max_leaf_nodes=20, max_depth=9 \n",
            "[CV]  n_estimators=650, min_samples_leaf=20, max_leaf_nodes=20, max_depth=9, score=-0.701, total=   8.8s\n",
            "[CV] n_estimators=650, min_samples_leaf=20, max_leaf_nodes=20, max_depth=9 \n",
            "[CV]  n_estimators=650, min_samples_leaf=20, max_leaf_nodes=20, max_depth=9, score=-0.747, total=   8.9s\n",
            "[CV] n_estimators=650, min_samples_leaf=20, max_leaf_nodes=40, max_depth=10 \n",
            "[CV]  n_estimators=650, min_samples_leaf=20, max_leaf_nodes=40, max_depth=10, score=-0.603, total=  10.3s\n",
            "[CV] n_estimators=650, min_samples_leaf=20, max_leaf_nodes=40, max_depth=10 \n",
            "[CV]  n_estimators=650, min_samples_leaf=20, max_leaf_nodes=40, max_depth=10, score=-0.634, total=  10.2s\n",
            "[CV] n_estimators=650, min_samples_leaf=20, max_leaf_nodes=40, max_depth=10 \n",
            "[CV]  n_estimators=650, min_samples_leaf=20, max_leaf_nodes=40, max_depth=10, score=-0.570, total=  10.3s\n",
            "[CV] n_estimators=650, min_samples_leaf=20, max_leaf_nodes=40, max_depth=10 \n",
            "[CV]  n_estimators=650, min_samples_leaf=20, max_leaf_nodes=40, max_depth=10, score=-0.607, total=  10.3s\n",
            "[CV] n_estimators=650, min_samples_leaf=20, max_leaf_nodes=40, max_depth=10 \n",
            "[CV]  n_estimators=650, min_samples_leaf=20, max_leaf_nodes=40, max_depth=10, score=-0.655, total=  10.2s\n"
          ]
        },
        {
          "output_type": "stream",
          "name": "stderr",
          "text": [
            "[Parallel(n_jobs=1)]: Done  50 out of  50 | elapsed:  8.6min finished\n"
          ]
        },
        {
          "output_type": "execute_result",
          "data": {
            "text/plain": [
              "RandomizedSearchCV(cv=5, error_score=nan,\n",
              "                   estimator=RandomForestRegressor(bootstrap=True,\n",
              "                                                   ccp_alpha=0.0,\n",
              "                                                   criterion='mse',\n",
              "                                                   max_depth=None,\n",
              "                                                   max_features='auto',\n",
              "                                                   max_leaf_nodes=None,\n",
              "                                                   max_samples=None,\n",
              "                                                   min_impurity_decrease=0.0,\n",
              "                                                   min_impurity_split=None,\n",
              "                                                   min_samples_leaf=1,\n",
              "                                                   min_samples_split=2,\n",
              "                                                   min_weight_fraction_leaf=0.0,\n",
              "                                                   n_estimators=100,\n",
              "                                                   n_jobs=None, oob_score=False,\n",
              "                                                   random_state=None, verbose=0,\n",
              "                                                   warm_start=False),\n",
              "                   iid='deprecated', n_iter=10, n_jobs=None,\n",
              "                   param_distributions={'max_depth': [7, 8, 9, 10, 11],\n",
              "                                        'max_leaf_nodes': [10, 20, 30, 40, 50,\n",
              "                                                           80, 100],\n",
              "                                        'min_samples_leaf': [20, 25, 50],\n",
              "                                        'n_estimators': [650, 700]},\n",
              "                   pre_dispatch='2*n_jobs', random_state=None, refit=True,\n",
              "                   return_train_score=False, scoring='neg_mean_squared_error',\n",
              "                   verbose=3)"
            ]
          },
          "metadata": {},
          "execution_count": 147
        }
      ]
    },
    {
      "cell_type": "code",
      "metadata": {
        "colab": {
          "base_uri": "https://localhost:8080/"
        },
        "id": "ni0AWNqf48-E",
        "outputId": "aa6aa7c4-6cd9-47b0-9a03-3df4f622bde0"
      },
      "source": [
        "grilla.best_params_"
      ],
      "execution_count": null,
      "outputs": [
        {
          "output_type": "execute_result",
          "data": {
            "text/plain": [
              "{'max_depth': 10,\n",
              " 'max_leaf_nodes': 80,\n",
              " 'min_samples_leaf': 20,\n",
              " 'n_estimators': 700}"
            ]
          },
          "metadata": {},
          "execution_count": 148
        }
      ]
    },
    {
      "cell_type": "code",
      "metadata": {
        "colab": {
          "base_uri": "https://localhost:8080/"
        },
        "id": "FXXPuqNH45DP",
        "outputId": "2db217ba-2a3d-49a4-b87d-461bfbbb5863"
      },
      "source": [
        "grilla.best_score_"
      ],
      "execution_count": null,
      "outputs": [
        {
          "output_type": "execute_result",
          "data": {
            "text/plain": [
              "-0.5546243600444616"
            ]
          },
          "metadata": {},
          "execution_count": 149
        }
      ]
    },
    {
      "cell_type": "code",
      "metadata": {
        "colab": {
          "base_uri": "https://localhost:8080/"
        },
        "id": "TIgLLFU19EvJ",
        "outputId": "e839237c-093b-4071-9aa2-1c32ef2c1851"
      },
      "source": [
        "# Fit best model\n",
        "modelo=grilla.best_estimator_\n",
        "modelo.fit(x_train, y_train)"
      ],
      "execution_count": null,
      "outputs": [
        {
          "output_type": "execute_result",
          "data": {
            "text/plain": [
              "RandomForestRegressor(bootstrap=True, ccp_alpha=0.0, criterion='mse',\n",
              "                      max_depth=10, max_features='auto', max_leaf_nodes=80,\n",
              "                      max_samples=None, min_impurity_decrease=0.0,\n",
              "                      min_impurity_split=None, min_samples_leaf=20,\n",
              "                      min_samples_split=2, min_weight_fraction_leaf=0.0,\n",
              "                      n_estimators=700, n_jobs=None, oob_score=False,\n",
              "                      random_state=None, verbose=0, warm_start=False)"
            ]
          },
          "metadata": {},
          "execution_count": 150
        }
      ]
    },
    {
      "cell_type": "code",
      "metadata": {
        "colab": {
          "base_uri": "https://localhost:8080/"
        },
        "id": "uLT2tNa99GGA",
        "outputId": "bbac2505-8ff2-4b44-f190-59874459ba65"
      },
      "source": [
        "clf = RandomForestRegressor()\n",
        "params={'max_depth':[10],'min_samples_leaf':[20], 'max_leaf_nodes':[80], 'n_estimators':[700]}\n",
        "grilla=RandomizedSearchCV(clf,params,cv=2,scoring='neg_mean_squared_error', verbose=3)\n",
        "grilla.fit(x_train,y_train)"
      ],
      "execution_count": 18,
      "outputs": [
        {
          "output_type": "stream",
          "name": "stderr",
          "text": [
            "/usr/local/lib/python3.7/dist-packages/sklearn/model_selection/_search.py:281: UserWarning: The total space of parameters 1 is smaller than n_iter=10. Running 1 iterations. For exhaustive searches, use GridSearchCV.\n",
            "  % (grid_size, self.n_iter, grid_size), UserWarning)\n",
            "[Parallel(n_jobs=1)]: Using backend SequentialBackend with 1 concurrent workers.\n"
          ]
        },
        {
          "output_type": "stream",
          "name": "stdout",
          "text": [
            "Fitting 2 folds for each of 1 candidates, totalling 2 fits\n",
            "[CV] n_estimators=700, min_samples_leaf=20, max_leaf_nodes=80, max_depth=10 \n",
            "[CV]  n_estimators=700, min_samples_leaf=20, max_leaf_nodes=80, max_depth=10, score=-0.558, total=   8.0s\n",
            "[CV] n_estimators=700, min_samples_leaf=20, max_leaf_nodes=80, max_depth=10 \n"
          ]
        },
        {
          "output_type": "stream",
          "name": "stderr",
          "text": [
            "[Parallel(n_jobs=1)]: Done   1 out of   1 | elapsed:    8.0s remaining:    0.0s\n"
          ]
        },
        {
          "output_type": "stream",
          "name": "stdout",
          "text": [
            "[CV]  n_estimators=700, min_samples_leaf=20, max_leaf_nodes=80, max_depth=10, score=-0.582, total=   7.9s\n"
          ]
        },
        {
          "output_type": "stream",
          "name": "stderr",
          "text": [
            "[Parallel(n_jobs=1)]: Done   2 out of   2 | elapsed:   15.9s remaining:    0.0s\n",
            "[Parallel(n_jobs=1)]: Done   2 out of   2 | elapsed:   15.9s finished\n"
          ]
        },
        {
          "output_type": "execute_result",
          "data": {
            "text/plain": [
              "RandomizedSearchCV(cv=2, error_score=nan,\n",
              "                   estimator=RandomForestRegressor(bootstrap=True,\n",
              "                                                   ccp_alpha=0.0,\n",
              "                                                   criterion='mse',\n",
              "                                                   max_depth=None,\n",
              "                                                   max_features='auto',\n",
              "                                                   max_leaf_nodes=None,\n",
              "                                                   max_samples=None,\n",
              "                                                   min_impurity_decrease=0.0,\n",
              "                                                   min_impurity_split=None,\n",
              "                                                   min_samples_leaf=1,\n",
              "                                                   min_samples_split=2,\n",
              "                                                   min_weight_fraction_leaf=0.0,\n",
              "                                                   n_estimators=100,\n",
              "                                                   n_jobs=None, oob_score=False,\n",
              "                                                   random_state=None, verbose=0,\n",
              "                                                   warm_start=False),\n",
              "                   iid='deprecated', n_iter=10, n_jobs=None,\n",
              "                   param_distributions={'max_depth': [10],\n",
              "                                        'max_leaf_nodes': [80],\n",
              "                                        'min_samples_leaf': [20],\n",
              "                                        'n_estimators': [700]},\n",
              "                   pre_dispatch='2*n_jobs', random_state=None, refit=True,\n",
              "                   return_train_score=False, scoring='neg_mean_squared_error',\n",
              "                   verbose=3)"
            ]
          },
          "metadata": {},
          "execution_count": 18
        }
      ]
    },
    {
      "cell_type": "code",
      "metadata": {
        "id": "3ahfveTaCEbi",
        "outputId": "38e0a7be-e2cb-4b4f-fa22-867f5e65d0c1",
        "colab": {
          "base_uri": "https://localhost:8080/"
        }
      },
      "source": [
        "# Fit best model\n",
        "modelo=grilla.best_estimator_\n",
        "modelo.fit(x_train, y_train)"
      ],
      "execution_count": 19,
      "outputs": [
        {
          "output_type": "execute_result",
          "data": {
            "text/plain": [
              "RandomForestRegressor(bootstrap=True, ccp_alpha=0.0, criterion='mse',\n",
              "                      max_depth=10, max_features='auto', max_leaf_nodes=80,\n",
              "                      max_samples=None, min_impurity_decrease=0.0,\n",
              "                      min_impurity_split=None, min_samples_leaf=20,\n",
              "                      min_samples_split=2, min_weight_fraction_leaf=0.0,\n",
              "                      n_estimators=700, n_jobs=None, oob_score=False,\n",
              "                      random_state=None, verbose=0, warm_start=False)"
            ]
          },
          "metadata": {},
          "execution_count": 19
        }
      ]
    },
    {
      "cell_type": "code",
      "metadata": {
        "colab": {
          "base_uri": "https://localhost:8080/"
        },
        "id": "rZcjmUlK9L0H",
        "outputId": "bbeb5ba6-54ed-41f1-a7ac-51cfec3d62cf"
      },
      "source": [
        "y_pred_test = modelo.predict(x_test)\n",
        "y_pred_test"
      ],
      "execution_count": 20,
      "outputs": [
        {
          "output_type": "execute_result",
          "data": {
            "text/plain": [
              "array([24.58220755, 27.26545377, 15.01414162, ..., 34.10638503,\n",
              "       26.95203396, 28.658017  ])"
            ]
          },
          "metadata": {},
          "execution_count": 20
        }
      ]
    },
    {
      "cell_type": "code",
      "metadata": {
        "id": "p7Hzm0w1C3Da",
        "outputId": "b5b5fbbd-a79f-4d9f-ae9a-356893580ec0",
        "colab": {
          "base_uri": "https://localhost:8080/"
        }
      },
      "source": [
        "print('Precisión del modelo usando el (MSE):')\n",
        "score_testeo = mse(y_test,y_pred_test)\n",
        "\n",
        "print (score_testeo)"
      ],
      "execution_count": 21,
      "outputs": [
        {
          "output_type": "stream",
          "name": "stdout",
          "text": [
            "Precisión del modelo usando el (MSE):\n",
            "0.5775841159153159\n"
          ]
        }
      ]
    }
  ]
}