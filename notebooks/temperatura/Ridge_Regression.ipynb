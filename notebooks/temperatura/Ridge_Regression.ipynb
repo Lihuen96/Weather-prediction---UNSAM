{
  "nbformat": 4,
  "nbformat_minor": 0,
  "metadata": {
    "colab": {
      "name": "Ridge Regression.ipynb",
      "provenance": [],
      "collapsed_sections": [],
      "authorship_tag": "ABX9TyOOJ6RG6zubn1X5opvac614",
      "include_colab_link": true
    },
    "kernelspec": {
      "name": "python3",
      "display_name": "Python 3"
    },
    "language_info": {
      "name": "python"
    }
  },
  "cells": [
    {
      "cell_type": "markdown",
      "metadata": {
        "id": "view-in-github",
        "colab_type": "text"
      },
      "source": [
        "<a href=\"https://colab.research.google.com/github/Jorge-89/Regresiones_TP_UNSAM/blob/main/Ridge_Regression.ipynb\" target=\"_parent\"><img src=\"https://colab.research.google.com/assets/colab-badge.svg\" alt=\"Open In Colab\"/></a>"
      ]
    },
    {
      "cell_type": "code",
      "metadata": {
        "id": "owhN61JuqMeS"
      },
      "source": [
        "# importo librerias necesarias\n",
        "import pandas as pd\n",
        "import numpy as np\n",
        "from sklearn.metrics import mean_squared_error as mse\n",
        "from sklearn.pipeline import Pipeline\n",
        "from sklearn.preprocessing  import PolynomialFeatures\n",
        "from sklearn.linear_model import Ridge\n",
        "from sklearn.linear_model import LinearRegression\n",
        "from sklearn.model_selection import train_test_split\n",
        "from sklearn.preprocessing import StandardScaler\n",
        "from sklearn.model_selection import GridSearchCV\n",
        "from sklearn.model_selection import cross_val_score\n",
        "from sklearn import datasets, linear_model\n",
        "from sklearn.linear_model import Lasso\n",
        "\n",
        "from sklearn.metrics import mean_squared_error\n",
        "import matplotlib.pyplot as plt"
      ],
      "execution_count": 1,
      "outputs": []
    },
    {
      "cell_type": "code",
      "metadata": {
        "colab": {
          "base_uri": "https://localhost:8080/"
        },
        "id": "Wunzzv5bqjc_",
        "outputId": "ef9c0c77-b1c3-4026-f5df-5846172438e1"
      },
      "source": [
        "#se importa el set de datos\n",
        "url = 'https://raw.githubusercontent.com/Jorge-89/Regresion-Lineal-/main/base_datos_estaciones_met_V3_train.csv'\n",
        "df = pd.read_csv(url, sep=\",\")\n",
        "df.columns"
      ],
      "execution_count": 2,
      "outputs": [
        {
          "output_type": "execute_result",
          "data": {
            "text/plain": [
              "Index(['Unnamed: 0', 'fecha_completa', 'Fecha', 'Hora',\n",
              "       'Temp_Alicia AgriculturaCba', 'Humedad_Alicia AgriculturaCba',\n",
              "       'PP_Alicia AgriculturaCba', 'Temp_Las Varas AgriculturaCba',\n",
              "       'Humedad_Las Varas AgriculturaCba', 'PP_Las Varas AgriculturaCba',\n",
              "       'Temp_San Miguel - Establecimiento Don Luis',\n",
              "       'Humedad_San Miguel - Establecimiento Don Luis',\n",
              "       'PP_San Miguel - Establecimiento Don Luis',\n",
              "       'Temp_San Miguel - Listello', 'Humedad_San Miguel - Listello',\n",
              "       'PP_San Miguel - Listello', 'Temp_ San Miguel - Las Varillas',\n",
              "       'Humedad_ San Miguel - Las Varillas', 'PP_ San Miguel - Las Varillas'],\n",
              "      dtype='object')"
            ]
          },
          "metadata": {},
          "execution_count": 2
        }
      ]
    },
    {
      "cell_type": "code",
      "metadata": {
        "id": "AmQ_yjyTsq3F"
      },
      "source": [
        "x= df[[ 'Temp_Las Varas AgriculturaCba', 'Humedad_Las Varas AgriculturaCba',\n",
        "        'Temp_San Miguel - Establecimiento Don Luis', 'Humedad_San Miguel - Establecimiento Don Luis',\n",
        "       'Temp_San Miguel - Listello', 'Humedad_San Miguel - Listello',\n",
        "       'Temp_ San Miguel - Las Varillas', 'Humedad_ San Miguel - Las Varillas']]\n",
        "y= df[\"Temp_Alicia AgriculturaCba\"]\n"
      ],
      "execution_count": 3,
      "outputs": []
    },
    {
      "cell_type": "code",
      "metadata": {
        "id": "-McdNOyLqmV_"
      },
      "source": [
        "#Separo los datos de \"train\" en entrenamiento y prueba \"test\" para probar los algoritmos\n",
        "x_train, x_test, y_train, y_test = train_test_split(x, y, test_size=0.2, random_state=42)\n"
      ],
      "execution_count": 4,
      "outputs": []
    },
    {
      "cell_type": "code",
      "metadata": {
        "colab": {
          "base_uri": "https://localhost:8080/"
        },
        "id": "X-N08bBvEfep",
        "outputId": "f2cdadd9-500e-4df9-f242-c20b7370d8b7"
      },
      "source": [
        "modelo= Pipeline([('scaler', StandardScaler()),\n",
        "                    ('features', PolynomialFeatures()),\n",
        "                  ('model',Ridge(normalize=True))\n",
        "])\n",
        "\n",
        "grilla = GridSearchCV(modelo,\n",
        "                      {'model__alpha':[0,0.001,0.0001], 'features__degree':[4,5,6]},\n",
        "                      cv = 5, scoring=\"neg_mean_squared_error\", verbose=3\n",
        "                      )\n",
        "grilla.fit(x_train,y_train)\n",
        "\n",
        "\n",
        "\n",
        "\n"
      ],
      "execution_count": 5,
      "outputs": [
        {
          "output_type": "stream",
          "name": "stdout",
          "text": [
            "Fitting 5 folds for each of 9 candidates, totalling 45 fits\n",
            "[CV] features__degree=4, model__alpha=0 ..............................\n"
          ]
        },
        {
          "output_type": "stream",
          "name": "stderr",
          "text": [
            "[Parallel(n_jobs=1)]: Using backend SequentialBackend with 1 concurrent workers.\n"
          ]
        },
        {
          "output_type": "stream",
          "name": "stdout",
          "text": [
            "[CV] . features__degree=4, model__alpha=0, score=-0.764, total=   1.7s\n",
            "[CV] features__degree=4, model__alpha=0 ..............................\n"
          ]
        },
        {
          "output_type": "stream",
          "name": "stderr",
          "text": [
            "[Parallel(n_jobs=1)]: Done   1 out of   1 | elapsed:    1.7s remaining:    0.0s\n"
          ]
        },
        {
          "output_type": "stream",
          "name": "stdout",
          "text": [
            "[CV] . features__degree=4, model__alpha=0, score=-0.807, total=   0.9s\n",
            "[CV] features__degree=4, model__alpha=0 ..............................\n"
          ]
        },
        {
          "output_type": "stream",
          "name": "stderr",
          "text": [
            "[Parallel(n_jobs=1)]: Done   2 out of   2 | elapsed:    2.6s remaining:    0.0s\n"
          ]
        },
        {
          "output_type": "stream",
          "name": "stdout",
          "text": [
            "[CV] . features__degree=4, model__alpha=0, score=-2.165, total=   0.9s\n",
            "[CV] features__degree=4, model__alpha=0 ..............................\n",
            "[CV] . features__degree=4, model__alpha=0, score=-0.936, total=   0.8s\n",
            "[CV] features__degree=4, model__alpha=0 ..............................\n",
            "[CV] . features__degree=4, model__alpha=0, score=-1.405, total=   0.8s\n",
            "[CV] features__degree=4, model__alpha=0.001 ..........................\n",
            "[CV]  features__degree=4, model__alpha=0.001, score=-0.520, total=   0.2s\n",
            "[CV] features__degree=4, model__alpha=0.001 ..........................\n",
            "[CV]  features__degree=4, model__alpha=0.001, score=-0.523, total=   0.2s\n",
            "[CV] features__degree=4, model__alpha=0.001 ..........................\n",
            "[CV]  features__degree=4, model__alpha=0.001, score=-0.502, total=   0.2s\n",
            "[CV] features__degree=4, model__alpha=0.001 ..........................\n",
            "[CV]  features__degree=4, model__alpha=0.001, score=-0.549, total=   0.2s\n",
            "[CV] features__degree=4, model__alpha=0.001 ..........................\n",
            "[CV]  features__degree=4, model__alpha=0.001, score=-0.556, total=   0.2s\n",
            "[CV] features__degree=4, model__alpha=0.0001 .........................\n",
            "[CV]  features__degree=4, model__alpha=0.0001, score=-0.500, total=   0.2s\n",
            "[CV] features__degree=4, model__alpha=0.0001 .........................\n",
            "[CV]  features__degree=4, model__alpha=0.0001, score=-0.481, total=   0.2s\n",
            "[CV] features__degree=4, model__alpha=0.0001 .........................\n",
            "[CV]  features__degree=4, model__alpha=0.0001, score=-0.499, total=   0.2s\n",
            "[CV] features__degree=4, model__alpha=0.0001 .........................\n",
            "[CV]  features__degree=4, model__alpha=0.0001, score=-0.504, total=   0.2s\n",
            "[CV] features__degree=4, model__alpha=0.0001 .........................\n",
            "[CV]  features__degree=4, model__alpha=0.0001, score=-0.518, total=   0.2s\n",
            "[CV] features__degree=5, model__alpha=0 ..............................\n",
            "[CV] . features__degree=5, model__alpha=0, score=-2.538, total=   4.8s\n",
            "[CV] features__degree=5, model__alpha=0 ..............................\n",
            "[CV] . features__degree=5, model__alpha=0, score=-1.830, total=   4.7s\n",
            "[CV] features__degree=5, model__alpha=0 ..............................\n",
            "[CV]  features__degree=5, model__alpha=0, score=-14.891, total=   4.7s\n",
            "[CV] features__degree=5, model__alpha=0 ..............................\n",
            "[CV] . features__degree=5, model__alpha=0, score=-4.380, total=   4.7s\n",
            "[CV] features__degree=5, model__alpha=0 ..............................\n",
            "[CV]  features__degree=5, model__alpha=0, score=-14.007, total=   4.7s\n",
            "[CV] features__degree=5, model__alpha=0.001 ..........................\n",
            "[CV]  features__degree=5, model__alpha=0.001, score=-0.507, total=   0.7s\n",
            "[CV] features__degree=5, model__alpha=0.001 ..........................\n",
            "[CV]  features__degree=5, model__alpha=0.001, score=-0.510, total=   0.7s\n",
            "[CV] features__degree=5, model__alpha=0.001 ..........................\n",
            "[CV]  features__degree=5, model__alpha=0.001, score=-0.497, total=   0.7s\n",
            "[CV] features__degree=5, model__alpha=0.001 ..........................\n",
            "[CV]  features__degree=5, model__alpha=0.001, score=-0.530, total=   0.7s\n",
            "[CV] features__degree=5, model__alpha=0.001 ..........................\n",
            "[CV]  features__degree=5, model__alpha=0.001, score=-0.540, total=   0.7s\n",
            "[CV] features__degree=5, model__alpha=0.0001 .........................\n",
            "[CV]  features__degree=5, model__alpha=0.0001, score=-0.499, total=   0.7s\n",
            "[CV] features__degree=5, model__alpha=0.0001 .........................\n",
            "[CV]  features__degree=5, model__alpha=0.0001, score=-0.469, total=   0.7s\n",
            "[CV] features__degree=5, model__alpha=0.0001 .........................\n",
            "[CV]  features__degree=5, model__alpha=0.0001, score=-0.528, total=   0.7s\n",
            "[CV] features__degree=5, model__alpha=0.0001 .........................\n",
            "[CV]  features__degree=5, model__alpha=0.0001, score=-0.485, total=   0.7s\n",
            "[CV] features__degree=5, model__alpha=0.0001 .........................\n",
            "[CV]  features__degree=5, model__alpha=0.0001, score=-0.498, total=   0.7s\n",
            "[CV] features__degree=6, model__alpha=0 ..............................\n",
            "[CV]  features__degree=6, model__alpha=0, score=-1892.595, total=  34.7s\n",
            "[CV] features__degree=6, model__alpha=0 ..............................\n",
            "[CV]  features__degree=6, model__alpha=0, score=-19210.436, total=  34.4s\n",
            "[CV] features__degree=6, model__alpha=0 ..............................\n",
            "[CV]  features__degree=6, model__alpha=0, score=-7246.873, total=  34.6s\n",
            "[CV] features__degree=6, model__alpha=0 ..............................\n",
            "[CV]  features__degree=6, model__alpha=0, score=-282.967, total=  34.3s\n",
            "[CV] features__degree=6, model__alpha=0 ..............................\n",
            "[CV]  features__degree=6, model__alpha=0, score=-20822.152, total=  34.0s\n",
            "[CV] features__degree=6, model__alpha=0.001 ..........................\n",
            "[CV]  features__degree=6, model__alpha=0.001, score=-0.504, total=   2.8s\n",
            "[CV] features__degree=6, model__alpha=0.001 ..........................\n",
            "[CV]  features__degree=6, model__alpha=0.001, score=-0.508, total=   2.8s\n",
            "[CV] features__degree=6, model__alpha=0.001 ..........................\n",
            "[CV]  features__degree=6, model__alpha=0.001, score=-0.499, total=   2.8s\n",
            "[CV] features__degree=6, model__alpha=0.001 ..........................\n",
            "[CV]  features__degree=6, model__alpha=0.001, score=-0.522, total=   2.8s\n",
            "[CV] features__degree=6, model__alpha=0.001 ..........................\n",
            "[CV]  features__degree=6, model__alpha=0.001, score=-0.533, total=   2.8s\n",
            "[CV] features__degree=6, model__alpha=0.0001 .........................\n",
            "[CV]  features__degree=6, model__alpha=0.0001, score=-0.504, total=   2.8s\n",
            "[CV] features__degree=6, model__alpha=0.0001 .........................\n",
            "[CV]  features__degree=6, model__alpha=0.0001, score=-0.463, total=   2.8s\n",
            "[CV] features__degree=6, model__alpha=0.0001 .........................\n",
            "[CV]  features__degree=6, model__alpha=0.0001, score=-0.562, total=   2.8s\n",
            "[CV] features__degree=6, model__alpha=0.0001 .........................\n",
            "[CV]  features__degree=6, model__alpha=0.0001, score=-0.473, total=   2.8s\n",
            "[CV] features__degree=6, model__alpha=0.0001 .........................\n",
            "[CV]  features__degree=6, model__alpha=0.0001, score=-0.490, total=   2.8s\n"
          ]
        },
        {
          "output_type": "stream",
          "name": "stderr",
          "text": [
            "[Parallel(n_jobs=1)]: Done  45 out of  45 | elapsed:  4.0min finished\n"
          ]
        },
        {
          "output_type": "execute_result",
          "data": {
            "text/plain": [
              "GridSearchCV(cv=5, error_score=nan,\n",
              "             estimator=Pipeline(memory=None,\n",
              "                                steps=[('scaler',\n",
              "                                        StandardScaler(copy=True,\n",
              "                                                       with_mean=True,\n",
              "                                                       with_std=True)),\n",
              "                                       ('features',\n",
              "                                        PolynomialFeatures(degree=2,\n",
              "                                                           include_bias=True,\n",
              "                                                           interaction_only=False,\n",
              "                                                           order='C')),\n",
              "                                       ('model',\n",
              "                                        Ridge(alpha=1.0, copy_X=True,\n",
              "                                              fit_intercept=True, max_iter=None,\n",
              "                                              normalize=True, random_state=None,\n",
              "                                              solver='auto', tol=0.001))],\n",
              "                                verbose=False),\n",
              "             iid='deprecated', n_jobs=None,\n",
              "             param_grid={'features__degree': [4, 5, 6],\n",
              "                         'model__alpha': [0, 0.001, 0.0001]},\n",
              "             pre_dispatch='2*n_jobs', refit=True, return_train_score=False,\n",
              "             scoring='neg_mean_squared_error', verbose=3)"
            ]
          },
          "metadata": {},
          "execution_count": 5
        }
      ]
    },
    {
      "cell_type": "code",
      "metadata": {
        "colab": {
          "base_uri": "https://localhost:8080/"
        },
        "id": "E0cYv_B0Fnri",
        "outputId": "a67282dc-4195-45f8-c61a-b882ee6db8ac"
      },
      "source": [
        "grilla.best_params_"
      ],
      "execution_count": 6,
      "outputs": [
        {
          "output_type": "execute_result",
          "data": {
            "text/plain": [
              "{'features__degree': 5, 'model__alpha': 0.0001}"
            ]
          },
          "metadata": {},
          "execution_count": 6
        }
      ]
    },
    {
      "cell_type": "code",
      "metadata": {
        "colab": {
          "base_uri": "https://localhost:8080/",
          "height": 449
        },
        "id": "OSqnGNtW6E8H",
        "outputId": "d79be49a-126a-4327-b80e-a6862c686b83"
      },
      "source": [
        "for ni, i in enumerate(grilla.cv_results_['params']):\n",
        "  print(i['features__degree'],-grilla.cv_results_['mean_test_score'][ni])\n",
        "plt.errorbar(grilla.cv_results_['param_features__degree'].data,np.sqrt(-grilla.cv_results_['mean_test_score']),yerr=grilla.cv_results_['std_test_score'])\n",
        "plt.yscale('log')\n",
        "plt.xlabel('grado')\n",
        "plt.ylabel('RMSE en validacion')\n",
        "\n"
      ],
      "execution_count": 7,
      "outputs": [
        {
          "output_type": "stream",
          "name": "stdout",
          "text": [
            "4 1.2154670870125013\n",
            "4 0.5300303594819729\n",
            "4 0.500309685380674\n",
            "5 7.529191330817487\n",
            "5 0.516872996971933\n",
            "5 0.49572066228597594\n",
            "6 9891.004547687868\n",
            "6 0.5130786379215919\n",
            "6 0.49824792270050633\n"
          ]
        },
        {
          "output_type": "execute_result",
          "data": {
            "text/plain": [
              "Text(0, 0.5, 'RMSE en validacion')"
            ]
          },
          "metadata": {},
          "execution_count": 7
        },
        {
          "output_type": "display_data",
          "data": {
            "image/png": "[encoded data removed]",
            "text/plain": [
              "<Figure size 432x288 with 1 Axes>"
            ]
          },
          "metadata": {
            "needs_background": "light"
          }
        }
      ]
    },
    {
      "cell_type": "code",
      "metadata": {
        "colab": {
          "base_uri": "https://localhost:8080/"
        },
        "id": "7n8sI5CrFVKa",
        "outputId": "86be1ec6-1479-4be9-f61c-a4265f3bbc65"
      },
      "source": [
        "grilla.cv_results_['mean_test_score']"
      ],
      "execution_count": 8,
      "outputs": [
        {
          "output_type": "execute_result",
          "data": {
            "text/plain": [
              "array([-1.21546709e+00, -5.30030359e-01, -5.00309685e-01, -7.52919133e+00,\n",
              "       -5.16872997e-01, -4.95720662e-01, -9.89100455e+03, -5.13078638e-01,\n",
              "       -4.98247923e-01])"
            ]
          },
          "metadata": {},
          "execution_count": 8
        }
      ]
    },
    {
      "cell_type": "code",
      "metadata": {
        "colab": {
          "base_uri": "https://localhost:8080/"
        },
        "id": "eHsAW9MVFZ_Y",
        "outputId": "9bb3cdef-e84a-4b85-af92-0c03a2c610ed"
      },
      "source": [
        "grilla.best_score_"
      ],
      "execution_count": 9,
      "outputs": [
        {
          "output_type": "execute_result",
          "data": {
            "text/plain": [
              "-0.49572066228597594"
            ]
          },
          "metadata": {},
          "execution_count": 9
        }
      ]
    },
    {
      "cell_type": "code",
      "metadata": {
        "colab": {
          "base_uri": "https://localhost:8080/",
          "height": 52
        },
        "id": "e9TxgeETGpcj",
        "outputId": "4b06a55a-3ab7-4001-d1f1-839cec61c80a"
      },
      "source": [
        "\"\"\"\n",
        "modelo=Pipeline([['poly',PolynomialFeatures(degree=3,include_bias=True)],['regressor',Ridge(fit_intercept=True,alpha=0.01)]])\n",
        "#entreno el modelo de grado 3 con los datos de entrenamiento, ya que fue el mejor grado encontrado \n",
        "modelo.fit(x_train,y_train)\n",
        "\"\"\"\n",
        "#no usar esto"
      ],
      "execution_count": 10,
      "outputs": [
        {
          "output_type": "execute_result",
          "data": {
            "application/vnd.google.colaboratory.intrinsic+json": {
              "type": "string"
            },
            "text/plain": [
              "\"\\nmodelo=Pipeline([['poly',PolynomialFeatures(degree=3,include_bias=True)],['regressor',Ridge(fit_intercept=True,alpha=0.01)]])\\n#entreno el modelo de grado 3 con los datos de entrenamiento, ya que fue el mejor grado encontrado \\nmodelo.fit(x_train,y_train)\\n\""
            ]
          },
          "metadata": {},
          "execution_count": 10
        }
      ]
    },
    {
      "cell_type": "code",
      "metadata": {
        "colab": {
          "base_uri": "https://localhost:8080/"
        },
        "id": "Alu6YcdUsJJZ",
        "outputId": "6995163e-7ba9-46ea-916d-9b92d5c148bf"
      },
      "source": [
        "# Fit best model\n",
        "modelo=grilla.best_estimator_\n",
        "modelo.fit(x_train, y_train)"
      ],
      "execution_count": 11,
      "outputs": [
        {
          "output_type": "execute_result",
          "data": {
            "text/plain": [
              "Pipeline(memory=None,\n",
              "         steps=[('scaler',\n",
              "                 StandardScaler(copy=True, with_mean=True, with_std=True)),\n",
              "                ('features',\n",
              "                 PolynomialFeatures(degree=5, include_bias=True,\n",
              "                                    interaction_only=False, order='C')),\n",
              "                ('model',\n",
              "                 Ridge(alpha=0.0001, copy_X=True, fit_intercept=True,\n",
              "                       max_iter=None, normalize=True, random_state=None,\n",
              "                       solver='auto', tol=0.001))],\n",
              "         verbose=False)"
            ]
          },
          "metadata": {},
          "execution_count": 11
        }
      ]
    },
    {
      "cell_type": "code",
      "metadata": {
        "colab": {
          "base_uri": "https://localhost:8080/"
        },
        "id": "Zpc3noUVFjb-",
        "outputId": "48e4288c-19fa-4a2a-835e-f45f8999449c"
      },
      "source": [
        "print(modelo['model'].coef_)\n",
        "print(modelo['model'].intercept_)"
      ],
      "execution_count": 12,
      "outputs": [
        {
          "output_type": "stream",
          "name": "stdout",
          "text": [
            "[ 0.          2.38376165  0.48135157 ... -0.01700206  0.02186631\n",
            "  0.00345287]\n",
            "22.301966946458947\n"
          ]
        }
      ]
    },
    {
      "cell_type": "code",
      "metadata": {
        "colab": {
          "base_uri": "https://localhost:8080/"
        },
        "id": "PgrzIDwjHHup",
        "outputId": "f42a4ffe-3639-48cc-9e15-9ee9d2dbe446"
      },
      "source": [
        "y_pred_test = modelo.predict(x_test)\n",
        "y_pred_test"
      ],
      "execution_count": 13,
      "outputs": [
        {
          "output_type": "execute_result",
          "data": {
            "text/plain": [
              "array([24.45132204, 27.09040995, 14.8529486 , ..., 33.58316766,\n",
              "       27.48073172, 28.86375391])"
            ]
          },
          "metadata": {},
          "execution_count": 13
        }
      ]
    },
    {
      "cell_type": "code",
      "metadata": {
        "colab": {
          "base_uri": "https://localhost:8080/"
        },
        "id": "8n4PL8iBHJd4",
        "outputId": "c5902616-1eba-4645-83f3-aaae618ab914"
      },
      "source": [
        "y_test"
      ],
      "execution_count": 14,
      "outputs": [
        {
          "output_type": "execute_result",
          "data": {
            "text/plain": [
              "1803     24.9\n",
              "321      27.0\n",
              "7317     14.7\n",
              "8065     20.8\n",
              "10056    14.1\n",
              "         ... \n",
              "5684     16.6\n",
              "8437     19.1\n",
              "1897     34.2\n",
              "5719     26.9\n",
              "9508     28.6\n",
              "Name: Temp_Alicia AgriculturaCba, Length: 2074, dtype: float64"
            ]
          },
          "metadata": {},
          "execution_count": 14
        }
      ]
    },
    {
      "cell_type": "code",
      "metadata": {
        "id": "cRvVEXFOsdOL"
      },
      "source": [
        ""
      ],
      "execution_count": 14,
      "outputs": []
    },
    {
      "cell_type": "code",
      "metadata": {
        "id": "wkDs-wZQshnH"
      },
      "source": [
        ""
      ],
      "execution_count": 14,
      "outputs": []
    },
    {
      "cell_type": "code",
      "metadata": {
        "colab": {
          "base_uri": "https://localhost:8080/"
        },
        "id": "17PVPgO6HMWt",
        "outputId": "e56687f2-00a7-4a18-98ee-fa3a823e76fa"
      },
      "source": [
        "print('Precisión del modelo usando la raíz del error cuadratico medio (RMSE):')\n",
        "score_testeo = mean_squared_error(y_test,y_pred_test,squared=True)\n",
        "\n",
        "print (score_testeo)\n"
      ],
      "execution_count": 15,
      "outputs": [
        {
          "output_type": "stream",
          "name": "stdout",
          "text": [
            "Precisión del modelo usando la raíz del error cuadratico medio (RMSE):\n",
            "0.47891799621480385\n"
          ]
        }
      ]
    },
    {
      "cell_type": "code",
      "metadata": {
        "colab": {
          "base_uri": "https://localhost:8080/"
        },
        "id": "hyrOUXD1siRR",
        "outputId": "c5e9cdaf-cf12-45d9-cb9e-bc32f97f8241"
      },
      "source": [
        "#se puede usar scoring='neg_root_mean_squared_error' tambien que seria la raiz\n",
        "MSE_modelo=cross_val_score(modelo,x_train,y_train,cv=5,scoring='neg_mean_squared_error')\n",
        "errores = -MSE_modelo\n",
        "MSE_modelo\n"
      ],
      "execution_count": 18,
      "outputs": [
        {
          "output_type": "execute_result",
          "data": {
            "text/plain": [
              "array([-0.4989587 , -0.46873611, -0.52835585, -0.4849271 , -0.49762555])"
            ]
          },
          "metadata": {},
          "execution_count": 18
        }
      ]
    },
    {
      "cell_type": "code",
      "metadata": {
        "colab": {
          "base_uri": "https://localhost:8080/"
        },
        "id": "cMg2Y1ljsuzI",
        "outputId": "ecbb18bc-af81-4ec7-8129-f3fc4aedbe6a"
      },
      "source": [
        "print(errores.mean(), errores.std())"
      ],
      "execution_count": 19,
      "outputs": [
        {
          "output_type": "stream",
          "name": "stdout",
          "text": [
            "0.49572066228597594 0.019615482426395985\n"
          ]
        }
      ]
    },
    {
      "cell_type": "markdown",
      "metadata": {
        "id": "opGqKgT-iAiV"
      },
      "source": [
        "Ahora se prueba con un set de datos final de la materia"
      ]
    },
    {
      "cell_type": "code",
      "metadata": {
        "id": "CdRmNUtDiCFO",
        "outputId": "7197d402-f51f-4286-eb25-bb7ff796b1bc",
        "colab": {
          "base_uri": "https://localhost:8080/"
        }
      },
      "source": [
        "#se importa el set de datos\n",
        "url = 'https://raw.githubusercontent.com/Jorge-89/Regresiones_TP_UNSAM/main/base_datos_estaciones_met_V3_test.csv'\n",
        "df = pd.read_csv(url, sep=\",\")\n",
        "df.columns"
      ],
      "execution_count": 20,
      "outputs": [
        {
          "output_type": "execute_result",
          "data": {
            "text/plain": [
              "Index(['Unnamed: 0', 'fecha_completa', 'Fecha', 'Hora',\n",
              "       'Temp_Alicia AgriculturaCba', 'Humedad_Alicia AgriculturaCba',\n",
              "       'PP_Alicia AgriculturaCba', 'Temp_Las Varas AgriculturaCba',\n",
              "       'Humedad_Las Varas AgriculturaCba', 'PP_Las Varas AgriculturaCba',\n",
              "       'Temp_San Miguel - Establecimiento Don Luis',\n",
              "       'Humedad_San Miguel - Establecimiento Don Luis',\n",
              "       'PP_San Miguel - Establecimiento Don Luis',\n",
              "       'Temp_San Miguel - Listello', 'Humedad_San Miguel - Listello',\n",
              "       'PP_San Miguel - Listello', 'Temp_ San Miguel - Las Varillas',\n",
              "       'Humedad_ San Miguel - Las Varillas', 'PP_ San Miguel - Las Varillas'],\n",
              "      dtype='object')"
            ]
          },
          "metadata": {},
          "execution_count": 20
        }
      ]
    },
    {
      "cell_type": "code",
      "metadata": {
        "id": "S7eCGxK1iFS3"
      },
      "source": [
        "x= df[[ 'Temp_Las Varas AgriculturaCba', 'Humedad_Las Varas AgriculturaCba',\n",
        "        'Temp_San Miguel - Establecimiento Don Luis', 'Humedad_San Miguel - Establecimiento Don Luis',\n",
        "       'Temp_San Miguel - Listello', 'Humedad_San Miguel - Listello',\n",
        "       'Temp_ San Miguel - Las Varillas', 'Humedad_ San Miguel - Las Varillas']]\n",
        "y= df[\"Temp_Alicia AgriculturaCba\"]"
      ],
      "execution_count": 21,
      "outputs": []
    },
    {
      "cell_type": "code",
      "metadata": {
        "id": "1qLpOJP5iF_T",
        "outputId": "3ffec0d2-2635-4f49-b1cd-4afdf2911beb",
        "colab": {
          "base_uri": "https://localhost:8080/"
        }
      },
      "source": [
        "y_pred = modelo.predict(x)\n",
        "y_pred"
      ],
      "execution_count": 22,
      "outputs": [
        {
          "output_type": "execute_result",
          "data": {
            "text/plain": [
              "array([19.83084136, 19.78317425, 19.55378963, ..., 14.3350968 ,\n",
              "       14.29957471, 14.29387995])"
            ]
          },
          "metadata": {},
          "execution_count": 22
        }
      ]
    },
    {
      "cell_type": "code",
      "metadata": {
        "id": "ZpfyZVwviQr7",
        "outputId": "a86b2a27-97cb-4d95-e8c5-ed2595e4910f",
        "colab": {
          "base_uri": "https://localhost:8080/"
        }
      },
      "source": [
        "y"
      ],
      "execution_count": 23,
      "outputs": [
        {
          "output_type": "execute_result",
          "data": {
            "text/plain": [
              "0       19.7\n",
              "1       19.4\n",
              "2       19.1\n",
              "3       18.9\n",
              "4       18.8\n",
              "        ... \n",
              "2587    14.4\n",
              "2588    14.2\n",
              "2589    14.1\n",
              "2590    14.0\n",
              "2591    13.9\n",
              "Name: Temp_Alicia AgriculturaCba, Length: 2592, dtype: float64"
            ]
          },
          "metadata": {},
          "execution_count": 23
        }
      ]
    },
    {
      "cell_type": "code",
      "metadata": {
        "id": "dNG0AcRTiSqR",
        "outputId": "32cf5827-4537-4471-a61a-ceee955c42c4",
        "colab": {
          "base_uri": "https://localhost:8080/"
        }
      },
      "source": [
        "print('Precisión del modelo usando el MSE):')\n",
        "score_testeo = mean_squared_error(y_pred,y,squared=True)\n",
        "\n",
        "print (score_testeo)\n"
      ],
      "execution_count": 26,
      "outputs": [
        {
          "output_type": "stream",
          "name": "stdout",
          "text": [
            "Precisión del modelo usando la raíz del error cuadratico medio (RMSE):\n",
            "0.4005408042158964\n"
          ]
        }
      ]
    }
  ]
}