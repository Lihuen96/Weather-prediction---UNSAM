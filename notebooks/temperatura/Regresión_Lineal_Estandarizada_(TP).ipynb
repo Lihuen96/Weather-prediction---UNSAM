{
  "nbformat": 4,
  "nbformat_minor": 0,
  "metadata": {
    "colab": {
      "name": "Regresión Lineal-Estandarizada (TP)",
      "provenance": [],
      "authorship_tag": "ABX9TyProCNmsWIPq5zSCZxTnQ8L",
      "include_colab_link": true
    },
    "kernelspec": {
      "name": "python3",
      "display_name": "Python 3"
    },
    "language_info": {
      "name": "python"
    }
  },
  "cells": [
    {
      "cell_type": "markdown",
      "metadata": {
        "id": "view-in-github",
        "colab_type": "text"
      },
      "source": [
        "<a href=\"https://colab.research.google.com/github/Jorge-89/Regresion-Lineal-/blob/main/Regresi%C3%B3n_Lineal_Estandarizada_(TP).ipynb\" target=\"_parent\"><img src=\"https://colab.research.google.com/assets/colab-badge.svg\" alt=\"Open In Colab\"/></a>"
      ]
    },
    {
      "cell_type": "code",
      "metadata": {
        "id": "owhN61JuqMeS"
      },
      "source": [
        "# importo librerias necesarias\n",
        "import pandas as pd\n",
        "import numpy as np\n",
        "from sklearn.metrics import mean_squared_error as mse\n",
        "from sklearn.pipeline import Pipeline\n",
        "from sklearn.preprocessing  import PolynomialFeatures\n",
        "from sklearn.linear_model import LinearRegression\n",
        "from sklearn.model_selection import train_test_split\n",
        "from sklearn.model_selection import GridSearchCV\n",
        "from sklearn.model_selection import cross_val_score\n",
        "from sklearn import datasets, linear_model\n",
        "\n",
        "from sklearn.metrics import mean_squared_error\n",
        "import matplotlib.pyplot as plt"
      ],
      "execution_count": null,
      "outputs": []
    },
    {
      "cell_type": "code",
      "metadata": {
        "colab": {
          "base_uri": "https://localhost:8080/"
        },
        "id": "Wunzzv5bqjc_",
        "outputId": "551c7e5f-1bce-4b5b-fc4c-2579ae600ea2"
      },
      "source": [
        "#se importa el set de datos\n",
        "url = 'https://raw.githubusercontent.com/Jorge-89/Analisis-espacial-en-Python-COVID-19/Jorge-89-/-Analisis-espacial-en-Python-COVID-19/base_datos_estaciones_met_V3.csv'\n",
        "df = pd.read_csv(url, sep=\";\")\n",
        "df.columns"
      ],
      "execution_count": null,
      "outputs": [
        {
          "output_type": "execute_result",
          "data": {
            "text/plain": [
              "Index(['fecha_completa', 'Fecha', 'Hora', 'Temp_Alicia AgriculturaCba',\n",
              "       'Humedad_Alicia AgriculturaCba', 'PP_Alicia AgriculturaCba',\n",
              "       'Temp_Las Varas AgriculturaCba', 'Humedad_Las Varas AgriculturaCba',\n",
              "       'PP_Las Varas AgriculturaCba',\n",
              "       'Temp_San Miguel - Establecimiento Don Luis',\n",
              "       'Humedad_San Miguel - Establecimiento Don Luis',\n",
              "       'PP_San Miguel - Establecimiento Don Luis',\n",
              "       'Temp_San Miguel - Listello', 'Humedad_San Miguel - Listello',\n",
              "       'PP_San Miguel - Listello', 'Temp_ San Miguel - Las Varillas',\n",
              "       'Humedad_ San Miguel - Las Varillas', 'PP_ San Miguel - Las Varillas'],\n",
              "      dtype='object')"
            ]
          },
          "metadata": {},
          "execution_count": 2
        }
      ]
    },
    {
      "cell_type": "code",
      "metadata": {
        "id": "VugpxCYqOlaz"
      },
      "source": [
        "from sklearn.decomposition import PCA\n",
        "from sklearn.pipeline import make_pipeline\n",
        "from sklearn.preprocessing import StandardScaler\n",
        "from sklearn.preprocessing import scale"
      ],
      "execution_count": null,
      "outputs": []
    },
    {
      "cell_type": "code",
      "metadata": {
        "id": "b9rmtwCJO_73"
      },
      "source": [
        "df1=df[['Temp_Alicia AgriculturaCba',\n",
        "       'Humedad_Alicia AgriculturaCba', 'PP_Alicia AgriculturaCba',\n",
        "       'Temp_Las Varas AgriculturaCba', 'Humedad_Las Varas AgriculturaCba',\n",
        "       'PP_Las Varas AgriculturaCba',\n",
        "       'Temp_San Miguel - Establecimiento Don Luis',\n",
        "       'Humedad_San Miguel - Establecimiento Don Luis',\n",
        "       'PP_San Miguel - Establecimiento Don Luis',\n",
        "       'Temp_San Miguel - Listello', 'Humedad_San Miguel - Listello',\n",
        "       'PP_San Miguel - Listello', 'Temp_ San Miguel - Las Varillas',\n",
        "       'Humedad_ San Miguel - Las Varillas', 'PP_ San Miguel - Las Varillas']]"
      ],
      "execution_count": null,
      "outputs": []
    },
    {
      "cell_type": "code",
      "metadata": {
        "id": "RI7qvATxXHiN"
      },
      "source": [
        "#normalizamos los datos\n",
        "scaler=StandardScaler()\n",
        "\n",
        "scaler.fit(df1) # calculo la media para poder hacer la transformacion\n",
        "X_scaled=scaler.transform(df1)# Ahora si, escalo los datos y los normalizo\n",
        " \n",
        "#Instanciamos objeto PCA y aplicamos\n",
        "pca=PCA(n_components=2) # Otra opción es instanciar pca sólo con dimensiones nuevas hasta obtener un mínimo \"explicado\" ej.: pca=PCA(.85)\n",
        "pca.fit(X_scaled) # obtener los componentes principales\n",
        "X_pca=pca.transform(X_scaled) # convertimos nuestros datos con las nuevas dimensiones de PCA"
      ],
      "execution_count": null,
      "outputs": []
    },
    {
      "cell_type": "code",
      "metadata": {
        "colab": {
          "base_uri": "https://localhost:8080/"
        },
        "id": "6KcQ1TjvXLw5",
        "outputId": "9004cacd-1edc-47e0-f502-5203728aaab5"
      },
      "source": [
        "print(\"shape of X_pca\", X_pca.shape)\n",
        "expl = pca.explained_variance_ratio_\n",
        "print(expl)\n",
        "print('suma:',sum(expl[0:2]))\n",
        "#Vemos que con 2 componentes tenemos algo mas del 70% de varianza explicada"
      ],
      "execution_count": null,
      "outputs": [
        {
          "output_type": "stream",
          "name": "stdout",
          "text": [
            "shape of X_pca (12960, 2)\n",
            "[0.61595131 0.1564035 ]\n",
            "suma: 0.7723548033368404\n"
          ]
        }
      ]
    },
    {
      "cell_type": "code",
      "metadata": {
        "id": "zXYZOHqM9FSH"
      },
      "source": [
        "componentes= pd.DataFrame(X_pca, columns= [\"pc1\", \"pc2\"] )"
      ],
      "execution_count": null,
      "outputs": []
    },
    {
      "cell_type": "code",
      "metadata": {
        "id": "mrW0xAwPXPAc"
      },
      "source": [
        "estandarizado= pd.DataFrame(X_scaled, columns= ['Temp_Alicia AgriculturaCba',\n",
        "       'Humedad_Alicia AgriculturaCba', 'PP_Alicia AgriculturaCba',\n",
        "       'Temp_Las Varas AgriculturaCba', 'Humedad_Las Varas AgriculturaCba',\n",
        "       'PP_Las Varas AgriculturaCba',\n",
        "       'Temp_San Miguel - Establecimiento Don Luis',\n",
        "       'Humedad_San Miguel - Establecimiento Don Luis',\n",
        "       'PP_San Miguel - Establecimiento Don Luis',\n",
        "       'Temp_San Miguel - Listello', 'Humedad_San Miguel - Listello',\n",
        "       'PP_San Miguel - Listello', 'Temp_ San Miguel - Las Varillas',\n",
        "       'Humedad_ San Miguel - Las Varillas', 'PP_ San Miguel - Las Varillas'] )"
      ],
      "execution_count": null,
      "outputs": []
    },
    {
      "cell_type": "code",
      "metadata": {
        "colab": {
          "base_uri": "https://localhost:8080/",
          "height": 1000
        },
        "id": "Sh0eMoAtnbsZ",
        "outputId": "144042ed-e928-4535-e22e-e5ff45628390"
      },
      "source": [
        "result = pd.concat([estandarizado, componentes], axis=1)\n",
        "matriz_corr=result.corr()\n",
        "matriz_corr"
      ],
      "execution_count": null,
      "outputs": [
        {
          "output_type": "execute_result",
          "data": {
            "text/html": [
              "<div>\n",
              "<style scoped>\n",
              "    .dataframe tbody tr th:only-of-type {\n",
              "        vertical-align: middle;\n",
              "    }\n",
              "\n",
              "    .dataframe tbody tr th {\n",
              "        vertical-align: top;\n",
              "    }\n",
              "\n",
              "    .dataframe thead th {\n",
              "        text-align: right;\n",
              "    }\n",
              "</style>\n",
              "<table border=\"1\" class=\"dataframe\">\n",
              "  <thead>\n",
              "    <tr style=\"text-align: right;\">\n",
              "      <th></th>\n",
              "      <th>Temp_Alicia AgriculturaCba</th>\n",
              "      <th>Humedad_Alicia AgriculturaCba</th>\n",
              "      <th>PP_Alicia AgriculturaCba</th>\n",
              "      <th>Temp_Las Varas AgriculturaCba</th>\n",
              "      <th>Humedad_Las Varas AgriculturaCba</th>\n",
              "      <th>PP_Las Varas AgriculturaCba</th>\n",
              "      <th>Temp_San Miguel - Establecimiento Don Luis</th>\n",
              "      <th>Humedad_San Miguel - Establecimiento Don Luis</th>\n",
              "      <th>PP_San Miguel - Establecimiento Don Luis</th>\n",
              "      <th>Temp_San Miguel - Listello</th>\n",
              "      <th>Humedad_San Miguel - Listello</th>\n",
              "      <th>PP_San Miguel - Listello</th>\n",
              "      <th>Temp_ San Miguel - Las Varillas</th>\n",
              "      <th>Humedad_ San Miguel - Las Varillas</th>\n",
              "      <th>PP_ San Miguel - Las Varillas</th>\n",
              "      <th>pc1</th>\n",
              "      <th>pc2</th>\n",
              "    </tr>\n",
              "  </thead>\n",
              "  <tbody>\n",
              "    <tr>\n",
              "      <th>Temp_Alicia AgriculturaCba</th>\n",
              "      <td>1.000000</td>\n",
              "      <td>-0.855478</td>\n",
              "      <td>-0.046852</td>\n",
              "      <td>0.986934</td>\n",
              "      <td>-0.849260</td>\n",
              "      <td>-0.054520</td>\n",
              "      <td>0.981354</td>\n",
              "      <td>-0.852691</td>\n",
              "      <td>-0.038764</td>\n",
              "      <td>0.984871</td>\n",
              "      <td>-0.867068</td>\n",
              "      <td>-0.012581</td>\n",
              "      <td>0.986801</td>\n",
              "      <td>-0.869937</td>\n",
              "      <td>-0.052938</td>\n",
              "      <td>9.609626e-01</td>\n",
              "      <td>6.222969e-02</td>\n",
              "    </tr>\n",
              "    <tr>\n",
              "      <th>Humedad_Alicia AgriculturaCba</th>\n",
              "      <td>-0.855478</td>\n",
              "      <td>1.000000</td>\n",
              "      <td>0.092315</td>\n",
              "      <td>-0.847509</td>\n",
              "      <td>0.976913</td>\n",
              "      <td>0.104700</td>\n",
              "      <td>-0.843577</td>\n",
              "      <td>0.970052</td>\n",
              "      <td>0.085725</td>\n",
              "      <td>-0.849606</td>\n",
              "      <td>0.973638</td>\n",
              "      <td>0.025532</td>\n",
              "      <td>-0.837187</td>\n",
              "      <td>0.982313</td>\n",
              "      <td>0.096491</td>\n",
              "      <td>-9.524895e-01</td>\n",
              "      <td>2.049911e-02</td>\n",
              "    </tr>\n",
              "    <tr>\n",
              "      <th>PP_Alicia AgriculturaCba</th>\n",
              "      <td>-0.046852</td>\n",
              "      <td>0.092315</td>\n",
              "      <td>1.000000</td>\n",
              "      <td>-0.041179</td>\n",
              "      <td>0.087344</td>\n",
              "      <td>0.435590</td>\n",
              "      <td>-0.037308</td>\n",
              "      <td>0.080291</td>\n",
              "      <td>0.299814</td>\n",
              "      <td>-0.042569</td>\n",
              "      <td>0.080602</td>\n",
              "      <td>0.196187</td>\n",
              "      <td>-0.041419</td>\n",
              "      <td>0.086333</td>\n",
              "      <td>0.621443</td>\n",
              "      <td>-9.018079e-02</td>\n",
              "      <td>7.891682e-01</td>\n",
              "    </tr>\n",
              "    <tr>\n",
              "      <th>Temp_Las Varas AgriculturaCba</th>\n",
              "      <td>0.986934</td>\n",
              "      <td>-0.847509</td>\n",
              "      <td>-0.041179</td>\n",
              "      <td>1.000000</td>\n",
              "      <td>-0.860043</td>\n",
              "      <td>-0.054480</td>\n",
              "      <td>0.983767</td>\n",
              "      <td>-0.850658</td>\n",
              "      <td>-0.034398</td>\n",
              "      <td>0.991461</td>\n",
              "      <td>-0.870375</td>\n",
              "      <td>-0.010651</td>\n",
              "      <td>0.988431</td>\n",
              "      <td>-0.870158</td>\n",
              "      <td>-0.050098</td>\n",
              "      <td>9.623945e-01</td>\n",
              "      <td>6.687047e-02</td>\n",
              "    </tr>\n",
              "    <tr>\n",
              "      <th>Humedad_Las Varas AgriculturaCba</th>\n",
              "      <td>-0.849260</td>\n",
              "      <td>0.976913</td>\n",
              "      <td>0.087344</td>\n",
              "      <td>-0.860043</td>\n",
              "      <td>1.000000</td>\n",
              "      <td>0.100670</td>\n",
              "      <td>-0.844531</td>\n",
              "      <td>0.970140</td>\n",
              "      <td>0.077085</td>\n",
              "      <td>-0.854681</td>\n",
              "      <td>0.983466</td>\n",
              "      <td>0.026863</td>\n",
              "      <td>-0.839664</td>\n",
              "      <td>0.980746</td>\n",
              "      <td>0.095457</td>\n",
              "      <td>-9.547405e-01</td>\n",
              "      <td>1.493478e-02</td>\n",
              "    </tr>\n",
              "    <tr>\n",
              "      <th>PP_Las Varas AgriculturaCba</th>\n",
              "      <td>-0.054520</td>\n",
              "      <td>0.104700</td>\n",
              "      <td>0.435590</td>\n",
              "      <td>-0.054480</td>\n",
              "      <td>0.100670</td>\n",
              "      <td>1.000000</td>\n",
              "      <td>-0.045221</td>\n",
              "      <td>0.090830</td>\n",
              "      <td>0.328748</td>\n",
              "      <td>-0.051575</td>\n",
              "      <td>0.093559</td>\n",
              "      <td>0.253571</td>\n",
              "      <td>-0.050341</td>\n",
              "      <td>0.099080</td>\n",
              "      <td>0.449902</td>\n",
              "      <td>-1.007165e-01</td>\n",
              "      <td>7.355644e-01</td>\n",
              "    </tr>\n",
              "    <tr>\n",
              "      <th>Temp_San Miguel - Establecimiento Don Luis</th>\n",
              "      <td>0.981354</td>\n",
              "      <td>-0.843577</td>\n",
              "      <td>-0.037308</td>\n",
              "      <td>0.983767</td>\n",
              "      <td>-0.844531</td>\n",
              "      <td>-0.045221</td>\n",
              "      <td>1.000000</td>\n",
              "      <td>-0.865415</td>\n",
              "      <td>-0.036565</td>\n",
              "      <td>0.982220</td>\n",
              "      <td>-0.866812</td>\n",
              "      <td>-0.000766</td>\n",
              "      <td>0.982729</td>\n",
              "      <td>-0.867195</td>\n",
              "      <td>-0.045403</td>\n",
              "      <td>9.588858e-01</td>\n",
              "      <td>7.371804e-02</td>\n",
              "    </tr>\n",
              "    <tr>\n",
              "      <th>Humedad_San Miguel - Establecimiento Don Luis</th>\n",
              "      <td>-0.852691</td>\n",
              "      <td>0.970052</td>\n",
              "      <td>0.080291</td>\n",
              "      <td>-0.850658</td>\n",
              "      <td>0.970140</td>\n",
              "      <td>0.090830</td>\n",
              "      <td>-0.865415</td>\n",
              "      <td>1.000000</td>\n",
              "      <td>0.073960</td>\n",
              "      <td>-0.855091</td>\n",
              "      <td>0.972979</td>\n",
              "      <td>0.015508</td>\n",
              "      <td>-0.841654</td>\n",
              "      <td>0.974240</td>\n",
              "      <td>0.085600</td>\n",
              "      <td>-9.537078e-01</td>\n",
              "      <td>2.328495e-03</td>\n",
              "    </tr>\n",
              "    <tr>\n",
              "      <th>PP_San Miguel - Establecimiento Don Luis</th>\n",
              "      <td>-0.038764</td>\n",
              "      <td>0.085725</td>\n",
              "      <td>0.299814</td>\n",
              "      <td>-0.034398</td>\n",
              "      <td>0.077085</td>\n",
              "      <td>0.328748</td>\n",
              "      <td>-0.036565</td>\n",
              "      <td>0.073960</td>\n",
              "      <td>1.000000</td>\n",
              "      <td>-0.032762</td>\n",
              "      <td>0.067897</td>\n",
              "      <td>0.168494</td>\n",
              "      <td>-0.030841</td>\n",
              "      <td>0.072385</td>\n",
              "      <td>0.254292</td>\n",
              "      <td>-7.496491e-02</td>\n",
              "      <td>5.579260e-01</td>\n",
              "    </tr>\n",
              "    <tr>\n",
              "      <th>Temp_San Miguel - Listello</th>\n",
              "      <td>0.984871</td>\n",
              "      <td>-0.849606</td>\n",
              "      <td>-0.042569</td>\n",
              "      <td>0.991461</td>\n",
              "      <td>-0.854681</td>\n",
              "      <td>-0.051575</td>\n",
              "      <td>0.982220</td>\n",
              "      <td>-0.855091</td>\n",
              "      <td>-0.032762</td>\n",
              "      <td>1.000000</td>\n",
              "      <td>-0.875068</td>\n",
              "      <td>-0.010471</td>\n",
              "      <td>0.986959</td>\n",
              "      <td>-0.874899</td>\n",
              "      <td>-0.051024</td>\n",
              "      <td>9.629514e-01</td>\n",
              "      <td>6.726678e-02</td>\n",
              "    </tr>\n",
              "    <tr>\n",
              "      <th>Humedad_San Miguel - Listello</th>\n",
              "      <td>-0.867068</td>\n",
              "      <td>0.973638</td>\n",
              "      <td>0.080602</td>\n",
              "      <td>-0.870375</td>\n",
              "      <td>0.983466</td>\n",
              "      <td>0.093559</td>\n",
              "      <td>-0.866812</td>\n",
              "      <td>0.972979</td>\n",
              "      <td>0.067897</td>\n",
              "      <td>-0.875068</td>\n",
              "      <td>1.000000</td>\n",
              "      <td>0.027521</td>\n",
              "      <td>-0.862793</td>\n",
              "      <td>0.988510</td>\n",
              "      <td>0.087390</td>\n",
              "      <td>-9.649851e-01</td>\n",
              "      <td>2.840255e-03</td>\n",
              "    </tr>\n",
              "    <tr>\n",
              "      <th>PP_San Miguel - Listello</th>\n",
              "      <td>-0.012581</td>\n",
              "      <td>0.025532</td>\n",
              "      <td>0.196187</td>\n",
              "      <td>-0.010651</td>\n",
              "      <td>0.026863</td>\n",
              "      <td>0.253571</td>\n",
              "      <td>-0.000766</td>\n",
              "      <td>0.015508</td>\n",
              "      <td>0.168494</td>\n",
              "      <td>-0.010471</td>\n",
              "      <td>0.027521</td>\n",
              "      <td>1.000000</td>\n",
              "      <td>-0.008497</td>\n",
              "      <td>0.026851</td>\n",
              "      <td>0.247272</td>\n",
              "      <td>-2.896152e-02</td>\n",
              "      <td>4.678663e-01</td>\n",
              "    </tr>\n",
              "    <tr>\n",
              "      <th>Temp_ San Miguel - Las Varillas</th>\n",
              "      <td>0.986801</td>\n",
              "      <td>-0.837187</td>\n",
              "      <td>-0.041419</td>\n",
              "      <td>0.988431</td>\n",
              "      <td>-0.839664</td>\n",
              "      <td>-0.050341</td>\n",
              "      <td>0.982729</td>\n",
              "      <td>-0.841654</td>\n",
              "      <td>-0.030841</td>\n",
              "      <td>0.986959</td>\n",
              "      <td>-0.862793</td>\n",
              "      <td>-0.008497</td>\n",
              "      <td>1.000000</td>\n",
              "      <td>-0.866217</td>\n",
              "      <td>-0.049496</td>\n",
              "      <td>9.564080e-01</td>\n",
              "      <td>6.966910e-02</td>\n",
              "    </tr>\n",
              "    <tr>\n",
              "      <th>Humedad_ San Miguel - Las Varillas</th>\n",
              "      <td>-0.869937</td>\n",
              "      <td>0.982313</td>\n",
              "      <td>0.086333</td>\n",
              "      <td>-0.870158</td>\n",
              "      <td>0.980746</td>\n",
              "      <td>0.099080</td>\n",
              "      <td>-0.867195</td>\n",
              "      <td>0.974240</td>\n",
              "      <td>0.072385</td>\n",
              "      <td>-0.874899</td>\n",
              "      <td>0.988510</td>\n",
              "      <td>0.026851</td>\n",
              "      <td>-0.866217</td>\n",
              "      <td>1.000000</td>\n",
              "      <td>0.094086</td>\n",
              "      <td>-9.666042e-01</td>\n",
              "      <td>9.608837e-03</td>\n",
              "    </tr>\n",
              "    <tr>\n",
              "      <th>PP_ San Miguel - Las Varillas</th>\n",
              "      <td>-0.052938</td>\n",
              "      <td>0.096491</td>\n",
              "      <td>0.621443</td>\n",
              "      <td>-0.050098</td>\n",
              "      <td>0.095457</td>\n",
              "      <td>0.449902</td>\n",
              "      <td>-0.045403</td>\n",
              "      <td>0.085600</td>\n",
              "      <td>0.254292</td>\n",
              "      <td>-0.051024</td>\n",
              "      <td>0.087390</td>\n",
              "      <td>0.247272</td>\n",
              "      <td>-0.049496</td>\n",
              "      <td>0.094086</td>\n",
              "      <td>1.000000</td>\n",
              "      <td>-9.790046e-02</td>\n",
              "      <td>7.925430e-01</td>\n",
              "    </tr>\n",
              "    <tr>\n",
              "      <th>pc1</th>\n",
              "      <td>0.960963</td>\n",
              "      <td>-0.952490</td>\n",
              "      <td>-0.090181</td>\n",
              "      <td>0.962395</td>\n",
              "      <td>-0.954740</td>\n",
              "      <td>-0.100716</td>\n",
              "      <td>0.958886</td>\n",
              "      <td>-0.953708</td>\n",
              "      <td>-0.074965</td>\n",
              "      <td>0.962951</td>\n",
              "      <td>-0.964985</td>\n",
              "      <td>-0.028962</td>\n",
              "      <td>0.956408</td>\n",
              "      <td>-0.966604</td>\n",
              "      <td>-0.097900</td>\n",
              "      <td>1.000000e+00</td>\n",
              "      <td>-1.660783e-17</td>\n",
              "    </tr>\n",
              "    <tr>\n",
              "      <th>pc2</th>\n",
              "      <td>0.062230</td>\n",
              "      <td>0.020499</td>\n",
              "      <td>0.789168</td>\n",
              "      <td>0.066870</td>\n",
              "      <td>0.014935</td>\n",
              "      <td>0.735564</td>\n",
              "      <td>0.073718</td>\n",
              "      <td>0.002328</td>\n",
              "      <td>0.557926</td>\n",
              "      <td>0.067267</td>\n",
              "      <td>0.002840</td>\n",
              "      <td>0.467866</td>\n",
              "      <td>0.069669</td>\n",
              "      <td>0.009609</td>\n",
              "      <td>0.792543</td>\n",
              "      <td>-1.660783e-17</td>\n",
              "      <td>1.000000e+00</td>\n",
              "    </tr>\n",
              "  </tbody>\n",
              "</table>\n",
              "</div>"
            ],
            "text/plain": [
              "                                               Temp_Alicia AgriculturaCba  ...           pc2\n",
              "Temp_Alicia AgriculturaCba                                       1.000000  ...  6.222969e-02\n",
              "Humedad_Alicia AgriculturaCba                                   -0.855478  ...  2.049911e-02\n",
              "PP_Alicia AgriculturaCba                                        -0.046852  ...  7.891682e-01\n",
              "Temp_Las Varas AgriculturaCba                                    0.986934  ...  6.687047e-02\n",
              "Humedad_Las Varas AgriculturaCba                                -0.849260  ...  1.493478e-02\n",
              "PP_Las Varas AgriculturaCba                                     -0.054520  ...  7.355644e-01\n",
              "Temp_San Miguel - Establecimiento Don Luis                       0.981354  ...  7.371804e-02\n",
              "Humedad_San Miguel - Establecimiento Don Luis                   -0.852691  ...  2.328495e-03\n",
              "PP_San Miguel - Establecimiento Don Luis                        -0.038764  ...  5.579260e-01\n",
              "Temp_San Miguel - Listello                                       0.984871  ...  6.726678e-02\n",
              "Humedad_San Miguel - Listello                                   -0.867068  ...  2.840255e-03\n",
              "PP_San Miguel - Listello                                        -0.012581  ...  4.678663e-01\n",
              "Temp_ San Miguel - Las Varillas                                  0.986801  ...  6.966910e-02\n",
              "Humedad_ San Miguel - Las Varillas                              -0.869937  ...  9.608837e-03\n",
              "PP_ San Miguel - Las Varillas                                   -0.052938  ...  7.925430e-01\n",
              "pc1                                                              0.960963  ... -1.660783e-17\n",
              "pc2                                                              0.062230  ...  1.000000e+00\n",
              "\n",
              "[17 rows x 17 columns]"
            ]
          },
          "metadata": {},
          "execution_count": 12
        }
      ]
    },
    {
      "cell_type": "code",
      "metadata": {
        "id": "BT3ip3SGXU6D"
      },
      "source": [
        "x= estandarizado[[ 'Temp_Las Varas AgriculturaCba', 'Humedad_Las Varas AgriculturaCba',\n",
        "        'Temp_San Miguel - Establecimiento Don Luis', 'Humedad_San Miguel - Establecimiento Don Luis',\n",
        "       'Temp_San Miguel - Listello', 'Humedad_San Miguel - Listello',\n",
        "       'Temp_ San Miguel - Las Varillas', 'Humedad_ San Miguel - Las Varillas']]\n",
        "y= estandarizado[\"Temp_Alicia AgriculturaCba\"]"
      ],
      "execution_count": null,
      "outputs": []
    },
    {
      "cell_type": "code",
      "metadata": {
        "id": "bzyTv9rnXl1J"
      },
      "source": [
        ""
      ],
      "execution_count": null,
      "outputs": []
    },
    {
      "cell_type": "code",
      "metadata": {
        "colab": {
          "base_uri": "https://localhost:8080/",
          "height": 453
        },
        "id": "F34fSl6OYfPa",
        "outputId": "1a36b9be-e14c-4fb3-c724-3acc319ac648"
      },
      "source": [
        "estandarizado.describe()"
      ],
      "execution_count": null,
      "outputs": [
        {
          "data": {
            "text/html": [
              "<div>\n",
              "<style scoped>\n",
              "    .dataframe tbody tr th:only-of-type {\n",
              "        vertical-align: middle;\n",
              "    }\n",
              "\n",
              "    .dataframe tbody tr th {\n",
              "        vertical-align: top;\n",
              "    }\n",
              "\n",
              "    .dataframe thead th {\n",
              "        text-align: right;\n",
              "    }\n",
              "</style>\n",
              "<table border=\"1\" class=\"dataframe\">\n",
              "  <thead>\n",
              "    <tr style=\"text-align: right;\">\n",
              "      <th></th>\n",
              "      <th>Temp_Alicia AgriculturaCba</th>\n",
              "      <th>Humedad_Alicia AgriculturaCba</th>\n",
              "      <th>PP_Alicia AgriculturaCba</th>\n",
              "      <th>Temp_Las Varas AgriculturaCba</th>\n",
              "      <th>Humedad_Las Varas AgriculturaCba</th>\n",
              "      <th>PP_Las Varas AgriculturaCba</th>\n",
              "      <th>Temp_San Miguel - Establecimiento Don Luis</th>\n",
              "      <th>Humedad_San Miguel - Establecimiento Don Luis</th>\n",
              "      <th>PP_San Miguel - Establecimiento Don Luis</th>\n",
              "      <th>Temp_San Miguel - Listello</th>\n",
              "      <th>Humedad_San Miguel - Listello</th>\n",
              "      <th>PP_San Miguel - Listello</th>\n",
              "      <th>Temp_ San Miguel - Las Varillas</th>\n",
              "      <th>Humedad_ San Miguel - Las Varillas</th>\n",
              "      <th>PP_ San Miguel - Las Varillas</th>\n",
              "    </tr>\n",
              "  </thead>\n",
              "  <tbody>\n",
              "    <tr>\n",
              "      <th>count</th>\n",
              "      <td>1.296000e+04</td>\n",
              "      <td>1.296000e+04</td>\n",
              "      <td>1.296000e+04</td>\n",
              "      <td>1.296000e+04</td>\n",
              "      <td>1.296000e+04</td>\n",
              "      <td>1.296000e+04</td>\n",
              "      <td>1.296000e+04</td>\n",
              "      <td>1.296000e+04</td>\n",
              "      <td>1.296000e+04</td>\n",
              "      <td>1.296000e+04</td>\n",
              "      <td>1.296000e+04</td>\n",
              "      <td>1.296000e+04</td>\n",
              "      <td>1.296000e+04</td>\n",
              "      <td>1.296000e+04</td>\n",
              "      <td>1.296000e+04</td>\n",
              "    </tr>\n",
              "    <tr>\n",
              "      <th>mean</th>\n",
              "      <td>-7.210624e-16</td>\n",
              "      <td>5.076015e-16</td>\n",
              "      <td>1.401993e-15</td>\n",
              "      <td>3.216391e-16</td>\n",
              "      <td>-4.850373e-16</td>\n",
              "      <td>2.665199e-16</td>\n",
              "      <td>-2.093661e-16</td>\n",
              "      <td>2.197471e-15</td>\n",
              "      <td>-1.651125e-15</td>\n",
              "      <td>-1.664752e-15</td>\n",
              "      <td>-2.452257e-16</td>\n",
              "      <td>-6.248431e-16</td>\n",
              "      <td>1.710566e-16</td>\n",
              "      <td>1.882565e-15</td>\n",
              "      <td>1.850622e-15</td>\n",
              "    </tr>\n",
              "    <tr>\n",
              "      <th>std</th>\n",
              "      <td>1.000039e+00</td>\n",
              "      <td>1.000039e+00</td>\n",
              "      <td>1.000039e+00</td>\n",
              "      <td>1.000039e+00</td>\n",
              "      <td>1.000039e+00</td>\n",
              "      <td>1.000039e+00</td>\n",
              "      <td>1.000039e+00</td>\n",
              "      <td>1.000039e+00</td>\n",
              "      <td>1.000039e+00</td>\n",
              "      <td>1.000039e+00</td>\n",
              "      <td>1.000039e+00</td>\n",
              "      <td>1.000039e+00</td>\n",
              "      <td>1.000039e+00</td>\n",
              "      <td>1.000039e+00</td>\n",
              "      <td>1.000039e+00</td>\n",
              "    </tr>\n",
              "    <tr>\n",
              "      <th>min</th>\n",
              "      <td>-2.218312e+00</td>\n",
              "      <td>-2.729153e+00</td>\n",
              "      <td>-8.922679e-02</td>\n",
              "      <td>-2.163675e+00</td>\n",
              "      <td>-2.869126e+00</td>\n",
              "      <td>-9.734247e-02</td>\n",
              "      <td>-2.122155e+00</td>\n",
              "      <td>-3.031233e+00</td>\n",
              "      <td>-8.524951e-02</td>\n",
              "      <td>-2.098326e+00</td>\n",
              "      <td>-2.856023e+00</td>\n",
              "      <td>-1.208888e-01</td>\n",
              "      <td>-2.246280e+00</td>\n",
              "      <td>-2.776508e+00</td>\n",
              "      <td>-9.588479e-02</td>\n",
              "    </tr>\n",
              "    <tr>\n",
              "      <th>25%</th>\n",
              "      <td>-7.425929e-01</td>\n",
              "      <td>-8.390155e-01</td>\n",
              "      <td>-8.922679e-02</td>\n",
              "      <td>-7.532768e-01</td>\n",
              "      <td>-8.165049e-01</td>\n",
              "      <td>-9.734247e-02</td>\n",
              "      <td>-7.566682e-01</td>\n",
              "      <td>-7.830206e-01</td>\n",
              "      <td>-8.524951e-02</td>\n",
              "      <td>-7.444844e-01</td>\n",
              "      <td>-8.444079e-01</td>\n",
              "      <td>-1.208888e-01</td>\n",
              "      <td>-7.336954e-01</td>\n",
              "      <td>-8.820949e-01</td>\n",
              "      <td>-9.588479e-02</td>\n",
              "    </tr>\n",
              "    <tr>\n",
              "      <th>50%</th>\n",
              "      <td>-1.591691e-01</td>\n",
              "      <td>2.126051e-01</td>\n",
              "      <td>-8.922679e-02</td>\n",
              "      <td>-1.856775e-01</td>\n",
              "      <td>2.646085e-01</td>\n",
              "      <td>-9.734247e-02</td>\n",
              "      <td>-1.666431e-01</td>\n",
              "      <td>3.168592e-01</td>\n",
              "      <td>-8.524951e-02</td>\n",
              "      <td>-1.735874e-01</td>\n",
              "      <td>3.266353e-01</td>\n",
              "      <td>-1.208888e-01</td>\n",
              "      <td>-1.644431e-01</td>\n",
              "      <td>3.002012e-01</td>\n",
              "      <td>-9.588479e-02</td>\n",
              "    </tr>\n",
              "    <tr>\n",
              "      <th>75%</th>\n",
              "      <td>7.502855e-01</td>\n",
              "      <td>8.982431e-01</td>\n",
              "      <td>-8.922679e-02</td>\n",
              "      <td>7.775213e-01</td>\n",
              "      <td>8.774056e-01</td>\n",
              "      <td>-9.734247e-02</td>\n",
              "      <td>7.942550e-01</td>\n",
              "      <td>8.607426e-01</td>\n",
              "      <td>-8.524951e-02</td>\n",
              "      <td>7.398477e-01</td>\n",
              "      <td>8.931577e-01</td>\n",
              "      <td>-1.208888e-01</td>\n",
              "      <td>7.788893e-01</td>\n",
              "      <td>9.027614e-01</td>\n",
              "      <td>-9.588479e-02</td>\n",
              "    </tr>\n",
              "    <tr>\n",
              "      <th>max</th>\n",
              "      <td>2.500557e+00</td>\n",
              "      <td>1.278124e+00</td>\n",
              "      <td>4.061532e+01</td>\n",
              "      <td>2.463119e+00</td>\n",
              "      <td>1.385579e+00</td>\n",
              "      <td>3.715951e+01</td>\n",
              "      <td>2.513757e+00</td>\n",
              "      <td>1.213237e+00</td>\n",
              "      <td>3.805422e+01</td>\n",
              "      <td>2.583029e+00</td>\n",
              "      <td>1.164904e+00</td>\n",
              "      <td>2.957995e+01</td>\n",
              "      <td>2.470382e+00</td>\n",
              "      <td>1.190347e+00</td>\n",
              "      <td>3.480348e+01</td>\n",
              "    </tr>\n",
              "  </tbody>\n",
              "</table>\n",
              "</div>"
            ],
            "text/plain": [
              "       Temp_Alicia AgriculturaCba  ...  PP_ San Miguel - Las Varillas\n",
              "count                1.296000e+04  ...                   1.296000e+04\n",
              "mean                -7.210624e-16  ...                   1.850622e-15\n",
              "std                  1.000039e+00  ...                   1.000039e+00\n",
              "min                 -2.218312e+00  ...                  -9.588479e-02\n",
              "25%                 -7.425929e-01  ...                  -9.588479e-02\n",
              "50%                 -1.591691e-01  ...                  -9.588479e-02\n",
              "75%                  7.502855e-01  ...                  -9.588479e-02\n",
              "max                  2.500557e+00  ...                   3.480348e+01\n",
              "\n",
              "[8 rows x 15 columns]"
            ]
          },
          "execution_count": 83,
          "metadata": {},
          "output_type": "execute_result"
        }
      ]
    },
    {
      "cell_type": "code",
      "metadata": {
        "id": "2zTCnosbXvjt"
      },
      "source": [
        ""
      ],
      "execution_count": null,
      "outputs": []
    },
    {
      "cell_type": "code",
      "metadata": {
        "id": "-McdNOyLqmV_"
      },
      "source": [
        "#Separo los datos de \"train\" en entrenamiento y prueba \"test\" para probar los algoritmos\n",
        "x_train, x_test, y_train, y_test = train_test_split(x, y, test_size=0.2, random_state=42)\n"
      ],
      "execution_count": null,
      "outputs": []
    },
    {
      "cell_type": "code",
      "metadata": {
        "colab": {
          "base_uri": "https://localhost:8080/"
        },
        "id": "sT0y4AZDttne",
        "outputId": "4bce5ebb-f823-443c-e38f-b426b9426e00"
      },
      "source": [
        "#se tarda demasiado al lograr estimar un CV con polinomios mayores a 5.\n",
        "modelo = Pipeline([('features', PolynomialFeatures()),\n",
        "                    ('regression', LinearRegression(fit_intercept=False))\n",
        "                    ])\n",
        "hyperparameters={'features__degree':[1,2,3,4,5]}\n",
        "grilla=GridSearchCV(modelo,hyperparameters,refit=True, cv=5,scoring='neg_mean_squared_error',)\n",
        "grilla.fit(x_train,y_train)\n",
        "\n"
      ],
      "execution_count": null,
      "outputs": [
        {
          "output_type": "execute_result",
          "data": {
            "text/plain": [
              "GridSearchCV(cv=5, error_score=nan,\n",
              "             estimator=Pipeline(memory=None,\n",
              "                                steps=[('features',\n",
              "                                        PolynomialFeatures(degree=2,\n",
              "                                                           include_bias=True,\n",
              "                                                           interaction_only=False,\n",
              "                                                           order='C')),\n",
              "                                       ('regression',\n",
              "                                        LinearRegression(copy_X=True,\n",
              "                                                         fit_intercept=False,\n",
              "                                                         n_jobs=None,\n",
              "                                                         normalize=False))],\n",
              "                                verbose=False),\n",
              "             iid='deprecated', n_jobs=None,\n",
              "             param_grid={'features__degree': [1, 2, 3, 4, 5]},\n",
              "             pre_dispatch='2*n_jobs', refit=True, return_train_score=False,\n",
              "             scoring='neg_mean_squared_error', verbose=0)"
            ]
          },
          "metadata": {},
          "execution_count": 15
        }
      ]
    },
    {
      "cell_type": "code",
      "metadata": {
        "colab": {
          "base_uri": "https://localhost:8080/"
        },
        "id": "HljE0ciJ5kKo",
        "outputId": "d550eb85-922b-4164-8c77-ccffc2197cab"
      },
      "source": [
        "print(grilla.best_params_)\n",
        "#Mejor polinomio es de grado 3\n",
        "\n"
      ],
      "execution_count": null,
      "outputs": [
        {
          "output_type": "stream",
          "name": "stdout",
          "text": [
            "{'features__degree': 3}\n"
          ]
        }
      ]
    },
    {
      "cell_type": "code",
      "metadata": {
        "colab": {
          "base_uri": "https://localhost:8080/"
        },
        "id": "JSTtQXf_qMov",
        "outputId": "a52749c2-65fb-4def-b883-ba43efc09678"
      },
      "source": [
        "grilla.cv_results_"
      ],
      "execution_count": null,
      "outputs": [
        {
          "output_type": "execute_result",
          "data": {
            "text/plain": [
              "{'mean_fit_time': array([0.01368747, 0.0322073 , 0.15120816, 0.42462945, 2.19718256]),\n",
              " 'mean_score_time': array([0.0038641 , 0.00306449, 0.00835891, 0.01342187, 0.02158694]),\n",
              " 'mean_test_score': array([-0.01844153, -0.01685693, -0.01467494, -0.01794816, -0.38104584]),\n",
              " 'param_features__degree': masked_array(data=[1, 2, 3, 4, 5],\n",
              "              mask=[False, False, False, False, False],\n",
              "        fill_value='?',\n",
              "             dtype=object),\n",
              " 'params': [{'features__degree': 1},\n",
              "  {'features__degree': 2},\n",
              "  {'features__degree': 3},\n",
              "  {'features__degree': 4},\n",
              "  {'features__degree': 5}],\n",
              " 'rank_test_score': array([4, 2, 1, 3, 5], dtype=int32),\n",
              " 'split0_test_score': array([-0.01813762, -0.016662  , -0.01404171, -0.01490999, -0.21385626]),\n",
              " 'split1_test_score': array([-0.01907681, -0.01766818, -0.0157355 , -0.01611153, -0.30564399]),\n",
              " 'split2_test_score': array([-0.01845682, -0.01648674, -0.01441374, -0.01455529, -0.02669423]),\n",
              " 'split3_test_score': array([-0.01789532, -0.01629416, -0.01387509, -0.02728205, -1.1192305 ]),\n",
              " 'split4_test_score': array([-0.01864107, -0.01717357, -0.01530865, -0.01688194, -0.23980423]),\n",
              " 'std_fit_time': array([0.00129323, 0.01134786, 0.00710052, 0.00445108, 0.03398741]),\n",
              " 'std_score_time': array([0.00111353, 0.00016813, 0.0027388 , 0.0020404 , 0.00270955]),\n",
              " 'std_test_score': array([0.00040849, 0.00050003, 0.000726  , 0.00474075, 0.38054399])}"
            ]
          },
          "metadata": {},
          "execution_count": 17
        }
      ]
    },
    {
      "cell_type": "code",
      "metadata": {
        "colab": {
          "base_uri": "https://localhost:8080/",
          "height": 381
        },
        "id": "sCc2IeLgqu8v",
        "outputId": "e7c47704-2cb1-40a9-9f25-2a6cb03f8641"
      },
      "source": [
        "for ni, i in enumerate(grilla.cv_results_['params']):\n",
        "  print(i['features__degree'],-grilla.cv_results_['mean_test_score'][ni])\n",
        "plt.errorbar(grilla.cv_results_['param_features__degree'].data,np.sqrt(-grilla.cv_results_['mean_test_score']),yerr=grilla.cv_results_['std_test_score'])\n",
        "plt.yscale('log')\n",
        "plt.xlabel('grado')\n",
        "plt.ylabel('RMSE en validacion')\n"
      ],
      "execution_count": null,
      "outputs": [
        {
          "output_type": "stream",
          "name": "stdout",
          "text": [
            "1 0.018441526882809235\n",
            "2 0.01685693032800916\n",
            "3 0.014674937428775885\n",
            "4 0.01794815857298755\n",
            "5 0.3810458407477123\n"
          ]
        },
        {
          "output_type": "execute_result",
          "data": {
            "text/plain": [
              "Text(0, 0.5, 'RMSE en validacion')"
            ]
          },
          "metadata": {},
          "execution_count": 18
        },
        {
          "output_type": "display_data",
          "data": {
            "image/png": "[encoded data removed]",
            "text/plain": [
              "<Figure size 432x288 with 1 Axes>"
            ]
          },
          "metadata": {
            "needs_background": "light"
          }
        }
      ]
    },
    {
      "cell_type": "code",
      "metadata": {
        "colab": {
          "base_uri": "https://localhost:8080/"
        },
        "id": "djjqvERW15qu",
        "outputId": "0342b574-126f-4c6a-cc9a-599f52a9b3c4"
      },
      "source": [
        "modelo=Pipeline([['poly',PolynomialFeatures(degree=1,include_bias=True)],['regressor',LinearRegression(fit_intercept=True)]])\n",
        "#entreno el modelo de grado 1 con los datos de entrenamiento\n",
        "modelo.fit(x_train,y_train)"
      ],
      "execution_count": null,
      "outputs": [
        {
          "output_type": "execute_result",
          "data": {
            "text/plain": [
              "Pipeline(memory=None,\n",
              "         steps=[('poly',\n",
              "                 PolynomialFeatures(degree=1, include_bias=True,\n",
              "                                    interaction_only=False, order='C')),\n",
              "                ['regressor',\n",
              "                 LinearRegression(copy_X=True, fit_intercept=True, n_jobs=None,\n",
              "                                  normalize=False)]],\n",
              "         verbose=False)"
            ]
          },
          "metadata": {},
          "execution_count": 19
        }
      ]
    },
    {
      "cell_type": "code",
      "metadata": {
        "colab": {
          "base_uri": "https://localhost:8080/"
        },
        "id": "iYw-gKGGz1AP",
        "outputId": "ab0acc2b-f6aa-456e-cb8f-99892bad40dc"
      },
      "source": [
        "#hago las predicciones con x_test\n",
        "y_pred_test = modelo.predict(x_test)\n",
        "y_pred_test\n"
      ],
      "execution_count": null,
      "outputs": [
        {
          "output_type": "execute_result",
          "data": {
            "text/plain": [
              "array([ 0.97268867,  1.42395678, -0.39117422, ...,  0.33963234,\n",
              "       -1.13296515,  0.04975398])"
            ]
          },
          "metadata": {},
          "execution_count": 24
        }
      ]
    },
    {
      "cell_type": "code",
      "metadata": {
        "colab": {
          "base_uri": "https://localhost:8080/"
        },
        "id": "42w2Ue0K7huA",
        "outputId": "06d9afa7-dbff-4ea7-fef6-df3942186a44"
      },
      "source": [
        "\n",
        "print('Precisión del modelo usando la raíz del error cuadratico medio (RMSE):')\n",
        "score_testeo = mean_squared_error(y_test,y_pred_test,squared=True)\n",
        "\n",
        "print (score_testeo)\n"
      ],
      "execution_count": null,
      "outputs": [
        {
          "output_type": "stream",
          "name": "stdout",
          "text": [
            "Precisión del modelo usando la raíz del error cuadratico medio (RMSE):\n",
            "0.01996161468443678\n"
          ]
        }
      ]
    },
    {
      "cell_type": "code",
      "metadata": {
        "colab": {
          "base_uri": "https://localhost:8080/"
        },
        "id": "JQh0b49R3F92",
        "outputId": "4475d554-b47a-4050-fc24-e83b4e688df3"
      },
      "source": [
        "print('DATOS DEL MODELO REGRESIÓN LINEAL SIMPLE')\n",
        "print()\n",
        "print('Valor de los coeficientes de cada variale regresora usada en el modelo:')\n",
        "print(modelo['regressor'].coef_)\n",
        "print()\n",
        "print('Valor de la intersección o coeficiente \"b\":')\n",
        "print(modelo['regressor'].intercept_)\n",
        "\n",
        "\n"
      ],
      "execution_count": null,
      "outputs": [
        {
          "output_type": "stream",
          "name": "stdout",
          "text": [
            "DATOS DEL MODELO REGRESIÓN LINEAL SIMPLE\n",
            "\n",
            "Valor de los coeficientes de cada variale regresora usada en el modelo:\n",
            "[ 0.          0.35543066  0.05000222  0.11668241 -0.0714629   0.13331682\n",
            "  0.06912553  0.36995571 -0.07000102]\n",
            "\n",
            "Valor de la intersección o coeficiente \"b\":\n",
            "-0.0002667719782474458\n"
          ]
        }
      ]
    }
  ]
}